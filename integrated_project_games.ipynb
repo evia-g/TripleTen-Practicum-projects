{
 "cells": [
  {
   "cell_type": "markdown",
   "metadata": {},
   "source": [
    "# What makes a game succeed?\n"
   ]
  },
  {
   "cell_type": "markdown",
   "metadata": {},
   "source": [
    "Online store Ice sells video games all over the world. User and expert reviews, genres, platforms (e.g. Xbox or PlayStation), and historical data on game sales are available from open sources. \n",
    "\n",
    "In this project we're going to identify patterns that determine whether a game succeeds or not. This will allow us to spot potential big winners and plan advertising campaigns for 2017."
   ]
  },
  {
   "cell_type": "markdown",
   "metadata": {},
   "source": [
    "## Data overview"
   ]
  },
  {
   "cell_type": "code",
   "execution_count": 1,
   "metadata": {},
   "outputs": [
    {
     "name": "stdout",
     "output_type": "stream",
     "text": [
      "Collecting sidetable\n",
      "  Downloading sidetable-0.9.1-py3-none-any.whl (19 kB)\n",
      "Requirement already satisfied: pandas>=1.0 in /opt/conda/lib/python3.9/site-packages (from sidetable) (1.2.4)\n",
      "Requirement already satisfied: python-dateutil>=2.7.3 in /opt/conda/lib/python3.9/site-packages (from pandas>=1.0->sidetable) (2.8.1)\n",
      "Requirement already satisfied: pytz>=2017.3 in /opt/conda/lib/python3.9/site-packages (from pandas>=1.0->sidetable) (2021.1)\n",
      "Requirement already satisfied: numpy>=1.16.5 in /opt/conda/lib/python3.9/site-packages (from pandas>=1.0->sidetable) (1.21.1)\n",
      "Requirement already satisfied: six>=1.5 in /opt/conda/lib/python3.9/site-packages (from python-dateutil>=2.7.3->pandas>=1.0->sidetable) (1.16.0)\n",
      "Installing collected packages: sidetable\n",
      "Successfully installed sidetable-0.9.1\n"
     ]
    }
   ],
   "source": [
    "# Loading all the libraries\n",
    "import pandas as pd\n",
    "import numpy as np\n",
    "from scipy import stats as st\n",
    "import matplotlib.pyplot as plt\n",
    "import matplotlib.pylab as pylab\n",
    "import warnings\n",
    "warnings.filterwarnings(\"ignore\")\n",
    "import seaborn as sns\n",
    "!pip install sidetable\n",
    "import sidetable\n"
   ]
  },
  {
   "cell_type": "code",
   "execution_count": 2,
   "metadata": {},
   "outputs": [],
   "source": [
    "# loading data file\n",
    "df = pd.read_csv('/datasets/games.csv')"
   ]
  },
  {
   "cell_type": "code",
   "execution_count": 3,
   "metadata": {},
   "outputs": [
    {
     "name": "stdout",
     "output_type": "stream",
     "text": [
      "<class 'pandas.core.frame.DataFrame'>\n",
      "RangeIndex: 16715 entries, 0 to 16714\n",
      "Data columns (total 11 columns):\n",
      " #   Column           Non-Null Count  Dtype  \n",
      "---  ------           --------------  -----  \n",
      " 0   Name             16713 non-null  object \n",
      " 1   Platform         16715 non-null  object \n",
      " 2   Year_of_Release  16446 non-null  float64\n",
      " 3   Genre            16713 non-null  object \n",
      " 4   NA_sales         16715 non-null  float64\n",
      " 5   EU_sales         16715 non-null  float64\n",
      " 6   JP_sales         16715 non-null  float64\n",
      " 7   Other_sales      16715 non-null  float64\n",
      " 8   Critic_Score     8137 non-null   float64\n",
      " 9   User_Score       10014 non-null  object \n",
      " 10  Rating           9949 non-null   object \n",
      "dtypes: float64(6), object(5)\n",
      "memory usage: 1.4+ MB\n"
     ]
    }
   ],
   "source": [
    "# printing the general info about the data frame\n",
    "df.info()"
   ]
  },
  {
   "cell_type": "markdown",
   "metadata": {},
   "source": [
    "Data frame contains 11 columns:\n",
    "- `'Name'`\n",
    "\n",
    "- `'Platform'`\n",
    "\n",
    "- `'Year_of_Release'`\n",
    "\n",
    "- `'Genre'`\n",
    "\n",
    "- `'NA_sales'`— (North American sales in USD million)\n",
    "\n",
    "- `'EU_sales'`— (sales in Europe in USD million)\n",
    "\n",
    "- `'JP_sales'`— (sales in Japan in USD million)\n",
    "\n",
    "- `'Other_sales'`— (sales in other countries in USD million)\n",
    "\n",
    "- `'Critic_Score'`— (maximum of 100)\n",
    "\n",
    "- `'User_Score'`— (maximum of 10)\n",
    "\n",
    "- `'Rating'`— (ESRB)"
   ]
  },
  {
   "cell_type": "code",
   "execution_count": 4,
   "metadata": {},
   "outputs": [
    {
     "data": {
      "text/html": [
       "<div>\n",
       "<style scoped>\n",
       "    .dataframe tbody tr th:only-of-type {\n",
       "        vertical-align: middle;\n",
       "    }\n",
       "\n",
       "    .dataframe tbody tr th {\n",
       "        vertical-align: top;\n",
       "    }\n",
       "\n",
       "    .dataframe thead th {\n",
       "        text-align: right;\n",
       "    }\n",
       "</style>\n",
       "<table border=\"1\" class=\"dataframe\">\n",
       "  <thead>\n",
       "    <tr style=\"text-align: right;\">\n",
       "      <th></th>\n",
       "      <th>Name</th>\n",
       "      <th>Platform</th>\n",
       "      <th>Year_of_Release</th>\n",
       "      <th>Genre</th>\n",
       "      <th>NA_sales</th>\n",
       "      <th>EU_sales</th>\n",
       "      <th>JP_sales</th>\n",
       "      <th>Other_sales</th>\n",
       "      <th>Critic_Score</th>\n",
       "      <th>User_Score</th>\n",
       "      <th>Rating</th>\n",
       "    </tr>\n",
       "  </thead>\n",
       "  <tbody>\n",
       "    <tr>\n",
       "      <th>0</th>\n",
       "      <td>Wii Sports</td>\n",
       "      <td>Wii</td>\n",
       "      <td>2006.0</td>\n",
       "      <td>Sports</td>\n",
       "      <td>41.36</td>\n",
       "      <td>28.96</td>\n",
       "      <td>3.77</td>\n",
       "      <td>8.45</td>\n",
       "      <td>76.0</td>\n",
       "      <td>8</td>\n",
       "      <td>E</td>\n",
       "    </tr>\n",
       "    <tr>\n",
       "      <th>1</th>\n",
       "      <td>Super Mario Bros.</td>\n",
       "      <td>NES</td>\n",
       "      <td>1985.0</td>\n",
       "      <td>Platform</td>\n",
       "      <td>29.08</td>\n",
       "      <td>3.58</td>\n",
       "      <td>6.81</td>\n",
       "      <td>0.77</td>\n",
       "      <td>NaN</td>\n",
       "      <td>NaN</td>\n",
       "      <td>NaN</td>\n",
       "    </tr>\n",
       "    <tr>\n",
       "      <th>2</th>\n",
       "      <td>Mario Kart Wii</td>\n",
       "      <td>Wii</td>\n",
       "      <td>2008.0</td>\n",
       "      <td>Racing</td>\n",
       "      <td>15.68</td>\n",
       "      <td>12.76</td>\n",
       "      <td>3.79</td>\n",
       "      <td>3.29</td>\n",
       "      <td>82.0</td>\n",
       "      <td>8.3</td>\n",
       "      <td>E</td>\n",
       "    </tr>\n",
       "    <tr>\n",
       "      <th>3</th>\n",
       "      <td>Wii Sports Resort</td>\n",
       "      <td>Wii</td>\n",
       "      <td>2009.0</td>\n",
       "      <td>Sports</td>\n",
       "      <td>15.61</td>\n",
       "      <td>10.93</td>\n",
       "      <td>3.28</td>\n",
       "      <td>2.95</td>\n",
       "      <td>80.0</td>\n",
       "      <td>8</td>\n",
       "      <td>E</td>\n",
       "    </tr>\n",
       "    <tr>\n",
       "      <th>4</th>\n",
       "      <td>Pokemon Red/Pokemon Blue</td>\n",
       "      <td>GB</td>\n",
       "      <td>1996.0</td>\n",
       "      <td>Role-Playing</td>\n",
       "      <td>11.27</td>\n",
       "      <td>8.89</td>\n",
       "      <td>10.22</td>\n",
       "      <td>1.00</td>\n",
       "      <td>NaN</td>\n",
       "      <td>NaN</td>\n",
       "      <td>NaN</td>\n",
       "    </tr>\n",
       "    <tr>\n",
       "      <th>5</th>\n",
       "      <td>Tetris</td>\n",
       "      <td>GB</td>\n",
       "      <td>1989.0</td>\n",
       "      <td>Puzzle</td>\n",
       "      <td>23.20</td>\n",
       "      <td>2.26</td>\n",
       "      <td>4.22</td>\n",
       "      <td>0.58</td>\n",
       "      <td>NaN</td>\n",
       "      <td>NaN</td>\n",
       "      <td>NaN</td>\n",
       "    </tr>\n",
       "    <tr>\n",
       "      <th>6</th>\n",
       "      <td>New Super Mario Bros.</td>\n",
       "      <td>DS</td>\n",
       "      <td>2006.0</td>\n",
       "      <td>Platform</td>\n",
       "      <td>11.28</td>\n",
       "      <td>9.14</td>\n",
       "      <td>6.50</td>\n",
       "      <td>2.88</td>\n",
       "      <td>89.0</td>\n",
       "      <td>8.5</td>\n",
       "      <td>E</td>\n",
       "    </tr>\n",
       "    <tr>\n",
       "      <th>7</th>\n",
       "      <td>Wii Play</td>\n",
       "      <td>Wii</td>\n",
       "      <td>2006.0</td>\n",
       "      <td>Misc</td>\n",
       "      <td>13.96</td>\n",
       "      <td>9.18</td>\n",
       "      <td>2.93</td>\n",
       "      <td>2.84</td>\n",
       "      <td>58.0</td>\n",
       "      <td>6.6</td>\n",
       "      <td>E</td>\n",
       "    </tr>\n",
       "    <tr>\n",
       "      <th>8</th>\n",
       "      <td>New Super Mario Bros. Wii</td>\n",
       "      <td>Wii</td>\n",
       "      <td>2009.0</td>\n",
       "      <td>Platform</td>\n",
       "      <td>14.44</td>\n",
       "      <td>6.94</td>\n",
       "      <td>4.70</td>\n",
       "      <td>2.24</td>\n",
       "      <td>87.0</td>\n",
       "      <td>8.4</td>\n",
       "      <td>E</td>\n",
       "    </tr>\n",
       "    <tr>\n",
       "      <th>9</th>\n",
       "      <td>Duck Hunt</td>\n",
       "      <td>NES</td>\n",
       "      <td>1984.0</td>\n",
       "      <td>Shooter</td>\n",
       "      <td>26.93</td>\n",
       "      <td>0.63</td>\n",
       "      <td>0.28</td>\n",
       "      <td>0.47</td>\n",
       "      <td>NaN</td>\n",
       "      <td>NaN</td>\n",
       "      <td>NaN</td>\n",
       "    </tr>\n",
       "  </tbody>\n",
       "</table>\n",
       "</div>"
      ],
      "text/plain": [
       "                        Name Platform  Year_of_Release         Genre  \\\n",
       "0                 Wii Sports      Wii           2006.0        Sports   \n",
       "1          Super Mario Bros.      NES           1985.0      Platform   \n",
       "2             Mario Kart Wii      Wii           2008.0        Racing   \n",
       "3          Wii Sports Resort      Wii           2009.0        Sports   \n",
       "4   Pokemon Red/Pokemon Blue       GB           1996.0  Role-Playing   \n",
       "5                     Tetris       GB           1989.0        Puzzle   \n",
       "6      New Super Mario Bros.       DS           2006.0      Platform   \n",
       "7                   Wii Play      Wii           2006.0          Misc   \n",
       "8  New Super Mario Bros. Wii      Wii           2009.0      Platform   \n",
       "9                  Duck Hunt      NES           1984.0       Shooter   \n",
       "\n",
       "   NA_sales  EU_sales  JP_sales  Other_sales  Critic_Score User_Score Rating  \n",
       "0     41.36     28.96      3.77         8.45          76.0          8      E  \n",
       "1     29.08      3.58      6.81         0.77           NaN        NaN    NaN  \n",
       "2     15.68     12.76      3.79         3.29          82.0        8.3      E  \n",
       "3     15.61     10.93      3.28         2.95          80.0          8      E  \n",
       "4     11.27      8.89     10.22         1.00           NaN        NaN    NaN  \n",
       "5     23.20      2.26      4.22         0.58           NaN        NaN    NaN  \n",
       "6     11.28      9.14      6.50         2.88          89.0        8.5      E  \n",
       "7     13.96      9.18      2.93         2.84          58.0        6.6      E  \n",
       "8     14.44      6.94      4.70         2.24          87.0        8.4      E  \n",
       "9     26.93      0.63      0.28         0.47           NaN        NaN    NaN  "
      ]
     },
     "execution_count": 4,
     "metadata": {},
     "output_type": "execute_result"
    }
   ],
   "source": [
    "# printing a sample of data\n",
    "df.head(10)"
   ]
  },
  {
   "cell_type": "markdown",
   "metadata": {},
   "source": [
    "There are missing values in Name, Year_of_Release, Genre, Critic_Score, User_Score and Rating columns that need further investigation.\n",
    "\n",
    "In addition, all of the data frame's column names contain uppercase letters that will need to be changed to lowercase for more convenient analysis.\n",
    "\n",
    "Year_of_Release has inappropriate data type for analysis that will need to be changed to integer data type."
   ]
  },
  {
   "cell_type": "markdown",
   "metadata": {},
   "source": [
    "## Data preprocessing"
   ]
  },
  {
   "cell_type": "markdown",
   "metadata": {},
   "source": [
    "### Header style"
   ]
  },
  {
   "cell_type": "code",
   "execution_count": 5,
   "metadata": {},
   "outputs": [
    {
     "data": {
      "text/plain": [
       "Index(['Name', 'Platform', 'Year_of_Release', 'Genre', 'NA_sales', 'EU_sales',\n",
       "       'JP_sales', 'Other_sales', 'Critic_Score', 'User_Score', 'Rating'],\n",
       "      dtype='object')"
      ]
     },
     "execution_count": 5,
     "metadata": {},
     "output_type": "execute_result"
    }
   ],
   "source": [
    "# looking at the list of column names in the df table\n",
    "df.columns"
   ]
  },
  {
   "cell_type": "code",
   "execution_count": 6,
   "metadata": {},
   "outputs": [],
   "source": [
    "# renaming columns\n",
    "df = df.rename(\n",
    "    columns={\n",
    "        'Name': 'name',\n",
    "        'Platform': 'platform',\n",
    "        'Year_of_Release': 'year_of_release',\n",
    "        'Genre': 'genre',\n",
    "        'NA_sales': 'na_sales',\n",
    "        'EU_sales': 'eu_sales',\n",
    "        'JP_sales': 'jp_sales',\n",
    "        'Other_sales': 'other_sales',\n",
    "        'Critic_Score': 'critic_score',\n",
    "        'User_Score': 'user_score',\n",
    "        'Rating': 'rating',\n",
    "        \n",
    "    }\n",
    ")"
   ]
  },
  {
   "cell_type": "code",
   "execution_count": 7,
   "metadata": {},
   "outputs": [
    {
     "data": {
      "text/plain": [
       "Index(['name', 'platform', 'year_of_release', 'genre', 'na_sales', 'eu_sales',\n",
       "       'jp_sales', 'other_sales', 'critic_score', 'user_score', 'rating'],\n",
       "      dtype='object')"
      ]
     },
     "execution_count": 7,
     "metadata": {},
     "output_type": "execute_result"
    }
   ],
   "source": [
    "# checking result: the list of column names\n",
    "df.columns"
   ]
  },
  {
   "cell_type": "markdown",
   "metadata": {},
   "source": [
    "### Missing values"
   ]
  },
  {
   "cell_type": "code",
   "execution_count": 8,
   "metadata": {},
   "outputs": [
    {
     "data": {
      "text/html": [
       "<style  type=\"text/css\" >\n",
       "</style><table id=\"T_cc0b6_\" ><thead>    <tr>        <th class=\"blank level0\" ></th>        <th class=\"col_heading level0 col0\" >missing</th>        <th class=\"col_heading level0 col1\" >total</th>        <th class=\"col_heading level0 col2\" >percent</th>    </tr></thead><tbody>\n",
       "                <tr>\n",
       "                        <th id=\"T_cc0b6_level0_row0\" class=\"row_heading level0 row0\" >critic_score</th>\n",
       "                        <td id=\"T_cc0b6_row0_col0\" class=\"data row0 col0\" >8,578</td>\n",
       "                        <td id=\"T_cc0b6_row0_col1\" class=\"data row0 col1\" >16,715</td>\n",
       "                        <td id=\"T_cc0b6_row0_col2\" class=\"data row0 col2\" >51.32%</td>\n",
       "            </tr>\n",
       "            <tr>\n",
       "                        <th id=\"T_cc0b6_level0_row1\" class=\"row_heading level0 row1\" >rating</th>\n",
       "                        <td id=\"T_cc0b6_row1_col0\" class=\"data row1 col0\" >6,766</td>\n",
       "                        <td id=\"T_cc0b6_row1_col1\" class=\"data row1 col1\" >16,715</td>\n",
       "                        <td id=\"T_cc0b6_row1_col2\" class=\"data row1 col2\" >40.48%</td>\n",
       "            </tr>\n",
       "            <tr>\n",
       "                        <th id=\"T_cc0b6_level0_row2\" class=\"row_heading level0 row2\" >user_score</th>\n",
       "                        <td id=\"T_cc0b6_row2_col0\" class=\"data row2 col0\" >6,701</td>\n",
       "                        <td id=\"T_cc0b6_row2_col1\" class=\"data row2 col1\" >16,715</td>\n",
       "                        <td id=\"T_cc0b6_row2_col2\" class=\"data row2 col2\" >40.09%</td>\n",
       "            </tr>\n",
       "            <tr>\n",
       "                        <th id=\"T_cc0b6_level0_row3\" class=\"row_heading level0 row3\" >year_of_release</th>\n",
       "                        <td id=\"T_cc0b6_row3_col0\" class=\"data row3 col0\" >269</td>\n",
       "                        <td id=\"T_cc0b6_row3_col1\" class=\"data row3 col1\" >16,715</td>\n",
       "                        <td id=\"T_cc0b6_row3_col2\" class=\"data row3 col2\" >1.61%</td>\n",
       "            </tr>\n",
       "            <tr>\n",
       "                        <th id=\"T_cc0b6_level0_row4\" class=\"row_heading level0 row4\" >name</th>\n",
       "                        <td id=\"T_cc0b6_row4_col0\" class=\"data row4 col0\" >2</td>\n",
       "                        <td id=\"T_cc0b6_row4_col1\" class=\"data row4 col1\" >16,715</td>\n",
       "                        <td id=\"T_cc0b6_row4_col2\" class=\"data row4 col2\" >0.01%</td>\n",
       "            </tr>\n",
       "            <tr>\n",
       "                        <th id=\"T_cc0b6_level0_row5\" class=\"row_heading level0 row5\" >genre</th>\n",
       "                        <td id=\"T_cc0b6_row5_col0\" class=\"data row5 col0\" >2</td>\n",
       "                        <td id=\"T_cc0b6_row5_col1\" class=\"data row5 col1\" >16,715</td>\n",
       "                        <td id=\"T_cc0b6_row5_col2\" class=\"data row5 col2\" >0.01%</td>\n",
       "            </tr>\n",
       "            <tr>\n",
       "                        <th id=\"T_cc0b6_level0_row6\" class=\"row_heading level0 row6\" >platform</th>\n",
       "                        <td id=\"T_cc0b6_row6_col0\" class=\"data row6 col0\" >0</td>\n",
       "                        <td id=\"T_cc0b6_row6_col1\" class=\"data row6 col1\" >16,715</td>\n",
       "                        <td id=\"T_cc0b6_row6_col2\" class=\"data row6 col2\" >0.00%</td>\n",
       "            </tr>\n",
       "            <tr>\n",
       "                        <th id=\"T_cc0b6_level0_row7\" class=\"row_heading level0 row7\" >na_sales</th>\n",
       "                        <td id=\"T_cc0b6_row7_col0\" class=\"data row7 col0\" >0</td>\n",
       "                        <td id=\"T_cc0b6_row7_col1\" class=\"data row7 col1\" >16,715</td>\n",
       "                        <td id=\"T_cc0b6_row7_col2\" class=\"data row7 col2\" >0.00%</td>\n",
       "            </tr>\n",
       "            <tr>\n",
       "                        <th id=\"T_cc0b6_level0_row8\" class=\"row_heading level0 row8\" >eu_sales</th>\n",
       "                        <td id=\"T_cc0b6_row8_col0\" class=\"data row8 col0\" >0</td>\n",
       "                        <td id=\"T_cc0b6_row8_col1\" class=\"data row8 col1\" >16,715</td>\n",
       "                        <td id=\"T_cc0b6_row8_col2\" class=\"data row8 col2\" >0.00%</td>\n",
       "            </tr>\n",
       "            <tr>\n",
       "                        <th id=\"T_cc0b6_level0_row9\" class=\"row_heading level0 row9\" >jp_sales</th>\n",
       "                        <td id=\"T_cc0b6_row9_col0\" class=\"data row9 col0\" >0</td>\n",
       "                        <td id=\"T_cc0b6_row9_col1\" class=\"data row9 col1\" >16,715</td>\n",
       "                        <td id=\"T_cc0b6_row9_col2\" class=\"data row9 col2\" >0.00%</td>\n",
       "            </tr>\n",
       "            <tr>\n",
       "                        <th id=\"T_cc0b6_level0_row10\" class=\"row_heading level0 row10\" >other_sales</th>\n",
       "                        <td id=\"T_cc0b6_row10_col0\" class=\"data row10 col0\" >0</td>\n",
       "                        <td id=\"T_cc0b6_row10_col1\" class=\"data row10 col1\" >16,715</td>\n",
       "                        <td id=\"T_cc0b6_row10_col2\" class=\"data row10 col2\" >0.00%</td>\n",
       "            </tr>\n",
       "    </tbody></table>"
      ],
      "text/plain": [
       "<pandas.io.formats.style.Styler at 0x7f4404a16700>"
      ]
     },
     "execution_count": 8,
     "metadata": {},
     "output_type": "execute_result"
    }
   ],
   "source": [
    "# looking at the total number of missing values in all of the columns\n",
    "df.stb.missing(style=True)"
   ]
  },
  {
   "cell_type": "code",
   "execution_count": 9,
   "metadata": {},
   "outputs": [
    {
     "data": {
      "text/html": [
       "<div>\n",
       "<style scoped>\n",
       "    .dataframe tbody tr th:only-of-type {\n",
       "        vertical-align: middle;\n",
       "    }\n",
       "\n",
       "    .dataframe tbody tr th {\n",
       "        vertical-align: top;\n",
       "    }\n",
       "\n",
       "    .dataframe thead th {\n",
       "        text-align: right;\n",
       "    }\n",
       "</style>\n",
       "<table border=\"1\" class=\"dataframe\">\n",
       "  <thead>\n",
       "    <tr style=\"text-align: right;\">\n",
       "      <th></th>\n",
       "      <th>name</th>\n",
       "      <th>platform</th>\n",
       "      <th>year_of_release</th>\n",
       "      <th>genre</th>\n",
       "      <th>na_sales</th>\n",
       "      <th>eu_sales</th>\n",
       "      <th>jp_sales</th>\n",
       "      <th>other_sales</th>\n",
       "      <th>critic_score</th>\n",
       "      <th>user_score</th>\n",
       "      <th>rating</th>\n",
       "    </tr>\n",
       "  </thead>\n",
       "  <tbody>\n",
       "    <tr>\n",
       "      <th>659</th>\n",
       "      <td>NaN</td>\n",
       "      <td>GEN</td>\n",
       "      <td>1993.0</td>\n",
       "      <td>NaN</td>\n",
       "      <td>1.78</td>\n",
       "      <td>0.53</td>\n",
       "      <td>0.00</td>\n",
       "      <td>0.08</td>\n",
       "      <td>NaN</td>\n",
       "      <td>NaN</td>\n",
       "      <td>NaN</td>\n",
       "    </tr>\n",
       "    <tr>\n",
       "      <th>14244</th>\n",
       "      <td>NaN</td>\n",
       "      <td>GEN</td>\n",
       "      <td>1993.0</td>\n",
       "      <td>NaN</td>\n",
       "      <td>0.00</td>\n",
       "      <td>0.00</td>\n",
       "      <td>0.03</td>\n",
       "      <td>0.00</td>\n",
       "      <td>NaN</td>\n",
       "      <td>NaN</td>\n",
       "      <td>NaN</td>\n",
       "    </tr>\n",
       "  </tbody>\n",
       "</table>\n",
       "</div>"
      ],
      "text/plain": [
       "      name platform  year_of_release genre  na_sales  eu_sales  jp_sales  \\\n",
       "659    NaN      GEN           1993.0   NaN      1.78      0.53      0.00   \n",
       "14244  NaN      GEN           1993.0   NaN      0.00      0.00      0.03   \n",
       "\n",
       "       other_sales  critic_score user_score rating  \n",
       "659           0.08           NaN        NaN    NaN  \n",
       "14244         0.00           NaN        NaN    NaN  "
      ]
     },
     "execution_count": 9,
     "metadata": {},
     "output_type": "execute_result"
    }
   ],
   "source": [
    "# looking at missing values in name column\n",
    "df[df['name'].isna()]"
   ]
  },
  {
   "cell_type": "markdown",
   "metadata": {},
   "source": [
    "We can see that these are the same rows, where we have 2 missing values in genre column as well. We can remove these rows from the data frame since it is impossible to identify these games."
   ]
  },
  {
   "cell_type": "code",
   "execution_count": 10,
   "metadata": {},
   "outputs": [],
   "source": [
    "# removing these 2 rows with missing values since it is impossible to identify these games\n",
    "df = df.dropna(subset=['name','genre']).reset_index(drop=True)"
   ]
  },
  {
   "cell_type": "code",
   "execution_count": 11,
   "metadata": {},
   "outputs": [
    {
     "data": {
      "text/html": [
       "<div>\n",
       "<style scoped>\n",
       "    .dataframe tbody tr th:only-of-type {\n",
       "        vertical-align: middle;\n",
       "    }\n",
       "\n",
       "    .dataframe tbody tr th {\n",
       "        vertical-align: top;\n",
       "    }\n",
       "\n",
       "    .dataframe thead th {\n",
       "        text-align: right;\n",
       "    }\n",
       "</style>\n",
       "<table border=\"1\" class=\"dataframe\">\n",
       "  <thead>\n",
       "    <tr style=\"text-align: right;\">\n",
       "      <th></th>\n",
       "      <th>name</th>\n",
       "      <th>platform</th>\n",
       "      <th>year_of_release</th>\n",
       "      <th>genre</th>\n",
       "      <th>na_sales</th>\n",
       "      <th>eu_sales</th>\n",
       "      <th>jp_sales</th>\n",
       "      <th>other_sales</th>\n",
       "      <th>critic_score</th>\n",
       "      <th>user_score</th>\n",
       "      <th>rating</th>\n",
       "    </tr>\n",
       "  </thead>\n",
       "  <tbody>\n",
       "    <tr>\n",
       "      <th>183</th>\n",
       "      <td>Madden NFL 2004</td>\n",
       "      <td>PS2</td>\n",
       "      <td>NaN</td>\n",
       "      <td>Sports</td>\n",
       "      <td>4.26</td>\n",
       "      <td>0.26</td>\n",
       "      <td>0.01</td>\n",
       "      <td>0.71</td>\n",
       "      <td>94.0</td>\n",
       "      <td>8.5</td>\n",
       "      <td>E</td>\n",
       "    </tr>\n",
       "    <tr>\n",
       "      <th>377</th>\n",
       "      <td>FIFA Soccer 2004</td>\n",
       "      <td>PS2</td>\n",
       "      <td>NaN</td>\n",
       "      <td>Sports</td>\n",
       "      <td>0.59</td>\n",
       "      <td>2.36</td>\n",
       "      <td>0.04</td>\n",
       "      <td>0.51</td>\n",
       "      <td>84.0</td>\n",
       "      <td>6.4</td>\n",
       "      <td>E</td>\n",
       "    </tr>\n",
       "    <tr>\n",
       "      <th>456</th>\n",
       "      <td>LEGO Batman: The Videogame</td>\n",
       "      <td>Wii</td>\n",
       "      <td>NaN</td>\n",
       "      <td>Action</td>\n",
       "      <td>1.80</td>\n",
       "      <td>0.97</td>\n",
       "      <td>0.00</td>\n",
       "      <td>0.29</td>\n",
       "      <td>74.0</td>\n",
       "      <td>7.9</td>\n",
       "      <td>E10+</td>\n",
       "    </tr>\n",
       "    <tr>\n",
       "      <th>475</th>\n",
       "      <td>wwe Smackdown vs. Raw 2006</td>\n",
       "      <td>PS2</td>\n",
       "      <td>NaN</td>\n",
       "      <td>Fighting</td>\n",
       "      <td>1.57</td>\n",
       "      <td>1.02</td>\n",
       "      <td>0.00</td>\n",
       "      <td>0.41</td>\n",
       "      <td>NaN</td>\n",
       "      <td>NaN</td>\n",
       "      <td>NaN</td>\n",
       "    </tr>\n",
       "    <tr>\n",
       "      <th>609</th>\n",
       "      <td>Space Invaders</td>\n",
       "      <td>2600</td>\n",
       "      <td>NaN</td>\n",
       "      <td>Shooter</td>\n",
       "      <td>2.36</td>\n",
       "      <td>0.14</td>\n",
       "      <td>0.00</td>\n",
       "      <td>0.03</td>\n",
       "      <td>NaN</td>\n",
       "      <td>NaN</td>\n",
       "      <td>NaN</td>\n",
       "    </tr>\n",
       "    <tr>\n",
       "      <th>627</th>\n",
       "      <td>Rock Band</td>\n",
       "      <td>X360</td>\n",
       "      <td>NaN</td>\n",
       "      <td>Misc</td>\n",
       "      <td>1.93</td>\n",
       "      <td>0.33</td>\n",
       "      <td>0.00</td>\n",
       "      <td>0.21</td>\n",
       "      <td>92.0</td>\n",
       "      <td>8.2</td>\n",
       "      <td>T</td>\n",
       "    </tr>\n",
       "    <tr>\n",
       "      <th>657</th>\n",
       "      <td>Frogger's Adventures: Temple of the Frog</td>\n",
       "      <td>GBA</td>\n",
       "      <td>NaN</td>\n",
       "      <td>Adventure</td>\n",
       "      <td>2.15</td>\n",
       "      <td>0.18</td>\n",
       "      <td>0.00</td>\n",
       "      <td>0.07</td>\n",
       "      <td>73.0</td>\n",
       "      <td>tbd</td>\n",
       "      <td>E</td>\n",
       "    </tr>\n",
       "    <tr>\n",
       "      <th>677</th>\n",
       "      <td>LEGO Indiana Jones: The Original Adventures</td>\n",
       "      <td>Wii</td>\n",
       "      <td>NaN</td>\n",
       "      <td>Action</td>\n",
       "      <td>1.51</td>\n",
       "      <td>0.61</td>\n",
       "      <td>0.00</td>\n",
       "      <td>0.21</td>\n",
       "      <td>78.0</td>\n",
       "      <td>6.6</td>\n",
       "      <td>E10+</td>\n",
       "    </tr>\n",
       "    <tr>\n",
       "      <th>718</th>\n",
       "      <td>Call of Duty 3</td>\n",
       "      <td>Wii</td>\n",
       "      <td>NaN</td>\n",
       "      <td>Shooter</td>\n",
       "      <td>1.17</td>\n",
       "      <td>0.84</td>\n",
       "      <td>0.00</td>\n",
       "      <td>0.23</td>\n",
       "      <td>69.0</td>\n",
       "      <td>6.7</td>\n",
       "      <td>T</td>\n",
       "    </tr>\n",
       "    <tr>\n",
       "      <th>804</th>\n",
       "      <td>Rock Band</td>\n",
       "      <td>Wii</td>\n",
       "      <td>NaN</td>\n",
       "      <td>Misc</td>\n",
       "      <td>1.33</td>\n",
       "      <td>0.56</td>\n",
       "      <td>0.00</td>\n",
       "      <td>0.20</td>\n",
       "      <td>80.0</td>\n",
       "      <td>6.3</td>\n",
       "      <td>T</td>\n",
       "    </tr>\n",
       "  </tbody>\n",
       "</table>\n",
       "</div>"
      ],
      "text/plain": [
       "                                            name platform  year_of_release  \\\n",
       "183                              Madden NFL 2004      PS2              NaN   \n",
       "377                             FIFA Soccer 2004      PS2              NaN   \n",
       "456                   LEGO Batman: The Videogame      Wii              NaN   \n",
       "475                   wwe Smackdown vs. Raw 2006      PS2              NaN   \n",
       "609                               Space Invaders     2600              NaN   \n",
       "627                                    Rock Band     X360              NaN   \n",
       "657     Frogger's Adventures: Temple of the Frog      GBA              NaN   \n",
       "677  LEGO Indiana Jones: The Original Adventures      Wii              NaN   \n",
       "718                               Call of Duty 3      Wii              NaN   \n",
       "804                                    Rock Band      Wii              NaN   \n",
       "\n",
       "         genre  na_sales  eu_sales  jp_sales  other_sales  critic_score  \\\n",
       "183     Sports      4.26      0.26      0.01         0.71          94.0   \n",
       "377     Sports      0.59      2.36      0.04         0.51          84.0   \n",
       "456     Action      1.80      0.97      0.00         0.29          74.0   \n",
       "475   Fighting      1.57      1.02      0.00         0.41           NaN   \n",
       "609    Shooter      2.36      0.14      0.00         0.03           NaN   \n",
       "627       Misc      1.93      0.33      0.00         0.21          92.0   \n",
       "657  Adventure      2.15      0.18      0.00         0.07          73.0   \n",
       "677     Action      1.51      0.61      0.00         0.21          78.0   \n",
       "718    Shooter      1.17      0.84      0.00         0.23          69.0   \n",
       "804       Misc      1.33      0.56      0.00         0.20          80.0   \n",
       "\n",
       "    user_score rating  \n",
       "183        8.5      E  \n",
       "377        6.4      E  \n",
       "456        7.9   E10+  \n",
       "475        NaN    NaN  \n",
       "609        NaN    NaN  \n",
       "627        8.2      T  \n",
       "657        tbd      E  \n",
       "677        6.6   E10+  \n",
       "718        6.7      T  \n",
       "804        6.3      T  "
      ]
     },
     "execution_count": 11,
     "metadata": {},
     "output_type": "execute_result"
    }
   ],
   "source": [
    "# looking at data sample of missing values in year_of_release column\n",
    "df[df['year_of_release'].isna()].head(10)"
   ]
  },
  {
   "cell_type": "code",
   "execution_count": 12,
   "metadata": {},
   "outputs": [
    {
     "data": {
      "text/html": [
       "<div>\n",
       "<style scoped>\n",
       "    .dataframe tbody tr th:only-of-type {\n",
       "        vertical-align: middle;\n",
       "    }\n",
       "\n",
       "    .dataframe tbody tr th {\n",
       "        vertical-align: top;\n",
       "    }\n",
       "\n",
       "    .dataframe thead th {\n",
       "        text-align: right;\n",
       "    }\n",
       "</style>\n",
       "<table border=\"1\" class=\"dataframe\">\n",
       "  <thead>\n",
       "    <tr style=\"text-align: right;\">\n",
       "      <th></th>\n",
       "      <th>name</th>\n",
       "      <th>platform</th>\n",
       "      <th>year_of_release</th>\n",
       "      <th>genre</th>\n",
       "      <th>na_sales</th>\n",
       "      <th>eu_sales</th>\n",
       "      <th>jp_sales</th>\n",
       "      <th>other_sales</th>\n",
       "      <th>critic_score</th>\n",
       "      <th>user_score</th>\n",
       "      <th>rating</th>\n",
       "    </tr>\n",
       "  </thead>\n",
       "  <tbody>\n",
       "    <tr>\n",
       "      <th>183</th>\n",
       "      <td>Madden NFL 2004</td>\n",
       "      <td>PS2</td>\n",
       "      <td>NaN</td>\n",
       "      <td>Sports</td>\n",
       "      <td>4.26</td>\n",
       "      <td>0.26</td>\n",
       "      <td>0.01</td>\n",
       "      <td>0.71</td>\n",
       "      <td>94.0</td>\n",
       "      <td>8.5</td>\n",
       "      <td>E</td>\n",
       "    </tr>\n",
       "    <tr>\n",
       "      <th>377</th>\n",
       "      <td>FIFA Soccer 2004</td>\n",
       "      <td>PS2</td>\n",
       "      <td>NaN</td>\n",
       "      <td>Sports</td>\n",
       "      <td>0.59</td>\n",
       "      <td>2.36</td>\n",
       "      <td>0.04</td>\n",
       "      <td>0.51</td>\n",
       "      <td>84.0</td>\n",
       "      <td>6.4</td>\n",
       "      <td>E</td>\n",
       "    </tr>\n",
       "    <tr>\n",
       "      <th>475</th>\n",
       "      <td>wwe Smackdown vs. Raw 2006</td>\n",
       "      <td>PS2</td>\n",
       "      <td>NaN</td>\n",
       "      <td>Fighting</td>\n",
       "      <td>1.57</td>\n",
       "      <td>1.02</td>\n",
       "      <td>0.00</td>\n",
       "      <td>0.41</td>\n",
       "      <td>NaN</td>\n",
       "      <td>NaN</td>\n",
       "      <td>NaN</td>\n",
       "    </tr>\n",
       "    <tr>\n",
       "      <th>1649</th>\n",
       "      <td>NASCAR Thunder 2003</td>\n",
       "      <td>PS2</td>\n",
       "      <td>NaN</td>\n",
       "      <td>Racing</td>\n",
       "      <td>0.60</td>\n",
       "      <td>0.46</td>\n",
       "      <td>0.00</td>\n",
       "      <td>0.16</td>\n",
       "      <td>84.0</td>\n",
       "      <td>8.7</td>\n",
       "      <td>E</td>\n",
       "    </tr>\n",
       "    <tr>\n",
       "      <th>2491</th>\n",
       "      <td>MLB SlugFest 20-03</td>\n",
       "      <td>PS2</td>\n",
       "      <td>NaN</td>\n",
       "      <td>Sports</td>\n",
       "      <td>0.41</td>\n",
       "      <td>0.32</td>\n",
       "      <td>0.00</td>\n",
       "      <td>0.11</td>\n",
       "      <td>77.0</td>\n",
       "      <td>8.2</td>\n",
       "      <td>E</td>\n",
       "    </tr>\n",
       "    <tr>\n",
       "      <th>2571</th>\n",
       "      <td>PES 2009: Pro Evolution Soccer</td>\n",
       "      <td>PSP</td>\n",
       "      <td>NaN</td>\n",
       "      <td>Sports</td>\n",
       "      <td>0.04</td>\n",
       "      <td>0.33</td>\n",
       "      <td>0.26</td>\n",
       "      <td>0.17</td>\n",
       "      <td>NaN</td>\n",
       "      <td>NaN</td>\n",
       "      <td>NaN</td>\n",
       "    </tr>\n",
       "    <tr>\n",
       "      <th>3485</th>\n",
       "      <td>Madden NFL 2002</td>\n",
       "      <td>XB</td>\n",
       "      <td>NaN</td>\n",
       "      <td>Sports</td>\n",
       "      <td>0.53</td>\n",
       "      <td>0.02</td>\n",
       "      <td>0.00</td>\n",
       "      <td>0.03</td>\n",
       "      <td>90.0</td>\n",
       "      <td>8.1</td>\n",
       "      <td>E</td>\n",
       "    </tr>\n",
       "    <tr>\n",
       "      <th>4774</th>\n",
       "      <td>NFL GameDay 2003</td>\n",
       "      <td>PS2</td>\n",
       "      <td>NaN</td>\n",
       "      <td>Sports</td>\n",
       "      <td>0.20</td>\n",
       "      <td>0.15</td>\n",
       "      <td>0.00</td>\n",
       "      <td>0.05</td>\n",
       "      <td>60.0</td>\n",
       "      <td>tbd</td>\n",
       "      <td>E</td>\n",
       "    </tr>\n",
       "    <tr>\n",
       "      <th>5155</th>\n",
       "      <td>NBA Live 2003</td>\n",
       "      <td>XB</td>\n",
       "      <td>NaN</td>\n",
       "      <td>Sports</td>\n",
       "      <td>0.31</td>\n",
       "      <td>0.04</td>\n",
       "      <td>0.00</td>\n",
       "      <td>0.01</td>\n",
       "      <td>82.0</td>\n",
       "      <td>8.8</td>\n",
       "      <td>E</td>\n",
       "    </tr>\n",
       "    <tr>\n",
       "      <th>5335</th>\n",
       "      <td>Tomb Raider (2013)</td>\n",
       "      <td>PC</td>\n",
       "      <td>NaN</td>\n",
       "      <td>Action</td>\n",
       "      <td>0.06</td>\n",
       "      <td>0.25</td>\n",
       "      <td>0.00</td>\n",
       "      <td>0.04</td>\n",
       "      <td>86.0</td>\n",
       "      <td>8.5</td>\n",
       "      <td>M</td>\n",
       "    </tr>\n",
       "    <tr>\n",
       "      <th>5654</th>\n",
       "      <td>All-Star Baseball 2005</td>\n",
       "      <td>PS2</td>\n",
       "      <td>NaN</td>\n",
       "      <td>Sports</td>\n",
       "      <td>0.16</td>\n",
       "      <td>0.12</td>\n",
       "      <td>0.00</td>\n",
       "      <td>0.04</td>\n",
       "      <td>72.0</td>\n",
       "      <td>8.6</td>\n",
       "      <td>E</td>\n",
       "    </tr>\n",
       "    <tr>\n",
       "      <th>5888</th>\n",
       "      <td>NBA Live 2003</td>\n",
       "      <td>GC</td>\n",
       "      <td>NaN</td>\n",
       "      <td>Sports</td>\n",
       "      <td>0.23</td>\n",
       "      <td>0.06</td>\n",
       "      <td>0.00</td>\n",
       "      <td>0.01</td>\n",
       "      <td>82.0</td>\n",
       "      <td>8.2</td>\n",
       "      <td>E</td>\n",
       "    </tr>\n",
       "    <tr>\n",
       "      <th>6953</th>\n",
       "      <td>Jet X20</td>\n",
       "      <td>PS2</td>\n",
       "      <td>NaN</td>\n",
       "      <td>Racing</td>\n",
       "      <td>0.11</td>\n",
       "      <td>0.09</td>\n",
       "      <td>0.00</td>\n",
       "      <td>0.03</td>\n",
       "      <td>NaN</td>\n",
       "      <td>NaN</td>\n",
       "      <td>NaN</td>\n",
       "    </tr>\n",
       "    <tr>\n",
       "      <th>8917</th>\n",
       "      <td>All-Star Baseball 2005</td>\n",
       "      <td>XB</td>\n",
       "      <td>NaN</td>\n",
       "      <td>Sports</td>\n",
       "      <td>0.11</td>\n",
       "      <td>0.03</td>\n",
       "      <td>0.00</td>\n",
       "      <td>0.01</td>\n",
       "      <td>75.0</td>\n",
       "      <td>8.8</td>\n",
       "      <td>E</td>\n",
       "    </tr>\n",
       "    <tr>\n",
       "      <th>13194</th>\n",
       "      <td>Tour de France 2011</td>\n",
       "      <td>X360</td>\n",
       "      <td>NaN</td>\n",
       "      <td>Racing</td>\n",
       "      <td>0.00</td>\n",
       "      <td>0.04</td>\n",
       "      <td>0.00</td>\n",
       "      <td>0.01</td>\n",
       "      <td>46.0</td>\n",
       "      <td>7.6</td>\n",
       "      <td>NaN</td>\n",
       "    </tr>\n",
       "    <tr>\n",
       "      <th>13928</th>\n",
       "      <td>Sega Rally 2006</td>\n",
       "      <td>PS2</td>\n",
       "      <td>NaN</td>\n",
       "      <td>Racing</td>\n",
       "      <td>0.00</td>\n",
       "      <td>0.00</td>\n",
       "      <td>0.04</td>\n",
       "      <td>0.00</td>\n",
       "      <td>NaN</td>\n",
       "      <td>NaN</td>\n",
       "      <td>NaN</td>\n",
       "    </tr>\n",
       "    <tr>\n",
       "      <th>15951</th>\n",
       "      <td>PDC World Championship Darts 2008</td>\n",
       "      <td>DS</td>\n",
       "      <td>NaN</td>\n",
       "      <td>Sports</td>\n",
       "      <td>0.01</td>\n",
       "      <td>0.00</td>\n",
       "      <td>0.00</td>\n",
       "      <td>0.00</td>\n",
       "      <td>NaN</td>\n",
       "      <td>NaN</td>\n",
       "      <td>NaN</td>\n",
       "    </tr>\n",
       "    <tr>\n",
       "      <th>16077</th>\n",
       "      <td>Football Manager 2007</td>\n",
       "      <td>X360</td>\n",
       "      <td>NaN</td>\n",
       "      <td>Sports</td>\n",
       "      <td>0.00</td>\n",
       "      <td>0.01</td>\n",
       "      <td>0.00</td>\n",
       "      <td>0.00</td>\n",
       "      <td>NaN</td>\n",
       "      <td>NaN</td>\n",
       "      <td>NaN</td>\n",
       "    </tr>\n",
       "    <tr>\n",
       "      <th>16371</th>\n",
       "      <td>PDC World Championship Darts 2008</td>\n",
       "      <td>PSP</td>\n",
       "      <td>NaN</td>\n",
       "      <td>Sports</td>\n",
       "      <td>0.01</td>\n",
       "      <td>0.00</td>\n",
       "      <td>0.00</td>\n",
       "      <td>0.00</td>\n",
       "      <td>43.0</td>\n",
       "      <td>tbd</td>\n",
       "      <td>E10+</td>\n",
       "    </tr>\n",
       "  </tbody>\n",
       "</table>\n",
       "</div>"
      ],
      "text/plain": [
       "                                    name platform  year_of_release     genre  \\\n",
       "183                      Madden NFL 2004      PS2              NaN    Sports   \n",
       "377                     FIFA Soccer 2004      PS2              NaN    Sports   \n",
       "475           wwe Smackdown vs. Raw 2006      PS2              NaN  Fighting   \n",
       "1649                 NASCAR Thunder 2003      PS2              NaN    Racing   \n",
       "2491                  MLB SlugFest 20-03      PS2              NaN    Sports   \n",
       "2571      PES 2009: Pro Evolution Soccer      PSP              NaN    Sports   \n",
       "3485                     Madden NFL 2002       XB              NaN    Sports   \n",
       "4774                    NFL GameDay 2003      PS2              NaN    Sports   \n",
       "5155                       NBA Live 2003       XB              NaN    Sports   \n",
       "5335                  Tomb Raider (2013)       PC              NaN    Action   \n",
       "5654              All-Star Baseball 2005      PS2              NaN    Sports   \n",
       "5888                       NBA Live 2003       GC              NaN    Sports   \n",
       "6953                             Jet X20      PS2              NaN    Racing   \n",
       "8917              All-Star Baseball 2005       XB              NaN    Sports   \n",
       "13194                Tour de France 2011     X360              NaN    Racing   \n",
       "13928                    Sega Rally 2006      PS2              NaN    Racing   \n",
       "15951  PDC World Championship Darts 2008       DS              NaN    Sports   \n",
       "16077              Football Manager 2007     X360              NaN    Sports   \n",
       "16371  PDC World Championship Darts 2008      PSP              NaN    Sports   \n",
       "\n",
       "       na_sales  eu_sales  jp_sales  other_sales  critic_score user_score  \\\n",
       "183        4.26      0.26      0.01         0.71          94.0        8.5   \n",
       "377        0.59      2.36      0.04         0.51          84.0        6.4   \n",
       "475        1.57      1.02      0.00         0.41           NaN        NaN   \n",
       "1649       0.60      0.46      0.00         0.16          84.0        8.7   \n",
       "2491       0.41      0.32      0.00         0.11          77.0        8.2   \n",
       "2571       0.04      0.33      0.26         0.17           NaN        NaN   \n",
       "3485       0.53      0.02      0.00         0.03          90.0        8.1   \n",
       "4774       0.20      0.15      0.00         0.05          60.0        tbd   \n",
       "5155       0.31      0.04      0.00         0.01          82.0        8.8   \n",
       "5335       0.06      0.25      0.00         0.04          86.0        8.5   \n",
       "5654       0.16      0.12      0.00         0.04          72.0        8.6   \n",
       "5888       0.23      0.06      0.00         0.01          82.0        8.2   \n",
       "6953       0.11      0.09      0.00         0.03           NaN        NaN   \n",
       "8917       0.11      0.03      0.00         0.01          75.0        8.8   \n",
       "13194      0.00      0.04      0.00         0.01          46.0        7.6   \n",
       "13928      0.00      0.00      0.04         0.00           NaN        NaN   \n",
       "15951      0.01      0.00      0.00         0.00           NaN        NaN   \n",
       "16077      0.00      0.01      0.00         0.00           NaN        NaN   \n",
       "16371      0.01      0.00      0.00         0.00          43.0        tbd   \n",
       "\n",
       "      rating  \n",
       "183        E  \n",
       "377        E  \n",
       "475      NaN  \n",
       "1649       E  \n",
       "2491       E  \n",
       "2571     NaN  \n",
       "3485       E  \n",
       "4774       E  \n",
       "5155       E  \n",
       "5335       M  \n",
       "5654       E  \n",
       "5888       E  \n",
       "6953     NaN  \n",
       "8917       E  \n",
       "13194    NaN  \n",
       "13928    NaN  \n",
       "15951    NaN  \n",
       "16077    NaN  \n",
       "16371   E10+  "
      ]
     },
     "execution_count": 12,
     "metadata": {},
     "output_type": "execute_result"
    }
   ],
   "source": [
    "# checking rows, which include year in game title\n",
    "df.query('name.str.contains(\"20\") and year_of_release.isna()')"
   ]
  },
  {
   "cell_type": "code",
   "execution_count": 13,
   "metadata": {},
   "outputs": [],
   "source": [
    "# replacing missing values in year_of_release column with minimum year value based on game\n",
    "# df['year_of_release'] = df['year_of_release'].fillna(df.groupby(['name'])['year_of_release'].transform('min'))"
   ]
  },
  {
   "cell_type": "markdown",
   "metadata": {},
   "source": [
    "We could replace missing values in year of release column with minimum year based on game title as for some of these games this works well and matches the release year exactly or is close enough, but since it might and does not work for every single game, it seems it might be better to leave this column as is - the amount of missing values is not that high and values in these columns contain sensible data."
   ]
  },
  {
   "cell_type": "code",
   "execution_count": 14,
   "metadata": {},
   "outputs": [
    {
     "data": {
      "text/plain": [
       "array(['8', nan, '8.3', '8.5', '6.6', '8.4', '8.6', '7.7', '6.3', '7.4',\n",
       "       '8.2', '9', '7.9', '8.1', '8.7', '7.1', '3.4', '5.3', '4.8', '3.2',\n",
       "       '8.9', '6.4', '7.8', '7.5', '2.6', '7.2', '9.2', '7', '7.3', '4.3',\n",
       "       '7.6', '5.7', '5', '9.1', '6.5', 'tbd', '8.8', '6.9', '9.4', '6.8',\n",
       "       '6.1', '6.7', '5.4', '4', '4.9', '4.5', '9.3', '6.2', '4.2', '6',\n",
       "       '3.7', '4.1', '5.8', '5.6', '5.5', '4.4', '4.6', '5.9', '3.9',\n",
       "       '3.1', '2.9', '5.2', '3.3', '4.7', '5.1', '3.5', '2.5', '1.9', '3',\n",
       "       '2.7', '2.2', '2', '9.5', '2.1', '3.6', '2.8', '1.8', '3.8', '0',\n",
       "       '1.6', '9.6', '2.4', '1.7', '1.1', '0.3', '1.5', '0.7', '1.2',\n",
       "       '2.3', '0.5', '1.3', '0.2', '0.6', '1.4', '0.9', '1', '9.7'],\n",
       "      dtype=object)"
      ]
     },
     "execution_count": 14,
     "metadata": {},
     "output_type": "execute_result"
    }
   ],
   "source": [
    "# looking at unique values in user_score\n",
    "df['user_score'].unique()"
   ]
  },
  {
   "cell_type": "code",
   "execution_count": 15,
   "metadata": {},
   "outputs": [],
   "source": [
    "# replacing 'tbd' values with 'NaN'\n",
    "df['user_score'] = df['user_score'].replace('tbd', np.nan)"
   ]
  },
  {
   "cell_type": "code",
   "execution_count": 16,
   "metadata": {},
   "outputs": [
    {
     "data": {
      "text/plain": [
       "array([76., nan, 82., 80., 89., 58., 87., 91., 61., 97., 95., 77., 88.,\n",
       "       83., 94., 93., 85., 86., 98., 96., 90., 84., 73., 74., 78., 92.,\n",
       "       71., 72., 68., 62., 49., 67., 81., 66., 56., 79., 70., 59., 64.,\n",
       "       75., 60., 63., 69., 50., 25., 42., 44., 55., 48., 57., 29., 47.,\n",
       "       65., 54., 20., 53., 37., 38., 33., 52., 30., 32., 43., 45., 51.,\n",
       "       40., 46., 39., 34., 35., 41., 36., 28., 31., 27., 26., 19., 23.,\n",
       "       24., 21., 17., 22., 13.])"
      ]
     },
     "execution_count": 16,
     "metadata": {},
     "output_type": "execute_result"
    }
   ],
   "source": [
    "# looking at unique values in critic_score\n",
    "df['critic_score'].unique()"
   ]
  },
  {
   "cell_type": "markdown",
   "metadata": {},
   "source": [
    "'tbd' values in user_score were replaced with 'NaN' since we cannot estimate the scores for these games.\n",
    "\n",
    "It seems we should not replace missing values in both, user_score and critic_score, columns since it is impossible to estimate scores and these values do not depend on any other parameter, e.g., platform, year, genre etc."
   ]
  },
  {
   "cell_type": "code",
   "execution_count": 17,
   "metadata": {},
   "outputs": [
    {
     "data": {
      "text/plain": [
       "array(['E', nan, 'M', 'T', 'E10+', 'K-A', 'AO', 'EC', 'RP'], dtype=object)"
      ]
     },
     "execution_count": 17,
     "metadata": {},
     "output_type": "execute_result"
    }
   ],
   "source": [
    "# looking at unique values in rating column\n",
    "df['rating'].unique()"
   ]
  },
  {
   "cell_type": "code",
   "execution_count": 18,
   "metadata": {},
   "outputs": [],
   "source": [
    "# filling missing values in rating column with maximum rating value based on game\n",
    "df['rating'] = df.groupby(['name'])['rating'].transform(lambda grp: grp.fillna(grp.mode().max()))"
   ]
  },
  {
   "cell_type": "code",
   "execution_count": 19,
   "metadata": {},
   "outputs": [],
   "source": [
    "# filling remaining missing values in rating column with 'unknown'\n",
    "df['rating'].fillna('unknown', inplace=True)"
   ]
  },
  {
   "cell_type": "code",
   "execution_count": 20,
   "metadata": {},
   "outputs": [
    {
     "data": {
      "text/html": [
       "<style  type=\"text/css\" >\n",
       "</style><table id=\"T_78a28_\" ><thead>    <tr>        <th class=\"blank level0\" ></th>        <th class=\"col_heading level0 col0\" >missing</th>        <th class=\"col_heading level0 col1\" >total</th>        <th class=\"col_heading level0 col2\" >percent</th>    </tr></thead><tbody>\n",
       "                <tr>\n",
       "                        <th id=\"T_78a28_level0_row0\" class=\"row_heading level0 row0\" >user_score</th>\n",
       "                        <td id=\"T_78a28_row0_col0\" class=\"data row0 col0\" >9,123</td>\n",
       "                        <td id=\"T_78a28_row0_col1\" class=\"data row0 col1\" >16,713</td>\n",
       "                        <td id=\"T_78a28_row0_col2\" class=\"data row0 col2\" >54.59%</td>\n",
       "            </tr>\n",
       "            <tr>\n",
       "                        <th id=\"T_78a28_level0_row1\" class=\"row_heading level0 row1\" >critic_score</th>\n",
       "                        <td id=\"T_78a28_row1_col0\" class=\"data row1 col0\" >8,576</td>\n",
       "                        <td id=\"T_78a28_row1_col1\" class=\"data row1 col1\" >16,713</td>\n",
       "                        <td id=\"T_78a28_row1_col2\" class=\"data row1 col2\" >51.31%</td>\n",
       "            </tr>\n",
       "            <tr>\n",
       "                        <th id=\"T_78a28_level0_row2\" class=\"row_heading level0 row2\" >year_of_release</th>\n",
       "                        <td id=\"T_78a28_row2_col0\" class=\"data row2 col0\" >269</td>\n",
       "                        <td id=\"T_78a28_row2_col1\" class=\"data row2 col1\" >16,713</td>\n",
       "                        <td id=\"T_78a28_row2_col2\" class=\"data row2 col2\" >1.61%</td>\n",
       "            </tr>\n",
       "            <tr>\n",
       "                        <th id=\"T_78a28_level0_row3\" class=\"row_heading level0 row3\" >name</th>\n",
       "                        <td id=\"T_78a28_row3_col0\" class=\"data row3 col0\" >0</td>\n",
       "                        <td id=\"T_78a28_row3_col1\" class=\"data row3 col1\" >16,713</td>\n",
       "                        <td id=\"T_78a28_row3_col2\" class=\"data row3 col2\" >0.00%</td>\n",
       "            </tr>\n",
       "            <tr>\n",
       "                        <th id=\"T_78a28_level0_row4\" class=\"row_heading level0 row4\" >platform</th>\n",
       "                        <td id=\"T_78a28_row4_col0\" class=\"data row4 col0\" >0</td>\n",
       "                        <td id=\"T_78a28_row4_col1\" class=\"data row4 col1\" >16,713</td>\n",
       "                        <td id=\"T_78a28_row4_col2\" class=\"data row4 col2\" >0.00%</td>\n",
       "            </tr>\n",
       "            <tr>\n",
       "                        <th id=\"T_78a28_level0_row5\" class=\"row_heading level0 row5\" >genre</th>\n",
       "                        <td id=\"T_78a28_row5_col0\" class=\"data row5 col0\" >0</td>\n",
       "                        <td id=\"T_78a28_row5_col1\" class=\"data row5 col1\" >16,713</td>\n",
       "                        <td id=\"T_78a28_row5_col2\" class=\"data row5 col2\" >0.00%</td>\n",
       "            </tr>\n",
       "            <tr>\n",
       "                        <th id=\"T_78a28_level0_row6\" class=\"row_heading level0 row6\" >na_sales</th>\n",
       "                        <td id=\"T_78a28_row6_col0\" class=\"data row6 col0\" >0</td>\n",
       "                        <td id=\"T_78a28_row6_col1\" class=\"data row6 col1\" >16,713</td>\n",
       "                        <td id=\"T_78a28_row6_col2\" class=\"data row6 col2\" >0.00%</td>\n",
       "            </tr>\n",
       "            <tr>\n",
       "                        <th id=\"T_78a28_level0_row7\" class=\"row_heading level0 row7\" >eu_sales</th>\n",
       "                        <td id=\"T_78a28_row7_col0\" class=\"data row7 col0\" >0</td>\n",
       "                        <td id=\"T_78a28_row7_col1\" class=\"data row7 col1\" >16,713</td>\n",
       "                        <td id=\"T_78a28_row7_col2\" class=\"data row7 col2\" >0.00%</td>\n",
       "            </tr>\n",
       "            <tr>\n",
       "                        <th id=\"T_78a28_level0_row8\" class=\"row_heading level0 row8\" >jp_sales</th>\n",
       "                        <td id=\"T_78a28_row8_col0\" class=\"data row8 col0\" >0</td>\n",
       "                        <td id=\"T_78a28_row8_col1\" class=\"data row8 col1\" >16,713</td>\n",
       "                        <td id=\"T_78a28_row8_col2\" class=\"data row8 col2\" >0.00%</td>\n",
       "            </tr>\n",
       "            <tr>\n",
       "                        <th id=\"T_78a28_level0_row9\" class=\"row_heading level0 row9\" >other_sales</th>\n",
       "                        <td id=\"T_78a28_row9_col0\" class=\"data row9 col0\" >0</td>\n",
       "                        <td id=\"T_78a28_row9_col1\" class=\"data row9 col1\" >16,713</td>\n",
       "                        <td id=\"T_78a28_row9_col2\" class=\"data row9 col2\" >0.00%</td>\n",
       "            </tr>\n",
       "            <tr>\n",
       "                        <th id=\"T_78a28_level0_row10\" class=\"row_heading level0 row10\" >rating</th>\n",
       "                        <td id=\"T_78a28_row10_col0\" class=\"data row10 col0\" >0</td>\n",
       "                        <td id=\"T_78a28_row10_col1\" class=\"data row10 col1\" >16,713</td>\n",
       "                        <td id=\"T_78a28_row10_col2\" class=\"data row10 col2\" >0.00%</td>\n",
       "            </tr>\n",
       "    </tbody></table>"
      ],
      "text/plain": [
       "<pandas.io.formats.style.Styler at 0x7f440487d9a0>"
      ]
     },
     "execution_count": 20,
     "metadata": {},
     "output_type": "execute_result"
    }
   ],
   "source": [
    "# looking at missing values after changes were made\n",
    "df.stb.missing(style=True)"
   ]
  },
  {
   "cell_type": "markdown",
   "metadata": {},
   "source": [
    "### Fixing data"
   ]
  },
  {
   "cell_type": "code",
   "execution_count": 21,
   "metadata": {},
   "outputs": [
    {
     "data": {
      "text/plain": [
       "name                object\n",
       "platform            object\n",
       "year_of_release    float64\n",
       "genre               object\n",
       "na_sales           float64\n",
       "eu_sales           float64\n",
       "jp_sales           float64\n",
       "other_sales        float64\n",
       "critic_score       float64\n",
       "user_score          object\n",
       "rating              object\n",
       "dtype: object"
      ]
     },
     "execution_count": 21,
     "metadata": {},
     "output_type": "execute_result"
    }
   ],
   "source": [
    "# checking data types\n",
    "df.dtypes"
   ]
  },
  {
   "cell_type": "code",
   "execution_count": 22,
   "metadata": {},
   "outputs": [],
   "source": [
    "# fixing data types in year_of_release and user_score columns for more convenient analysis\n",
    "df['year_of_release'] = df['year_of_release'].astype(\"Int64\")\n",
    "df['user_score'] = df['user_score'].astype('float64')"
   ]
  },
  {
   "cell_type": "markdown",
   "metadata": {},
   "source": [
    "### Aggregating data"
   ]
  },
  {
   "cell_type": "code",
   "execution_count": 23,
   "metadata": {},
   "outputs": [
    {
     "data": {
      "text/html": [
       "<div>\n",
       "<style scoped>\n",
       "    .dataframe tbody tr th:only-of-type {\n",
       "        vertical-align: middle;\n",
       "    }\n",
       "\n",
       "    .dataframe tbody tr th {\n",
       "        vertical-align: top;\n",
       "    }\n",
       "\n",
       "    .dataframe thead th {\n",
       "        text-align: right;\n",
       "    }\n",
       "</style>\n",
       "<table border=\"1\" class=\"dataframe\">\n",
       "  <thead>\n",
       "    <tr style=\"text-align: right;\">\n",
       "      <th></th>\n",
       "      <th>name</th>\n",
       "      <th>platform</th>\n",
       "      <th>year_of_release</th>\n",
       "      <th>genre</th>\n",
       "      <th>na_sales</th>\n",
       "      <th>eu_sales</th>\n",
       "      <th>jp_sales</th>\n",
       "      <th>other_sales</th>\n",
       "      <th>critic_score</th>\n",
       "      <th>user_score</th>\n",
       "      <th>rating</th>\n",
       "      <th>total_sales</th>\n",
       "    </tr>\n",
       "  </thead>\n",
       "  <tbody>\n",
       "    <tr>\n",
       "      <th>0</th>\n",
       "      <td>Wii Sports</td>\n",
       "      <td>Wii</td>\n",
       "      <td>2006</td>\n",
       "      <td>Sports</td>\n",
       "      <td>41.36</td>\n",
       "      <td>28.96</td>\n",
       "      <td>3.77</td>\n",
       "      <td>8.45</td>\n",
       "      <td>76.0</td>\n",
       "      <td>8.0</td>\n",
       "      <td>E</td>\n",
       "      <td>82.54</td>\n",
       "    </tr>\n",
       "    <tr>\n",
       "      <th>1</th>\n",
       "      <td>Super Mario Bros.</td>\n",
       "      <td>NES</td>\n",
       "      <td>1985</td>\n",
       "      <td>Platform</td>\n",
       "      <td>29.08</td>\n",
       "      <td>3.58</td>\n",
       "      <td>6.81</td>\n",
       "      <td>0.77</td>\n",
       "      <td>NaN</td>\n",
       "      <td>NaN</td>\n",
       "      <td>unknown</td>\n",
       "      <td>40.24</td>\n",
       "    </tr>\n",
       "    <tr>\n",
       "      <th>2</th>\n",
       "      <td>Mario Kart Wii</td>\n",
       "      <td>Wii</td>\n",
       "      <td>2008</td>\n",
       "      <td>Racing</td>\n",
       "      <td>15.68</td>\n",
       "      <td>12.76</td>\n",
       "      <td>3.79</td>\n",
       "      <td>3.29</td>\n",
       "      <td>82.0</td>\n",
       "      <td>8.3</td>\n",
       "      <td>E</td>\n",
       "      <td>35.52</td>\n",
       "    </tr>\n",
       "    <tr>\n",
       "      <th>3</th>\n",
       "      <td>Wii Sports Resort</td>\n",
       "      <td>Wii</td>\n",
       "      <td>2009</td>\n",
       "      <td>Sports</td>\n",
       "      <td>15.61</td>\n",
       "      <td>10.93</td>\n",
       "      <td>3.28</td>\n",
       "      <td>2.95</td>\n",
       "      <td>80.0</td>\n",
       "      <td>8.0</td>\n",
       "      <td>E</td>\n",
       "      <td>32.77</td>\n",
       "    </tr>\n",
       "    <tr>\n",
       "      <th>4</th>\n",
       "      <td>Pokemon Red/Pokemon Blue</td>\n",
       "      <td>GB</td>\n",
       "      <td>1996</td>\n",
       "      <td>Role-Playing</td>\n",
       "      <td>11.27</td>\n",
       "      <td>8.89</td>\n",
       "      <td>10.22</td>\n",
       "      <td>1.00</td>\n",
       "      <td>NaN</td>\n",
       "      <td>NaN</td>\n",
       "      <td>unknown</td>\n",
       "      <td>31.38</td>\n",
       "    </tr>\n",
       "    <tr>\n",
       "      <th>...</th>\n",
       "      <td>...</td>\n",
       "      <td>...</td>\n",
       "      <td>...</td>\n",
       "      <td>...</td>\n",
       "      <td>...</td>\n",
       "      <td>...</td>\n",
       "      <td>...</td>\n",
       "      <td>...</td>\n",
       "      <td>...</td>\n",
       "      <td>...</td>\n",
       "      <td>...</td>\n",
       "      <td>...</td>\n",
       "    </tr>\n",
       "    <tr>\n",
       "      <th>16708</th>\n",
       "      <td>Samurai Warriors: Sanada Maru</td>\n",
       "      <td>PS3</td>\n",
       "      <td>2016</td>\n",
       "      <td>Action</td>\n",
       "      <td>0.00</td>\n",
       "      <td>0.00</td>\n",
       "      <td>0.01</td>\n",
       "      <td>0.00</td>\n",
       "      <td>NaN</td>\n",
       "      <td>NaN</td>\n",
       "      <td>unknown</td>\n",
       "      <td>0.01</td>\n",
       "    </tr>\n",
       "    <tr>\n",
       "      <th>16709</th>\n",
       "      <td>LMA Manager 2007</td>\n",
       "      <td>X360</td>\n",
       "      <td>2006</td>\n",
       "      <td>Sports</td>\n",
       "      <td>0.00</td>\n",
       "      <td>0.01</td>\n",
       "      <td>0.00</td>\n",
       "      <td>0.00</td>\n",
       "      <td>NaN</td>\n",
       "      <td>NaN</td>\n",
       "      <td>unknown</td>\n",
       "      <td>0.01</td>\n",
       "    </tr>\n",
       "    <tr>\n",
       "      <th>16710</th>\n",
       "      <td>Haitaka no Psychedelica</td>\n",
       "      <td>PSV</td>\n",
       "      <td>2016</td>\n",
       "      <td>Adventure</td>\n",
       "      <td>0.00</td>\n",
       "      <td>0.00</td>\n",
       "      <td>0.01</td>\n",
       "      <td>0.00</td>\n",
       "      <td>NaN</td>\n",
       "      <td>NaN</td>\n",
       "      <td>unknown</td>\n",
       "      <td>0.01</td>\n",
       "    </tr>\n",
       "    <tr>\n",
       "      <th>16711</th>\n",
       "      <td>Spirits &amp; Spells</td>\n",
       "      <td>GBA</td>\n",
       "      <td>2003</td>\n",
       "      <td>Platform</td>\n",
       "      <td>0.01</td>\n",
       "      <td>0.00</td>\n",
       "      <td>0.00</td>\n",
       "      <td>0.00</td>\n",
       "      <td>NaN</td>\n",
       "      <td>NaN</td>\n",
       "      <td>unknown</td>\n",
       "      <td>0.01</td>\n",
       "    </tr>\n",
       "    <tr>\n",
       "      <th>16712</th>\n",
       "      <td>Winning Post 8 2016</td>\n",
       "      <td>PSV</td>\n",
       "      <td>2016</td>\n",
       "      <td>Simulation</td>\n",
       "      <td>0.00</td>\n",
       "      <td>0.00</td>\n",
       "      <td>0.01</td>\n",
       "      <td>0.00</td>\n",
       "      <td>NaN</td>\n",
       "      <td>NaN</td>\n",
       "      <td>unknown</td>\n",
       "      <td>0.01</td>\n",
       "    </tr>\n",
       "  </tbody>\n",
       "</table>\n",
       "<p>16713 rows × 12 columns</p>\n",
       "</div>"
      ],
      "text/plain": [
       "                                name platform  year_of_release         genre  \\\n",
       "0                         Wii Sports      Wii             2006        Sports   \n",
       "1                  Super Mario Bros.      NES             1985      Platform   \n",
       "2                     Mario Kart Wii      Wii             2008        Racing   \n",
       "3                  Wii Sports Resort      Wii             2009        Sports   \n",
       "4           Pokemon Red/Pokemon Blue       GB             1996  Role-Playing   \n",
       "...                              ...      ...              ...           ...   \n",
       "16708  Samurai Warriors: Sanada Maru      PS3             2016        Action   \n",
       "16709               LMA Manager 2007     X360             2006        Sports   \n",
       "16710        Haitaka no Psychedelica      PSV             2016     Adventure   \n",
       "16711               Spirits & Spells      GBA             2003      Platform   \n",
       "16712            Winning Post 8 2016      PSV             2016    Simulation   \n",
       "\n",
       "       na_sales  eu_sales  jp_sales  other_sales  critic_score  user_score  \\\n",
       "0         41.36     28.96      3.77         8.45          76.0         8.0   \n",
       "1         29.08      3.58      6.81         0.77           NaN         NaN   \n",
       "2         15.68     12.76      3.79         3.29          82.0         8.3   \n",
       "3         15.61     10.93      3.28         2.95          80.0         8.0   \n",
       "4         11.27      8.89     10.22         1.00           NaN         NaN   \n",
       "...         ...       ...       ...          ...           ...         ...   \n",
       "16708      0.00      0.00      0.01         0.00           NaN         NaN   \n",
       "16709      0.00      0.01      0.00         0.00           NaN         NaN   \n",
       "16710      0.00      0.00      0.01         0.00           NaN         NaN   \n",
       "16711      0.01      0.00      0.00         0.00           NaN         NaN   \n",
       "16712      0.00      0.00      0.01         0.00           NaN         NaN   \n",
       "\n",
       "        rating  total_sales  \n",
       "0            E        82.54  \n",
       "1      unknown        40.24  \n",
       "2            E        35.52  \n",
       "3            E        32.77  \n",
       "4      unknown        31.38  \n",
       "...        ...          ...  \n",
       "16708  unknown         0.01  \n",
       "16709  unknown         0.01  \n",
       "16710  unknown         0.01  \n",
       "16711  unknown         0.01  \n",
       "16712  unknown         0.01  \n",
       "\n",
       "[16713 rows x 12 columns]"
      ]
     },
     "execution_count": 23,
     "metadata": {},
     "output_type": "execute_result"
    }
   ],
   "source": [
    "# Adding total_sales column to the table\n",
    "df['total_sales']=df[['na_sales','eu_sales','jp_sales','other_sales']].sum(axis=1)\n",
    "df"
   ]
  },
  {
   "cell_type": "markdown",
   "metadata": {},
   "source": [
    "A new column was added to the data frame - the total sales (the sum of sales in all regions) for each game."
   ]
  },
  {
   "cell_type": "markdown",
   "metadata": {},
   "source": [
    "## Studying the data"
   ]
  },
  {
   "cell_type": "code",
   "execution_count": 24,
   "metadata": {},
   "outputs": [
    {
     "data": {
      "text/html": [
       "<div>\n",
       "<style scoped>\n",
       "    .dataframe tbody tr th:only-of-type {\n",
       "        vertical-align: middle;\n",
       "    }\n",
       "\n",
       "    .dataframe tbody tr th {\n",
       "        vertical-align: top;\n",
       "    }\n",
       "\n",
       "    .dataframe thead th {\n",
       "        text-align: right;\n",
       "    }\n",
       "</style>\n",
       "<table border=\"1\" class=\"dataframe\">\n",
       "  <thead>\n",
       "    <tr style=\"text-align: right;\">\n",
       "      <th></th>\n",
       "      <th>year_of_release</th>\n",
       "      <th>name</th>\n",
       "    </tr>\n",
       "  </thead>\n",
       "  <tbody>\n",
       "    <tr>\n",
       "      <th>0</th>\n",
       "      <td>1980</td>\n",
       "      <td>9</td>\n",
       "    </tr>\n",
       "    <tr>\n",
       "      <th>1</th>\n",
       "      <td>1981</td>\n",
       "      <td>46</td>\n",
       "    </tr>\n",
       "    <tr>\n",
       "      <th>2</th>\n",
       "      <td>1982</td>\n",
       "      <td>36</td>\n",
       "    </tr>\n",
       "    <tr>\n",
       "      <th>3</th>\n",
       "      <td>1983</td>\n",
       "      <td>17</td>\n",
       "    </tr>\n",
       "    <tr>\n",
       "      <th>4</th>\n",
       "      <td>1984</td>\n",
       "      <td>14</td>\n",
       "    </tr>\n",
       "    <tr>\n",
       "      <th>5</th>\n",
       "      <td>1985</td>\n",
       "      <td>14</td>\n",
       "    </tr>\n",
       "    <tr>\n",
       "      <th>6</th>\n",
       "      <td>1986</td>\n",
       "      <td>21</td>\n",
       "    </tr>\n",
       "    <tr>\n",
       "      <th>7</th>\n",
       "      <td>1987</td>\n",
       "      <td>16</td>\n",
       "    </tr>\n",
       "    <tr>\n",
       "      <th>8</th>\n",
       "      <td>1988</td>\n",
       "      <td>15</td>\n",
       "    </tr>\n",
       "    <tr>\n",
       "      <th>9</th>\n",
       "      <td>1989</td>\n",
       "      <td>17</td>\n",
       "    </tr>\n",
       "    <tr>\n",
       "      <th>10</th>\n",
       "      <td>1990</td>\n",
       "      <td>16</td>\n",
       "    </tr>\n",
       "    <tr>\n",
       "      <th>11</th>\n",
       "      <td>1991</td>\n",
       "      <td>40</td>\n",
       "    </tr>\n",
       "    <tr>\n",
       "      <th>12</th>\n",
       "      <td>1992</td>\n",
       "      <td>41</td>\n",
       "    </tr>\n",
       "    <tr>\n",
       "      <th>13</th>\n",
       "      <td>1993</td>\n",
       "      <td>59</td>\n",
       "    </tr>\n",
       "    <tr>\n",
       "      <th>14</th>\n",
       "      <td>1994</td>\n",
       "      <td>117</td>\n",
       "    </tr>\n",
       "    <tr>\n",
       "      <th>15</th>\n",
       "      <td>1995</td>\n",
       "      <td>215</td>\n",
       "    </tr>\n",
       "    <tr>\n",
       "      <th>16</th>\n",
       "      <td>1996</td>\n",
       "      <td>258</td>\n",
       "    </tr>\n",
       "    <tr>\n",
       "      <th>17</th>\n",
       "      <td>1997</td>\n",
       "      <td>282</td>\n",
       "    </tr>\n",
       "    <tr>\n",
       "      <th>18</th>\n",
       "      <td>1998</td>\n",
       "      <td>364</td>\n",
       "    </tr>\n",
       "    <tr>\n",
       "      <th>19</th>\n",
       "      <td>1999</td>\n",
       "      <td>326</td>\n",
       "    </tr>\n",
       "    <tr>\n",
       "      <th>20</th>\n",
       "      <td>2000</td>\n",
       "      <td>325</td>\n",
       "    </tr>\n",
       "    <tr>\n",
       "      <th>21</th>\n",
       "      <td>2001</td>\n",
       "      <td>428</td>\n",
       "    </tr>\n",
       "    <tr>\n",
       "      <th>22</th>\n",
       "      <td>2002</td>\n",
       "      <td>631</td>\n",
       "    </tr>\n",
       "    <tr>\n",
       "      <th>23</th>\n",
       "      <td>2003</td>\n",
       "      <td>546</td>\n",
       "    </tr>\n",
       "    <tr>\n",
       "      <th>24</th>\n",
       "      <td>2004</td>\n",
       "      <td>550</td>\n",
       "    </tr>\n",
       "    <tr>\n",
       "      <th>25</th>\n",
       "      <td>2005</td>\n",
       "      <td>657</td>\n",
       "    </tr>\n",
       "    <tr>\n",
       "      <th>26</th>\n",
       "      <td>2006</td>\n",
       "      <td>773</td>\n",
       "    </tr>\n",
       "    <tr>\n",
       "      <th>27</th>\n",
       "      <td>2007</td>\n",
       "      <td>884</td>\n",
       "    </tr>\n",
       "    <tr>\n",
       "      <th>28</th>\n",
       "      <td>2008</td>\n",
       "      <td>1039</td>\n",
       "    </tr>\n",
       "    <tr>\n",
       "      <th>29</th>\n",
       "      <td>2009</td>\n",
       "      <td>1001</td>\n",
       "    </tr>\n",
       "    <tr>\n",
       "      <th>30</th>\n",
       "      <td>2010</td>\n",
       "      <td>900</td>\n",
       "    </tr>\n",
       "    <tr>\n",
       "      <th>31</th>\n",
       "      <td>2011</td>\n",
       "      <td>779</td>\n",
       "    </tr>\n",
       "    <tr>\n",
       "      <th>32</th>\n",
       "      <td>2012</td>\n",
       "      <td>446</td>\n",
       "    </tr>\n",
       "    <tr>\n",
       "      <th>33</th>\n",
       "      <td>2013</td>\n",
       "      <td>335</td>\n",
       "    </tr>\n",
       "    <tr>\n",
       "      <th>34</th>\n",
       "      <td>2014</td>\n",
       "      <td>319</td>\n",
       "    </tr>\n",
       "    <tr>\n",
       "      <th>35</th>\n",
       "      <td>2015</td>\n",
       "      <td>362</td>\n",
       "    </tr>\n",
       "    <tr>\n",
       "      <th>36</th>\n",
       "      <td>2016</td>\n",
       "      <td>297</td>\n",
       "    </tr>\n",
       "  </tbody>\n",
       "</table>\n",
       "</div>"
      ],
      "text/plain": [
       "    year_of_release  name\n",
       "0              1980     9\n",
       "1              1981    46\n",
       "2              1982    36\n",
       "3              1983    17\n",
       "4              1984    14\n",
       "5              1985    14\n",
       "6              1986    21\n",
       "7              1987    16\n",
       "8              1988    15\n",
       "9              1989    17\n",
       "10             1990    16\n",
       "11             1991    40\n",
       "12             1992    41\n",
       "13             1993    59\n",
       "14             1994   117\n",
       "15             1995   215\n",
       "16             1996   258\n",
       "17             1997   282\n",
       "18             1998   364\n",
       "19             1999   326\n",
       "20             2000   325\n",
       "21             2001   428\n",
       "22             2002   631\n",
       "23             2003   546\n",
       "24             2004   550\n",
       "25             2005   657\n",
       "26             2006   773\n",
       "27             2007   884\n",
       "28             2008  1039\n",
       "29             2009  1001\n",
       "30             2010   900\n",
       "31             2011   779\n",
       "32             2012   446\n",
       "33             2013   335\n",
       "34             2014   319\n",
       "35             2015   362\n",
       "36             2016   297"
      ]
     },
     "execution_count": 24,
     "metadata": {},
     "output_type": "execute_result"
    }
   ],
   "source": [
    "games = df.groupby(['year_of_release'])['name'].nunique().reset_index().sort_values(by='year_of_release')\n",
    "games"
   ]
  },
  {
   "cell_type": "code",
   "execution_count": 25,
   "metadata": {},
   "outputs": [
    {
     "data": {
      "image/png": "[encoded data removed]",
      "text/plain": [
       "<Figure size 1224x720 with 1 Axes>"
      ]
     },
     "metadata": {
      "needs_background": "light"
     },
     "output_type": "display_data"
    }
   ],
   "source": [
    "# building a bar chart of number of games released throughout years\n",
    "games_released = df.groupby(['year_of_release'])['name'].nunique().reset_index().sort_values(by='year_of_release').reset_index()\n",
    "plt.figure(figsize=(17,10))\n",
    "sns.barplot(data = games_released, x='year_of_release', y='name', color='blue', alpha=0.7)\n",
    "plt.title('Games released 1980 - 2016')\n",
    "plt.xlabel('year')\n",
    "plt.ylabel('number of games')\n",
    "plt.xticks(rotation=90);"
   ]
  },
  {
   "cell_type": "markdown",
   "metadata": {},
   "source": [
    "The 1980s were the early days of the video game industry, and the number of games released each year was relatively low compared to later decades.\n",
    "\n",
    "The 1990s were a decade of noticeable growth for the video game industry, with a higher increase in the number of games being released each year.\n",
    "\n",
    "The 2000s saw continued growth in the video game industry, with an even greater number of games being released each year than in the previous decade.\n",
    "\n",
    "This most likely was due to the widespread adoption of the internet and digital distribution, which made it easier for developers to release games without the need for physical distribution.\n",
    "\n",
    "It seems in the 2010s there was a decline in the number of games being released each year compared to the previous decade. However, it appears this was still a very active period for the industry.\n",
    "\n",
    "Overall, the number of video games released each decade has shown a clear trend of growth and expansion."
   ]
  },
  {
   "cell_type": "code",
   "execution_count": 26,
   "metadata": {},
   "outputs": [
    {
     "data": {
      "text/html": [
       "<div>\n",
       "<style scoped>\n",
       "    .dataframe tbody tr th:only-of-type {\n",
       "        vertical-align: middle;\n",
       "    }\n",
       "\n",
       "    .dataframe tbody tr th {\n",
       "        vertical-align: top;\n",
       "    }\n",
       "\n",
       "    .dataframe thead th {\n",
       "        text-align: right;\n",
       "    }\n",
       "</style>\n",
       "<table border=\"1\" class=\"dataframe\">\n",
       "  <thead>\n",
       "    <tr style=\"text-align: right;\">\n",
       "      <th></th>\n",
       "      <th>platform</th>\n",
       "      <th>total_sales</th>\n",
       "    </tr>\n",
       "  </thead>\n",
       "  <tbody>\n",
       "    <tr>\n",
       "      <th>0</th>\n",
       "      <td>PS2</td>\n",
       "      <td>1255.77</td>\n",
       "    </tr>\n",
       "    <tr>\n",
       "      <th>1</th>\n",
       "      <td>X360</td>\n",
       "      <td>971.42</td>\n",
       "    </tr>\n",
       "    <tr>\n",
       "      <th>2</th>\n",
       "      <td>PS3</td>\n",
       "      <td>939.65</td>\n",
       "    </tr>\n",
       "    <tr>\n",
       "      <th>3</th>\n",
       "      <td>Wii</td>\n",
       "      <td>907.51</td>\n",
       "    </tr>\n",
       "    <tr>\n",
       "      <th>4</th>\n",
       "      <td>DS</td>\n",
       "      <td>806.12</td>\n",
       "    </tr>\n",
       "    <tr>\n",
       "      <th>5</th>\n",
       "      <td>PS</td>\n",
       "      <td>730.86</td>\n",
       "    </tr>\n",
       "    <tr>\n",
       "      <th>6</th>\n",
       "      <td>GBA</td>\n",
       "      <td>317.85</td>\n",
       "    </tr>\n",
       "    <tr>\n",
       "      <th>7</th>\n",
       "      <td>PS4</td>\n",
       "      <td>314.14</td>\n",
       "    </tr>\n",
       "    <tr>\n",
       "      <th>8</th>\n",
       "      <td>PSP</td>\n",
       "      <td>294.05</td>\n",
       "    </tr>\n",
       "    <tr>\n",
       "      <th>9</th>\n",
       "      <td>PC</td>\n",
       "      <td>259.52</td>\n",
       "    </tr>\n",
       "    <tr>\n",
       "      <th>10</th>\n",
       "      <td>3DS</td>\n",
       "      <td>259.00</td>\n",
       "    </tr>\n",
       "    <tr>\n",
       "      <th>11</th>\n",
       "      <td>XB</td>\n",
       "      <td>257.74</td>\n",
       "    </tr>\n",
       "    <tr>\n",
       "      <th>12</th>\n",
       "      <td>GB</td>\n",
       "      <td>255.46</td>\n",
       "    </tr>\n",
       "    <tr>\n",
       "      <th>13</th>\n",
       "      <td>NES</td>\n",
       "      <td>251.05</td>\n",
       "    </tr>\n",
       "    <tr>\n",
       "      <th>14</th>\n",
       "      <td>N64</td>\n",
       "      <td>218.68</td>\n",
       "    </tr>\n",
       "    <tr>\n",
       "      <th>15</th>\n",
       "      <td>SNES</td>\n",
       "      <td>200.04</td>\n",
       "    </tr>\n",
       "    <tr>\n",
       "      <th>16</th>\n",
       "      <td>GC</td>\n",
       "      <td>198.93</td>\n",
       "    </tr>\n",
       "    <tr>\n",
       "      <th>17</th>\n",
       "      <td>XOne</td>\n",
       "      <td>159.32</td>\n",
       "    </tr>\n",
       "    <tr>\n",
       "      <th>18</th>\n",
       "      <td>2600</td>\n",
       "      <td>96.98</td>\n",
       "    </tr>\n",
       "    <tr>\n",
       "      <th>19</th>\n",
       "      <td>WiiU</td>\n",
       "      <td>82.19</td>\n",
       "    </tr>\n",
       "    <tr>\n",
       "      <th>20</th>\n",
       "      <td>PSV</td>\n",
       "      <td>54.07</td>\n",
       "    </tr>\n",
       "    <tr>\n",
       "      <th>21</th>\n",
       "      <td>SAT</td>\n",
       "      <td>33.59</td>\n",
       "    </tr>\n",
       "    <tr>\n",
       "      <th>22</th>\n",
       "      <td>GEN</td>\n",
       "      <td>28.35</td>\n",
       "    </tr>\n",
       "    <tr>\n",
       "      <th>23</th>\n",
       "      <td>DC</td>\n",
       "      <td>15.95</td>\n",
       "    </tr>\n",
       "    <tr>\n",
       "      <th>24</th>\n",
       "      <td>SCD</td>\n",
       "      <td>1.86</td>\n",
       "    </tr>\n",
       "    <tr>\n",
       "      <th>25</th>\n",
       "      <td>NG</td>\n",
       "      <td>1.44</td>\n",
       "    </tr>\n",
       "    <tr>\n",
       "      <th>26</th>\n",
       "      <td>WS</td>\n",
       "      <td>1.42</td>\n",
       "    </tr>\n",
       "    <tr>\n",
       "      <th>27</th>\n",
       "      <td>TG16</td>\n",
       "      <td>0.16</td>\n",
       "    </tr>\n",
       "    <tr>\n",
       "      <th>28</th>\n",
       "      <td>3DO</td>\n",
       "      <td>0.10</td>\n",
       "    </tr>\n",
       "    <tr>\n",
       "      <th>29</th>\n",
       "      <td>GG</td>\n",
       "      <td>0.04</td>\n",
       "    </tr>\n",
       "    <tr>\n",
       "      <th>30</th>\n",
       "      <td>PCFX</td>\n",
       "      <td>0.03</td>\n",
       "    </tr>\n",
       "  </tbody>\n",
       "</table>\n",
       "</div>"
      ],
      "text/plain": [
       "   platform  total_sales\n",
       "0       PS2      1255.77\n",
       "1      X360       971.42\n",
       "2       PS3       939.65\n",
       "3       Wii       907.51\n",
       "4        DS       806.12\n",
       "5        PS       730.86\n",
       "6       GBA       317.85\n",
       "7       PS4       314.14\n",
       "8       PSP       294.05\n",
       "9        PC       259.52\n",
       "10      3DS       259.00\n",
       "11       XB       257.74\n",
       "12       GB       255.46\n",
       "13      NES       251.05\n",
       "14      N64       218.68\n",
       "15     SNES       200.04\n",
       "16       GC       198.93\n",
       "17     XOne       159.32\n",
       "18     2600        96.98\n",
       "19     WiiU        82.19\n",
       "20      PSV        54.07\n",
       "21      SAT        33.59\n",
       "22      GEN        28.35\n",
       "23       DC        15.95\n",
       "24      SCD         1.86\n",
       "25       NG         1.44\n",
       "26       WS         1.42\n",
       "27     TG16         0.16\n",
       "28      3DO         0.10\n",
       "29       GG         0.04\n",
       "30     PCFX         0.03"
      ]
     },
     "execution_count": 26,
     "metadata": {},
     "output_type": "execute_result"
    }
   ],
   "source": [
    "sales = df[['platform','total_sales']].groupby(['platform']).sum().sort_values(by='total_sales', ascending = False).reset_index()\n",
    "sales"
   ]
  },
  {
   "cell_type": "code",
   "execution_count": 27,
   "metadata": {},
   "outputs": [],
   "source": [
    "# looking at sales throughout years on diff platforms \n",
    "sales_years = df.pivot_table(index='year_of_release', columns='platform', values='total_sales')\n",
    "df.query('platform == \"DS\"').sort_values(by='year_of_release', ascending=True)\n",
    "# replacing release year to 2004 for Strongest Tokyo University Shogi DS game\n",
    "df.at[15955,'year_of_release'] = 2004"
   ]
  },
  {
   "cell_type": "code",
   "execution_count": 28,
   "metadata": {
    "scrolled": true
   },
   "outputs": [
    {
     "data": {
      "text/html": [
       "<div>\n",
       "<style scoped>\n",
       "    .dataframe tbody tr th:only-of-type {\n",
       "        vertical-align: middle;\n",
       "    }\n",
       "\n",
       "    .dataframe tbody tr th {\n",
       "        vertical-align: top;\n",
       "    }\n",
       "\n",
       "    .dataframe thead th {\n",
       "        text-align: right;\n",
       "    }\n",
       "</style>\n",
       "<table border=\"1\" class=\"dataframe\">\n",
       "  <thead>\n",
       "    <tr style=\"text-align: right;\">\n",
       "      <th></th>\n",
       "      <th>name</th>\n",
       "      <th>platform</th>\n",
       "      <th>year_of_release</th>\n",
       "      <th>genre</th>\n",
       "      <th>na_sales</th>\n",
       "      <th>eu_sales</th>\n",
       "      <th>jp_sales</th>\n",
       "      <th>other_sales</th>\n",
       "      <th>critic_score</th>\n",
       "      <th>user_score</th>\n",
       "      <th>rating</th>\n",
       "      <th>total_sales</th>\n",
       "    </tr>\n",
       "  </thead>\n",
       "  <tbody>\n",
       "    <tr>\n",
       "      <th>15955</th>\n",
       "      <td>Strongest Tokyo University Shogi DS</td>\n",
       "      <td>DS</td>\n",
       "      <td>2004</td>\n",
       "      <td>Action</td>\n",
       "      <td>0.00</td>\n",
       "      <td>0.00</td>\n",
       "      <td>0.02</td>\n",
       "      <td>0.0</td>\n",
       "      <td>NaN</td>\n",
       "      <td>NaN</td>\n",
       "      <td>unknown</td>\n",
       "      <td>0.02</td>\n",
       "    </tr>\n",
       "    <tr>\n",
       "      <th>13462</th>\n",
       "      <td>Cocoto Kart Racer</td>\n",
       "      <td>DS</td>\n",
       "      <td>2004</td>\n",
       "      <td>Racing</td>\n",
       "      <td>0.04</td>\n",
       "      <td>0.00</td>\n",
       "      <td>0.00</td>\n",
       "      <td>0.0</td>\n",
       "      <td>NaN</td>\n",
       "      <td>NaN</td>\n",
       "      <td>E</td>\n",
       "      <td>0.04</td>\n",
       "    </tr>\n",
       "    <tr>\n",
       "      <th>11516</th>\n",
       "      <td>Kenshuui Tendo Dokuta</td>\n",
       "      <td>DS</td>\n",
       "      <td>2004</td>\n",
       "      <td>Simulation</td>\n",
       "      <td>0.00</td>\n",
       "      <td>0.00</td>\n",
       "      <td>0.08</td>\n",
       "      <td>0.0</td>\n",
       "      <td>NaN</td>\n",
       "      <td>NaN</td>\n",
       "      <td>unknown</td>\n",
       "      <td>0.08</td>\n",
       "    </tr>\n",
       "    <tr>\n",
       "      <th>4420</th>\n",
       "      <td>The Urbz: Sims in the City (all regions sales)</td>\n",
       "      <td>DS</td>\n",
       "      <td>2004</td>\n",
       "      <td>Simulation</td>\n",
       "      <td>0.40</td>\n",
       "      <td>0.01</td>\n",
       "      <td>0.02</td>\n",
       "      <td>0.0</td>\n",
       "      <td>NaN</td>\n",
       "      <td>NaN</td>\n",
       "      <td>unknown</td>\n",
       "      <td>0.43</td>\n",
       "    </tr>\n",
       "    <tr>\n",
       "      <th>7901</th>\n",
       "      <td>Daigasso! Band Brothers</td>\n",
       "      <td>DS</td>\n",
       "      <td>2004</td>\n",
       "      <td>Misc</td>\n",
       "      <td>0.00</td>\n",
       "      <td>0.00</td>\n",
       "      <td>0.19</td>\n",
       "      <td>0.0</td>\n",
       "      <td>NaN</td>\n",
       "      <td>NaN</td>\n",
       "      <td>unknown</td>\n",
       "      <td>0.19</td>\n",
       "    </tr>\n",
       "  </tbody>\n",
       "</table>\n",
       "</div>"
      ],
      "text/plain": [
       "                                                 name platform  \\\n",
       "15955             Strongest Tokyo University Shogi DS       DS   \n",
       "13462                               Cocoto Kart Racer       DS   \n",
       "11516                           Kenshuui Tendo Dokuta       DS   \n",
       "4420   The Urbz: Sims in the City (all regions sales)       DS   \n",
       "7901                          Daigasso! Band Brothers       DS   \n",
       "\n",
       "       year_of_release       genre  na_sales  eu_sales  jp_sales  other_sales  \\\n",
       "15955             2004      Action      0.00      0.00      0.02          0.0   \n",
       "13462             2004      Racing      0.04      0.00      0.00          0.0   \n",
       "11516             2004  Simulation      0.00      0.00      0.08          0.0   \n",
       "4420              2004  Simulation      0.40      0.01      0.02          0.0   \n",
       "7901              2004        Misc      0.00      0.00      0.19          0.0   \n",
       "\n",
       "       critic_score  user_score   rating  total_sales  \n",
       "15955           NaN         NaN  unknown         0.02  \n",
       "13462           NaN         NaN        E         0.04  \n",
       "11516           NaN         NaN  unknown         0.08  \n",
       "4420            NaN         NaN  unknown         0.43  \n",
       "7901            NaN         NaN  unknown         0.19  "
      ]
     },
     "execution_count": 28,
     "metadata": {},
     "output_type": "execute_result"
    }
   ],
   "source": [
    "df.query('platform == \"DS\"').sort_values(by='year_of_release', ascending=True).head()"
   ]
  },
  {
   "cell_type": "markdown",
   "metadata": {},
   "source": [
    "While working with data, an error was found in one of the rows. DS platform was not around in 1985. Strongest Tokyo University Shogi DS was released in 2004, not 1985 - the value in year of release for this game was changed."
   ]
  },
  {
   "cell_type": "code",
   "execution_count": 29,
   "metadata": {},
   "outputs": [
    {
     "data": {
      "image/png": "[encoded data removed]",
      "text/plain": [
       "<Figure size 1080x576 with 1 Axes>"
      ]
     },
     "metadata": {
      "needs_background": "light"
     },
     "output_type": "display_data"
    }
   ],
   "source": [
    "# building a graph of top 10 highest sales platforms\n",
    "top_ten_platforms = sales['platform'].head(10)\n",
    "platform_sales = df.groupby(['platform','year_of_release'])['total_sales'].sum().reset_index().sort_values(by='year_of_release')\n",
    "top_ten = platform_sales.query('platform in @top_ten_platforms')\n",
    "plt.figure(figsize=(15,8))\n",
    "ax = sns.lineplot(data=top_ten, x=\"year_of_release\", y=\"total_sales\",hue=\"platform\", linewidth=2)\n",
    "plt.title('Top 10 platform sales throughout years')\n",
    "plt.xlabel('year')\n",
    "plt.ylabel('sales');"
   ]
  },
  {
   "cell_type": "markdown",
   "metadata": {},
   "source": [
    "From the graph of top 10 biggest selling platforms, we can observe that majority of these platforms have had a rampant, rapid growth in sales.\n",
    "\n",
    "In some cases, once a new platform appears on the market, the older ones start to decline, e.g., PS sales went down once PS2 appeared and its growth was very steep.\n",
    "\n",
    "X360 and PS3 appeared around the same time, both had speedy growth in sales and a similar decline.\n",
    "\n",
    "It seems that between 2010 - 2012 sales for several platforms (Wii, X360, PS3) were decreasing possibly due to rise and popularity in mobile games.\n",
    "\n",
    "PC as a platform for games has remained all these years with fewer ups and downs and noticeably less sales than the rest of the platforms. Sales in PC games had a slight rise around 2007 until 2012, that, perhaps, could be explained due to rise in video game streaming and games not being anymore as easily pirated as compared to earlier years."
   ]
  },
  {
   "cell_type": "code",
   "execution_count": 30,
   "metadata": {},
   "outputs": [
    {
     "data": {
      "text/html": [
       "<div>\n",
       "<style scoped>\n",
       "    .dataframe tbody tr th:only-of-type {\n",
       "        vertical-align: middle;\n",
       "    }\n",
       "\n",
       "    .dataframe tbody tr th {\n",
       "        vertical-align: top;\n",
       "    }\n",
       "\n",
       "    .dataframe thead th {\n",
       "        text-align: right;\n",
       "    }\n",
       "</style>\n",
       "<table border=\"1\" class=\"dataframe\">\n",
       "  <thead>\n",
       "    <tr style=\"text-align: right;\">\n",
       "      <th></th>\n",
       "      <th>platform</th>\n",
       "      <th>min</th>\n",
       "      <th>max</th>\n",
       "      <th>age</th>\n",
       "    </tr>\n",
       "  </thead>\n",
       "  <tbody>\n",
       "    <tr>\n",
       "      <th>8</th>\n",
       "      <td>PS2</td>\n",
       "      <td>2002</td>\n",
       "      <td>2011</td>\n",
       "      <td>10</td>\n",
       "    </tr>\n",
       "    <tr>\n",
       "      <th>1</th>\n",
       "      <td>DC</td>\n",
       "      <td>2002</td>\n",
       "      <td>2008</td>\n",
       "      <td>7</td>\n",
       "    </tr>\n",
       "    <tr>\n",
       "      <th>3</th>\n",
       "      <td>GBA</td>\n",
       "      <td>2002</td>\n",
       "      <td>2007</td>\n",
       "      <td>6</td>\n",
       "    </tr>\n",
       "    <tr>\n",
       "      <th>4</th>\n",
       "      <td>GC</td>\n",
       "      <td>2002</td>\n",
       "      <td>2007</td>\n",
       "      <td>6</td>\n",
       "    </tr>\n",
       "    <tr>\n",
       "      <th>5</th>\n",
       "      <td>N64</td>\n",
       "      <td>2002</td>\n",
       "      <td>2002</td>\n",
       "      <td>1</td>\n",
       "    </tr>\n",
       "    <tr>\n",
       "      <th>6</th>\n",
       "      <td>PC</td>\n",
       "      <td>2002</td>\n",
       "      <td>2016</td>\n",
       "      <td>15</td>\n",
       "    </tr>\n",
       "    <tr>\n",
       "      <th>7</th>\n",
       "      <td>PS</td>\n",
       "      <td>2002</td>\n",
       "      <td>2003</td>\n",
       "      <td>2</td>\n",
       "    </tr>\n",
       "    <tr>\n",
       "      <th>16</th>\n",
       "      <td>XB</td>\n",
       "      <td>2002</td>\n",
       "      <td>2008</td>\n",
       "      <td>7</td>\n",
       "    </tr>\n",
       "    <tr>\n",
       "      <th>2</th>\n",
       "      <td>DS</td>\n",
       "      <td>2004</td>\n",
       "      <td>2013</td>\n",
       "      <td>10</td>\n",
       "    </tr>\n",
       "    <tr>\n",
       "      <th>11</th>\n",
       "      <td>PSP</td>\n",
       "      <td>2004</td>\n",
       "      <td>2015</td>\n",
       "      <td>12</td>\n",
       "    </tr>\n",
       "    <tr>\n",
       "      <th>15</th>\n",
       "      <td>X360</td>\n",
       "      <td>2005</td>\n",
       "      <td>2016</td>\n",
       "      <td>12</td>\n",
       "    </tr>\n",
       "    <tr>\n",
       "      <th>9</th>\n",
       "      <td>PS3</td>\n",
       "      <td>2006</td>\n",
       "      <td>2016</td>\n",
       "      <td>11</td>\n",
       "    </tr>\n",
       "    <tr>\n",
       "      <th>13</th>\n",
       "      <td>Wii</td>\n",
       "      <td>2006</td>\n",
       "      <td>2016</td>\n",
       "      <td>11</td>\n",
       "    </tr>\n",
       "    <tr>\n",
       "      <th>0</th>\n",
       "      <td>3DS</td>\n",
       "      <td>2011</td>\n",
       "      <td>2016</td>\n",
       "      <td>6</td>\n",
       "    </tr>\n",
       "    <tr>\n",
       "      <th>12</th>\n",
       "      <td>PSV</td>\n",
       "      <td>2011</td>\n",
       "      <td>2016</td>\n",
       "      <td>6</td>\n",
       "    </tr>\n",
       "    <tr>\n",
       "      <th>14</th>\n",
       "      <td>WiiU</td>\n",
       "      <td>2012</td>\n",
       "      <td>2016</td>\n",
       "      <td>5</td>\n",
       "    </tr>\n",
       "    <tr>\n",
       "      <th>10</th>\n",
       "      <td>PS4</td>\n",
       "      <td>2013</td>\n",
       "      <td>2016</td>\n",
       "      <td>4</td>\n",
       "    </tr>\n",
       "    <tr>\n",
       "      <th>17</th>\n",
       "      <td>XOne</td>\n",
       "      <td>2013</td>\n",
       "      <td>2016</td>\n",
       "      <td>4</td>\n",
       "    </tr>\n",
       "  </tbody>\n",
       "</table>\n",
       "</div>"
      ],
      "text/plain": [
       "   platform   min   max  age\n",
       "8       PS2  2002  2011   10\n",
       "1        DC  2002  2008    7\n",
       "3       GBA  2002  2007    6\n",
       "4        GC  2002  2007    6\n",
       "5       N64  2002  2002    1\n",
       "6        PC  2002  2016   15\n",
       "7        PS  2002  2003    2\n",
       "16       XB  2002  2008    7\n",
       "2        DS  2004  2013   10\n",
       "11      PSP  2004  2015   12\n",
       "15     X360  2005  2016   12\n",
       "9       PS3  2006  2016   11\n",
       "13      Wii  2006  2016   11\n",
       "0       3DS  2011  2016    6\n",
       "12      PSV  2011  2016    6\n",
       "14     WiiU  2012  2016    5\n",
       "10      PS4  2013  2016    4\n",
       "17     XOne  2013  2016    4"
      ]
     },
     "execution_count": 30,
     "metadata": {},
     "output_type": "execute_result"
    }
   ],
   "source": [
    "# calculating platform age, taking into account platforms that were present or appeared after 2002,\n",
    "# disregarding earlier platforms\n",
    "after_2002 = df[df.year_of_release>=2002]\n",
    "after_2002 = after_2002.groupby(['platform'])['year_of_release'].agg(['min','max']).reset_index()\n",
    "after_2002['age'] = (after_2002['max'] - after_2002['min']) + 1\n",
    "after_2002.sort_values(by='min')"
   ]
  },
  {
   "cell_type": "code",
   "execution_count": 31,
   "metadata": {},
   "outputs": [
    {
     "data": {
      "text/plain": [
       "count    18.000000\n",
       "mean      7.500000\n",
       "std       3.807887\n",
       "min       1.000000\n",
       "25%       5.250000\n",
       "50%       6.500000\n",
       "75%      10.750000\n",
       "max      15.000000\n",
       "Name: age, dtype: float64"
      ]
     },
     "execution_count": 31,
     "metadata": {},
     "output_type": "execute_result"
    }
   ],
   "source": [
    "after_2002['age'].describe()"
   ]
  },
  {
   "cell_type": "code",
   "execution_count": 32,
   "metadata": {},
   "outputs": [
    {
     "data": {
      "image/png": "[encoded data removed]",
      "text/plain": [
       "<Figure size 1080x576 with 1 Axes>"
      ]
     },
     "metadata": {
      "needs_background": "light"
     },
     "output_type": "display_data"
    }
   ],
   "source": [
    "# building a graph of platforms that were released after 2002\n",
    "after_2002_sales = df[df.year_of_release>=2002]\n",
    "after_2002_sales = after_2002_sales.groupby(['platform','year_of_release'])['total_sales'].sum().reset_index().sort_values(by='year_of_release')\n",
    "\n",
    "plt.figure(figsize=(15,8))\n",
    "ax = sns.lineplot(data = after_2002_sales, x = \"year_of_release\", y=\"total_sales\",hue=\"platform\", linewidth=2)\n",
    "plt.title('Sales on different platforms from 2002 - 2016')\n",
    "plt.xlabel('year')\n",
    "plt.ylabel('sales');"
   ]
  },
  {
   "cell_type": "markdown",
   "metadata": {},
   "source": [
    "From 18 platforms (starting from 2002), we have 9 that are still present in 2016.\n",
    "\n",
    "Since late 2013, 2 new platforms appeared, PS4 and XOne. For both sales went up until approx. mid 2015.\n",
    "\n",
    "Median platform age is 7 years.\n",
    "\n",
    "Sales have not returned to be as high as they were once for PS2 or Wii. Closest to that were X360 and PS3, however, sales generally are lower for all of the platforms, compared to PS2 and Wii peaks, one of the reasons might be time spent on mobile device - either mobile gaming, social media etc."
   ]
  },
  {
   "cell_type": "code",
   "execution_count": 33,
   "metadata": {},
   "outputs": [
    {
     "data": {
      "text/html": [
       "<div>\n",
       "<style scoped>\n",
       "    .dataframe tbody tr th:only-of-type {\n",
       "        vertical-align: middle;\n",
       "    }\n",
       "\n",
       "    .dataframe tbody tr th {\n",
       "        vertical-align: top;\n",
       "    }\n",
       "\n",
       "    .dataframe thead th {\n",
       "        text-align: right;\n",
       "    }\n",
       "</style>\n",
       "<table border=\"1\" class=\"dataframe\">\n",
       "  <thead>\n",
       "    <tr style=\"text-align: right;\">\n",
       "      <th></th>\n",
       "      <th>name</th>\n",
       "      <th>platform</th>\n",
       "      <th>year_of_release</th>\n",
       "      <th>genre</th>\n",
       "      <th>na_sales</th>\n",
       "      <th>eu_sales</th>\n",
       "      <th>jp_sales</th>\n",
       "      <th>other_sales</th>\n",
       "      <th>critic_score</th>\n",
       "      <th>user_score</th>\n",
       "      <th>rating</th>\n",
       "      <th>total_sales</th>\n",
       "    </tr>\n",
       "  </thead>\n",
       "  <tbody>\n",
       "    <tr>\n",
       "      <th>16</th>\n",
       "      <td>Grand Theft Auto V</td>\n",
       "      <td>PS3</td>\n",
       "      <td>2013</td>\n",
       "      <td>Action</td>\n",
       "      <td>7.02</td>\n",
       "      <td>9.09</td>\n",
       "      <td>0.98</td>\n",
       "      <td>3.96</td>\n",
       "      <td>97.0</td>\n",
       "      <td>8.2</td>\n",
       "      <td>M</td>\n",
       "      <td>21.05</td>\n",
       "    </tr>\n",
       "    <tr>\n",
       "      <th>23</th>\n",
       "      <td>Grand Theft Auto V</td>\n",
       "      <td>X360</td>\n",
       "      <td>2013</td>\n",
       "      <td>Action</td>\n",
       "      <td>9.66</td>\n",
       "      <td>5.14</td>\n",
       "      <td>0.06</td>\n",
       "      <td>1.41</td>\n",
       "      <td>97.0</td>\n",
       "      <td>8.1</td>\n",
       "      <td>M</td>\n",
       "      <td>16.27</td>\n",
       "    </tr>\n",
       "    <tr>\n",
       "      <th>31</th>\n",
       "      <td>Call of Duty: Black Ops 3</td>\n",
       "      <td>PS4</td>\n",
       "      <td>2015</td>\n",
       "      <td>Shooter</td>\n",
       "      <td>6.03</td>\n",
       "      <td>5.86</td>\n",
       "      <td>0.36</td>\n",
       "      <td>2.38</td>\n",
       "      <td>NaN</td>\n",
       "      <td>NaN</td>\n",
       "      <td>unknown</td>\n",
       "      <td>14.63</td>\n",
       "    </tr>\n",
       "    <tr>\n",
       "      <th>33</th>\n",
       "      <td>Pokemon X/Pokemon Y</td>\n",
       "      <td>3DS</td>\n",
       "      <td>2013</td>\n",
       "      <td>Role-Playing</td>\n",
       "      <td>5.28</td>\n",
       "      <td>4.19</td>\n",
       "      <td>4.35</td>\n",
       "      <td>0.78</td>\n",
       "      <td>NaN</td>\n",
       "      <td>NaN</td>\n",
       "      <td>unknown</td>\n",
       "      <td>14.60</td>\n",
       "    </tr>\n",
       "    <tr>\n",
       "      <th>42</th>\n",
       "      <td>Grand Theft Auto V</td>\n",
       "      <td>PS4</td>\n",
       "      <td>2014</td>\n",
       "      <td>Action</td>\n",
       "      <td>3.96</td>\n",
       "      <td>6.31</td>\n",
       "      <td>0.38</td>\n",
       "      <td>1.97</td>\n",
       "      <td>97.0</td>\n",
       "      <td>8.3</td>\n",
       "      <td>M</td>\n",
       "      <td>12.62</td>\n",
       "    </tr>\n",
       "  </tbody>\n",
       "</table>\n",
       "</div>"
      ],
      "text/plain": [
       "                         name platform  year_of_release         genre  \\\n",
       "16         Grand Theft Auto V      PS3             2013        Action   \n",
       "23         Grand Theft Auto V     X360             2013        Action   \n",
       "31  Call of Duty: Black Ops 3      PS4             2015       Shooter   \n",
       "33        Pokemon X/Pokemon Y      3DS             2013  Role-Playing   \n",
       "42         Grand Theft Auto V      PS4             2014        Action   \n",
       "\n",
       "    na_sales  eu_sales  jp_sales  other_sales  critic_score  user_score  \\\n",
       "16      7.02      9.09      0.98         3.96          97.0         8.2   \n",
       "23      9.66      5.14      0.06         1.41          97.0         8.1   \n",
       "31      6.03      5.86      0.36         2.38           NaN         NaN   \n",
       "33      5.28      4.19      4.35         0.78           NaN         NaN   \n",
       "42      3.96      6.31      0.38         1.97          97.0         8.3   \n",
       "\n",
       "     rating  total_sales  \n",
       "16        M        21.05  \n",
       "23        M        16.27  \n",
       "31  unknown        14.63  \n",
       "33  unknown        14.60  \n",
       "42        M        12.62  "
      ]
     },
     "execution_count": 33,
     "metadata": {},
     "output_type": "execute_result"
    }
   ],
   "source": [
    "data = df[df.year_of_release>=2013]\n",
    "data.head()"
   ]
  },
  {
   "cell_type": "code",
   "execution_count": 34,
   "metadata": {},
   "outputs": [
    {
     "data": {
      "text/html": [
       "<div>\n",
       "<style scoped>\n",
       "    .dataframe tbody tr th:only-of-type {\n",
       "        vertical-align: middle;\n",
       "    }\n",
       "\n",
       "    .dataframe tbody tr th {\n",
       "        vertical-align: top;\n",
       "    }\n",
       "\n",
       "    .dataframe thead th {\n",
       "        text-align: right;\n",
       "    }\n",
       "</style>\n",
       "<table border=\"1\" class=\"dataframe\">\n",
       "  <thead>\n",
       "    <tr style=\"text-align: right;\">\n",
       "      <th></th>\n",
       "      <th>platform</th>\n",
       "      <th>name</th>\n",
       "      <th>total_sales</th>\n",
       "    </tr>\n",
       "  </thead>\n",
       "  <tbody>\n",
       "    <tr>\n",
       "      <th>0</th>\n",
       "      <td>3DS</td>\n",
       "      <td>Beyblade Burst</td>\n",
       "      <td>0.03</td>\n",
       "    </tr>\n",
       "    <tr>\n",
       "      <th>1</th>\n",
       "      <td>3DS</td>\n",
       "      <td>Fire Emblem Fates</td>\n",
       "      <td>1.67</td>\n",
       "    </tr>\n",
       "    <tr>\n",
       "      <th>2</th>\n",
       "      <td>3DS</td>\n",
       "      <td>Frozen: Olaf's Quest</td>\n",
       "      <td>0.59</td>\n",
       "    </tr>\n",
       "    <tr>\n",
       "      <th>3</th>\n",
       "      <td>3DS</td>\n",
       "      <td>Haikyu!! Cross Team Match!</td>\n",
       "      <td>0.04</td>\n",
       "    </tr>\n",
       "    <tr>\n",
       "      <th>4</th>\n",
       "      <td>3DS</td>\n",
       "      <td>12-Sai. Honto no Kimochi</td>\n",
       "      <td>0.07</td>\n",
       "    </tr>\n",
       "  </tbody>\n",
       "</table>\n",
       "</div>"
      ],
      "text/plain": [
       "  platform                         name  total_sales\n",
       "0      3DS               Beyblade Burst         0.03\n",
       "1      3DS            Fire Emblem Fates         1.67\n",
       "2      3DS         Frozen: Olaf's Quest         0.59\n",
       "3      3DS   Haikyu!! Cross Team Match!         0.04\n",
       "4      3DS     12-Sai. Honto no Kimochi         0.07"
      ]
     },
     "execution_count": 34,
     "metadata": {},
     "output_type": "execute_result"
    }
   ],
   "source": [
    "data_sales = data.groupby(['platform','name'])['total_sales'].sum().reset_index()\n",
    "order = data_sales.groupby(['platform'])['total_sales'].sum().reset_index().sort_values(by='total_sales')['platform']\n",
    "data_sales.head()"
   ]
  },
  {
   "cell_type": "code",
   "execution_count": 35,
   "metadata": {},
   "outputs": [
    {
     "data": {
      "image/png": "[encoded data removed]",
      "text/plain": [
       "<Figure size 1008x720 with 1 Axes>"
      ]
     },
     "metadata": {
      "needs_background": "light"
     },
     "output_type": "display_data"
    }
   ],
   "source": [
    "# building a boxplot for total sales of all games by different platforms\n",
    "plt.figure(figsize=(14,10))\n",
    "sns.boxplot(x = 'platform', y ='total_sales',data = data_sales, order = order, showfliers = False)\n",
    "plt.title('Total sales of all games on different platforms 2013 - 2016')\n",
    "plt.xlabel('platform')\n",
    "plt.ylabel('total sales');"
   ]
  },
  {
   "cell_type": "code",
   "execution_count": 36,
   "metadata": {},
   "outputs": [
    {
     "data": {
      "text/html": [
       "<div>\n",
       "<style scoped>\n",
       "    .dataframe tbody tr th:only-of-type {\n",
       "        vertical-align: middle;\n",
       "    }\n",
       "\n",
       "    .dataframe tbody tr th {\n",
       "        vertical-align: top;\n",
       "    }\n",
       "\n",
       "    .dataframe thead tr th {\n",
       "        text-align: left;\n",
       "    }\n",
       "\n",
       "    .dataframe thead tr:last-of-type th {\n",
       "        text-align: right;\n",
       "    }\n",
       "</style>\n",
       "<table border=\"1\" class=\"dataframe\">\n",
       "  <thead>\n",
       "    <tr>\n",
       "      <th></th>\n",
       "      <th colspan=\"8\" halign=\"left\">total_sales</th>\n",
       "    </tr>\n",
       "    <tr>\n",
       "      <th></th>\n",
       "      <th>count</th>\n",
       "      <th>mean</th>\n",
       "      <th>std</th>\n",
       "      <th>min</th>\n",
       "      <th>25%</th>\n",
       "      <th>50%</th>\n",
       "      <th>75%</th>\n",
       "      <th>max</th>\n",
       "    </tr>\n",
       "    <tr>\n",
       "      <th>platform</th>\n",
       "      <th></th>\n",
       "      <th></th>\n",
       "      <th></th>\n",
       "      <th></th>\n",
       "      <th></th>\n",
       "      <th></th>\n",
       "      <th></th>\n",
       "      <th></th>\n",
       "    </tr>\n",
       "  </thead>\n",
       "  <tbody>\n",
       "    <tr>\n",
       "      <th>3DS</th>\n",
       "      <td>303.0</td>\n",
       "      <td>0.472772</td>\n",
       "      <td>1.381347</td>\n",
       "      <td>0.01</td>\n",
       "      <td>0.0400</td>\n",
       "      <td>0.090</td>\n",
       "      <td>0.2800</td>\n",
       "      <td>14.60</td>\n",
       "    </tr>\n",
       "    <tr>\n",
       "      <th>DS</th>\n",
       "      <td>8.0</td>\n",
       "      <td>0.192500</td>\n",
       "      <td>0.172026</td>\n",
       "      <td>0.03</td>\n",
       "      <td>0.0675</td>\n",
       "      <td>0.150</td>\n",
       "      <td>0.2525</td>\n",
       "      <td>0.51</td>\n",
       "    </tr>\n",
       "    <tr>\n",
       "      <th>PC</th>\n",
       "      <td>189.0</td>\n",
       "      <td>0.208624</td>\n",
       "      <td>0.352304</td>\n",
       "      <td>0.01</td>\n",
       "      <td>0.0300</td>\n",
       "      <td>0.080</td>\n",
       "      <td>0.2300</td>\n",
       "      <td>3.05</td>\n",
       "    </tr>\n",
       "    <tr>\n",
       "      <th>PS3</th>\n",
       "      <td>345.0</td>\n",
       "      <td>0.525884</td>\n",
       "      <td>1.451939</td>\n",
       "      <td>0.01</td>\n",
       "      <td>0.0400</td>\n",
       "      <td>0.150</td>\n",
       "      <td>0.5100</td>\n",
       "      <td>21.05</td>\n",
       "    </tr>\n",
       "    <tr>\n",
       "      <th>PS4</th>\n",
       "      <td>392.0</td>\n",
       "      <td>0.801378</td>\n",
       "      <td>1.609456</td>\n",
       "      <td>0.01</td>\n",
       "      <td>0.0600</td>\n",
       "      <td>0.200</td>\n",
       "      <td>0.7300</td>\n",
       "      <td>14.63</td>\n",
       "    </tr>\n",
       "    <tr>\n",
       "      <th>PSP</th>\n",
       "      <td>67.0</td>\n",
       "      <td>0.052239</td>\n",
       "      <td>0.059768</td>\n",
       "      <td>0.01</td>\n",
       "      <td>0.0150</td>\n",
       "      <td>0.020</td>\n",
       "      <td>0.0700</td>\n",
       "      <td>0.24</td>\n",
       "    </tr>\n",
       "    <tr>\n",
       "      <th>PSV</th>\n",
       "      <td>358.0</td>\n",
       "      <td>0.092151</td>\n",
       "      <td>0.153816</td>\n",
       "      <td>0.01</td>\n",
       "      <td>0.0200</td>\n",
       "      <td>0.040</td>\n",
       "      <td>0.1100</td>\n",
       "      <td>1.96</td>\n",
       "    </tr>\n",
       "    <tr>\n",
       "      <th>Wii</th>\n",
       "      <td>23.0</td>\n",
       "      <td>0.593913</td>\n",
       "      <td>0.915432</td>\n",
       "      <td>0.01</td>\n",
       "      <td>0.0450</td>\n",
       "      <td>0.180</td>\n",
       "      <td>0.7550</td>\n",
       "      <td>3.58</td>\n",
       "    </tr>\n",
       "    <tr>\n",
       "      <th>WiiU</th>\n",
       "      <td>115.0</td>\n",
       "      <td>0.562000</td>\n",
       "      <td>1.038778</td>\n",
       "      <td>0.01</td>\n",
       "      <td>0.0600</td>\n",
       "      <td>0.200</td>\n",
       "      <td>0.5950</td>\n",
       "      <td>7.09</td>\n",
       "    </tr>\n",
       "    <tr>\n",
       "      <th>X360</th>\n",
       "      <td>186.0</td>\n",
       "      <td>0.735484</td>\n",
       "      <td>1.663275</td>\n",
       "      <td>0.01</td>\n",
       "      <td>0.0800</td>\n",
       "      <td>0.265</td>\n",
       "      <td>0.7950</td>\n",
       "      <td>16.27</td>\n",
       "    </tr>\n",
       "    <tr>\n",
       "      <th>XOne</th>\n",
       "      <td>247.0</td>\n",
       "      <td>0.645020</td>\n",
       "      <td>1.036139</td>\n",
       "      <td>0.01</td>\n",
       "      <td>0.0600</td>\n",
       "      <td>0.220</td>\n",
       "      <td>0.6850</td>\n",
       "      <td>7.39</td>\n",
       "    </tr>\n",
       "  </tbody>\n",
       "</table>\n",
       "</div>"
      ],
      "text/plain": [
       "         total_sales                                                        \n",
       "               count      mean       std   min     25%    50%     75%    max\n",
       "platform                                                                    \n",
       "3DS            303.0  0.472772  1.381347  0.01  0.0400  0.090  0.2800  14.60\n",
       "DS               8.0  0.192500  0.172026  0.03  0.0675  0.150  0.2525   0.51\n",
       "PC             189.0  0.208624  0.352304  0.01  0.0300  0.080  0.2300   3.05\n",
       "PS3            345.0  0.525884  1.451939  0.01  0.0400  0.150  0.5100  21.05\n",
       "PS4            392.0  0.801378  1.609456  0.01  0.0600  0.200  0.7300  14.63\n",
       "PSP             67.0  0.052239  0.059768  0.01  0.0150  0.020  0.0700   0.24\n",
       "PSV            358.0  0.092151  0.153816  0.01  0.0200  0.040  0.1100   1.96\n",
       "Wii             23.0  0.593913  0.915432  0.01  0.0450  0.180  0.7550   3.58\n",
       "WiiU           115.0  0.562000  1.038778  0.01  0.0600  0.200  0.5950   7.09\n",
       "X360           186.0  0.735484  1.663275  0.01  0.0800  0.265  0.7950  16.27\n",
       "XOne           247.0  0.645020  1.036139  0.01  0.0600  0.220  0.6850   7.39"
      ]
     },
     "execution_count": 36,
     "metadata": {},
     "output_type": "execute_result"
    }
   ],
   "source": [
    "# looking at distribution of total sales values on each platform\n",
    "data_sales.groupby(['platform']).describe()"
   ]
  },
  {
   "cell_type": "markdown",
   "metadata": {},
   "source": [
    "The platforms with the highest median total sales are X360, XOne, WiiU, PS4, and Wii, which suggests that these platforms have been more successful in terms of sales compared to others.\n",
    "\n",
    "On the other hand, the platforms with the lowest median total sales are PSP and 3DS, indicating that these platforms have not been as popular or successful in the period from 2013 - 2016.\n",
    "\n",
    "The ranking of platforms based on total sales is similar to the ranking based on median values. The platforms with the highest total sales are PS4, PS3, XOne, 3DS, and X360, while the platforms with the lowest sales are DS, PSP, and Wii.\n",
    "\n",
    "We can see that the more successful platforms tend to have higher median and mean values, as well as a wider range of sales values."
   ]
  },
  {
   "cell_type": "code",
   "execution_count": 37,
   "metadata": {},
   "outputs": [],
   "source": [
    "# creating a function that plots a scatterplot of platform's total sales by score \n",
    "# and calculates correlation between two sets of data - score and total sales\n",
    "\n",
    "def score_effect(platform, score_type):\n",
    "    platform_data = data[(data.platform == platform) & (data[score_type].notna())][['total_sales', score_type]]\n",
    "    platform_data.plot(x=score_type, y='total_sales', kind='scatter', grid=True, figsize=(8,8))\n",
    "    plt.title(f'{platform} total sales by {score_type.replace(\"_\", \" \")}')\n",
    "    plt.xlabel('score')\n",
    "    plt.ylabel('total sales')\n",
    "    correlation = platform_data[score_type].corr(platform_data['total_sales'])\n",
    "    if correlation > 0.5:\n",
    "        return f'{correlation}: there is a positive relationship between {score_type.replace(\"_\", \" \")} and {platform} total sales'\n",
    "    if correlation < -0.5:\n",
    "        return f'{correlation}: there is a negative relationship between {score_type.replace(\"_\", \" \")} and {platform} total sales'\n",
    "    else:\n",
    "        return f'{correlation}: there is no significant relationship between {score_type.replace(\"_\", \" \")} and {platform} total sales'\n",
    "    "
   ]
  },
  {
   "cell_type": "code",
   "execution_count": 38,
   "metadata": {},
   "outputs": [],
   "source": [
    "platforms = ['XOne','X360','PS4', 'WiiU']\n",
    "score_types = ['user_score','critic_score']\n",
    "#print(score_effect(platforms[0], score_types[0]))"
   ]
  },
  {
   "cell_type": "code",
   "execution_count": 39,
   "metadata": {
    "scrolled": false
   },
   "outputs": [
    {
     "name": "stdout",
     "output_type": "stream",
     "text": [
      "-0.06892505328279414: there is no significant relationship between user score and XOne total sales\n",
      "0.4169983280084017: there is no significant relationship between critic score and XOne total sales\n",
      "-0.011742185147181342: there is no significant relationship between user score and X360 total sales\n",
      "0.3503445460228664: there is no significant relationship between critic score and X360 total sales\n",
      "-0.031957110204556424: there is no significant relationship between user score and PS4 total sales\n",
      "0.40656790206178095: there is no significant relationship between critic score and PS4 total sales\n",
      "0.4193304819266187: there is no significant relationship between user score and WiiU total sales\n",
      "0.3764149065423912: there is no significant relationship between critic score and WiiU total sales\n"
     ]
    },
    {
     "data": {
      "image/png": "[encoded data removed]",
      "text/plain": [
       "<Figure size 576x576 with 1 Axes>"
      ]
     },
     "metadata": {
      "needs_background": "light"
     },
     "output_type": "display_data"
    },
    {
     "data": {
      "image/png": "[encoded data removed]",
      "text/plain": [
       "<Figure size 576x576 with 1 Axes>"
      ]
     },
     "metadata": {
      "needs_background": "light"
     },
     "output_type": "display_data"
    },
    {
     "data": {
      "image/png": "[encoded data removed]",
      "text/plain": [
       "<Figure size 576x576 with 1 Axes>"
      ]
     },
     "metadata": {
      "needs_background": "light"
     },
     "output_type": "display_data"
    },
    {
     "data": {
      "image/png": "[encoded data removed]",
      "text/plain": [
       "<Figure size 576x576 with 1 Axes>"
      ]
     },
     "metadata": {
      "needs_background": "light"
     },
     "output_type": "display_data"
    },
    {
     "data": {
      "image/png": "[encoded data removed]",
      "text/plain": [
       "<Figure size 576x576 with 1 Axes>"
      ]
     },
     "metadata": {
      "needs_background": "light"
     },
     "output_type": "display_data"
    },
    {
     "data": {
      "image/png": "[encoded data removed]",
      "text/plain": [
       "<Figure size 576x576 with 1 Axes>"
      ]
     },
     "metadata": {
      "needs_background": "light"
     },
     "output_type": "display_data"
    },
    {
     "data": {
      "image/png": "[encoded data removed]",
      "text/plain": [
       "<Figure size 576x576 with 1 Axes>"
      ]
     },
     "metadata": {
      "needs_background": "light"
     },
     "output_type": "display_data"
    },
    {
     "data": {
      "image/png": "[encoded data removed]",
      "text/plain": [
       "<Figure size 576x576 with 1 Axes>"
      ]
     },
     "metadata": {
      "needs_background": "light"
     },
     "output_type": "display_data"
    }
   ],
   "source": [
    "# writing a loop that will return a scatterplot for each platform and score type\n",
    "for i in platforms:\n",
    "    for x in score_types:\n",
    "        print(score_effect(i, x))"
   ]
  },
  {
   "cell_type": "markdown",
   "metadata": {},
   "source": [
    "It appears that both, user score and critic score, has no significant effect on total sales for the 4 most profitable platforms - XOne, X360, PS4 and Wiiu."
   ]
  },
  {
   "cell_type": "code",
   "execution_count": 40,
   "metadata": {},
   "outputs": [
    {
     "data": {
      "text/html": [
       "<div>\n",
       "<style scoped>\n",
       "    .dataframe tbody tr th:only-of-type {\n",
       "        vertical-align: middle;\n",
       "    }\n",
       "\n",
       "    .dataframe tbody tr th {\n",
       "        vertical-align: top;\n",
       "    }\n",
       "\n",
       "    .dataframe thead th {\n",
       "        text-align: right;\n",
       "    }\n",
       "</style>\n",
       "<table border=\"1\" class=\"dataframe\">\n",
       "  <thead>\n",
       "    <tr style=\"text-align: right;\">\n",
       "      <th></th>\n",
       "      <th>genre</th>\n",
       "      <th>total_sales</th>\n",
       "    </tr>\n",
       "  </thead>\n",
       "  <tbody>\n",
       "    <tr>\n",
       "      <th>0</th>\n",
       "      <td>Action</td>\n",
       "      <td>321.87</td>\n",
       "    </tr>\n",
       "    <tr>\n",
       "      <th>8</th>\n",
       "      <td>Shooter</td>\n",
       "      <td>232.98</td>\n",
       "    </tr>\n",
       "    <tr>\n",
       "      <th>10</th>\n",
       "      <td>Sports</td>\n",
       "      <td>150.65</td>\n",
       "    </tr>\n",
       "    <tr>\n",
       "      <th>7</th>\n",
       "      <td>Role-Playing</td>\n",
       "      <td>145.89</td>\n",
       "    </tr>\n",
       "    <tr>\n",
       "      <th>3</th>\n",
       "      <td>Misc</td>\n",
       "      <td>62.82</td>\n",
       "    </tr>\n",
       "    <tr>\n",
       "      <th>4</th>\n",
       "      <td>Platform</td>\n",
       "      <td>42.63</td>\n",
       "    </tr>\n",
       "    <tr>\n",
       "      <th>6</th>\n",
       "      <td>Racing</td>\n",
       "      <td>39.89</td>\n",
       "    </tr>\n",
       "    <tr>\n",
       "      <th>2</th>\n",
       "      <td>Fighting</td>\n",
       "      <td>35.31</td>\n",
       "    </tr>\n",
       "    <tr>\n",
       "      <th>1</th>\n",
       "      <td>Adventure</td>\n",
       "      <td>23.64</td>\n",
       "    </tr>\n",
       "    <tr>\n",
       "      <th>9</th>\n",
       "      <td>Simulation</td>\n",
       "      <td>21.76</td>\n",
       "    </tr>\n",
       "    <tr>\n",
       "      <th>11</th>\n",
       "      <td>Strategy</td>\n",
       "      <td>10.08</td>\n",
       "    </tr>\n",
       "    <tr>\n",
       "      <th>5</th>\n",
       "      <td>Puzzle</td>\n",
       "      <td>3.17</td>\n",
       "    </tr>\n",
       "  </tbody>\n",
       "</table>\n",
       "</div>"
      ],
      "text/plain": [
       "           genre  total_sales\n",
       "0         Action       321.87\n",
       "8        Shooter       232.98\n",
       "10        Sports       150.65\n",
       "7   Role-Playing       145.89\n",
       "3           Misc        62.82\n",
       "4       Platform        42.63\n",
       "6         Racing        39.89\n",
       "2       Fighting        35.31\n",
       "1      Adventure        23.64\n",
       "9     Simulation        21.76\n",
       "11      Strategy        10.08\n",
       "5         Puzzle         3.17"
      ]
     },
     "execution_count": 40,
     "metadata": {},
     "output_type": "execute_result"
    }
   ],
   "source": [
    "# looking at the most profitable genres\n",
    "data.groupby(['genre'])['total_sales'].sum().reset_index().sort_values(by='total_sales', ascending = False)"
   ]
  },
  {
   "cell_type": "code",
   "execution_count": 41,
   "metadata": {},
   "outputs": [
    {
     "data": {
      "text/html": [
       "<style  type=\"text/css\" >\n",
       "</style><table id=\"T_622a9_\" ><thead>    <tr>        <th class=\"blank level0\" ></th>        <th class=\"col_heading level0 col0\" >genre</th>        <th class=\"col_heading level0 col1\" >total_sales</th>    </tr></thead><tbody>\n",
       "                <tr>\n",
       "                        <th id=\"T_622a9_level0_row0\" class=\"row_heading level0 row0\" >0</th>\n",
       "                        <td id=\"T_622a9_row0_col0\" class=\"data row0 col0\" >Action</td>\n",
       "                        <td id=\"T_622a9_row0_col1\" class=\"data row0 col1\" >29.51%</td>\n",
       "            </tr>\n",
       "            <tr>\n",
       "                        <th id=\"T_622a9_level0_row1\" class=\"row_heading level0 row1\" >8</th>\n",
       "                        <td id=\"T_622a9_row1_col0\" class=\"data row1 col0\" >Shooter</td>\n",
       "                        <td id=\"T_622a9_row1_col1\" class=\"data row1 col1\" >21.36%</td>\n",
       "            </tr>\n",
       "            <tr>\n",
       "                        <th id=\"T_622a9_level0_row2\" class=\"row_heading level0 row2\" >10</th>\n",
       "                        <td id=\"T_622a9_row2_col0\" class=\"data row2 col0\" >Sports</td>\n",
       "                        <td id=\"T_622a9_row2_col1\" class=\"data row2 col1\" >13.81%</td>\n",
       "            </tr>\n",
       "            <tr>\n",
       "                        <th id=\"T_622a9_level0_row3\" class=\"row_heading level0 row3\" >7</th>\n",
       "                        <td id=\"T_622a9_row3_col0\" class=\"data row3 col0\" >Role-Playing</td>\n",
       "                        <td id=\"T_622a9_row3_col1\" class=\"data row3 col1\" >13.38%</td>\n",
       "            </tr>\n",
       "            <tr>\n",
       "                        <th id=\"T_622a9_level0_row4\" class=\"row_heading level0 row4\" >3</th>\n",
       "                        <td id=\"T_622a9_row4_col0\" class=\"data row4 col0\" >Misc</td>\n",
       "                        <td id=\"T_622a9_row4_col1\" class=\"data row4 col1\" >5.76%</td>\n",
       "            </tr>\n",
       "            <tr>\n",
       "                        <th id=\"T_622a9_level0_row5\" class=\"row_heading level0 row5\" >4</th>\n",
       "                        <td id=\"T_622a9_row5_col0\" class=\"data row5 col0\" >Platform</td>\n",
       "                        <td id=\"T_622a9_row5_col1\" class=\"data row5 col1\" >3.91%</td>\n",
       "            </tr>\n",
       "            <tr>\n",
       "                        <th id=\"T_622a9_level0_row6\" class=\"row_heading level0 row6\" >6</th>\n",
       "                        <td id=\"T_622a9_row6_col0\" class=\"data row6 col0\" >Racing</td>\n",
       "                        <td id=\"T_622a9_row6_col1\" class=\"data row6 col1\" >3.66%</td>\n",
       "            </tr>\n",
       "            <tr>\n",
       "                        <th id=\"T_622a9_level0_row7\" class=\"row_heading level0 row7\" >2</th>\n",
       "                        <td id=\"T_622a9_row7_col0\" class=\"data row7 col0\" >Fighting</td>\n",
       "                        <td id=\"T_622a9_row7_col1\" class=\"data row7 col1\" >3.24%</td>\n",
       "            </tr>\n",
       "            <tr>\n",
       "                        <th id=\"T_622a9_level0_row8\" class=\"row_heading level0 row8\" >1</th>\n",
       "                        <td id=\"T_622a9_row8_col0\" class=\"data row8 col0\" >Adventure</td>\n",
       "                        <td id=\"T_622a9_row8_col1\" class=\"data row8 col1\" >2.17%</td>\n",
       "            </tr>\n",
       "            <tr>\n",
       "                        <th id=\"T_622a9_level0_row9\" class=\"row_heading level0 row9\" >9</th>\n",
       "                        <td id=\"T_622a9_row9_col0\" class=\"data row9 col0\" >Simulation</td>\n",
       "                        <td id=\"T_622a9_row9_col1\" class=\"data row9 col1\" >2.00%</td>\n",
       "            </tr>\n",
       "            <tr>\n",
       "                        <th id=\"T_622a9_level0_row10\" class=\"row_heading level0 row10\" >11</th>\n",
       "                        <td id=\"T_622a9_row10_col0\" class=\"data row10 col0\" >Strategy</td>\n",
       "                        <td id=\"T_622a9_row10_col1\" class=\"data row10 col1\" >0.92%</td>\n",
       "            </tr>\n",
       "            <tr>\n",
       "                        <th id=\"T_622a9_level0_row11\" class=\"row_heading level0 row11\" >5</th>\n",
       "                        <td id=\"T_622a9_row11_col0\" class=\"data row11 col0\" >Puzzle</td>\n",
       "                        <td id=\"T_622a9_row11_col1\" class=\"data row11 col1\" >0.29%</td>\n",
       "            </tr>\n",
       "    </tbody></table>"
      ],
      "text/plain": [
       "<pandas.io.formats.style.Styler at 0x7f44538cdd90>"
      ]
     },
     "execution_count": 41,
     "metadata": {},
     "output_type": "execute_result"
    }
   ],
   "source": [
    "# looking at shares of total sales of each genre\n",
    "genres = (data.groupby(['genre'])['total_sales'].sum()/data['total_sales'].sum()).reset_index().sort_values(by='total_sales',ascending=False)\n",
    "genres.style.format({'total_sales': \"{:,.2%}\".format})"
   ]
  },
  {
   "cell_type": "markdown",
   "metadata": {},
   "source": [
    "It appears that worldwide most profitable genres are Action, Shooter, Sports and Role-Playing, while rest of the genres, especially, Puzzle, Strategy, Simulation and Adventure, had low sales."
   ]
  },
  {
   "cell_type": "markdown",
   "metadata": {},
   "source": [
    "## Analysis per region"
   ]
  },
  {
   "cell_type": "code",
   "execution_count": 42,
   "metadata": {},
   "outputs": [
    {
     "data": {
      "text/html": [
       "<style  type=\"text/css\" >\n",
       "</style><table id=\"T_04958_\" ><thead>    <tr>        <th class=\"blank level0\" ></th>        <th class=\"col_heading level0 col0\" >platform</th>        <th class=\"col_heading level0 col1\" >na_sales</th>    </tr></thead><tbody>\n",
       "                <tr>\n",
       "                        <th id=\"T_04958_level0_row0\" class=\"row_heading level0 row0\" >4</th>\n",
       "                        <td id=\"T_04958_row0_col0\" class=\"data row0 col0\" >PS4</td>\n",
       "                        <td id=\"T_04958_row0_col1\" class=\"data row0 col1\" >24.84%</td>\n",
       "            </tr>\n",
       "            <tr>\n",
       "                        <th id=\"T_04958_level0_row1\" class=\"row_heading level0 row1\" >10</th>\n",
       "                        <td id=\"T_04958_row1_col0\" class=\"data row1 col0\" >XOne</td>\n",
       "                        <td id=\"T_04958_row1_col1\" class=\"data row1 col1\" >21.27%</td>\n",
       "            </tr>\n",
       "            <tr>\n",
       "                        <th id=\"T_04958_level0_row2\" class=\"row_heading level0 row2\" >9</th>\n",
       "                        <td id=\"T_04958_row2_col0\" class=\"data row2 col0\" >X360</td>\n",
       "                        <td id=\"T_04958_row2_col1\" class=\"data row2 col1\" >18.66%</td>\n",
       "            </tr>\n",
       "            <tr>\n",
       "                        <th id=\"T_04958_level0_row3\" class=\"row_heading level0 row3\" >3</th>\n",
       "                        <td id=\"T_04958_row3_col0\" class=\"data row3 col0\" >PS3</td>\n",
       "                        <td id=\"T_04958_row3_col1\" class=\"data row3 col1\" >14.51%</td>\n",
       "            </tr>\n",
       "            <tr>\n",
       "                        <th id=\"T_04958_level0_row4\" class=\"row_heading level0 row4\" >0</th>\n",
       "                        <td id=\"T_04958_row4_col0\" class=\"data row4 col0\" >3DS</td>\n",
       "                        <td id=\"T_04958_row4_col1\" class=\"data row4 col1\" >8.73%</td>\n",
       "            </tr>\n",
       "    </tbody></table>"
      ],
      "text/plain": [
       "<pandas.io.formats.style.Styler at 0x7f4404a16ac0>"
      ]
     },
     "execution_count": 42,
     "metadata": {},
     "output_type": "execute_result"
    }
   ],
   "source": [
    "# looking at top 5 selling platforms in NA (in 2013 - 2016)\n",
    "na = (data.groupby(['platform'])['na_sales'].sum()/data['na_sales'].sum()).reset_index().sort_values(by='na_sales',ascending=False)\n",
    "na.head().style.format({'na_sales': \"{:,.2%}\".format})"
   ]
  },
  {
   "cell_type": "code",
   "execution_count": 43,
   "metadata": {},
   "outputs": [],
   "source": [
    "na_head = na.head()\n",
    "na_head.loc[len(na_head.index)] = {'platform': 'Others', 'na_sales': 1 - na_head['na_sales'].sum()}"
   ]
  },
  {
   "cell_type": "code",
   "execution_count": 44,
   "metadata": {},
   "outputs": [
    {
     "data": {
      "text/html": [
       "<style  type=\"text/css\" >\n",
       "</style><table id=\"T_654f6_\" ><thead>    <tr>        <th class=\"blank level0\" ></th>        <th class=\"col_heading level0 col0\" >platform</th>        <th class=\"col_heading level0 col1\" >eu_sales</th>    </tr></thead><tbody>\n",
       "                <tr>\n",
       "                        <th id=\"T_654f6_level0_row0\" class=\"row_heading level0 row0\" >4</th>\n",
       "                        <td id=\"T_654f6_row0_col0\" class=\"data row0 col0\" >PS4</td>\n",
       "                        <td id=\"T_654f6_row0_col1\" class=\"data row0 col1\" >35.97%</td>\n",
       "            </tr>\n",
       "            <tr>\n",
       "                        <th id=\"T_654f6_level0_row1\" class=\"row_heading level0 row1\" >3</th>\n",
       "                        <td id=\"T_654f6_row1_col0\" class=\"data row1 col0\" >PS3</td>\n",
       "                        <td id=\"T_654f6_row1_col1\" class=\"data row1 col1\" >17.29%</td>\n",
       "            </tr>\n",
       "            <tr>\n",
       "                        <th id=\"T_654f6_level0_row2\" class=\"row_heading level0 row2\" >10</th>\n",
       "                        <td id=\"T_654f6_row2_col0\" class=\"data row2 col0\" >XOne</td>\n",
       "                        <td id=\"T_654f6_row2_col1\" class=\"data row2 col1\" >13.15%</td>\n",
       "            </tr>\n",
       "            <tr>\n",
       "                        <th id=\"T_654f6_level0_row3\" class=\"row_heading level0 row3\" >9</th>\n",
       "                        <td id=\"T_654f6_row3_col0\" class=\"data row3 col0\" >X360</td>\n",
       "                        <td id=\"T_654f6_row3_col1\" class=\"data row3 col1\" >10.84%</td>\n",
       "            </tr>\n",
       "            <tr>\n",
       "                        <th id=\"T_654f6_level0_row4\" class=\"row_heading level0 row4\" >0</th>\n",
       "                        <td id=\"T_654f6_row4_col0\" class=\"data row4 col0\" >3DS</td>\n",
       "                        <td id=\"T_654f6_row4_col1\" class=\"data row4 col1\" >7.89%</td>\n",
       "            </tr>\n",
       "    </tbody></table>"
      ],
      "text/plain": [
       "<pandas.io.formats.style.Styler at 0x7f445034c460>"
      ]
     },
     "execution_count": 44,
     "metadata": {},
     "output_type": "execute_result"
    }
   ],
   "source": [
    "# looking at top 5 selling platforms in EU\n",
    "eu = (data.groupby(['platform'])['eu_sales'].sum()/data['eu_sales'].sum()).reset_index().sort_values(by='eu_sales',ascending=False)\n",
    "eu.head().style.format({'eu_sales': \"{:,.2%}\".format})"
   ]
  },
  {
   "cell_type": "code",
   "execution_count": 45,
   "metadata": {},
   "outputs": [],
   "source": [
    "eu_head = eu.head()\n",
    "eu_head.loc[len(eu_head.index)] = {'platform': 'Others', 'eu_sales': 1 - eu_head['eu_sales'].sum()}"
   ]
  },
  {
   "cell_type": "code",
   "execution_count": 46,
   "metadata": {},
   "outputs": [
    {
     "data": {
      "text/html": [
       "<style  type=\"text/css\" >\n",
       "</style><table id=\"T_53acd_\" ><thead>    <tr>        <th class=\"blank level0\" ></th>        <th class=\"col_heading level0 col0\" >platform</th>        <th class=\"col_heading level0 col1\" >jp_sales</th>    </tr></thead><tbody>\n",
       "                <tr>\n",
       "                        <th id=\"T_53acd_level0_row0\" class=\"row_heading level0 row0\" >0</th>\n",
       "                        <td id=\"T_53acd_row0_col0\" class=\"data row0 col0\" >3DS</td>\n",
       "                        <td id=\"T_53acd_row0_col1\" class=\"data row0 col1\" >48.17%</td>\n",
       "            </tr>\n",
       "            <tr>\n",
       "                        <th id=\"T_53acd_level0_row1\" class=\"row_heading level0 row1\" >3</th>\n",
       "                        <td id=\"T_53acd_row1_col0\" class=\"data row1 col0\" >PS3</td>\n",
       "                        <td id=\"T_53acd_row1_col1\" class=\"data row1 col1\" >16.59%</td>\n",
       "            </tr>\n",
       "            <tr>\n",
       "                        <th id=\"T_53acd_level0_row2\" class=\"row_heading level0 row2\" >6</th>\n",
       "                        <td id=\"T_53acd_row2_col0\" class=\"data row2 col0\" >PSV</td>\n",
       "                        <td id=\"T_53acd_row2_col1\" class=\"data row2 col1\" >13.21%</td>\n",
       "            </tr>\n",
       "            <tr>\n",
       "                        <th id=\"T_53acd_level0_row3\" class=\"row_heading level0 row3\" >4</th>\n",
       "                        <td id=\"T_53acd_row3_col0\" class=\"data row3 col0\" >PS4</td>\n",
       "                        <td id=\"T_53acd_row3_col1\" class=\"data row3 col1\" >11.34%</td>\n",
       "            </tr>\n",
       "            <tr>\n",
       "                        <th id=\"T_53acd_level0_row4\" class=\"row_heading level0 row4\" >8</th>\n",
       "                        <td id=\"T_53acd_row4_col0\" class=\"data row4 col0\" >WiiU</td>\n",
       "                        <td id=\"T_53acd_row4_col1\" class=\"data row4 col1\" >7.73%</td>\n",
       "            </tr>\n",
       "    </tbody></table>"
      ],
      "text/plain": [
       "<pandas.io.formats.style.Styler at 0x7f445034c6a0>"
      ]
     },
     "execution_count": 46,
     "metadata": {},
     "output_type": "execute_result"
    }
   ],
   "source": [
    "# looking at top 5 selling platforms in JP\n",
    "jp = (data.groupby(['platform'])['jp_sales'].sum()/data['jp_sales'].sum()).reset_index().sort_values(by='jp_sales',ascending=False)\n",
    "jp.head().style.format({'jp_sales': \"{:,.2%}\".format})"
   ]
  },
  {
   "cell_type": "code",
   "execution_count": 47,
   "metadata": {},
   "outputs": [],
   "source": [
    "jp_head = jp.head()\n",
    "jp_head.loc[len(jp_head.index)] = {'platform': 'Others', 'jp_sales': 1 - jp_head['jp_sales'].sum()}"
   ]
  },
  {
   "cell_type": "code",
   "execution_count": 48,
   "metadata": {},
   "outputs": [
    {
     "data": {
      "image/png": "[encoded data removed]",
      "text/plain": [
       "<Figure size 1008x1008 with 3 Axes>"
      ]
     },
     "metadata": {},
     "output_type": "display_data"
    }
   ],
   "source": [
    "# building a grouped pie chart of top 5 platforms in each region\n",
    "fig, axs = plt.subplots(1, 3, figsize=(14,14))\n",
    "colors = sns.color_palette('pastel')[0:6]\n",
    "\n",
    "axs[0].pie(na_head['na_sales'], labels = na_head['platform'], autopct='%.0f%%', colors=colors)\n",
    "axs[0].set_title('Top 5 selling platforms in NA')\n",
    "\n",
    "axs[1].pie(eu_head['eu_sales'], labels = eu_head['platform'], autopct='%.0f%%', colors=colors)\n",
    "axs[1].set_title('Top 5 selling platforms in EU')\n",
    "\n",
    "axs[2].pie(jp_head['jp_sales'], labels = jp_head['platform'], autopct='%.0f%%', colors=colors)\n",
    "axs[2].set_title('Top 5 selling platforms in JP');"
   ]
  },
  {
   "cell_type": "markdown",
   "metadata": {},
   "source": [
    "Most sales between 2013 - 2016 in North America have come from PS4 games.  \n",
    "In the EU the same 5 platforms have been leading as in North America.  \n",
    "It seems Japan has different preferences when it comes to gaming, their most loved platform is 3DS, which makes nearly half of Japan's total sales from 2013 - 2016. In addition, PSV and WiiU has made into Japan's top 5, unlike in North America or Europe."
   ]
  },
  {
   "cell_type": "code",
   "execution_count": 49,
   "metadata": {},
   "outputs": [
    {
     "data": {
      "text/html": [
       "<div>\n",
       "<style scoped>\n",
       "    .dataframe tbody tr th:only-of-type {\n",
       "        vertical-align: middle;\n",
       "    }\n",
       "\n",
       "    .dataframe tbody tr th {\n",
       "        vertical-align: top;\n",
       "    }\n",
       "\n",
       "    .dataframe thead th {\n",
       "        text-align: right;\n",
       "    }\n",
       "</style>\n",
       "<table border=\"1\" class=\"dataframe\">\n",
       "  <thead>\n",
       "    <tr style=\"text-align: right;\">\n",
       "      <th></th>\n",
       "      <th>genre</th>\n",
       "      <th>na_sales</th>\n",
       "    </tr>\n",
       "  </thead>\n",
       "  <tbody>\n",
       "    <tr>\n",
       "      <th>0</th>\n",
       "      <td>Action</td>\n",
       "      <td>126.05</td>\n",
       "    </tr>\n",
       "    <tr>\n",
       "      <th>8</th>\n",
       "      <td>Shooter</td>\n",
       "      <td>109.74</td>\n",
       "    </tr>\n",
       "    <tr>\n",
       "      <th>10</th>\n",
       "      <td>Sports</td>\n",
       "      <td>65.27</td>\n",
       "    </tr>\n",
       "    <tr>\n",
       "      <th>7</th>\n",
       "      <td>Role-Playing</td>\n",
       "      <td>46.40</td>\n",
       "    </tr>\n",
       "    <tr>\n",
       "      <th>3</th>\n",
       "      <td>Misc</td>\n",
       "      <td>27.49</td>\n",
       "    </tr>\n",
       "  </tbody>\n",
       "</table>\n",
       "</div>"
      ],
      "text/plain": [
       "           genre  na_sales\n",
       "0         Action    126.05\n",
       "8        Shooter    109.74\n",
       "10        Sports     65.27\n",
       "7   Role-Playing     46.40\n",
       "3           Misc     27.49"
      ]
     },
     "execution_count": 49,
     "metadata": {},
     "output_type": "execute_result"
    }
   ],
   "source": [
    "# looking at genres that have made most sales in NA\n",
    "na_genres = data.groupby(['genre'])['na_sales'].sum().reset_index().sort_values(by='na_sales', ascending=False)\n",
    "na_genres.head()"
   ]
  },
  {
   "cell_type": "code",
   "execution_count": 50,
   "metadata": {},
   "outputs": [],
   "source": [
    "# adding a row that includes the rest of genres for the pie chart\n",
    "na_genres_head = na_genres.head()\n",
    "na_genres_head.loc[len(na_genres_head.index)] = {'genre': 'Others', 'na_sales': na_genres['na_sales'].sum() - na_genres_head['na_sales'].sum()}"
   ]
  },
  {
   "cell_type": "code",
   "execution_count": 51,
   "metadata": {},
   "outputs": [
    {
     "data": {
      "text/html": [
       "<div>\n",
       "<style scoped>\n",
       "    .dataframe tbody tr th:only-of-type {\n",
       "        vertical-align: middle;\n",
       "    }\n",
       "\n",
       "    .dataframe tbody tr th {\n",
       "        vertical-align: top;\n",
       "    }\n",
       "\n",
       "    .dataframe thead th {\n",
       "        text-align: right;\n",
       "    }\n",
       "</style>\n",
       "<table border=\"1\" class=\"dataframe\">\n",
       "  <thead>\n",
       "    <tr style=\"text-align: right;\">\n",
       "      <th></th>\n",
       "      <th>genre</th>\n",
       "      <th>eu_sales</th>\n",
       "    </tr>\n",
       "  </thead>\n",
       "  <tbody>\n",
       "    <tr>\n",
       "      <th>0</th>\n",
       "      <td>Action</td>\n",
       "      <td>118.13</td>\n",
       "    </tr>\n",
       "    <tr>\n",
       "      <th>8</th>\n",
       "      <td>Shooter</td>\n",
       "      <td>87.86</td>\n",
       "    </tr>\n",
       "    <tr>\n",
       "      <th>10</th>\n",
       "      <td>Sports</td>\n",
       "      <td>60.52</td>\n",
       "    </tr>\n",
       "    <tr>\n",
       "      <th>7</th>\n",
       "      <td>Role-Playing</td>\n",
       "      <td>36.97</td>\n",
       "    </tr>\n",
       "    <tr>\n",
       "      <th>6</th>\n",
       "      <td>Racing</td>\n",
       "      <td>20.19</td>\n",
       "    </tr>\n",
       "  </tbody>\n",
       "</table>\n",
       "</div>"
      ],
      "text/plain": [
       "           genre  eu_sales\n",
       "0         Action    118.13\n",
       "8        Shooter     87.86\n",
       "10        Sports     60.52\n",
       "7   Role-Playing     36.97\n",
       "6         Racing     20.19"
      ]
     },
     "execution_count": 51,
     "metadata": {},
     "output_type": "execute_result"
    }
   ],
   "source": [
    "# looking at genres that have made most sales in EU\n",
    "eu_genres = data.groupby(['genre'])['eu_sales'].sum().reset_index().sort_values(by='eu_sales', ascending=False)\n",
    "eu_genres.head()"
   ]
  },
  {
   "cell_type": "code",
   "execution_count": 52,
   "metadata": {},
   "outputs": [],
   "source": [
    "# adding a row that includes the rest of genres for the pie chart\n",
    "eu_genres_head = eu_genres.head()\n",
    "eu_genres_head.loc[len(eu_genres_head.index)] = {'genre': 'Others', 'eu_sales': eu_genres['eu_sales'].sum() - eu_genres_head['eu_sales'].sum()}"
   ]
  },
  {
   "cell_type": "code",
   "execution_count": 53,
   "metadata": {},
   "outputs": [
    {
     "data": {
      "text/html": [
       "<div>\n",
       "<style scoped>\n",
       "    .dataframe tbody tr th:only-of-type {\n",
       "        vertical-align: middle;\n",
       "    }\n",
       "\n",
       "    .dataframe tbody tr th {\n",
       "        vertical-align: top;\n",
       "    }\n",
       "\n",
       "    .dataframe thead th {\n",
       "        text-align: right;\n",
       "    }\n",
       "</style>\n",
       "<table border=\"1\" class=\"dataframe\">\n",
       "  <thead>\n",
       "    <tr style=\"text-align: right;\">\n",
       "      <th></th>\n",
       "      <th>genre</th>\n",
       "      <th>jp_sales</th>\n",
       "    </tr>\n",
       "  </thead>\n",
       "  <tbody>\n",
       "    <tr>\n",
       "      <th>7</th>\n",
       "      <td>Role-Playing</td>\n",
       "      <td>51.04</td>\n",
       "    </tr>\n",
       "    <tr>\n",
       "      <th>0</th>\n",
       "      <td>Action</td>\n",
       "      <td>40.49</td>\n",
       "    </tr>\n",
       "    <tr>\n",
       "      <th>3</th>\n",
       "      <td>Misc</td>\n",
       "      <td>9.20</td>\n",
       "    </tr>\n",
       "    <tr>\n",
       "      <th>2</th>\n",
       "      <td>Fighting</td>\n",
       "      <td>7.65</td>\n",
       "    </tr>\n",
       "    <tr>\n",
       "      <th>8</th>\n",
       "      <td>Shooter</td>\n",
       "      <td>6.61</td>\n",
       "    </tr>\n",
       "  </tbody>\n",
       "</table>\n",
       "</div>"
      ],
      "text/plain": [
       "          genre  jp_sales\n",
       "7  Role-Playing     51.04\n",
       "0        Action     40.49\n",
       "3          Misc      9.20\n",
       "2      Fighting      7.65\n",
       "8       Shooter      6.61"
      ]
     },
     "execution_count": 53,
     "metadata": {},
     "output_type": "execute_result"
    }
   ],
   "source": [
    "# looking at genres that have made most sales in JP\n",
    "jp_genres = data.groupby(['genre'])['jp_sales'].sum().reset_index().sort_values(by='jp_sales', ascending=False)\n",
    "jp_genres.head()"
   ]
  },
  {
   "cell_type": "code",
   "execution_count": 54,
   "metadata": {},
   "outputs": [],
   "source": [
    "# adding a row that includes the rest of genres for the pie chart\n",
    "jp_genres_head = jp_genres.head()\n",
    "jp_genres_head.loc[len(jp_genres_head.index)] = {'genre': 'Others', 'jp_sales': jp_genres['jp_sales'].sum() - jp_genres_head['jp_sales'].sum()}"
   ]
  },
  {
   "cell_type": "code",
   "execution_count": 55,
   "metadata": {},
   "outputs": [
    {
     "data": {
      "image/png": "[encoded data removed]",
      "text/plain": [
       "<Figure size 1008x1008 with 3 Axes>"
      ]
     },
     "metadata": {},
     "output_type": "display_data"
    }
   ],
   "source": [
    "# building a grouped pie chart of top 5 genres in each region\n",
    "fig, axs = plt.subplots(1, 3, figsize=(14,14))\n",
    "colors = sns.color_palette('pastel')[0:6]\n",
    "\n",
    "axs[0].pie(na_genres_head['na_sales'], labels = na_genres_head['genre'], autopct='%.0f%%', colors=colors)\n",
    "axs[0].set_title('Top 5 selling genres in NA')\n",
    "\n",
    "axs[1].pie(eu_genres_head['eu_sales'], labels = eu_genres_head['genre'], autopct='%.0f%%', colors=colors)\n",
    "axs[1].set_title('Top 5 selling genres in EU')\n",
    "\n",
    "axs[2].pie(jp_genres_head['jp_sales'], labels = jp_genres_head['genre'], autopct='%.0f%%', colors=colors)\n",
    "axs[2].set_title('Top 5 selling genres in JP');\n"
   ]
  },
  {
   "cell_type": "markdown",
   "metadata": {},
   "source": [
    "The top 4 most common game genres (in 2013 - 2016) in North America and EU are the same - Action, Shooter, Sports and Role-Playing, however in NA Miscellanious games take the 5th place and in EU it's Racing games.  \n",
    "When it comes to Japan, the most popular genres are Role-Playing, Action, Miscellanious, Fighting and Shooter."
   ]
  },
  {
   "cell_type": "code",
   "execution_count": 56,
   "metadata": {},
   "outputs": [
    {
     "data": {
      "text/html": [
       "<style  type=\"text/css\" >\n",
       "</style><table id=\"T_95405_\" ><thead>    <tr>        <th class=\"blank level0\" ></th>        <th class=\"col_heading level0 col0\" >rating</th>        <th class=\"col_heading level0 col1\" >na_sales</th>        <th class=\"col_heading level0 col2\" >ratio</th>    </tr></thead><tbody>\n",
       "                <tr>\n",
       "                        <th id=\"T_95405_level0_row0\" class=\"row_heading level0 row0\" >2</th>\n",
       "                        <td id=\"T_95405_row0_col0\" class=\"data row0 col0\" >M</td>\n",
       "                        <td id=\"T_95405_row0_col1\" class=\"data row0 col1\" >175.100000</td>\n",
       "                        <td id=\"T_95405_row0_col2\" class=\"data row0 col2\" >40.00%</td>\n",
       "            </tr>\n",
       "            <tr>\n",
       "                        <th id=\"T_95405_level0_row1\" class=\"row_heading level0 row1\" >0</th>\n",
       "                        <td id=\"T_95405_row1_col0\" class=\"data row1 col0\" >E</td>\n",
       "                        <td id=\"T_95405_row1_col1\" class=\"data row1 col1\" >81.660000</td>\n",
       "                        <td id=\"T_95405_row1_col2\" class=\"data row1 col2\" >18.66%</td>\n",
       "            </tr>\n",
       "            <tr>\n",
       "                        <th id=\"T_95405_level0_row2\" class=\"row_heading level0 row2\" >4</th>\n",
       "                        <td id=\"T_95405_row2_col0\" class=\"data row2 col0\" >unknown</td>\n",
       "                        <td id=\"T_95405_row2_col1\" class=\"data row2 col1\" >72.540000</td>\n",
       "                        <td id=\"T_95405_row2_col2\" class=\"data row2 col2\" >16.57%</td>\n",
       "            </tr>\n",
       "            <tr>\n",
       "                        <th id=\"T_95405_level0_row3\" class=\"row_heading level0 row3\" >1</th>\n",
       "                        <td id=\"T_95405_row3_col0\" class=\"data row3 col0\" >E10+</td>\n",
       "                        <td id=\"T_95405_row3_col1\" class=\"data row3 col1\" >56.430000</td>\n",
       "                        <td id=\"T_95405_row3_col2\" class=\"data row3 col2\" >12.89%</td>\n",
       "            </tr>\n",
       "            <tr>\n",
       "                        <th id=\"T_95405_level0_row4\" class=\"row_heading level0 row4\" >3</th>\n",
       "                        <td id=\"T_95405_row4_col0\" class=\"data row4 col0\" >T</td>\n",
       "                        <td id=\"T_95405_row4_col1\" class=\"data row4 col1\" >51.980000</td>\n",
       "                        <td id=\"T_95405_row4_col2\" class=\"data row4 col2\" >11.88%</td>\n",
       "            </tr>\n",
       "    </tbody></table>"
      ],
      "text/plain": [
       "<pandas.io.formats.style.Styler at 0x7f44038c3370>"
      ]
     },
     "execution_count": 56,
     "metadata": {},
     "output_type": "execute_result"
    }
   ],
   "source": [
    "# looking at sales in NA based on ESRB ratings\n",
    "na_rating = data.groupby(['rating'])['na_sales'].sum().reset_index().sort_values(by='na_sales', ascending=False)\n",
    "na_ratio = (data.groupby(['rating'])['na_sales'].sum()/data['na_sales'].sum()).reset_index().sort_values(by='na_sales',ascending=False)\n",
    "na_rating['ratio'] = na_ratio['na_sales']\n",
    "na_rating.style.format({'ratio': \"{:,.2%}\".format})"
   ]
  },
  {
   "cell_type": "code",
   "execution_count": 57,
   "metadata": {},
   "outputs": [
    {
     "data": {
      "text/html": [
       "<style  type=\"text/css\" >\n",
       "</style><table id=\"T_46c7f_\" ><thead>    <tr>        <th class=\"blank level0\" ></th>        <th class=\"col_heading level0 col0\" >rating</th>        <th class=\"col_heading level0 col1\" >eu_sales</th>        <th class=\"col_heading level0 col2\" >ratio</th>    </tr></thead><tbody>\n",
       "                <tr>\n",
       "                        <th id=\"T_46c7f_level0_row0\" class=\"row_heading level0 row0\" >2</th>\n",
       "                        <td id=\"T_46c7f_row0_col0\" class=\"data row0 col0\" >M</td>\n",
       "                        <td id=\"T_46c7f_row0_col1\" class=\"data row0 col1\" >156.670000</td>\n",
       "                        <td id=\"T_46c7f_row0_col2\" class=\"data row0 col2\" >39.94%</td>\n",
       "            </tr>\n",
       "            <tr>\n",
       "                        <th id=\"T_46c7f_level0_row1\" class=\"row_heading level0 row1\" >0</th>\n",
       "                        <td id=\"T_46c7f_row1_col0\" class=\"data row1 col0\" >E</td>\n",
       "                        <td id=\"T_46c7f_row1_col1\" class=\"data row1 col1\" >85.440000</td>\n",
       "                        <td id=\"T_46c7f_row1_col2\" class=\"data row1 col2\" >21.78%</td>\n",
       "            </tr>\n",
       "            <tr>\n",
       "                        <th id=\"T_46c7f_level0_row2\" class=\"row_heading level0 row2\" >4</th>\n",
       "                        <td id=\"T_46c7f_row2_col0\" class=\"data row2 col0\" >unknown</td>\n",
       "                        <td id=\"T_46c7f_row2_col1\" class=\"data row2 col1\" >61.190000</td>\n",
       "                        <td id=\"T_46c7f_row2_col2\" class=\"data row2 col2\" >15.60%</td>\n",
       "            </tr>\n",
       "            <tr>\n",
       "                        <th id=\"T_46c7f_level0_row3\" class=\"row_heading level0 row3\" >1</th>\n",
       "                        <td id=\"T_46c7f_row3_col0\" class=\"data row3 col0\" >E10+</td>\n",
       "                        <td id=\"T_46c7f_row3_col1\" class=\"data row3 col1\" >45.250000</td>\n",
       "                        <td id=\"T_46c7f_row3_col2\" class=\"data row3 col2\" >11.54%</td>\n",
       "            </tr>\n",
       "            <tr>\n",
       "                        <th id=\"T_46c7f_level0_row4\" class=\"row_heading level0 row4\" >3</th>\n",
       "                        <td id=\"T_46c7f_row4_col0\" class=\"data row4 col0\" >T</td>\n",
       "                        <td id=\"T_46c7f_row4_col1\" class=\"data row4 col1\" >43.680000</td>\n",
       "                        <td id=\"T_46c7f_row4_col2\" class=\"data row4 col2\" >11.14%</td>\n",
       "            </tr>\n",
       "    </tbody></table>"
      ],
      "text/plain": [
       "<pandas.io.formats.style.Styler at 0x7f4403928550>"
      ]
     },
     "execution_count": 57,
     "metadata": {},
     "output_type": "execute_result"
    }
   ],
   "source": [
    "# looking at sales in EU based on ESRB ratings\n",
    "eu_rating = data.groupby(['rating'])['eu_sales'].sum().reset_index().sort_values(by='eu_sales', ascending=False)\n",
    "eu_ratio = (data.groupby(['rating'])['eu_sales'].sum()/data['eu_sales'].sum()).reset_index().sort_values(by='eu_sales',ascending=False)\n",
    "eu_rating['ratio'] = eu_ratio['eu_sales']\n",
    "eu_rating.style.format({'ratio': \"{:,.2%}\".format})"
   ]
  },
  {
   "cell_type": "code",
   "execution_count": 58,
   "metadata": {},
   "outputs": [
    {
     "data": {
      "text/html": [
       "<style  type=\"text/css\" >\n",
       "</style><table id=\"T_e0820_\" ><thead>    <tr>        <th class=\"blank level0\" ></th>        <th class=\"col_heading level0 col0\" >rating</th>        <th class=\"col_heading level0 col1\" >jp_sales</th>        <th class=\"col_heading level0 col2\" >ratio</th>    </tr></thead><tbody>\n",
       "                <tr>\n",
       "                        <th id=\"T_e0820_level0_row0\" class=\"row_heading level0 row0\" >4</th>\n",
       "                        <td id=\"T_e0820_row0_col0\" class=\"data row0 col0\" >unknown</td>\n",
       "                        <td id=\"T_e0820_row0_col1\" class=\"data row0 col1\" >80.820000</td>\n",
       "                        <td id=\"T_e0820_row0_col2\" class=\"data row0 col2\" >57.41%</td>\n",
       "            </tr>\n",
       "            <tr>\n",
       "                        <th id=\"T_e0820_level0_row1\" class=\"row_heading level0 row1\" >3</th>\n",
       "                        <td id=\"T_e0820_row1_col0\" class=\"data row1 col0\" >T</td>\n",
       "                        <td id=\"T_e0820_row1_col1\" class=\"data row1 col1\" >22.840000</td>\n",
       "                        <td id=\"T_e0820_row1_col2\" class=\"data row1 col2\" >16.22%</td>\n",
       "            </tr>\n",
       "            <tr>\n",
       "                        <th id=\"T_e0820_level0_row2\" class=\"row_heading level0 row2\" >0</th>\n",
       "                        <td id=\"T_e0820_row2_col0\" class=\"data row2 col0\" >E</td>\n",
       "                        <td id=\"T_e0820_row2_col1\" class=\"data row2 col1\" >15.980000</td>\n",
       "                        <td id=\"T_e0820_row2_col2\" class=\"data row2 col2\" >11.35%</td>\n",
       "            </tr>\n",
       "            <tr>\n",
       "                        <th id=\"T_e0820_level0_row3\" class=\"row_heading level0 row3\" >2</th>\n",
       "                        <td id=\"T_e0820_row3_col0\" class=\"data row3 col0\" >M</td>\n",
       "                        <td id=\"T_e0820_row3_col1\" class=\"data row3 col1\" >14.870000</td>\n",
       "                        <td id=\"T_e0820_row3_col2\" class=\"data row3 col2\" >10.56%</td>\n",
       "            </tr>\n",
       "            <tr>\n",
       "                        <th id=\"T_e0820_level0_row4\" class=\"row_heading level0 row4\" >1</th>\n",
       "                        <td id=\"T_e0820_row4_col0\" class=\"data row4 col0\" >E10+</td>\n",
       "                        <td id=\"T_e0820_row4_col1\" class=\"data row4 col1\" >6.270000</td>\n",
       "                        <td id=\"T_e0820_row4_col2\" class=\"data row4 col2\" >4.45%</td>\n",
       "            </tr>\n",
       "    </tbody></table>"
      ],
      "text/plain": [
       "<pandas.io.formats.style.Styler at 0x7f44046e3a00>"
      ]
     },
     "execution_count": 58,
     "metadata": {},
     "output_type": "execute_result"
    }
   ],
   "source": [
    "# looking at sales in JP based on ESRB ratings\n",
    "jp_rating = data.groupby(['rating'])['jp_sales'].sum().reset_index().sort_values(by='jp_sales', ascending=False)\n",
    "jp_ratio = (data.groupby(['rating'])['jp_sales'].sum()/data['jp_sales'].sum()).reset_index().sort_values(by='jp_sales',ascending=False)\n",
    "jp_rating['ratio'] = jp_ratio['jp_sales']\n",
    "jp_rating.style.format({'ratio': \"{:,.2%}\".format})"
   ]
  },
  {
   "cell_type": "code",
   "execution_count": 59,
   "metadata": {},
   "outputs": [
    {
     "data": {
      "image/png": "[encoded data removed]",
      "text/plain": [
       "<Figure size 720x576 with 1 Axes>"
      ]
     },
     "metadata": {
      "needs_background": "light"
     },
     "output_type": "display_data"
    }
   ],
   "source": [
    "# building a grouped bar chart of total sales based on ESRB ratings in each region\n",
    "colors = sns.color_palette('Set2')\n",
    "labels = ['NA', 'EU', 'JP']\n",
    "sale_sums = data.groupby(['rating']).sum()[[\"na_sales\", \"eu_sales\", \"jp_sales\"]]\n",
    "sale_sums.T.plot.bar(figsize = (10,8), color = colors)\n",
    "plt.title('ESRB ratings per region')\n",
    "plt.xlabel('region')\n",
    "plt.ylabel('sales')\n",
    "plt.xticks(np.arange(3), labels = labels, rotation = 0);"
   ]
  },
  {
   "cell_type": "markdown",
   "metadata": {},
   "source": [
    "When we look at sales based on ESRB rating, for period of 2013 - 2016, North America and EU have very similar data, highest sales are for M rated games and E. E10+ and T rated games sell less.\n",
    "\n",
    "In Japan, games with unknown ESRB rating have made 57% of sales, meanwhile E10+ the least amount of sales."
   ]
  },
  {
   "cell_type": "markdown",
   "metadata": {},
   "source": [
    "## Statistical hypothesis testing"
   ]
  },
  {
   "cell_type": "markdown",
   "metadata": {},
   "source": [
    "H0: Average user ratings of the Xbox One and PC platforms are the same\n",
    "\n",
    "Ha: Average user ratings of the Xbox One and PC platforms differ"
   ]
  },
  {
   "cell_type": "code",
   "execution_count": 60,
   "metadata": {},
   "outputs": [],
   "source": [
    "# selecting rows that include XOne and PC platforms\n",
    "xbox1 = df.query('platform == \"XOne\"')\n",
    "pc = df.query('platform == \"PC\"')"
   ]
  },
  {
   "cell_type": "code",
   "execution_count": 61,
   "metadata": {},
   "outputs": [],
   "source": [
    "# saving samples\n",
    "sample01 = xbox1['user_score']\n",
    "sample02 = pc['user_score']"
   ]
  },
  {
   "cell_type": "code",
   "execution_count": 62,
   "metadata": {},
   "outputs": [
    {
     "data": {
      "text/plain": [
       "1.9069968429360695"
      ]
     },
     "execution_count": 62,
     "metadata": {},
     "output_type": "execute_result"
    }
   ],
   "source": [
    "sample01.var()"
   ]
  },
  {
   "cell_type": "code",
   "execution_count": 63,
   "metadata": {},
   "outputs": [
    {
     "data": {
      "text/plain": [
       "2.3407871413372066"
      ]
     },
     "execution_count": 63,
     "metadata": {},
     "output_type": "execute_result"
    }
   ],
   "source": [
    "sample02.var()"
   ]
  },
  {
   "cell_type": "code",
   "execution_count": 64,
   "metadata": {},
   "outputs": [
    {
     "data": {
      "text/plain": [
       "1.227473002909255"
      ]
     },
     "execution_count": 64,
     "metadata": {},
     "output_type": "execute_result"
    }
   ],
   "source": [
    "# looking at the ratio of the larger sample variance to the smaller sample variance\n",
    "sample02.var() / sample01.var()"
   ]
  },
  {
   "cell_type": "code",
   "execution_count": 65,
   "metadata": {},
   "outputs": [
    {
     "data": {
      "text/plain": [
       "Ttest_indResult(statistic=-4.368333815003015, pvalue=1.3896435533548819e-05)"
      ]
     },
     "execution_count": 65,
     "metadata": {},
     "output_type": "execute_result"
    }
   ],
   "source": [
    "# performing t-test\n",
    "st.ttest_ind(sample01, sample02, nan_policy='omit', equal_var = True)"
   ]
  },
  {
   "cell_type": "code",
   "execution_count": 66,
   "metadata": {},
   "outputs": [
    {
     "data": {
      "text/plain": [
       "1.3896435533548819e-05"
      ]
     },
     "execution_count": 66,
     "metadata": {},
     "output_type": "execute_result"
    }
   ],
   "source": [
    "p_value = st.ttest_ind(sample01, sample02, nan_policy='omit').pvalue\n",
    "p_value"
   ]
  },
  {
   "cell_type": "code",
   "execution_count": 67,
   "metadata": {},
   "outputs": [
    {
     "name": "stdout",
     "output_type": "stream",
     "text": [
      "1.3896435533548819e-05\n",
      "Reject H0: average of sample 1 is not equal to average of sample 2\n"
     ]
    }
   ],
   "source": [
    "# testing the null hypothesis\n",
    "p_value = p_value\n",
    "alpha = 0.05\n",
    "print(p_value)\n",
    "if p_value < alpha:\n",
    "    print('Reject H0: average of sample 1 is not equal to average of sample 2')\n",
    "else:\n",
    "    print( \"Fail to Reject H0: We don't have enough evidence to say that averages of sample 1 and sample 2 are not the same\")"
   ]
  },
  {
   "cell_type": "markdown",
   "metadata": {},
   "source": [
    "H0: Average user ratings for the Action and Sports genres are equal\n",
    "\n",
    "Ha: Average user ratings for the Action and Sports genres are different"
   ]
  },
  {
   "cell_type": "code",
   "execution_count": 68,
   "metadata": {},
   "outputs": [],
   "source": [
    "# selecting rows that include action and sports genres\n",
    "action = df.query('genre.str.contains(\"Action\")')\n",
    "sports = df.query('genre.str.contains(\"Sports\")')"
   ]
  },
  {
   "cell_type": "code",
   "execution_count": 69,
   "metadata": {},
   "outputs": [],
   "source": [
    "# saving samples\n",
    "sample1 = action['user_score']\n",
    "sample2 = sports['user_score']"
   ]
  },
  {
   "cell_type": "code",
   "execution_count": 70,
   "metadata": {},
   "outputs": [
    {
     "data": {
      "text/plain": [
       "2.031746898033205"
      ]
     },
     "execution_count": 70,
     "metadata": {},
     "output_type": "execute_result"
    }
   ],
   "source": [
    "sample1.var()"
   ]
  },
  {
   "cell_type": "code",
   "execution_count": 71,
   "metadata": {},
   "outputs": [
    {
     "data": {
      "text/plain": [
       "2.596514718973004"
      ]
     },
     "execution_count": 71,
     "metadata": {},
     "output_type": "execute_result"
    }
   ],
   "source": [
    "sample2.var()"
   ]
  },
  {
   "cell_type": "code",
   "execution_count": 72,
   "metadata": {},
   "outputs": [
    {
     "data": {
      "text/plain": [
       "1.2779715433484906"
      ]
     },
     "execution_count": 72,
     "metadata": {},
     "output_type": "execute_result"
    }
   ],
   "source": [
    "sample2.var() / sample1.var()"
   ]
  },
  {
   "cell_type": "code",
   "execution_count": 73,
   "metadata": {},
   "outputs": [
    {
     "data": {
      "text/plain": [
       "Ttest_indResult(statistic=1.6259419280500702, pvalue=0.1040695135904947)"
      ]
     },
     "execution_count": 73,
     "metadata": {},
     "output_type": "execute_result"
    }
   ],
   "source": [
    "# performing t-test\n",
    "st.ttest_ind(sample1, sample2, nan_policy='omit', equal_var = True)"
   ]
  },
  {
   "cell_type": "code",
   "execution_count": 74,
   "metadata": {},
   "outputs": [
    {
     "data": {
      "text/plain": [
       "0.1040695135904947"
      ]
     },
     "execution_count": 74,
     "metadata": {},
     "output_type": "execute_result"
    }
   ],
   "source": [
    "p_value = st.ttest_ind(sample1, sample2, nan_policy='omit').pvalue\n",
    "p_value"
   ]
  },
  {
   "cell_type": "code",
   "execution_count": 75,
   "metadata": {},
   "outputs": [
    {
     "name": "stdout",
     "output_type": "stream",
     "text": [
      "0.1040695135904947\n",
      "Fail to Reject H0: We don't have enough evidence to say that averages of sample 1 and sample 2 are not the same\n"
     ]
    }
   ],
   "source": [
    "# testing the null hypothesis\n",
    "p_value = p_value\n",
    "alpha = 0.05\n",
    "print(p_value)\n",
    "if p_value < alpha:\n",
    "    print('Reject H0: average of sample 1 is not equal to average of sample 2')\n",
    "else:\n",
    "    print( \"Fail to Reject H0: We don't have enough evidence to say that averages of sample 1 and sample 2 are not the same\")"
   ]
  },
  {
   "cell_type": "markdown",
   "metadata": {},
   "source": [
    "## Preparing the data for analysis\n",
    "The data frame provided had missing values in several columns - name, year_of_release, genre, critic_score, user_score and rating.\n",
    "\n",
    "2.6% (439 values) in rating column were replaced with rating based on game title.\n",
    "\n",
    "2 rows with missing name and genre were removed from data set as it was impossible to identify these games.\n",
    "\n",
    "'tbd' values in user_score were replaced with 'NaN' since we cannot estimate the scores for these games.\n",
    "\n",
    "Missing values in year_of_release were left as they were to maintain the integrity and not distort the data.\n",
    "\n",
    "In addition, missing values in both, user_score and critic_score columns were left as they were as well since there is no way for us to estimate these scores as these values do not depend on any other parameter, e.g., platform, year, genre etc.\n",
    "\n",
    "While working with data, an error was found in one of the rows. DS platform was not around in 1985. Strongest Tokyo University Shogi DS was released in 2004, not 1985 - the value in year of release for this game was changed to 2004.\n",
    "\n",
    "Lastly, a new column was added to the data frame - the total sales (the sum of sales in all regions) for each game."
   ]
  },
  {
   "cell_type": "markdown",
   "metadata": {},
   "source": [
    "## General conclusion\n",
    "\n",
    "### Games throughout years\n",
    "The 1980s were the early days of the video game industry, and the number of games released each year was relatively low compared to later decades.  \n",
    "The 1990s were a decade of noticeable growth for the video game industry, with a higher increase in the number of games being released each year.  \n",
    "The 2000s saw continued growth in the video game industry, with an even greater number of games being released each year than in the previous decade.  \n",
    "This partially was due to the widespread adoption of the internet and digital distribution, which made it easier for developers to release games without the need for physical distribution.  \n",
    "In the 2010s there was a decline in the number of games being released each year compared to the previous decade. However, it appears this was still a very active period for the industry.  \n",
    "Overall, the number of video games released each decade has shown a clear trend of growth and expansion.  \n",
    "\n",
    "### Top 10 highest selling platforms\n",
    "From the graph of top 10 biggest selling platforms, we can observe that majority of these platforms have had a rampant, rapid growth in sales.  \n",
    "In some cases, once a new platform appears on the market, the older ones start to decline, e.g., PS sales went down once PS2 appeared and its growth was very steep.  \n",
    "X360 and PS3 appeared around the same time, both had speedy growth in sales and a similar decline.  \n",
    "It seems that between 2010 - 2012 sales for several platforms (Wii, X360, PS3) were decreasing possibly due to rise and popularity in mobile games.  \n",
    "PC as a platform for games has remained all these years with fewer ups and downs and noticeably less sales than the rest of the platforms. Sales in PC games had a slight rise around 2007 until 2012, that, perhaps, could be explained due to rise in video game streaming and games not being anymore as easily pirated as compared to earlier years.  \n",
    "\n",
    "\n",
    "### Platforms during 2002 - 2016\n",
    "From 18 platforms (starting from 2002), we have 9 that are still present in 2016.  \n",
    "Since late 2013, 2 new platforms appeared, PS4 and XOne. For both sales went up until approx. mid 2015.  \n",
    "Median platform age is 7 years.  \n",
    "Sales have not returned to be as high as they were once for PS2 or Wii. Closest to that were X360 and PS3, however, sales generally are lower for all of the platforms, compared to PS2 and Wii peaks, one of the reasons might be time spent on mobile device - either mobile gaming, social media etc.\n",
    "\n",
    "### Platforms during 2013 - 2016\n",
    "To build a prognosis for 2017, we've worked with data from 2013 - 2016.  \n",
    "The platforms with the highest median total sales are X360, XOne, WiiU, PS4, and Wii, which suggests that these platforms have been more successful in terms of sales compared to others.  \n",
    "On the other hand, the platforms with the lowest median total sales are PSP and 3DS, indicating that these platforms have not been as popular or successful in the period from 2013 - 2016.  \n",
    "The ranking of platforms based on total sales is similar to the ranking based on median values. The platforms with the highest total sales are PS4, PS3, XOne, 3DS, and X360, while the platforms with the lowest sales are DS, PSP, and Wii.  \n",
    "The more successful platforms tend to have higher median and mean values, as well as a wider range of sales values.  \n",
    "\n",
    "### Sales in different regions between 2013 - 2016\n",
    "    \n",
    "Most sales, 24.84%, in North America have come from PS4 games. XOne\t- 21.27%, X360 - 18.65%, PS3 - 14.50%, 3DS - 8.73%.  \n",
    "In the EU the same exact 5 platforms have been leading as in North America - PS4 with 35.93% of total sales in EU, PS3 - 17.27%, XOne - 13.14%, X360 - 10.83%, 3DS - 7.88%.  \n",
    "It seems Japan has different preferences when it comes to gaming, their most loved platform has been 3DS, which makes nearly half of Japan's total sales from 2013 - 2016. In addition, PSV and WiiU has made into Japan's top 5, unlike in North America or Europe.  \n",
    "The top 4 most common game genres (in 2013 - 2016) in North America and EU are the same - Action, Shooter, Sports and Role-Playing, however in NA Miscellanious games take the 5th place and in EU it's Racing games.  \n",
    "In Japan, the most popular genres are Role-Playing, Action, Miscellanious, Fighting and Shooter.  \n",
    "When we look at sales based on ESRB rating, for period of 2013 - 2016, North America and EU have very similar data, highest sales are for M rated games and E. E10+ and T rated games sell less.  \n",
    "In Japan, games with unknown ESRB rating have made 57% of sales, meanwhile E10+ the least amount of sales."
   ]
  }
 ],
 "metadata": {
  "celltoolbar": "Raw Cell Format",
  "kernelspec": {
   "display_name": "Python 3 (ipykernel)",
   "language": "python",
   "name": "python3"
  },
  "language_info": {
   "codemirror_mode": {
    "name": "ipython",
    "version": 3
   },
   "file_extension": ".py",
   "mimetype": "text/x-python",
   "name": "python",
   "nbconvert_exporter": "python",
   "pygments_lexer": "ipython3",
   "version": "3.9.5"
  },
  "toc": {
   "base_numbering": 1,
   "nav_menu": {
    "height": "11.6px",
    "width": "160px"
   },
   "number_sections": true,
   "sideBar": true,
   "skip_h1_title": true,
   "title_cell": "Table of Contents",
   "title_sidebar": "Contents",
   "toc_cell": false,
   "toc_position": {},
   "toc_section_display": true,
   "toc_window_display": false
  }
 },
 "nbformat": 4,
 "nbformat_minor": 2
}
