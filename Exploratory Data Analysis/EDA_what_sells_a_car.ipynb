{
 "cells": [
  {
   "cell_type": "markdown",
   "metadata": {},
   "source": [
    "# What sells a car?\n",
    "\n",
    "Hundreds of free advertisements for vehicles are published on Crankshaft List site every day. We need to study data collected over the last few years and determine which factors influence the price of a vehicle."
   ]
  },
  {
   "cell_type": "markdown",
   "metadata": {},
   "source": [
    "## Initialization"
   ]
  },
  {
   "cell_type": "code",
   "execution_count": 1,
   "metadata": {},
   "outputs": [],
   "source": [
    "# Loading all the libraries\n",
    "import pandas as pd\n",
    "import warnings\n",
    "warnings.filterwarnings(\"ignore\")\n",
    "import matplotlib.pyplot as plt\n",
    "import seaborn as sns\n",
    "import numpy as np"
   ]
  },
  {
   "cell_type": "markdown",
   "metadata": {},
   "source": [
    "### Loading the data"
   ]
  },
  {
   "cell_type": "code",
   "execution_count": 2,
   "metadata": {},
   "outputs": [],
   "source": [
    "# Loading the data file into a DataFrame\n",
    "df = pd.read_csv('/datasets/vehicles_us.csv')"
   ]
  },
  {
   "cell_type": "markdown",
   "metadata": {},
   "source": [
    "### Exploring the initial data"
   ]
  },
  {
   "cell_type": "markdown",
   "metadata": {},
   "source": [
    "The dataset contains the following fields:\n",
    "- `price`\n",
    "- `model_year`\n",
    "- `model`\n",
    "- `condition`\n",
    "- `cylinders`\n",
    "- `fuel` — gas, diesel, etc.\n",
    "- `odometer` — the vehicle's mileage when the ad was published\n",
    "- `transmission`\n",
    "- `paint_color`\n",
    "- `is_4wd` — whether the vehicle has 4-wheel drive (Boolean type)\n",
    "- `date_posted` — the date the ad was published\n",
    "- `days_listed` — from publication to removal"
   ]
  },
  {
   "cell_type": "code",
   "execution_count": 3,
   "metadata": {},
   "outputs": [
    {
     "name": "stdout",
     "output_type": "stream",
     "text": [
      "<class 'pandas.core.frame.DataFrame'>\n",
      "RangeIndex: 51525 entries, 0 to 51524\n",
      "Data columns (total 13 columns):\n",
      " #   Column        Non-Null Count  Dtype  \n",
      "---  ------        --------------  -----  \n",
      " 0   price         51525 non-null  int64  \n",
      " 1   model_year    47906 non-null  float64\n",
      " 2   model         51525 non-null  object \n",
      " 3   condition     51525 non-null  object \n",
      " 4   cylinders     46265 non-null  float64\n",
      " 5   fuel          51525 non-null  object \n",
      " 6   odometer      43633 non-null  float64\n",
      " 7   transmission  51525 non-null  object \n",
      " 8   type          51525 non-null  object \n",
      " 9   paint_color   42258 non-null  object \n",
      " 10  is_4wd        25572 non-null  float64\n",
      " 11  date_posted   51525 non-null  object \n",
      " 12  days_listed   51525 non-null  int64  \n",
      "dtypes: float64(4), int64(2), object(7)\n",
      "memory usage: 5.1+ MB\n"
     ]
    }
   ],
   "source": [
    "# printing the general/summary information about the DataFrame\n",
    "df.info()"
   ]
  },
  {
   "cell_type": "code",
   "execution_count": 4,
   "metadata": {},
   "outputs": [
    {
     "data": {
      "text/html": [
       "<div>\n",
       "<style scoped>\n",
       "    .dataframe tbody tr th:only-of-type {\n",
       "        vertical-align: middle;\n",
       "    }\n",
       "\n",
       "    .dataframe tbody tr th {\n",
       "        vertical-align: top;\n",
       "    }\n",
       "\n",
       "    .dataframe thead th {\n",
       "        text-align: right;\n",
       "    }\n",
       "</style>\n",
       "<table border=\"1\" class=\"dataframe\">\n",
       "  <thead>\n",
       "    <tr style=\"text-align: right;\">\n",
       "      <th></th>\n",
       "      <th>price</th>\n",
       "      <th>model_year</th>\n",
       "      <th>model</th>\n",
       "      <th>condition</th>\n",
       "      <th>cylinders</th>\n",
       "      <th>fuel</th>\n",
       "      <th>odometer</th>\n",
       "      <th>transmission</th>\n",
       "      <th>type</th>\n",
       "      <th>paint_color</th>\n",
       "      <th>is_4wd</th>\n",
       "      <th>date_posted</th>\n",
       "      <th>days_listed</th>\n",
       "    </tr>\n",
       "  </thead>\n",
       "  <tbody>\n",
       "    <tr>\n",
       "      <th>0</th>\n",
       "      <td>9400</td>\n",
       "      <td>2011.0</td>\n",
       "      <td>bmw x5</td>\n",
       "      <td>good</td>\n",
       "      <td>6.0</td>\n",
       "      <td>gas</td>\n",
       "      <td>145000.0</td>\n",
       "      <td>automatic</td>\n",
       "      <td>SUV</td>\n",
       "      <td>NaN</td>\n",
       "      <td>1.0</td>\n",
       "      <td>2018-06-23</td>\n",
       "      <td>19</td>\n",
       "    </tr>\n",
       "    <tr>\n",
       "      <th>1</th>\n",
       "      <td>25500</td>\n",
       "      <td>NaN</td>\n",
       "      <td>ford f-150</td>\n",
       "      <td>good</td>\n",
       "      <td>6.0</td>\n",
       "      <td>gas</td>\n",
       "      <td>88705.0</td>\n",
       "      <td>automatic</td>\n",
       "      <td>pickup</td>\n",
       "      <td>white</td>\n",
       "      <td>1.0</td>\n",
       "      <td>2018-10-19</td>\n",
       "      <td>50</td>\n",
       "    </tr>\n",
       "    <tr>\n",
       "      <th>2</th>\n",
       "      <td>5500</td>\n",
       "      <td>2013.0</td>\n",
       "      <td>hyundai sonata</td>\n",
       "      <td>like new</td>\n",
       "      <td>4.0</td>\n",
       "      <td>gas</td>\n",
       "      <td>110000.0</td>\n",
       "      <td>automatic</td>\n",
       "      <td>sedan</td>\n",
       "      <td>red</td>\n",
       "      <td>NaN</td>\n",
       "      <td>2019-02-07</td>\n",
       "      <td>79</td>\n",
       "    </tr>\n",
       "    <tr>\n",
       "      <th>3</th>\n",
       "      <td>1500</td>\n",
       "      <td>2003.0</td>\n",
       "      <td>ford f-150</td>\n",
       "      <td>fair</td>\n",
       "      <td>8.0</td>\n",
       "      <td>gas</td>\n",
       "      <td>NaN</td>\n",
       "      <td>automatic</td>\n",
       "      <td>pickup</td>\n",
       "      <td>NaN</td>\n",
       "      <td>NaN</td>\n",
       "      <td>2019-03-22</td>\n",
       "      <td>9</td>\n",
       "    </tr>\n",
       "    <tr>\n",
       "      <th>4</th>\n",
       "      <td>14900</td>\n",
       "      <td>2017.0</td>\n",
       "      <td>chrysler 200</td>\n",
       "      <td>excellent</td>\n",
       "      <td>4.0</td>\n",
       "      <td>gas</td>\n",
       "      <td>80903.0</td>\n",
       "      <td>automatic</td>\n",
       "      <td>sedan</td>\n",
       "      <td>black</td>\n",
       "      <td>NaN</td>\n",
       "      <td>2019-04-02</td>\n",
       "      <td>28</td>\n",
       "    </tr>\n",
       "  </tbody>\n",
       "</table>\n",
       "</div>"
      ],
      "text/plain": [
       "   price  model_year           model  condition  cylinders fuel  odometer  \\\n",
       "0   9400      2011.0          bmw x5       good        6.0  gas  145000.0   \n",
       "1  25500         NaN      ford f-150       good        6.0  gas   88705.0   \n",
       "2   5500      2013.0  hyundai sonata   like new        4.0  gas  110000.0   \n",
       "3   1500      2003.0      ford f-150       fair        8.0  gas       NaN   \n",
       "4  14900      2017.0    chrysler 200  excellent        4.0  gas   80903.0   \n",
       "\n",
       "  transmission    type paint_color  is_4wd date_posted  days_listed  \n",
       "0    automatic     SUV         NaN     1.0  2018-06-23           19  \n",
       "1    automatic  pickup       white     1.0  2018-10-19           50  \n",
       "2    automatic   sedan         red     NaN  2019-02-07           79  \n",
       "3    automatic  pickup         NaN     NaN  2019-03-22            9  \n",
       "4    automatic   sedan       black     NaN  2019-04-02           28  "
      ]
     },
     "execution_count": 4,
     "metadata": {},
     "output_type": "execute_result"
    }
   ],
   "source": [
    "# printing a sample of data\n",
    "df.head()\n",
    "#df.tail(10)"
   ]
  },
  {
   "cell_type": "markdown",
   "metadata": {},
   "source": [
    "From the printed data sample we see that in some columns there are missing values that we'll need to look into."
   ]
  },
  {
   "cell_type": "markdown",
   "metadata": {},
   "source": [
    "We also have columns (model_year, cylinders, odometer, is_4wd, date_posted) that have inappropriate data types for our analysis."
   ]
  },
  {
   "cell_type": "markdown",
   "metadata": {},
   "source": [
    "There are missing values in several columns - model_year, cylinders, odometer, paint_color and is_4wd. Most missing values are in is_4wd column."
   ]
  },
  {
   "cell_type": "code",
   "execution_count": 5,
   "metadata": {},
   "outputs": [
    {
     "data": {
      "text/plain": [
       "price               0\n",
       "model_year       3619\n",
       "model               0\n",
       "condition           0\n",
       "cylinders        5260\n",
       "fuel                0\n",
       "odometer         7892\n",
       "transmission        0\n",
       "type                0\n",
       "paint_color      9267\n",
       "is_4wd          25953\n",
       "date_posted         0\n",
       "days_listed         0\n",
       "dtype: int64"
      ]
     },
     "execution_count": 5,
     "metadata": {},
     "output_type": "execute_result"
    }
   ],
   "source": [
    "# looking for missing values\n",
    "df.isna().sum()"
   ]
  },
  {
   "cell_type": "markdown",
   "metadata": {},
   "source": [
    "### Conclusions and further steps\n",
    "Further we'll work on treating missing values.\n",
    "\n",
    "Missing values in model_year, cylinders and odometer will be replaced according to model and model year.\n",
    "\n",
    "Missing values in paint_color will be replaced with 'unknown' as there is rather no way to determine color of vehicle (e.g., all of them, with no color indicated, might have custom paint work).\n",
    "\n",
    "Missing values in is_4wd appear to be boolean, where NaN would mean the vehicle is not a four wheel drive. These NaNs will need to be replaced with 0s to make analysis easier."
   ]
  },
  {
   "cell_type": "markdown",
   "metadata": {},
   "source": [
    "## Treating missing values"
   ]
  },
  {
   "cell_type": "code",
   "execution_count": 6,
   "metadata": {},
   "outputs": [
    {
     "data": {
      "text/html": [
       "<div>\n",
       "<style scoped>\n",
       "    .dataframe tbody tr th:only-of-type {\n",
       "        vertical-align: middle;\n",
       "    }\n",
       "\n",
       "    .dataframe tbody tr th {\n",
       "        vertical-align: top;\n",
       "    }\n",
       "\n",
       "    .dataframe thead th {\n",
       "        text-align: right;\n",
       "    }\n",
       "</style>\n",
       "<table border=\"1\" class=\"dataframe\">\n",
       "  <thead>\n",
       "    <tr style=\"text-align: right;\">\n",
       "      <th></th>\n",
       "      <th>price</th>\n",
       "      <th>model_year</th>\n",
       "      <th>model</th>\n",
       "      <th>condition</th>\n",
       "      <th>cylinders</th>\n",
       "      <th>fuel</th>\n",
       "      <th>odometer</th>\n",
       "      <th>transmission</th>\n",
       "      <th>type</th>\n",
       "      <th>paint_color</th>\n",
       "      <th>is_4wd</th>\n",
       "      <th>date_posted</th>\n",
       "      <th>days_listed</th>\n",
       "    </tr>\n",
       "  </thead>\n",
       "  <tbody>\n",
       "    <tr>\n",
       "      <th>1</th>\n",
       "      <td>25500</td>\n",
       "      <td>NaN</td>\n",
       "      <td>ford f-150</td>\n",
       "      <td>good</td>\n",
       "      <td>6.0</td>\n",
       "      <td>gas</td>\n",
       "      <td>88705.0</td>\n",
       "      <td>automatic</td>\n",
       "      <td>pickup</td>\n",
       "      <td>white</td>\n",
       "      <td>1.0</td>\n",
       "      <td>2018-10-19</td>\n",
       "      <td>50</td>\n",
       "    </tr>\n",
       "    <tr>\n",
       "      <th>20</th>\n",
       "      <td>6990</td>\n",
       "      <td>NaN</td>\n",
       "      <td>chevrolet tahoe</td>\n",
       "      <td>excellent</td>\n",
       "      <td>8.0</td>\n",
       "      <td>gas</td>\n",
       "      <td>147485.0</td>\n",
       "      <td>automatic</td>\n",
       "      <td>SUV</td>\n",
       "      <td>silver</td>\n",
       "      <td>1.0</td>\n",
       "      <td>2018-08-05</td>\n",
       "      <td>28</td>\n",
       "    </tr>\n",
       "    <tr>\n",
       "      <th>65</th>\n",
       "      <td>12800</td>\n",
       "      <td>NaN</td>\n",
       "      <td>ford f-150</td>\n",
       "      <td>excellent</td>\n",
       "      <td>6.0</td>\n",
       "      <td>gas</td>\n",
       "      <td>108500.0</td>\n",
       "      <td>automatic</td>\n",
       "      <td>pickup</td>\n",
       "      <td>white</td>\n",
       "      <td>NaN</td>\n",
       "      <td>2018-09-23</td>\n",
       "      <td>15</td>\n",
       "    </tr>\n",
       "    <tr>\n",
       "      <th>69</th>\n",
       "      <td>7800</td>\n",
       "      <td>NaN</td>\n",
       "      <td>ford f-150</td>\n",
       "      <td>like new</td>\n",
       "      <td>8.0</td>\n",
       "      <td>gas</td>\n",
       "      <td>97510.0</td>\n",
       "      <td>automatic</td>\n",
       "      <td>truck</td>\n",
       "      <td>white</td>\n",
       "      <td>1.0</td>\n",
       "      <td>2019-02-20</td>\n",
       "      <td>39</td>\n",
       "    </tr>\n",
       "    <tr>\n",
       "      <th>72</th>\n",
       "      <td>3650</td>\n",
       "      <td>NaN</td>\n",
       "      <td>subaru impreza</td>\n",
       "      <td>excellent</td>\n",
       "      <td>NaN</td>\n",
       "      <td>gas</td>\n",
       "      <td>74000.0</td>\n",
       "      <td>automatic</td>\n",
       "      <td>sedan</td>\n",
       "      <td>blue</td>\n",
       "      <td>1.0</td>\n",
       "      <td>2018-08-07</td>\n",
       "      <td>60</td>\n",
       "    </tr>\n",
       "  </tbody>\n",
       "</table>\n",
       "</div>"
      ],
      "text/plain": [
       "    price  model_year            model  condition  cylinders fuel  odometer  \\\n",
       "1   25500         NaN       ford f-150       good        6.0  gas   88705.0   \n",
       "20   6990         NaN  chevrolet tahoe  excellent        8.0  gas  147485.0   \n",
       "65  12800         NaN       ford f-150  excellent        6.0  gas  108500.0   \n",
       "69   7800         NaN       ford f-150   like new        8.0  gas   97510.0   \n",
       "72   3650         NaN   subaru impreza  excellent        NaN  gas   74000.0   \n",
       "\n",
       "   transmission    type paint_color  is_4wd date_posted  days_listed  \n",
       "1     automatic  pickup       white     1.0  2018-10-19           50  \n",
       "20    automatic     SUV      silver     1.0  2018-08-05           28  \n",
       "65    automatic  pickup       white     NaN  2018-09-23           15  \n",
       "69    automatic   truck       white     1.0  2019-02-20           39  \n",
       "72    automatic   sedan        blue     1.0  2018-08-07           60  "
      ]
     },
     "execution_count": 6,
     "metadata": {},
     "output_type": "execute_result"
    }
   ],
   "source": [
    "# looking at missing values in model_year\n",
    "df[df.model_year.isna()].head()"
   ]
  },
  {
   "cell_type": "code",
   "execution_count": 7,
   "metadata": {},
   "outputs": [],
   "source": [
    "# adding a new column\n",
    "df['model_year_filled']=df['model_year']"
   ]
  },
  {
   "cell_type": "code",
   "execution_count": 8,
   "metadata": {},
   "outputs": [
    {
     "data": {
      "text/plain": [
       "model\n",
       "acura tl             2007.0\n",
       "bmw x5               2008.0\n",
       "buick enclave        2012.0\n",
       "cadillac escalade    2008.0\n",
       "chevrolet camaro     2008.0\n",
       "Name: model_year, dtype: float64"
      ]
     },
     "execution_count": 8,
     "metadata": {},
     "output_type": "execute_result"
    }
   ],
   "source": [
    "# grouping the data by model and calculating mean model year for each model\n",
    "grouped_data=df.groupby(['model'])['model_year'].mean().apply(np.floor)\n",
    "grouped_data.head()"
   ]
  },
  {
   "cell_type": "code",
   "execution_count": 9,
   "metadata": {
    "scrolled": true
   },
   "outputs": [
    {
     "data": {
      "text/plain": [
       "{'acura tl': 2007.0,\n",
       " 'bmw x5': 2008.0,\n",
       " 'buick enclave': 2012.0,\n",
       " 'cadillac escalade': 2008.0,\n",
       " 'chevrolet camaro': 2008.0,\n",
       " 'chevrolet camaro lt coupe 2d': 2015.0,\n",
       " 'chevrolet colorado': 2012.0,\n",
       " 'chevrolet corvette': 1996.0,\n",
       " 'chevrolet cruze': 2014.0,\n",
       " 'chevrolet equinox': 2013.0,\n",
       " 'chevrolet impala': 2008.0,\n",
       " 'chevrolet malibu': 2010.0,\n",
       " 'chevrolet silverado': 2007.0,\n",
       " 'chevrolet silverado 1500': 2010.0,\n",
       " 'chevrolet silverado 1500 crew': 2015.0,\n",
       " 'chevrolet silverado 2500hd': 2009.0,\n",
       " 'chevrolet silverado 3500hd': 2011.0,\n",
       " 'chevrolet suburban': 2007.0,\n",
       " 'chevrolet tahoe': 2008.0,\n",
       " 'chevrolet trailblazer': 2004.0,\n",
       " 'chevrolet traverse': 2012.0,\n",
       " 'chrysler 200': 2013.0,\n",
       " 'chrysler 300': 2010.0,\n",
       " 'chrysler town & country': 2010.0,\n",
       " 'dodge charger': 2012.0,\n",
       " 'dodge dakota': 2003.0,\n",
       " 'dodge grand caravan': 2011.0,\n",
       " 'ford econoline': 2010.0,\n",
       " 'ford edge': 2012.0,\n",
       " 'ford escape': 2011.0,\n",
       " 'ford expedition': 2007.0,\n",
       " 'ford explorer': 2009.0,\n",
       " 'ford f-150': 2009.0,\n",
       " 'ford f-250': 2004.0,\n",
       " 'ford f-250 sd': 2012.0,\n",
       " 'ford f-250 super duty': 2008.0,\n",
       " 'ford f-350 sd': 2009.0,\n",
       " 'ford f150': 2008.0,\n",
       " 'ford f150 supercrew cab xlt': 2014.0,\n",
       " 'ford f250': 2006.0,\n",
       " 'ford f250 super duty': 2007.0,\n",
       " 'ford f350': 2007.0,\n",
       " 'ford f350 super duty': 2006.0,\n",
       " 'ford focus': 2011.0,\n",
       " 'ford focus se': 2012.0,\n",
       " 'ford fusion': 2012.0,\n",
       " 'ford fusion se': 2013.0,\n",
       " 'ford mustang': 2004.0,\n",
       " 'ford mustang gt coupe 2d': 2015.0,\n",
       " 'ford ranger': 2003.0,\n",
       " 'ford taurus': 2006.0,\n",
       " 'gmc acadia': 2011.0,\n",
       " 'gmc sierra': 2007.0,\n",
       " 'gmc sierra 1500': 2009.0,\n",
       " 'gmc sierra 2500hd': 2007.0,\n",
       " 'gmc yukon': 2007.0,\n",
       " 'honda accord': 2008.0,\n",
       " 'honda civic': 2008.0,\n",
       " 'honda civic lx': 2009.0,\n",
       " 'honda cr-v': 2009.0,\n",
       " 'honda odyssey': 2008.0,\n",
       " 'honda pilot': 2009.0,\n",
       " 'hyundai elantra': 2012.0,\n",
       " 'hyundai santa fe': 2009.0,\n",
       " 'hyundai sonata': 2011.0,\n",
       " 'jeep cherokee': 2008.0,\n",
       " 'jeep grand cherokee': 2008.0,\n",
       " 'jeep grand cherokee laredo': 2006.0,\n",
       " 'jeep liberty': 2007.0,\n",
       " 'jeep wrangler': 2007.0,\n",
       " 'jeep wrangler unlimited': 2012.0,\n",
       " 'kia sorento': 2012.0,\n",
       " 'kia soul': 2013.0,\n",
       " 'mercedes-benz benze sprinter 2500': 2013.0,\n",
       " 'nissan altima': 2011.0,\n",
       " 'nissan frontier': 2010.0,\n",
       " 'nissan frontier crew cab sv': 2017.0,\n",
       " 'nissan maxima': 2009.0,\n",
       " 'nissan murano': 2009.0,\n",
       " 'nissan rogue': 2013.0,\n",
       " 'nissan sentra': 2012.0,\n",
       " 'nissan versa': 2012.0,\n",
       " 'ram 1500': 2010.0,\n",
       " 'ram 2500': 2009.0,\n",
       " 'ram 3500': 2011.0,\n",
       " 'subaru forester': 2010.0,\n",
       " 'subaru impreza': 2010.0,\n",
       " 'subaru outback': 2009.0,\n",
       " 'toyota 4runner': 2006.0,\n",
       " 'toyota camry': 2008.0,\n",
       " 'toyota camry le': 2007.0,\n",
       " 'toyota corolla': 2010.0,\n",
       " 'toyota highlander': 2008.0,\n",
       " 'toyota prius': 2009.0,\n",
       " 'toyota rav4': 2009.0,\n",
       " 'toyota sienna': 2008.0,\n",
       " 'toyota tacoma': 2009.0,\n",
       " 'toyota tundra': 2009.0,\n",
       " 'volkswagen jetta': 2010.0,\n",
       " 'volkswagen passat': 2011.0}"
      ]
     },
     "execution_count": 9,
     "metadata": {},
     "output_type": "execute_result"
    }
   ],
   "source": [
    "# passing it to the dictionary\n",
    "grouped_data_dict=pd.Series(grouped_data).to_dict()\n",
    "grouped_data_dict"
   ]
  },
  {
   "cell_type": "code",
   "execution_count": 10,
   "metadata": {},
   "outputs": [],
   "source": [
    "# replacing missing values in model_year_filled column with the created dictionary\n",
    "df['model_year_filled']=df['model_year_filled'].fillna(df.model.map(grouped_data_dict))"
   ]
  },
  {
   "cell_type": "code",
   "execution_count": 11,
   "metadata": {},
   "outputs": [
    {
     "data": {
      "text/plain": [
       "price                           6990\n",
       "model_year                       NaN\n",
       "model                chevrolet tahoe\n",
       "condition                  excellent\n",
       "cylinders                        8.0\n",
       "fuel                             gas\n",
       "odometer                    147485.0\n",
       "transmission               automatic\n",
       "type                             SUV\n",
       "paint_color                   silver\n",
       "is_4wd                           1.0\n",
       "date_posted               2018-08-05\n",
       "days_listed                       28\n",
       "model_year_filled             2008.0\n",
       "Name: 20, dtype: object"
      ]
     },
     "execution_count": 11,
     "metadata": {},
     "output_type": "execute_result"
    }
   ],
   "source": [
    "# checking one of the examples\n",
    "df.loc[20]"
   ]
  },
  {
   "cell_type": "code",
   "execution_count": 12,
   "metadata": {},
   "outputs": [
    {
     "name": "stdout",
     "output_type": "stream",
     "text": [
      "<class 'pandas.core.frame.DataFrame'>\n",
      "RangeIndex: 51525 entries, 0 to 51524\n",
      "Data columns (total 14 columns):\n",
      " #   Column             Non-Null Count  Dtype  \n",
      "---  ------             --------------  -----  \n",
      " 0   price              51525 non-null  int64  \n",
      " 1   model_year         47906 non-null  float64\n",
      " 2   model              51525 non-null  object \n",
      " 3   condition          51525 non-null  object \n",
      " 4   cylinders          46265 non-null  float64\n",
      " 5   fuel               51525 non-null  object \n",
      " 6   odometer           43633 non-null  float64\n",
      " 7   transmission       51525 non-null  object \n",
      " 8   type               51525 non-null  object \n",
      " 9   paint_color        42258 non-null  object \n",
      " 10  is_4wd             25572 non-null  float64\n",
      " 11  date_posted        51525 non-null  object \n",
      " 12  days_listed        51525 non-null  int64  \n",
      " 13  model_year_filled  51525 non-null  float64\n",
      "dtypes: float64(5), int64(2), object(7)\n",
      "memory usage: 5.5+ MB\n"
     ]
    }
   ],
   "source": [
    "# making sure values got replaced\n",
    "df.info()"
   ]
  },
  {
   "cell_type": "code",
   "execution_count": 13,
   "metadata": {},
   "outputs": [
    {
     "name": "stdout",
     "output_type": "stream",
     "text": [
      "<class 'pandas.core.frame.DataFrame'>\n",
      "RangeIndex: 51525 entries, 0 to 51524\n",
      "Data columns (total 14 columns):\n",
      " #   Column             Non-Null Count  Dtype  \n",
      "---  ------             --------------  -----  \n",
      " 0   price              51525 non-null  int64  \n",
      " 1   model_year         47906 non-null  float64\n",
      " 2   model              51525 non-null  object \n",
      " 3   condition          51525 non-null  object \n",
      " 4   cylinders          51525 non-null  float64\n",
      " 5   fuel               51525 non-null  object \n",
      " 6   odometer           43633 non-null  float64\n",
      " 7   transmission       51525 non-null  object \n",
      " 8   type               51525 non-null  object \n",
      " 9   paint_color        42258 non-null  object \n",
      " 10  is_4wd             25572 non-null  float64\n",
      " 11  date_posted        51525 non-null  object \n",
      " 12  days_listed        51525 non-null  int64  \n",
      " 13  model_year_filled  51525 non-null  float64\n",
      "dtypes: float64(5), int64(2), object(7)\n",
      "memory usage: 5.5+ MB\n"
     ]
    }
   ],
   "source": [
    "# grouping the data by model and model_year_filled\n",
    "#filling missing values in cylinders with most common values for those models and model years\n",
    "df['cylinders'] = df.groupby(['model', 'model_year_filled'])['cylinders'].transform(lambda grp: grp.fillna(grp.mode().max()))\n",
    "df['cylinders'] = df.groupby(['model'])['cylinders'].transform(lambda grp: grp.fillna(grp.mode().max()))\n",
    "df.info()"
   ]
  },
  {
   "cell_type": "code",
   "execution_count": 14,
   "metadata": {},
   "outputs": [
    {
     "data": {
      "text/plain": [
       "model\n",
       "acura tl             2007.0\n",
       "bmw x5               2009.0\n",
       "buick enclave        2012.0\n",
       "cadillac escalade    2008.0\n",
       "chevrolet camaro     2012.0\n",
       "Name: model_year_filled, dtype: float64"
      ]
     },
     "execution_count": 14,
     "metadata": {},
     "output_type": "execute_result"
    }
   ],
   "source": [
    "grouped=df.groupby(['model'])['model_year_filled'].median()\n",
    "grouped.head()"
   ]
  },
  {
   "cell_type": "code",
   "execution_count": 15,
   "metadata": {},
   "outputs": [
    {
     "data": {
      "text/html": [
       "<div>\n",
       "<style scoped>\n",
       "    .dataframe tbody tr th:only-of-type {\n",
       "        vertical-align: middle;\n",
       "    }\n",
       "\n",
       "    .dataframe tbody tr th {\n",
       "        vertical-align: top;\n",
       "    }\n",
       "\n",
       "    .dataframe thead th {\n",
       "        text-align: right;\n",
       "    }\n",
       "</style>\n",
       "<table border=\"1\" class=\"dataframe\">\n",
       "  <thead>\n",
       "    <tr style=\"text-align: right;\">\n",
       "      <th></th>\n",
       "      <th>price</th>\n",
       "      <th>model_year</th>\n",
       "      <th>model</th>\n",
       "      <th>condition</th>\n",
       "      <th>cylinders</th>\n",
       "      <th>fuel</th>\n",
       "      <th>odometer</th>\n",
       "      <th>transmission</th>\n",
       "      <th>type</th>\n",
       "      <th>paint_color</th>\n",
       "      <th>is_4wd</th>\n",
       "      <th>date_posted</th>\n",
       "      <th>days_listed</th>\n",
       "      <th>model_year_filled</th>\n",
       "    </tr>\n",
       "  </thead>\n",
       "  <tbody>\n",
       "    <tr>\n",
       "      <th>34713</th>\n",
       "      <td>5000</td>\n",
       "      <td>1936.0</td>\n",
       "      <td>ford f-150</td>\n",
       "      <td>excellent</td>\n",
       "      <td>6.0</td>\n",
       "      <td>gas</td>\n",
       "      <td>30000.0</td>\n",
       "      <td>manual</td>\n",
       "      <td>pickup</td>\n",
       "      <td>purple</td>\n",
       "      <td>NaN</td>\n",
       "      <td>2018-11-22</td>\n",
       "      <td>10</td>\n",
       "      <td>1936.0</td>\n",
       "    </tr>\n",
       "    <tr>\n",
       "      <th>45694</th>\n",
       "      <td>18000</td>\n",
       "      <td>1929.0</td>\n",
       "      <td>ford f-150</td>\n",
       "      <td>good</td>\n",
       "      <td>8.0</td>\n",
       "      <td>gas</td>\n",
       "      <td>30000.0</td>\n",
       "      <td>manual</td>\n",
       "      <td>other</td>\n",
       "      <td>silver</td>\n",
       "      <td>NaN</td>\n",
       "      <td>2018-11-18</td>\n",
       "      <td>59</td>\n",
       "      <td>1929.0</td>\n",
       "    </tr>\n",
       "  </tbody>\n",
       "</table>\n",
       "</div>"
      ],
      "text/plain": [
       "       price  model_year       model  condition  cylinders fuel  odometer  \\\n",
       "34713   5000      1936.0  ford f-150  excellent        6.0  gas   30000.0   \n",
       "45694  18000      1929.0  ford f-150       good        8.0  gas   30000.0   \n",
       "\n",
       "      transmission    type paint_color  is_4wd date_posted  days_listed  \\\n",
       "34713       manual  pickup      purple     NaN  2018-11-22           10   \n",
       "45694       manual   other      silver     NaN  2018-11-18           59   \n",
       "\n",
       "       model_year_filled  \n",
       "34713             1936.0  \n",
       "45694             1929.0  "
      ]
     },
     "execution_count": 15,
     "metadata": {},
     "output_type": "execute_result"
    }
   ],
   "source": [
    "# grouping the data by model and model_year_filled\n",
    "# filling missing values in odometer with median values for those models and model years\n",
    "\n",
    "df['odometer'] = df.groupby(['model', 'model_year_filled'])['odometer'].transform(lambda grp: grp.fillna(grp.median()))\n",
    "\n",
    "# grouping by model_year_filled and filling remaining missing values with medians\n",
    "df['odometer'] = df.groupby(['model_year_filled'])['odometer'].transform(lambda grp: grp.fillna(grp.median()))\n",
    "\n",
    "# filling last value that's missing in odometer according to model and model year\n",
    "df.query('model_year_filled <= 1940 and model == \"ford f-150\"')\n",
    "df['odometer'].fillna(30000, inplace=True)\n",
    "df.query('model_year_filled <= 1940 and model == \"ford f-150\"')"
   ]
  },
  {
   "cell_type": "code",
   "execution_count": 16,
   "metadata": {},
   "outputs": [
    {
     "data": {
      "text/html": [
       "<div>\n",
       "<style scoped>\n",
       "    .dataframe tbody tr th:only-of-type {\n",
       "        vertical-align: middle;\n",
       "    }\n",
       "\n",
       "    .dataframe tbody tr th {\n",
       "        vertical-align: top;\n",
       "    }\n",
       "\n",
       "    .dataframe thead th {\n",
       "        text-align: right;\n",
       "    }\n",
       "</style>\n",
       "<table border=\"1\" class=\"dataframe\">\n",
       "  <thead>\n",
       "    <tr style=\"text-align: right;\">\n",
       "      <th></th>\n",
       "      <th>price</th>\n",
       "      <th>model_year</th>\n",
       "      <th>model</th>\n",
       "      <th>condition</th>\n",
       "      <th>cylinders</th>\n",
       "      <th>fuel</th>\n",
       "      <th>odometer</th>\n",
       "      <th>transmission</th>\n",
       "      <th>type</th>\n",
       "      <th>paint_color</th>\n",
       "      <th>is_4wd</th>\n",
       "      <th>date_posted</th>\n",
       "      <th>days_listed</th>\n",
       "      <th>model_year_filled</th>\n",
       "    </tr>\n",
       "  </thead>\n",
       "  <tbody>\n",
       "  </tbody>\n",
       "</table>\n",
       "</div>"
      ],
      "text/plain": [
       "Empty DataFrame\n",
       "Columns: [price, model_year, model, condition, cylinders, fuel, odometer, transmission, type, paint_color, is_4wd, date_posted, days_listed, model_year_filled]\n",
       "Index: []"
      ]
     },
     "execution_count": 16,
     "metadata": {},
     "output_type": "execute_result"
    }
   ],
   "source": [
    "# replacing missing values in paint_color to 'unknown'\n",
    "df['paint_color'] = df['paint_color'].replace(np.nan, 'unknown')\n",
    "df[df['paint_color'].isna()]"
   ]
  },
  {
   "cell_type": "code",
   "execution_count": 17,
   "metadata": {},
   "outputs": [
    {
     "data": {
      "text/plain": [
       "array([ 1., nan])"
      ]
     },
     "execution_count": 17,
     "metadata": {},
     "output_type": "execute_result"
    }
   ],
   "source": [
    "# checking unique values in is_4wd column\n",
    "df['is_4wd'].unique()"
   ]
  },
  {
   "cell_type": "code",
   "execution_count": 18,
   "metadata": {},
   "outputs": [],
   "source": [
    "# replacing missing values with 0\n",
    "df['is_4wd'].fillna(0, inplace = True)"
   ]
  },
  {
   "cell_type": "markdown",
   "metadata": {},
   "source": [
    "## Fixing data types"
   ]
  },
  {
   "cell_type": "code",
   "execution_count": 19,
   "metadata": {},
   "outputs": [
    {
     "data": {
      "text/plain": [
       "price                  int64\n",
       "model_year           float64\n",
       "model                 object\n",
       "condition             object\n",
       "cylinders              int64\n",
       "fuel                  object\n",
       "odometer               int64\n",
       "transmission          object\n",
       "type                  object\n",
       "paint_color           object\n",
       "is_4wd                 int64\n",
       "date_posted           object\n",
       "days_listed            int64\n",
       "model_year_filled      int64\n",
       "dtype: object"
      ]
     },
     "execution_count": 19,
     "metadata": {},
     "output_type": "execute_result"
    }
   ],
   "source": [
    "# fixing data types\n",
    "df['model_year_filled'] = df['model_year_filled'].astype(int)\n",
    "df['cylinders'] = df['cylinders'].astype(int)\n",
    "df['is_4wd'] = df['is_4wd'].astype(int)\n",
    "df['odometer'] = np.floor(pd.to_numeric(df['odometer'], errors='coerce')).astype('int64')\n",
    "df.dtypes"
   ]
  },
  {
   "cell_type": "markdown",
   "metadata": {},
   "source": [
    "## Enriching the data"
   ]
  },
  {
   "cell_type": "code",
   "execution_count": 20,
   "metadata": {},
   "outputs": [
    {
     "data": {
      "text/plain": [
       "numpy.datetime64"
      ]
     },
     "execution_count": 20,
     "metadata": {},
     "output_type": "execute_result"
    }
   ],
   "source": [
    "# adding datetime values for when the ad was placed\n",
    "df['date_posted'] = pd.to_datetime(df['date_posted'], format='%Y-%m-%d')\n",
    "df['date_posted'].dtype.type"
   ]
  },
  {
   "cell_type": "code",
   "execution_count": 21,
   "metadata": {},
   "outputs": [
    {
     "data": {
      "text/html": [
       "<div>\n",
       "<style scoped>\n",
       "    .dataframe tbody tr th:only-of-type {\n",
       "        vertical-align: middle;\n",
       "    }\n",
       "\n",
       "    .dataframe tbody tr th {\n",
       "        vertical-align: top;\n",
       "    }\n",
       "\n",
       "    .dataframe thead th {\n",
       "        text-align: right;\n",
       "    }\n",
       "</style>\n",
       "<table border=\"1\" class=\"dataframe\">\n",
       "  <thead>\n",
       "    <tr style=\"text-align: right;\">\n",
       "      <th></th>\n",
       "      <th>price</th>\n",
       "      <th>model_year</th>\n",
       "      <th>model</th>\n",
       "      <th>condition</th>\n",
       "      <th>cylinders</th>\n",
       "      <th>fuel</th>\n",
       "      <th>odometer</th>\n",
       "      <th>transmission</th>\n",
       "      <th>type</th>\n",
       "      <th>paint_color</th>\n",
       "      <th>is_4wd</th>\n",
       "      <th>date_posted</th>\n",
       "      <th>days_listed</th>\n",
       "      <th>model_year_filled</th>\n",
       "      <th>weekday</th>\n",
       "      <th>month_posted</th>\n",
       "      <th>year_posted</th>\n",
       "      <th>age_when_posted</th>\n",
       "    </tr>\n",
       "  </thead>\n",
       "  <tbody>\n",
       "    <tr>\n",
       "      <th>0</th>\n",
       "      <td>9400</td>\n",
       "      <td>2011.0</td>\n",
       "      <td>bmw x5</td>\n",
       "      <td>good</td>\n",
       "      <td>6</td>\n",
       "      <td>gas</td>\n",
       "      <td>145000</td>\n",
       "      <td>automatic</td>\n",
       "      <td>SUV</td>\n",
       "      <td>unknown</td>\n",
       "      <td>1</td>\n",
       "      <td>2018-06-23</td>\n",
       "      <td>19</td>\n",
       "      <td>2011</td>\n",
       "      <td>5</td>\n",
       "      <td>6</td>\n",
       "      <td>2018</td>\n",
       "      <td>7</td>\n",
       "    </tr>\n",
       "    <tr>\n",
       "      <th>1</th>\n",
       "      <td>25500</td>\n",
       "      <td>NaN</td>\n",
       "      <td>ford f-150</td>\n",
       "      <td>good</td>\n",
       "      <td>6</td>\n",
       "      <td>gas</td>\n",
       "      <td>88705</td>\n",
       "      <td>automatic</td>\n",
       "      <td>pickup</td>\n",
       "      <td>white</td>\n",
       "      <td>1</td>\n",
       "      <td>2018-10-19</td>\n",
       "      <td>50</td>\n",
       "      <td>2009</td>\n",
       "      <td>4</td>\n",
       "      <td>10</td>\n",
       "      <td>2018</td>\n",
       "      <td>9</td>\n",
       "    </tr>\n",
       "    <tr>\n",
       "      <th>2</th>\n",
       "      <td>5500</td>\n",
       "      <td>2013.0</td>\n",
       "      <td>hyundai sonata</td>\n",
       "      <td>like new</td>\n",
       "      <td>4</td>\n",
       "      <td>gas</td>\n",
       "      <td>110000</td>\n",
       "      <td>automatic</td>\n",
       "      <td>sedan</td>\n",
       "      <td>red</td>\n",
       "      <td>0</td>\n",
       "      <td>2019-02-07</td>\n",
       "      <td>79</td>\n",
       "      <td>2013</td>\n",
       "      <td>3</td>\n",
       "      <td>2</td>\n",
       "      <td>2019</td>\n",
       "      <td>6</td>\n",
       "    </tr>\n",
       "    <tr>\n",
       "      <th>3</th>\n",
       "      <td>1500</td>\n",
       "      <td>2003.0</td>\n",
       "      <td>ford f-150</td>\n",
       "      <td>fair</td>\n",
       "      <td>8</td>\n",
       "      <td>gas</td>\n",
       "      <td>177500</td>\n",
       "      <td>automatic</td>\n",
       "      <td>pickup</td>\n",
       "      <td>unknown</td>\n",
       "      <td>0</td>\n",
       "      <td>2019-03-22</td>\n",
       "      <td>9</td>\n",
       "      <td>2003</td>\n",
       "      <td>4</td>\n",
       "      <td>3</td>\n",
       "      <td>2019</td>\n",
       "      <td>16</td>\n",
       "    </tr>\n",
       "    <tr>\n",
       "      <th>4</th>\n",
       "      <td>14900</td>\n",
       "      <td>2017.0</td>\n",
       "      <td>chrysler 200</td>\n",
       "      <td>excellent</td>\n",
       "      <td>4</td>\n",
       "      <td>gas</td>\n",
       "      <td>80903</td>\n",
       "      <td>automatic</td>\n",
       "      <td>sedan</td>\n",
       "      <td>black</td>\n",
       "      <td>0</td>\n",
       "      <td>2019-04-02</td>\n",
       "      <td>28</td>\n",
       "      <td>2017</td>\n",
       "      <td>1</td>\n",
       "      <td>4</td>\n",
       "      <td>2019</td>\n",
       "      <td>2</td>\n",
       "    </tr>\n",
       "  </tbody>\n",
       "</table>\n",
       "</div>"
      ],
      "text/plain": [
       "   price  model_year           model  condition  cylinders fuel  odometer  \\\n",
       "0   9400      2011.0          bmw x5       good          6  gas    145000   \n",
       "1  25500         NaN      ford f-150       good          6  gas     88705   \n",
       "2   5500      2013.0  hyundai sonata   like new          4  gas    110000   \n",
       "3   1500      2003.0      ford f-150       fair          8  gas    177500   \n",
       "4  14900      2017.0    chrysler 200  excellent          4  gas     80903   \n",
       "\n",
       "  transmission    type paint_color  is_4wd date_posted  days_listed  \\\n",
       "0    automatic     SUV     unknown       1  2018-06-23           19   \n",
       "1    automatic  pickup       white       1  2018-10-19           50   \n",
       "2    automatic   sedan         red       0  2019-02-07           79   \n",
       "3    automatic  pickup     unknown       0  2019-03-22            9   \n",
       "4    automatic   sedan       black       0  2019-04-02           28   \n",
       "\n",
       "   model_year_filled  weekday  month_posted  year_posted  age_when_posted  \n",
       "0               2011        5             6         2018                7  \n",
       "1               2009        4            10         2018                9  \n",
       "2               2013        3             2         2019                6  \n",
       "3               2003        4             3         2019               16  \n",
       "4               2017        1             4         2019                2  "
      ]
     },
     "execution_count": 21,
     "metadata": {},
     "output_type": "execute_result"
    }
   ],
   "source": [
    "# adding the vehicle's age when the ad was placed\n",
    "df['weekday'] = df['date_posted'].dt.weekday\n",
    "df['month_posted'] = df['date_posted'].dt.month\n",
    "df['year_posted'] = df['date_posted'].dt.year\n",
    "df['age_when_posted'] = df['year_posted'] - df['model_year_filled']\n",
    "df.head()"
   ]
  },
  {
   "cell_type": "code",
   "execution_count": 22,
   "metadata": {},
   "outputs": [],
   "source": [
    "# replacing 0s in age_when_posted with 1s to be able to calculate vehicle's average mileage per year\n",
    "df['age_when_posted'] = df['age_when_posted'].replace(0, 1)"
   ]
  },
  {
   "cell_type": "code",
   "execution_count": 23,
   "metadata": {
    "scrolled": true
   },
   "outputs": [
    {
     "data": {
      "text/html": [
       "<div>\n",
       "<style scoped>\n",
       "    .dataframe tbody tr th:only-of-type {\n",
       "        vertical-align: middle;\n",
       "    }\n",
       "\n",
       "    .dataframe tbody tr th {\n",
       "        vertical-align: top;\n",
       "    }\n",
       "\n",
       "    .dataframe thead th {\n",
       "        text-align: right;\n",
       "    }\n",
       "</style>\n",
       "<table border=\"1\" class=\"dataframe\">\n",
       "  <thead>\n",
       "    <tr style=\"text-align: right;\">\n",
       "      <th></th>\n",
       "      <th>price</th>\n",
       "      <th>model_year</th>\n",
       "      <th>model</th>\n",
       "      <th>condition</th>\n",
       "      <th>cylinders</th>\n",
       "      <th>fuel</th>\n",
       "      <th>odometer</th>\n",
       "      <th>transmission</th>\n",
       "      <th>type</th>\n",
       "      <th>paint_color</th>\n",
       "      <th>is_4wd</th>\n",
       "      <th>date_posted</th>\n",
       "      <th>days_listed</th>\n",
       "      <th>model_year_filled</th>\n",
       "      <th>weekday</th>\n",
       "      <th>month_posted</th>\n",
       "      <th>year_posted</th>\n",
       "      <th>age_when_posted</th>\n",
       "      <th>average_miles_year</th>\n",
       "    </tr>\n",
       "  </thead>\n",
       "  <tbody>\n",
       "  </tbody>\n",
       "</table>\n",
       "</div>"
      ],
      "text/plain": [
       "Empty DataFrame\n",
       "Columns: [price, model_year, model, condition, cylinders, fuel, odometer, transmission, type, paint_color, is_4wd, date_posted, days_listed, model_year_filled, weekday, month_posted, year_posted, age_when_posted, average_miles_year]\n",
       "Index: []"
      ]
     },
     "execution_count": 23,
     "metadata": {},
     "output_type": "execute_result"
    }
   ],
   "source": [
    "# adding the vehicle's average mileage per year\n",
    "df['average_miles_year'] = df['odometer'] / df['age_when_posted']\n",
    "df[df['average_miles_year'].isna()]"
   ]
  },
  {
   "cell_type": "code",
   "execution_count": 24,
   "metadata": {},
   "outputs": [],
   "source": [
    "# In the condition column, replacing string values with a numeric scale:\n",
    "# new = 5\n",
    "# like new = 4\n",
    "# excellent = 3\n",
    "# good = 2\n",
    "# fair = 1\n",
    "# salvage = 0\n",
    "\n",
    "def condition_group(row):\n",
    "    condition = row['condition']\n",
    "    \n",
    "    if condition == 'new':\n",
    "        return 5\n",
    "\n",
    "    if condition == 'like new':\n",
    "        return 4\n",
    "\n",
    "    if condition == 'excellent':\n",
    "        return 3\n",
    "    if condition == 'good':\n",
    "        return 2\n",
    "    if condition == 'fair':\n",
    "        return 1\n",
    "\n",
    "    return 0\n"
   ]
  },
  {
   "cell_type": "code",
   "execution_count": 25,
   "metadata": {},
   "outputs": [
    {
     "data": {
      "text/plain": [
       "5"
      ]
     },
     "execution_count": 25,
     "metadata": {},
     "output_type": "execute_result"
    }
   ],
   "source": [
    "# checking whether the function is working\n",
    "row_values = ['new']\n",
    "row_columns = ['condition']\n",
    "row = pd.Series(data=row_values, index=row_columns) \n",
    "condition_group(row)"
   ]
  },
  {
   "cell_type": "code",
   "execution_count": 26,
   "metadata": {},
   "outputs": [],
   "source": [
    "# creating new column based on function\n",
    "df['condition_group'] = df.apply(condition_group, axis=1)"
   ]
  },
  {
   "cell_type": "code",
   "execution_count": 27,
   "metadata": {},
   "outputs": [
    {
     "data": {
      "text/html": [
       "<div>\n",
       "<style scoped>\n",
       "    .dataframe tbody tr th:only-of-type {\n",
       "        vertical-align: middle;\n",
       "    }\n",
       "\n",
       "    .dataframe tbody tr th {\n",
       "        vertical-align: top;\n",
       "    }\n",
       "\n",
       "    .dataframe thead th {\n",
       "        text-align: right;\n",
       "    }\n",
       "</style>\n",
       "<table border=\"1\" class=\"dataframe\">\n",
       "  <thead>\n",
       "    <tr style=\"text-align: right;\">\n",
       "      <th></th>\n",
       "      <th>price</th>\n",
       "      <th>model_year</th>\n",
       "      <th>model</th>\n",
       "      <th>condition</th>\n",
       "      <th>cylinders</th>\n",
       "      <th>fuel</th>\n",
       "      <th>odometer</th>\n",
       "      <th>transmission</th>\n",
       "      <th>type</th>\n",
       "      <th>paint_color</th>\n",
       "      <th>is_4wd</th>\n",
       "      <th>date_posted</th>\n",
       "      <th>days_listed</th>\n",
       "      <th>model_year_filled</th>\n",
       "      <th>weekday</th>\n",
       "      <th>month_posted</th>\n",
       "      <th>year_posted</th>\n",
       "      <th>age_when_posted</th>\n",
       "      <th>average_miles_year</th>\n",
       "      <th>condition_group</th>\n",
       "    </tr>\n",
       "  </thead>\n",
       "  <tbody>\n",
       "    <tr>\n",
       "      <th>0</th>\n",
       "      <td>9400</td>\n",
       "      <td>2011.0</td>\n",
       "      <td>bmw x5</td>\n",
       "      <td>good</td>\n",
       "      <td>6</td>\n",
       "      <td>gas</td>\n",
       "      <td>145000</td>\n",
       "      <td>automatic</td>\n",
       "      <td>SUV</td>\n",
       "      <td>unknown</td>\n",
       "      <td>1</td>\n",
       "      <td>2018-06-23</td>\n",
       "      <td>19</td>\n",
       "      <td>2011</td>\n",
       "      <td>5</td>\n",
       "      <td>6</td>\n",
       "      <td>2018</td>\n",
       "      <td>7</td>\n",
       "      <td>20714.285714</td>\n",
       "      <td>2</td>\n",
       "    </tr>\n",
       "    <tr>\n",
       "      <th>1</th>\n",
       "      <td>25500</td>\n",
       "      <td>NaN</td>\n",
       "      <td>ford f-150</td>\n",
       "      <td>good</td>\n",
       "      <td>6</td>\n",
       "      <td>gas</td>\n",
       "      <td>88705</td>\n",
       "      <td>automatic</td>\n",
       "      <td>pickup</td>\n",
       "      <td>white</td>\n",
       "      <td>1</td>\n",
       "      <td>2018-10-19</td>\n",
       "      <td>50</td>\n",
       "      <td>2009</td>\n",
       "      <td>4</td>\n",
       "      <td>10</td>\n",
       "      <td>2018</td>\n",
       "      <td>9</td>\n",
       "      <td>9856.111111</td>\n",
       "      <td>2</td>\n",
       "    </tr>\n",
       "    <tr>\n",
       "      <th>2</th>\n",
       "      <td>5500</td>\n",
       "      <td>2013.0</td>\n",
       "      <td>hyundai sonata</td>\n",
       "      <td>like new</td>\n",
       "      <td>4</td>\n",
       "      <td>gas</td>\n",
       "      <td>110000</td>\n",
       "      <td>automatic</td>\n",
       "      <td>sedan</td>\n",
       "      <td>red</td>\n",
       "      <td>0</td>\n",
       "      <td>2019-02-07</td>\n",
       "      <td>79</td>\n",
       "      <td>2013</td>\n",
       "      <td>3</td>\n",
       "      <td>2</td>\n",
       "      <td>2019</td>\n",
       "      <td>6</td>\n",
       "      <td>18333.333333</td>\n",
       "      <td>4</td>\n",
       "    </tr>\n",
       "    <tr>\n",
       "      <th>3</th>\n",
       "      <td>1500</td>\n",
       "      <td>2003.0</td>\n",
       "      <td>ford f-150</td>\n",
       "      <td>fair</td>\n",
       "      <td>8</td>\n",
       "      <td>gas</td>\n",
       "      <td>177500</td>\n",
       "      <td>automatic</td>\n",
       "      <td>pickup</td>\n",
       "      <td>unknown</td>\n",
       "      <td>0</td>\n",
       "      <td>2019-03-22</td>\n",
       "      <td>9</td>\n",
       "      <td>2003</td>\n",
       "      <td>4</td>\n",
       "      <td>3</td>\n",
       "      <td>2019</td>\n",
       "      <td>16</td>\n",
       "      <td>11093.750000</td>\n",
       "      <td>1</td>\n",
       "    </tr>\n",
       "    <tr>\n",
       "      <th>4</th>\n",
       "      <td>14900</td>\n",
       "      <td>2017.0</td>\n",
       "      <td>chrysler 200</td>\n",
       "      <td>excellent</td>\n",
       "      <td>4</td>\n",
       "      <td>gas</td>\n",
       "      <td>80903</td>\n",
       "      <td>automatic</td>\n",
       "      <td>sedan</td>\n",
       "      <td>black</td>\n",
       "      <td>0</td>\n",
       "      <td>2019-04-02</td>\n",
       "      <td>28</td>\n",
       "      <td>2017</td>\n",
       "      <td>1</td>\n",
       "      <td>4</td>\n",
       "      <td>2019</td>\n",
       "      <td>2</td>\n",
       "      <td>40451.500000</td>\n",
       "      <td>3</td>\n",
       "    </tr>\n",
       "  </tbody>\n",
       "</table>\n",
       "</div>"
      ],
      "text/plain": [
       "   price  model_year           model  condition  cylinders fuel  odometer  \\\n",
       "0   9400      2011.0          bmw x5       good          6  gas    145000   \n",
       "1  25500         NaN      ford f-150       good          6  gas     88705   \n",
       "2   5500      2013.0  hyundai sonata   like new          4  gas    110000   \n",
       "3   1500      2003.0      ford f-150       fair          8  gas    177500   \n",
       "4  14900      2017.0    chrysler 200  excellent          4  gas     80903   \n",
       "\n",
       "  transmission    type paint_color  is_4wd date_posted  days_listed  \\\n",
       "0    automatic     SUV     unknown       1  2018-06-23           19   \n",
       "1    automatic  pickup       white       1  2018-10-19           50   \n",
       "2    automatic   sedan         red       0  2019-02-07           79   \n",
       "3    automatic  pickup     unknown       0  2019-03-22            9   \n",
       "4    automatic   sedan       black       0  2019-04-02           28   \n",
       "\n",
       "   model_year_filled  weekday  month_posted  year_posted  age_when_posted  \\\n",
       "0               2011        5             6         2018                7   \n",
       "1               2009        4            10         2018                9   \n",
       "2               2013        3             2         2019                6   \n",
       "3               2003        4             3         2019               16   \n",
       "4               2017        1             4         2019                2   \n",
       "\n",
       "   average_miles_year  condition_group  \n",
       "0        20714.285714                2  \n",
       "1         9856.111111                2  \n",
       "2        18333.333333                4  \n",
       "3        11093.750000                1  \n",
       "4        40451.500000                3  "
      ]
     },
     "execution_count": 27,
     "metadata": {},
     "output_type": "execute_result"
    }
   ],
   "source": [
    "# looking at data sample\n",
    "df.head()"
   ]
  },
  {
   "cell_type": "markdown",
   "metadata": {},
   "source": [
    "## Checking the clean data"
   ]
  },
  {
   "cell_type": "code",
   "execution_count": 28,
   "metadata": {},
   "outputs": [
    {
     "name": "stdout",
     "output_type": "stream",
     "text": [
      "<class 'pandas.core.frame.DataFrame'>\n",
      "RangeIndex: 51525 entries, 0 to 51524\n",
      "Data columns (total 20 columns):\n",
      " #   Column              Non-Null Count  Dtype         \n",
      "---  ------              --------------  -----         \n",
      " 0   price               51525 non-null  int64         \n",
      " 1   model_year          47906 non-null  float64       \n",
      " 2   model               51525 non-null  object        \n",
      " 3   condition           51525 non-null  object        \n",
      " 4   cylinders           51525 non-null  int64         \n",
      " 5   fuel                51525 non-null  object        \n",
      " 6   odometer            51525 non-null  int64         \n",
      " 7   transmission        51525 non-null  object        \n",
      " 8   type                51525 non-null  object        \n",
      " 9   paint_color         51525 non-null  object        \n",
      " 10  is_4wd              51525 non-null  int64         \n",
      " 11  date_posted         51525 non-null  datetime64[ns]\n",
      " 12  days_listed         51525 non-null  int64         \n",
      " 13  model_year_filled   51525 non-null  int64         \n",
      " 14  weekday             51525 non-null  int64         \n",
      " 15  month_posted        51525 non-null  int64         \n",
      " 16  year_posted         51525 non-null  int64         \n",
      " 17  age_when_posted     51525 non-null  int64         \n",
      " 18  average_miles_year  51525 non-null  float64       \n",
      " 19  condition_group     51525 non-null  int64         \n",
      "dtypes: datetime64[ns](1), float64(2), int64(11), object(6)\n",
      "memory usage: 7.9+ MB\n"
     ]
    }
   ],
   "source": [
    "# printing the general/summary info about the DataFrame\n",
    "df.info()"
   ]
  },
  {
   "cell_type": "code",
   "execution_count": 29,
   "metadata": {},
   "outputs": [
    {
     "data": {
      "text/html": [
       "<div>\n",
       "<style scoped>\n",
       "    .dataframe tbody tr th:only-of-type {\n",
       "        vertical-align: middle;\n",
       "    }\n",
       "\n",
       "    .dataframe tbody tr th {\n",
       "        vertical-align: top;\n",
       "    }\n",
       "\n",
       "    .dataframe thead th {\n",
       "        text-align: right;\n",
       "    }\n",
       "</style>\n",
       "<table border=\"1\" class=\"dataframe\">\n",
       "  <thead>\n",
       "    <tr style=\"text-align: right;\">\n",
       "      <th></th>\n",
       "      <th>price</th>\n",
       "      <th>model_year</th>\n",
       "      <th>model</th>\n",
       "      <th>condition</th>\n",
       "      <th>cylinders</th>\n",
       "      <th>fuel</th>\n",
       "      <th>odometer</th>\n",
       "      <th>transmission</th>\n",
       "      <th>type</th>\n",
       "      <th>paint_color</th>\n",
       "      <th>is_4wd</th>\n",
       "      <th>date_posted</th>\n",
       "      <th>days_listed</th>\n",
       "      <th>model_year_filled</th>\n",
       "      <th>weekday</th>\n",
       "      <th>month_posted</th>\n",
       "      <th>year_posted</th>\n",
       "      <th>age_when_posted</th>\n",
       "      <th>average_miles_year</th>\n",
       "      <th>condition_group</th>\n",
       "    </tr>\n",
       "  </thead>\n",
       "  <tbody>\n",
       "    <tr>\n",
       "      <th>51520</th>\n",
       "      <td>9249</td>\n",
       "      <td>2013.0</td>\n",
       "      <td>nissan maxima</td>\n",
       "      <td>like new</td>\n",
       "      <td>6</td>\n",
       "      <td>gas</td>\n",
       "      <td>88136</td>\n",
       "      <td>automatic</td>\n",
       "      <td>sedan</td>\n",
       "      <td>black</td>\n",
       "      <td>0</td>\n",
       "      <td>2018-10-03</td>\n",
       "      <td>37</td>\n",
       "      <td>2013</td>\n",
       "      <td>2</td>\n",
       "      <td>10</td>\n",
       "      <td>2018</td>\n",
       "      <td>5</td>\n",
       "      <td>17627.200000</td>\n",
       "      <td>4</td>\n",
       "    </tr>\n",
       "    <tr>\n",
       "      <th>51521</th>\n",
       "      <td>2700</td>\n",
       "      <td>2002.0</td>\n",
       "      <td>honda civic</td>\n",
       "      <td>salvage</td>\n",
       "      <td>4</td>\n",
       "      <td>gas</td>\n",
       "      <td>181500</td>\n",
       "      <td>automatic</td>\n",
       "      <td>sedan</td>\n",
       "      <td>white</td>\n",
       "      <td>0</td>\n",
       "      <td>2018-11-14</td>\n",
       "      <td>22</td>\n",
       "      <td>2002</td>\n",
       "      <td>2</td>\n",
       "      <td>11</td>\n",
       "      <td>2018</td>\n",
       "      <td>16</td>\n",
       "      <td>11343.750000</td>\n",
       "      <td>0</td>\n",
       "    </tr>\n",
       "    <tr>\n",
       "      <th>51522</th>\n",
       "      <td>3950</td>\n",
       "      <td>2009.0</td>\n",
       "      <td>hyundai sonata</td>\n",
       "      <td>excellent</td>\n",
       "      <td>4</td>\n",
       "      <td>gas</td>\n",
       "      <td>128000</td>\n",
       "      <td>automatic</td>\n",
       "      <td>sedan</td>\n",
       "      <td>blue</td>\n",
       "      <td>0</td>\n",
       "      <td>2018-11-15</td>\n",
       "      <td>32</td>\n",
       "      <td>2009</td>\n",
       "      <td>3</td>\n",
       "      <td>11</td>\n",
       "      <td>2018</td>\n",
       "      <td>9</td>\n",
       "      <td>14222.222222</td>\n",
       "      <td>3</td>\n",
       "    </tr>\n",
       "    <tr>\n",
       "      <th>51523</th>\n",
       "      <td>7455</td>\n",
       "      <td>2013.0</td>\n",
       "      <td>toyota corolla</td>\n",
       "      <td>good</td>\n",
       "      <td>4</td>\n",
       "      <td>gas</td>\n",
       "      <td>139573</td>\n",
       "      <td>automatic</td>\n",
       "      <td>sedan</td>\n",
       "      <td>black</td>\n",
       "      <td>0</td>\n",
       "      <td>2018-07-02</td>\n",
       "      <td>71</td>\n",
       "      <td>2013</td>\n",
       "      <td>0</td>\n",
       "      <td>7</td>\n",
       "      <td>2018</td>\n",
       "      <td>5</td>\n",
       "      <td>27914.600000</td>\n",
       "      <td>2</td>\n",
       "    </tr>\n",
       "    <tr>\n",
       "      <th>51524</th>\n",
       "      <td>6300</td>\n",
       "      <td>2014.0</td>\n",
       "      <td>nissan altima</td>\n",
       "      <td>good</td>\n",
       "      <td>4</td>\n",
       "      <td>gas</td>\n",
       "      <td>99253</td>\n",
       "      <td>automatic</td>\n",
       "      <td>sedan</td>\n",
       "      <td>unknown</td>\n",
       "      <td>0</td>\n",
       "      <td>2018-06-05</td>\n",
       "      <td>10</td>\n",
       "      <td>2014</td>\n",
       "      <td>1</td>\n",
       "      <td>6</td>\n",
       "      <td>2018</td>\n",
       "      <td>4</td>\n",
       "      <td>24813.250000</td>\n",
       "      <td>2</td>\n",
       "    </tr>\n",
       "  </tbody>\n",
       "</table>\n",
       "</div>"
      ],
      "text/plain": [
       "       price  model_year           model  condition  cylinders fuel  odometer  \\\n",
       "51520   9249      2013.0   nissan maxima   like new          6  gas     88136   \n",
       "51521   2700      2002.0     honda civic    salvage          4  gas    181500   \n",
       "51522   3950      2009.0  hyundai sonata  excellent          4  gas    128000   \n",
       "51523   7455      2013.0  toyota corolla       good          4  gas    139573   \n",
       "51524   6300      2014.0   nissan altima       good          4  gas     99253   \n",
       "\n",
       "      transmission   type paint_color  is_4wd date_posted  days_listed  \\\n",
       "51520    automatic  sedan       black       0  2018-10-03           37   \n",
       "51521    automatic  sedan       white       0  2018-11-14           22   \n",
       "51522    automatic  sedan        blue       0  2018-11-15           32   \n",
       "51523    automatic  sedan       black       0  2018-07-02           71   \n",
       "51524    automatic  sedan     unknown       0  2018-06-05           10   \n",
       "\n",
       "       model_year_filled  weekday  month_posted  year_posted  age_when_posted  \\\n",
       "51520               2013        2            10         2018                5   \n",
       "51521               2002        2            11         2018               16   \n",
       "51522               2009        3            11         2018                9   \n",
       "51523               2013        0             7         2018                5   \n",
       "51524               2014        1             6         2018                4   \n",
       "\n",
       "       average_miles_year  condition_group  \n",
       "51520        17627.200000                4  \n",
       "51521        11343.750000                0  \n",
       "51522        14222.222222                3  \n",
       "51523        27914.600000                2  \n",
       "51524        24813.250000                2  "
      ]
     },
     "execution_count": 29,
     "metadata": {},
     "output_type": "execute_result"
    }
   ],
   "source": [
    "# printing a sample of data\n",
    "df.tail()"
   ]
  },
  {
   "cell_type": "markdown",
   "metadata": {},
   "source": [
    "## Studying the core parameters\n",
    "The parameters are:\n",
    "- Price\n",
    "- The vehicle's age when the ad was placed\n",
    "- Mileage\n",
    "- Number of cylinders\n",
    "- Condition"
   ]
  },
  {
   "cell_type": "code",
   "execution_count": 30,
   "metadata": {},
   "outputs": [
    {
     "data": {
      "text/plain": [
       "count     51525.000000\n",
       "mean      12132.464920\n",
       "std       10040.803015\n",
       "min           1.000000\n",
       "25%        5000.000000\n",
       "50%        9000.000000\n",
       "75%       16839.000000\n",
       "max      375000.000000\n",
       "Name: price, dtype: float64"
      ]
     },
     "execution_count": 30,
     "metadata": {},
     "output_type": "execute_result"
    },
    {
     "data": {
      "image/png": "[encoded data removed]",
      "text/plain": [
       "<Figure size 432x288 with 1 Axes>"
      ]
     },
     "metadata": {
      "needs_background": "light"
     },
     "output_type": "display_data"
    },
    {
     "data": {
      "image/png": "[encoded data removed]",
      "text/plain": [
       "<Figure size 432x288 with 1 Axes>"
      ]
     },
     "metadata": {
      "needs_background": "light"
     },
     "output_type": "display_data"
    },
    {
     "data": {
      "image/png": "[encoded data removed]",
      "text/plain": [
       "<Figure size 432x288 with 1 Axes>"
      ]
     },
     "metadata": {
      "needs_background": "light"
     },
     "output_type": "display_data"
    }
   ],
   "source": [
    "# looking at distribution of values in price column\n",
    "df.hist('price', bins = 100, range=(0, 100000))\n",
    "plt.title('Price')\n",
    "# lowest prices\n",
    "df.hist('price', bins = 20, range=(0, 500))\n",
    "plt.title('Price')\n",
    "# looking at distribution of highest prices\n",
    "df.hist('price', bins = 20, range=(70000, 400000))\n",
    "plt.title('Price')\n",
    "df['price'].describe()"
   ]
  },
  {
   "cell_type": "code",
   "execution_count": 31,
   "metadata": {},
   "outputs": [
    {
     "data": {
      "image/png": "[encoded data removed]",
      "text/plain": [
       "<Figure size 432x288 with 1 Axes>"
      ]
     },
     "metadata": {
      "needs_background": "light"
     },
     "output_type": "display_data"
    },
    {
     "data": {
      "image/png": "[encoded data removed]",
      "text/plain": [
       "<Figure size 432x288 with 1 Axes>"
      ]
     },
     "metadata": {
      "needs_background": "light"
     },
     "output_type": "display_data"
    }
   ],
   "source": [
    "# looking closer at prices between 0 to 20000\n",
    "df.hist('price', bins = 200, range=(0, 20000))\n",
    "# looking at prices between 5000 to 7000\n",
    "df.hist('price', bins = 200, range=(5000, 7000));"
   ]
  },
  {
   "cell_type": "markdown",
   "metadata": {},
   "source": [
    "From the plotted histograms, we can see that there are around 850 cars that cost less than 100.\n",
    "In histogram where price range is 0 to 20000, we have some spikes in concentrations and it is apparent that sellers will often choose to price their cars in round numbers of thousands."
   ]
  },
  {
   "cell_type": "code",
   "execution_count": 32,
   "metadata": {},
   "outputs": [
    {
     "data": {
      "image/png": "[encoded data removed]",
      "text/plain": [
       "<Figure size 432x288 with 1 Axes>"
      ]
     },
     "metadata": {
      "needs_background": "light"
     },
     "output_type": "display_data"
    }
   ],
   "source": [
    "# plotting a bar chart that shows median vehicle price depending on amount of cylinders\n",
    "cyl_stats = df.pivot_table(index = 'cylinders', values = 'price', aggfunc = 'median')\n",
    "cyl_stats.sort_values(by = 'cylinders', ascending = False).plot(kind = 'bar')\n",
    "cyl_stats;"
   ]
  },
  {
   "cell_type": "markdown",
   "metadata": {},
   "source": [
    "It appears some of 10 cylinder vehicles are priced only at 1 (USD?)."
   ]
  },
  {
   "cell_type": "code",
   "execution_count": 33,
   "metadata": {},
   "outputs": [
    {
     "data": {
      "text/html": [
       "<div>\n",
       "<style scoped>\n",
       "    .dataframe tbody tr th:only-of-type {\n",
       "        vertical-align: middle;\n",
       "    }\n",
       "\n",
       "    .dataframe tbody tr th {\n",
       "        vertical-align: top;\n",
       "    }\n",
       "\n",
       "    .dataframe thead th {\n",
       "        text-align: right;\n",
       "    }\n",
       "</style>\n",
       "<table border=\"1\" class=\"dataframe\">\n",
       "  <thead>\n",
       "    <tr style=\"text-align: right;\">\n",
       "      <th></th>\n",
       "      <th>price</th>\n",
       "      <th>model_year</th>\n",
       "      <th>model</th>\n",
       "      <th>condition</th>\n",
       "      <th>cylinders</th>\n",
       "      <th>fuel</th>\n",
       "      <th>odometer</th>\n",
       "      <th>transmission</th>\n",
       "      <th>type</th>\n",
       "      <th>paint_color</th>\n",
       "      <th>is_4wd</th>\n",
       "      <th>date_posted</th>\n",
       "      <th>days_listed</th>\n",
       "      <th>model_year_filled</th>\n",
       "      <th>weekday</th>\n",
       "      <th>month_posted</th>\n",
       "      <th>year_posted</th>\n",
       "      <th>age_when_posted</th>\n",
       "      <th>average_miles_year</th>\n",
       "      <th>condition_group</th>\n",
       "    </tr>\n",
       "  </thead>\n",
       "  <tbody>\n",
       "    <tr>\n",
       "      <th>9168</th>\n",
       "      <td>1</td>\n",
       "      <td>2017.0</td>\n",
       "      <td>ford expedition</td>\n",
       "      <td>excellent</td>\n",
       "      <td>10</td>\n",
       "      <td>gas</td>\n",
       "      <td>56048</td>\n",
       "      <td>other</td>\n",
       "      <td>SUV</td>\n",
       "      <td>grey</td>\n",
       "      <td>1</td>\n",
       "      <td>2019-04-01</td>\n",
       "      <td>45</td>\n",
       "      <td>2017</td>\n",
       "      <td>0</td>\n",
       "      <td>4</td>\n",
       "      <td>2019</td>\n",
       "      <td>2</td>\n",
       "      <td>28024.00</td>\n",
       "      <td>3</td>\n",
       "    </tr>\n",
       "    <tr>\n",
       "      <th>9169</th>\n",
       "      <td>1</td>\n",
       "      <td>2014.0</td>\n",
       "      <td>jeep wrangler</td>\n",
       "      <td>excellent</td>\n",
       "      <td>10</td>\n",
       "      <td>gas</td>\n",
       "      <td>84902</td>\n",
       "      <td>other</td>\n",
       "      <td>SUV</td>\n",
       "      <td>unknown</td>\n",
       "      <td>1</td>\n",
       "      <td>2018-09-13</td>\n",
       "      <td>32</td>\n",
       "      <td>2014</td>\n",
       "      <td>3</td>\n",
       "      <td>9</td>\n",
       "      <td>2018</td>\n",
       "      <td>4</td>\n",
       "      <td>21225.50</td>\n",
       "      <td>3</td>\n",
       "    </tr>\n",
       "    <tr>\n",
       "      <th>9173</th>\n",
       "      <td>1</td>\n",
       "      <td>2019.0</td>\n",
       "      <td>gmc acadia</td>\n",
       "      <td>excellent</td>\n",
       "      <td>10</td>\n",
       "      <td>gas</td>\n",
       "      <td>11000</td>\n",
       "      <td>other</td>\n",
       "      <td>SUV</td>\n",
       "      <td>custom</td>\n",
       "      <td>1</td>\n",
       "      <td>2019-02-04</td>\n",
       "      <td>154</td>\n",
       "      <td>2019</td>\n",
       "      <td>0</td>\n",
       "      <td>2</td>\n",
       "      <td>2019</td>\n",
       "      <td>1</td>\n",
       "      <td>11000.00</td>\n",
       "      <td>3</td>\n",
       "    </tr>\n",
       "    <tr>\n",
       "      <th>9174</th>\n",
       "      <td>1</td>\n",
       "      <td>2017.0</td>\n",
       "      <td>jeep grand cherokee</td>\n",
       "      <td>excellent</td>\n",
       "      <td>10</td>\n",
       "      <td>gas</td>\n",
       "      <td>42469</td>\n",
       "      <td>other</td>\n",
       "      <td>SUV</td>\n",
       "      <td>white</td>\n",
       "      <td>1</td>\n",
       "      <td>2018-07-23</td>\n",
       "      <td>9</td>\n",
       "      <td>2017</td>\n",
       "      <td>0</td>\n",
       "      <td>7</td>\n",
       "      <td>2018</td>\n",
       "      <td>1</td>\n",
       "      <td>42469.00</td>\n",
       "      <td>3</td>\n",
       "    </tr>\n",
       "    <tr>\n",
       "      <th>9177</th>\n",
       "      <td>1</td>\n",
       "      <td>2014.0</td>\n",
       "      <td>chevrolet camaro</td>\n",
       "      <td>excellent</td>\n",
       "      <td>10</td>\n",
       "      <td>gas</td>\n",
       "      <td>62801</td>\n",
       "      <td>other</td>\n",
       "      <td>coupe</td>\n",
       "      <td>black</td>\n",
       "      <td>1</td>\n",
       "      <td>2018-11-11</td>\n",
       "      <td>45</td>\n",
       "      <td>2014</td>\n",
       "      <td>6</td>\n",
       "      <td>11</td>\n",
       "      <td>2018</td>\n",
       "      <td>4</td>\n",
       "      <td>15700.25</td>\n",
       "      <td>3</td>\n",
       "    </tr>\n",
       "  </tbody>\n",
       "</table>\n",
       "</div>"
      ],
      "text/plain": [
       "      price  model_year                model  condition  cylinders fuel  \\\n",
       "9168      1      2017.0      ford expedition  excellent         10  gas   \n",
       "9169      1      2014.0        jeep wrangler  excellent         10  gas   \n",
       "9173      1      2019.0           gmc acadia  excellent         10  gas   \n",
       "9174      1      2017.0  jeep grand cherokee  excellent         10  gas   \n",
       "9177      1      2014.0     chevrolet camaro  excellent         10  gas   \n",
       "\n",
       "      odometer transmission   type paint_color  is_4wd date_posted  \\\n",
       "9168     56048        other    SUV        grey       1  2019-04-01   \n",
       "9169     84902        other    SUV     unknown       1  2018-09-13   \n",
       "9173     11000        other    SUV      custom       1  2019-02-04   \n",
       "9174     42469        other    SUV       white       1  2018-07-23   \n",
       "9177     62801        other  coupe       black       1  2018-11-11   \n",
       "\n",
       "      days_listed  model_year_filled  weekday  month_posted  year_posted  \\\n",
       "9168           45               2017        0             4         2019   \n",
       "9169           32               2014        3             9         2018   \n",
       "9173          154               2019        0             2         2019   \n",
       "9174            9               2017        0             7         2018   \n",
       "9177           45               2014        6            11         2018   \n",
       "\n",
       "      age_when_posted  average_miles_year  condition_group  \n",
       "9168                2            28024.00                3  \n",
       "9169                4            21225.50                3  \n",
       "9173                1            11000.00                3  \n",
       "9174                1            42469.00                3  \n",
       "9177                4            15700.25                3  "
      ]
     },
     "execution_count": 33,
     "metadata": {},
     "output_type": "execute_result"
    }
   ],
   "source": [
    "# looking closer at 10 cylinder cars\n",
    "df.query('cylinders == 10 and price == 1').head()"
   ]
  },
  {
   "cell_type": "code",
   "execution_count": 34,
   "metadata": {},
   "outputs": [
    {
     "data": {
      "image/png": "[encoded data removed]",
      "text/plain": [
       "<Figure size 432x288 with 1 Axes>"
      ]
     },
     "metadata": {
      "needs_background": "light"
     },
     "output_type": "display_data"
    },
    {
     "data": {
      "text/plain": [
       "count     51525.000000\n",
       "mean      17640.774167\n",
       "std       12640.468137\n",
       "min           0.000000\n",
       "25%       10777.777778\n",
       "50%       14996.777778\n",
       "75%       21077.777778\n",
       "max      373200.000000\n",
       "Name: average_miles_year, dtype: float64"
      ]
     },
     "execution_count": 34,
     "metadata": {},
     "output_type": "execute_result"
    }
   ],
   "source": [
    "# looking at distribution of values in average_miles_year column\n",
    "plt.boxplot(df['average_miles_year'].astype(int))\n",
    "plt.ylim([0, df['average_miles_year'].max()])\n",
    "plt.show()\n",
    "df['average_miles_year'].describe()"
   ]
  },
  {
   "cell_type": "code",
   "execution_count": 35,
   "metadata": {},
   "outputs": [
    {
     "data": {
      "text/plain": [
       "count     51525.000000\n",
       "mean      17640.774167\n",
       "std       12640.468137\n",
       "min           0.000000\n",
       "25%       10777.777778\n",
       "50%       14996.777778\n",
       "75%       21077.777778\n",
       "max      373200.000000\n",
       "Name: average_miles_year, dtype: float64"
      ]
     },
     "execution_count": 35,
     "metadata": {},
     "output_type": "execute_result"
    },
    {
     "data": {
      "image/png": "[encoded data removed]",
      "text/plain": [
       "<Figure size 432x288 with 1 Axes>"
      ]
     },
     "metadata": {
      "needs_background": "light"
     },
     "output_type": "display_data"
    }
   ],
   "source": [
    "# looking at distribution of highest values\n",
    "df.hist('average_miles_year', bins = 20, range=(20000, 100000))\n",
    "df['average_miles_year'].describe()"
   ]
  },
  {
   "cell_type": "code",
   "execution_count": 36,
   "metadata": {},
   "outputs": [
    {
     "data": {
      "text/html": [
       "<div>\n",
       "<style scoped>\n",
       "    .dataframe tbody tr th:only-of-type {\n",
       "        vertical-align: middle;\n",
       "    }\n",
       "\n",
       "    .dataframe tbody tr th {\n",
       "        vertical-align: top;\n",
       "    }\n",
       "\n",
       "    .dataframe thead th {\n",
       "        text-align: right;\n",
       "    }\n",
       "</style>\n",
       "<table border=\"1\" class=\"dataframe\">\n",
       "  <thead>\n",
       "    <tr style=\"text-align: right;\">\n",
       "      <th></th>\n",
       "      <th>average_miles_year</th>\n",
       "    </tr>\n",
       "    <tr>\n",
       "      <th>condition</th>\n",
       "      <th></th>\n",
       "    </tr>\n",
       "  </thead>\n",
       "  <tbody>\n",
       "    <tr>\n",
       "      <th>excellent</th>\n",
       "      <td>15473.833333</td>\n",
       "    </tr>\n",
       "    <tr>\n",
       "      <th>fair</th>\n",
       "      <td>12000.000000</td>\n",
       "    </tr>\n",
       "    <tr>\n",
       "      <th>good</th>\n",
       "      <td>14585.285714</td>\n",
       "    </tr>\n",
       "    <tr>\n",
       "      <th>like new</th>\n",
       "      <td>15313.833333</td>\n",
       "    </tr>\n",
       "    <tr>\n",
       "      <th>new</th>\n",
       "      <td>8571.428571</td>\n",
       "    </tr>\n",
       "    <tr>\n",
       "      <th>salvage</th>\n",
       "      <td>12250.000000</td>\n",
       "    </tr>\n",
       "  </tbody>\n",
       "</table>\n",
       "</div>"
      ],
      "text/plain": [
       "           average_miles_year\n",
       "condition                    \n",
       "excellent        15473.833333\n",
       "fair             12000.000000\n",
       "good             14585.285714\n",
       "like new         15313.833333\n",
       "new               8571.428571\n",
       "salvage          12250.000000"
      ]
     },
     "execution_count": 36,
     "metadata": {},
     "output_type": "execute_result"
    },
    {
     "data": {
      "image/png": "[encoded data removed]",
      "text/plain": [
       "<Figure size 432x288 with 1 Axes>"
      ]
     },
     "metadata": {
      "needs_background": "light"
     },
     "output_type": "display_data"
    }
   ],
   "source": [
    "# plotting a bar chart that shows median yearly mileage depending on vehicle's condition\n",
    "mileage = df.pivot_table(index = 'condition', values = 'average_miles_year', aggfunc = 'median')\n",
    "mileage.sort_values(by = 'average_miles_year').plot(kind = 'bar')\n",
    "mileage"
   ]
  },
  {
   "cell_type": "markdown",
   "metadata": {},
   "source": [
    "New car median yearly mileage value is 8571 while cars in excellent category have highest median yearly mileage value - 15473."
   ]
  },
  {
   "cell_type": "code",
   "execution_count": 37,
   "metadata": {},
   "outputs": [
    {
     "data": {
      "text/html": [
       "<div>\n",
       "<style scoped>\n",
       "    .dataframe tbody tr th:only-of-type {\n",
       "        vertical-align: middle;\n",
       "    }\n",
       "\n",
       "    .dataframe tbody tr th {\n",
       "        vertical-align: top;\n",
       "    }\n",
       "\n",
       "    .dataframe thead th {\n",
       "        text-align: right;\n",
       "    }\n",
       "</style>\n",
       "<table border=\"1\" class=\"dataframe\">\n",
       "  <thead>\n",
       "    <tr style=\"text-align: right;\">\n",
       "      <th></th>\n",
       "      <th>price</th>\n",
       "    </tr>\n",
       "    <tr>\n",
       "      <th>age_when_posted</th>\n",
       "      <th></th>\n",
       "    </tr>\n",
       "  </thead>\n",
       "  <tbody>\n",
       "    <tr>\n",
       "      <th>1</th>\n",
       "      <td>22490.0</td>\n",
       "    </tr>\n",
       "    <tr>\n",
       "      <th>2</th>\n",
       "      <td>18990.0</td>\n",
       "    </tr>\n",
       "    <tr>\n",
       "      <th>3</th>\n",
       "      <td>18000.0</td>\n",
       "    </tr>\n",
       "    <tr>\n",
       "      <th>4</th>\n",
       "      <td>14900.0</td>\n",
       "    </tr>\n",
       "    <tr>\n",
       "      <th>5</th>\n",
       "      <td>12500.0</td>\n",
       "    </tr>\n",
       "  </tbody>\n",
       "</table>\n",
       "</div>"
      ],
      "text/plain": [
       "                   price\n",
       "age_when_posted         \n",
       "1                22490.0\n",
       "2                18990.0\n",
       "3                18000.0\n",
       "4                14900.0\n",
       "5                12500.0"
      ]
     },
     "execution_count": 37,
     "metadata": {},
     "output_type": "execute_result"
    },
    {
     "data": {
      "image/png": "[encoded data removed]",
      "text/plain": [
       "<Figure size 432x288 with 1 Axes>"
      ]
     },
     "metadata": {
      "needs_background": "light"
     },
     "output_type": "display_data"
    }
   ],
   "source": [
    "# looking at median prices depending on vehicle's age\n",
    "age_median_price = df.pivot_table(index = 'age_when_posted', values = 'price', aggfunc = 'median')\n",
    "age_median_price.sort_values(by='age_when_posted').plot(kind='hist', bins = 20)\n",
    "age_median_price.head()"
   ]
  },
  {
   "cell_type": "code",
   "execution_count": 38,
   "metadata": {},
   "outputs": [
    {
     "data": {
      "text/html": [
       "<div>\n",
       "<style scoped>\n",
       "    .dataframe tbody tr th:only-of-type {\n",
       "        vertical-align: middle;\n",
       "    }\n",
       "\n",
       "    .dataframe tbody tr th {\n",
       "        vertical-align: top;\n",
       "    }\n",
       "\n",
       "    .dataframe thead th {\n",
       "        text-align: right;\n",
       "    }\n",
       "</style>\n",
       "<table border=\"1\" class=\"dataframe\">\n",
       "  <thead>\n",
       "    <tr style=\"text-align: right;\">\n",
       "      <th></th>\n",
       "      <th>average_miles_year</th>\n",
       "    </tr>\n",
       "    <tr>\n",
       "      <th>age_when_posted</th>\n",
       "      <th></th>\n",
       "    </tr>\n",
       "  </thead>\n",
       "  <tbody>\n",
       "    <tr>\n",
       "      <th>1</th>\n",
       "      <td>27828.000000</td>\n",
       "    </tr>\n",
       "    <tr>\n",
       "      <th>2</th>\n",
       "      <td>25638.000000</td>\n",
       "    </tr>\n",
       "    <tr>\n",
       "      <th>3</th>\n",
       "      <td>23933.666667</td>\n",
       "    </tr>\n",
       "    <tr>\n",
       "      <th>4</th>\n",
       "      <td>21540.500000</td>\n",
       "    </tr>\n",
       "    <tr>\n",
       "      <th>5</th>\n",
       "      <td>19750.000000</td>\n",
       "    </tr>\n",
       "  </tbody>\n",
       "</table>\n",
       "</div>"
      ],
      "text/plain": [
       "                 average_miles_year\n",
       "age_when_posted                    \n",
       "1                      27828.000000\n",
       "2                      25638.000000\n",
       "3                      23933.666667\n",
       "4                      21540.500000\n",
       "5                      19750.000000"
      ]
     },
     "execution_count": 38,
     "metadata": {},
     "output_type": "execute_result"
    },
    {
     "data": {
      "image/png": "[encoded data removed]",
      "text/plain": [
       "<Figure size 432x288 with 1 Axes>"
      ]
     },
     "metadata": {
      "needs_background": "light"
     },
     "output_type": "display_data"
    }
   ],
   "source": [
    "# looking at median yearly mileage values depending on vehicle's age\n",
    "miles_age = df.pivot_table(index = 'age_when_posted', values = 'average_miles_year', aggfunc = 'median')\n",
    "miles_age.sort_values(by='age_when_posted').plot(kind='hist', bins = 20, grid = True)\n",
    "miles_age.head()"
   ]
  },
  {
   "cell_type": "markdown",
   "metadata": {},
   "source": [
    "## Studying and treating the outliers"
   ]
  },
  {
   "cell_type": "code",
   "execution_count": 39,
   "metadata": {},
   "outputs": [
    {
     "data": {
      "text/plain": [
       "count     51525.000000\n",
       "mean      12132.464920\n",
       "std       10040.803015\n",
       "min           1.000000\n",
       "25%        5000.000000\n",
       "50%        9000.000000\n",
       "75%       16839.000000\n",
       "max      375000.000000\n",
       "Name: price, dtype: float64"
      ]
     },
     "execution_count": 39,
     "metadata": {},
     "output_type": "execute_result"
    },
    {
     "data": {
      "image/png": "[encoded data removed]",
      "text/plain": [
       "<Figure size 432x288 with 1 Axes>"
      ]
     },
     "metadata": {
      "needs_background": "light"
     },
     "output_type": "display_data"
    }
   ],
   "source": [
    "# Determine the lower limits for outliers\n",
    "plt.ylim(0, 50000)\n",
    "df.boxplot(column=['price'])\n",
    "df['price'].describe()"
   ]
  },
  {
   "cell_type": "code",
   "execution_count": 40,
   "metadata": {},
   "outputs": [
    {
     "data": {
      "text/plain": [
       "count     51525.000000\n",
       "mean      17640.774167\n",
       "std       12640.468137\n",
       "min           0.000000\n",
       "25%       10777.777778\n",
       "50%       14996.777778\n",
       "75%       21077.777778\n",
       "max      373200.000000\n",
       "Name: average_miles_year, dtype: float64"
      ]
     },
     "execution_count": 40,
     "metadata": {},
     "output_type": "execute_result"
    },
    {
     "data": {
      "image/png": "[encoded data removed]",
      "text/plain": [
       "<Figure size 432x288 with 1 Axes>"
      ]
     },
     "metadata": {
      "needs_background": "light"
     },
     "output_type": "display_data"
    }
   ],
   "source": [
    "Q1 = df['average_miles_year'].quantile(0.25)\n",
    "Q3 = df['average_miles_year'].quantile(0.75)\n",
    "IQR = Q3 - Q1\n",
    "plt.ylim(-1000, 40000)\n",
    "df.boxplot(column=['average_miles_year'])\n",
    "plt.hlines(y=[Q1-1.5*IQR], xmin=0.9, xmax=1.1, color='red')\n",
    "df['average_miles_year'].describe()"
   ]
  },
  {
   "cell_type": "code",
   "execution_count": 41,
   "metadata": {},
   "outputs": [
    {
     "data": {
      "text/plain": [
       "count     51525.000000\n",
       "mean      17640.774167\n",
       "std       12640.468137\n",
       "min           0.000000\n",
       "25%       10777.777778\n",
       "50%       14996.777778\n",
       "75%       21077.777778\n",
       "max      373200.000000\n",
       "Name: average_miles_year, dtype: float64"
      ]
     },
     "execution_count": 41,
     "metadata": {},
     "output_type": "execute_result"
    },
    {
     "data": {
      "image/png": "[encoded data removed]",
      "text/plain": [
       "<Figure size 432x288 with 1 Axes>"
      ]
     },
     "metadata": {
      "needs_background": "light"
     },
     "output_type": "display_data"
    }
   ],
   "source": [
    "Q1 = df['average_miles_year'].quantile(0.25)\n",
    "Q3 = df['average_miles_year'].quantile(0.75)\n",
    "IQR = Q3 - Q1\n",
    "plt.ylim(0, 370000)\n",
    "df.boxplot(column=['average_miles_year'])\n",
    "plt.hlines(y=[Q1-1.5*IQR], xmin=0.9, xmax=1.1, color='red')\n",
    "df['average_miles_year'].describe()"
   ]
  },
  {
   "cell_type": "code",
   "execution_count": 42,
   "metadata": {},
   "outputs": [
    {
     "data": {
      "text/html": [
       "<div>\n",
       "<style scoped>\n",
       "    .dataframe tbody tr th:only-of-type {\n",
       "        vertical-align: middle;\n",
       "    }\n",
       "\n",
       "    .dataframe tbody tr th {\n",
       "        vertical-align: top;\n",
       "    }\n",
       "\n",
       "    .dataframe thead th {\n",
       "        text-align: right;\n",
       "    }\n",
       "</style>\n",
       "<table border=\"1\" class=\"dataframe\">\n",
       "  <thead>\n",
       "    <tr style=\"text-align: right;\">\n",
       "      <th></th>\n",
       "      <th>price</th>\n",
       "      <th>model_year</th>\n",
       "      <th>model</th>\n",
       "      <th>condition</th>\n",
       "      <th>cylinders</th>\n",
       "      <th>fuel</th>\n",
       "      <th>odometer</th>\n",
       "      <th>transmission</th>\n",
       "      <th>type</th>\n",
       "      <th>paint_color</th>\n",
       "      <th>is_4wd</th>\n",
       "      <th>date_posted</th>\n",
       "      <th>days_listed</th>\n",
       "      <th>model_year_filled</th>\n",
       "      <th>weekday</th>\n",
       "      <th>month_posted</th>\n",
       "      <th>year_posted</th>\n",
       "      <th>age_when_posted</th>\n",
       "      <th>average_miles_year</th>\n",
       "      <th>condition_group</th>\n",
       "    </tr>\n",
       "  </thead>\n",
       "  <tbody>\n",
       "    <tr>\n",
       "      <th>4970</th>\n",
       "      <td>29000</td>\n",
       "      <td>2018.0</td>\n",
       "      <td>chevrolet silverado 1500</td>\n",
       "      <td>excellent</td>\n",
       "      <td>8</td>\n",
       "      <td>gas</td>\n",
       "      <td>373200</td>\n",
       "      <td>automatic</td>\n",
       "      <td>truck</td>\n",
       "      <td>unknown</td>\n",
       "      <td>1</td>\n",
       "      <td>2018-09-14</td>\n",
       "      <td>40</td>\n",
       "      <td>2018</td>\n",
       "      <td>4</td>\n",
       "      <td>9</td>\n",
       "      <td>2018</td>\n",
       "      <td>1</td>\n",
       "      <td>373200.000000</td>\n",
       "      <td>3</td>\n",
       "    </tr>\n",
       "    <tr>\n",
       "      <th>9742</th>\n",
       "      <td>12500</td>\n",
       "      <td>2018.0</td>\n",
       "      <td>nissan altima</td>\n",
       "      <td>like new</td>\n",
       "      <td>4</td>\n",
       "      <td>gas</td>\n",
       "      <td>320000</td>\n",
       "      <td>automatic</td>\n",
       "      <td>sedan</td>\n",
       "      <td>silver</td>\n",
       "      <td>0</td>\n",
       "      <td>2018-08-14</td>\n",
       "      <td>75</td>\n",
       "      <td>2018</td>\n",
       "      <td>1</td>\n",
       "      <td>8</td>\n",
       "      <td>2018</td>\n",
       "      <td>1</td>\n",
       "      <td>320000.000000</td>\n",
       "      <td>4</td>\n",
       "    </tr>\n",
       "    <tr>\n",
       "      <th>13027</th>\n",
       "      <td>8500</td>\n",
       "      <td>2015.0</td>\n",
       "      <td>chevrolet malibu</td>\n",
       "      <td>excellent</td>\n",
       "      <td>4</td>\n",
       "      <td>gas</td>\n",
       "      <td>838095</td>\n",
       "      <td>automatic</td>\n",
       "      <td>sedan</td>\n",
       "      <td>silver</td>\n",
       "      <td>0</td>\n",
       "      <td>2018-05-30</td>\n",
       "      <td>10</td>\n",
       "      <td>2015</td>\n",
       "      <td>2</td>\n",
       "      <td>5</td>\n",
       "      <td>2018</td>\n",
       "      <td>3</td>\n",
       "      <td>279365.000000</td>\n",
       "      <td>3</td>\n",
       "    </tr>\n",
       "    <tr>\n",
       "      <th>5735</th>\n",
       "      <td>7500</td>\n",
       "      <td>2015.0</td>\n",
       "      <td>hyundai elantra</td>\n",
       "      <td>excellent</td>\n",
       "      <td>4</td>\n",
       "      <td>gas</td>\n",
       "      <td>813542</td>\n",
       "      <td>other</td>\n",
       "      <td>coupe</td>\n",
       "      <td>brown</td>\n",
       "      <td>0</td>\n",
       "      <td>2018-11-21</td>\n",
       "      <td>5</td>\n",
       "      <td>2015</td>\n",
       "      <td>2</td>\n",
       "      <td>11</td>\n",
       "      <td>2018</td>\n",
       "      <td>3</td>\n",
       "      <td>271180.666667</td>\n",
       "      <td>3</td>\n",
       "    </tr>\n",
       "    <tr>\n",
       "      <th>48962</th>\n",
       "      <td>40000</td>\n",
       "      <td>2014.0</td>\n",
       "      <td>ram 3500</td>\n",
       "      <td>excellent</td>\n",
       "      <td>8</td>\n",
       "      <td>diesel</td>\n",
       "      <td>980000</td>\n",
       "      <td>automatic</td>\n",
       "      <td>truck</td>\n",
       "      <td>white</td>\n",
       "      <td>1</td>\n",
       "      <td>2018-12-06</td>\n",
       "      <td>7</td>\n",
       "      <td>2014</td>\n",
       "      <td>3</td>\n",
       "      <td>12</td>\n",
       "      <td>2018</td>\n",
       "      <td>4</td>\n",
       "      <td>245000.000000</td>\n",
       "      <td>3</td>\n",
       "    </tr>\n",
       "    <tr>\n",
       "      <th>2840</th>\n",
       "      <td>18500</td>\n",
       "      <td>2014.0</td>\n",
       "      <td>ford explorer</td>\n",
       "      <td>excellent</td>\n",
       "      <td>6</td>\n",
       "      <td>gas</td>\n",
       "      <td>866000</td>\n",
       "      <td>automatic</td>\n",
       "      <td>SUV</td>\n",
       "      <td>black</td>\n",
       "      <td>1</td>\n",
       "      <td>2018-07-20</td>\n",
       "      <td>14</td>\n",
       "      <td>2014</td>\n",
       "      <td>4</td>\n",
       "      <td>7</td>\n",
       "      <td>2018</td>\n",
       "      <td>4</td>\n",
       "      <td>216500.000000</td>\n",
       "      <td>3</td>\n",
       "    </tr>\n",
       "    <tr>\n",
       "      <th>33578</th>\n",
       "      <td>12995</td>\n",
       "      <td>2014.0</td>\n",
       "      <td>chrysler 300</td>\n",
       "      <td>like new</td>\n",
       "      <td>6</td>\n",
       "      <td>gas</td>\n",
       "      <td>811956</td>\n",
       "      <td>automatic</td>\n",
       "      <td>sedan</td>\n",
       "      <td>unknown</td>\n",
       "      <td>0</td>\n",
       "      <td>2018-11-13</td>\n",
       "      <td>44</td>\n",
       "      <td>2014</td>\n",
       "      <td>1</td>\n",
       "      <td>11</td>\n",
       "      <td>2018</td>\n",
       "      <td>4</td>\n",
       "      <td>202989.000000</td>\n",
       "      <td>4</td>\n",
       "    </tr>\n",
       "    <tr>\n",
       "      <th>40729</th>\n",
       "      <td>4700</td>\n",
       "      <td>2013.0</td>\n",
       "      <td>chevrolet cruze</td>\n",
       "      <td>good</td>\n",
       "      <td>6</td>\n",
       "      <td>gas</td>\n",
       "      <td>990000</td>\n",
       "      <td>automatic</td>\n",
       "      <td>sedan</td>\n",
       "      <td>black</td>\n",
       "      <td>0</td>\n",
       "      <td>2018-05-02</td>\n",
       "      <td>4</td>\n",
       "      <td>2013</td>\n",
       "      <td>2</td>\n",
       "      <td>5</td>\n",
       "      <td>2018</td>\n",
       "      <td>5</td>\n",
       "      <td>198000.000000</td>\n",
       "      <td>2</td>\n",
       "    </tr>\n",
       "    <tr>\n",
       "      <th>36412</th>\n",
       "      <td>9000</td>\n",
       "      <td>2018.0</td>\n",
       "      <td>chevrolet equinox</td>\n",
       "      <td>excellent</td>\n",
       "      <td>4</td>\n",
       "      <td>gas</td>\n",
       "      <td>195700</td>\n",
       "      <td>automatic</td>\n",
       "      <td>SUV</td>\n",
       "      <td>unknown</td>\n",
       "      <td>1</td>\n",
       "      <td>2018-05-16</td>\n",
       "      <td>31</td>\n",
       "      <td>2018</td>\n",
       "      <td>2</td>\n",
       "      <td>5</td>\n",
       "      <td>2018</td>\n",
       "      <td>1</td>\n",
       "      <td>195700.000000</td>\n",
       "      <td>3</td>\n",
       "    </tr>\n",
       "    <tr>\n",
       "      <th>41699</th>\n",
       "      <td>10300</td>\n",
       "      <td>2013.0</td>\n",
       "      <td>ford escape</td>\n",
       "      <td>excellent</td>\n",
       "      <td>6</td>\n",
       "      <td>gas</td>\n",
       "      <td>831000</td>\n",
       "      <td>automatic</td>\n",
       "      <td>SUV</td>\n",
       "      <td>brown</td>\n",
       "      <td>0</td>\n",
       "      <td>2018-05-27</td>\n",
       "      <td>30</td>\n",
       "      <td>2013</td>\n",
       "      <td>6</td>\n",
       "      <td>5</td>\n",
       "      <td>2018</td>\n",
       "      <td>5</td>\n",
       "      <td>166200.000000</td>\n",
       "      <td>3</td>\n",
       "    </tr>\n",
       "  </tbody>\n",
       "</table>\n",
       "</div>"
      ],
      "text/plain": [
       "       price  model_year                     model  condition  cylinders  \\\n",
       "4970   29000      2018.0  chevrolet silverado 1500  excellent          8   \n",
       "9742   12500      2018.0             nissan altima   like new          4   \n",
       "13027   8500      2015.0          chevrolet malibu  excellent          4   \n",
       "5735    7500      2015.0           hyundai elantra  excellent          4   \n",
       "48962  40000      2014.0                  ram 3500  excellent          8   \n",
       "2840   18500      2014.0             ford explorer  excellent          6   \n",
       "33578  12995      2014.0              chrysler 300   like new          6   \n",
       "40729   4700      2013.0           chevrolet cruze       good          6   \n",
       "36412   9000      2018.0         chevrolet equinox  excellent          4   \n",
       "41699  10300      2013.0               ford escape  excellent          6   \n",
       "\n",
       "         fuel  odometer transmission   type paint_color  is_4wd date_posted  \\\n",
       "4970      gas    373200    automatic  truck     unknown       1  2018-09-14   \n",
       "9742      gas    320000    automatic  sedan      silver       0  2018-08-14   \n",
       "13027     gas    838095    automatic  sedan      silver       0  2018-05-30   \n",
       "5735      gas    813542        other  coupe       brown       0  2018-11-21   \n",
       "48962  diesel    980000    automatic  truck       white       1  2018-12-06   \n",
       "2840      gas    866000    automatic    SUV       black       1  2018-07-20   \n",
       "33578     gas    811956    automatic  sedan     unknown       0  2018-11-13   \n",
       "40729     gas    990000    automatic  sedan       black       0  2018-05-02   \n",
       "36412     gas    195700    automatic    SUV     unknown       1  2018-05-16   \n",
       "41699     gas    831000    automatic    SUV       brown       0  2018-05-27   \n",
       "\n",
       "       days_listed  model_year_filled  weekday  month_posted  year_posted  \\\n",
       "4970            40               2018        4             9         2018   \n",
       "9742            75               2018        1             8         2018   \n",
       "13027           10               2015        2             5         2018   \n",
       "5735             5               2015        2            11         2018   \n",
       "48962            7               2014        3            12         2018   \n",
       "2840            14               2014        4             7         2018   \n",
       "33578           44               2014        1            11         2018   \n",
       "40729            4               2013        2             5         2018   \n",
       "36412           31               2018        2             5         2018   \n",
       "41699           30               2013        6             5         2018   \n",
       "\n",
       "       age_when_posted  average_miles_year  condition_group  \n",
       "4970                 1       373200.000000                3  \n",
       "9742                 1       320000.000000                4  \n",
       "13027                3       279365.000000                3  \n",
       "5735                 3       271180.666667                3  \n",
       "48962                4       245000.000000                3  \n",
       "2840                 4       216500.000000                3  \n",
       "33578                4       202989.000000                4  \n",
       "40729                5       198000.000000                2  \n",
       "36412                1       195700.000000                3  \n",
       "41699                5       166200.000000                3  "
      ]
     },
     "execution_count": 42,
     "metadata": {},
     "output_type": "execute_result"
    }
   ],
   "source": [
    "# checking the upper limits for outliers\n",
    "df.sort_values('average_miles_year', ascending=False).head(10)"
   ]
  },
  {
   "cell_type": "code",
   "execution_count": 43,
   "metadata": {},
   "outputs": [
    {
     "name": "stdout",
     "output_type": "stream",
     "text": [
      "5451\n"
     ]
    }
   ],
   "source": [
    "# checking amount of rows where average miles per year is from 30 000 and up\n",
    "sample = df.query('average_miles_year >= 30000')\n",
    "print(len(sample))"
   ]
  },
  {
   "cell_type": "code",
   "execution_count": 44,
   "metadata": {},
   "outputs": [
    {
     "data": {
      "text/html": [
       "<div>\n",
       "<style scoped>\n",
       "    .dataframe tbody tr th:only-of-type {\n",
       "        vertical-align: middle;\n",
       "    }\n",
       "\n",
       "    .dataframe tbody tr th {\n",
       "        vertical-align: top;\n",
       "    }\n",
       "\n",
       "    .dataframe thead th {\n",
       "        text-align: right;\n",
       "    }\n",
       "</style>\n",
       "<table border=\"1\" class=\"dataframe\">\n",
       "  <thead>\n",
       "    <tr style=\"text-align: right;\">\n",
       "      <th></th>\n",
       "      <th>price</th>\n",
       "      <th>model_year</th>\n",
       "      <th>model</th>\n",
       "      <th>condition</th>\n",
       "      <th>cylinders</th>\n",
       "      <th>fuel</th>\n",
       "      <th>odometer</th>\n",
       "      <th>transmission</th>\n",
       "      <th>type</th>\n",
       "      <th>paint_color</th>\n",
       "      <th>is_4wd</th>\n",
       "      <th>date_posted</th>\n",
       "      <th>days_listed</th>\n",
       "      <th>model_year_filled</th>\n",
       "      <th>weekday</th>\n",
       "      <th>month_posted</th>\n",
       "      <th>year_posted</th>\n",
       "      <th>age_when_posted</th>\n",
       "      <th>average_miles_year</th>\n",
       "      <th>condition_group</th>\n",
       "    </tr>\n",
       "  </thead>\n",
       "  <tbody>\n",
       "    <tr>\n",
       "      <th>42892</th>\n",
       "      <td>7997</td>\n",
       "      <td>2009.0</td>\n",
       "      <td>gmc yukon</td>\n",
       "      <td>excellent</td>\n",
       "      <td>8</td>\n",
       "      <td>gas</td>\n",
       "      <td>0</td>\n",
       "      <td>automatic</td>\n",
       "      <td>SUV</td>\n",
       "      <td>white</td>\n",
       "      <td>1</td>\n",
       "      <td>2019-01-28</td>\n",
       "      <td>27</td>\n",
       "      <td>2009</td>\n",
       "      <td>0</td>\n",
       "      <td>1</td>\n",
       "      <td>2019</td>\n",
       "      <td>10</td>\n",
       "      <td>0.0</td>\n",
       "      <td>3</td>\n",
       "    </tr>\n",
       "    <tr>\n",
       "      <th>27625</th>\n",
       "      <td>9988</td>\n",
       "      <td>2002.0</td>\n",
       "      <td>chevrolet silverado 2500hd</td>\n",
       "      <td>good</td>\n",
       "      <td>8</td>\n",
       "      <td>diesel</td>\n",
       "      <td>0</td>\n",
       "      <td>automatic</td>\n",
       "      <td>truck</td>\n",
       "      <td>black</td>\n",
       "      <td>1</td>\n",
       "      <td>2018-05-04</td>\n",
       "      <td>31</td>\n",
       "      <td>2002</td>\n",
       "      <td>4</td>\n",
       "      <td>5</td>\n",
       "      <td>2018</td>\n",
       "      <td>16</td>\n",
       "      <td>0.0</td>\n",
       "      <td>2</td>\n",
       "    </tr>\n",
       "    <tr>\n",
       "      <th>27624</th>\n",
       "      <td>10988</td>\n",
       "      <td>2000.0</td>\n",
       "      <td>ford f-250 sd</td>\n",
       "      <td>good</td>\n",
       "      <td>8</td>\n",
       "      <td>diesel</td>\n",
       "      <td>0</td>\n",
       "      <td>automatic</td>\n",
       "      <td>truck</td>\n",
       "      <td>white</td>\n",
       "      <td>1</td>\n",
       "      <td>2018-06-26</td>\n",
       "      <td>16</td>\n",
       "      <td>2000</td>\n",
       "      <td>1</td>\n",
       "      <td>6</td>\n",
       "      <td>2018</td>\n",
       "      <td>18</td>\n",
       "      <td>0.0</td>\n",
       "      <td>2</td>\n",
       "    </tr>\n",
       "    <tr>\n",
       "      <th>27609</th>\n",
       "      <td>49000</td>\n",
       "      <td>1969.0</td>\n",
       "      <td>chevrolet camaro</td>\n",
       "      <td>like new</td>\n",
       "      <td>8</td>\n",
       "      <td>gas</td>\n",
       "      <td>0</td>\n",
       "      <td>manual</td>\n",
       "      <td>coupe</td>\n",
       "      <td>custom</td>\n",
       "      <td>0</td>\n",
       "      <td>2019-03-12</td>\n",
       "      <td>40</td>\n",
       "      <td>1969</td>\n",
       "      <td>1</td>\n",
       "      <td>3</td>\n",
       "      <td>2019</td>\n",
       "      <td>50</td>\n",
       "      <td>0.0</td>\n",
       "      <td>4</td>\n",
       "    </tr>\n",
       "    <tr>\n",
       "      <th>41984</th>\n",
       "      <td>7997</td>\n",
       "      <td>2009.0</td>\n",
       "      <td>gmc yukon</td>\n",
       "      <td>excellent</td>\n",
       "      <td>8</td>\n",
       "      <td>gas</td>\n",
       "      <td>0</td>\n",
       "      <td>automatic</td>\n",
       "      <td>SUV</td>\n",
       "      <td>white</td>\n",
       "      <td>1</td>\n",
       "      <td>2019-02-09</td>\n",
       "      <td>13</td>\n",
       "      <td>2009</td>\n",
       "      <td>5</td>\n",
       "      <td>2</td>\n",
       "      <td>2019</td>\n",
       "      <td>10</td>\n",
       "      <td>0.0</td>\n",
       "      <td>3</td>\n",
       "    </tr>\n",
       "    <tr>\n",
       "      <th>40432</th>\n",
       "      <td>12900</td>\n",
       "      <td>2016.0</td>\n",
       "      <td>chevrolet impala</td>\n",
       "      <td>excellent</td>\n",
       "      <td>6</td>\n",
       "      <td>gas</td>\n",
       "      <td>0</td>\n",
       "      <td>automatic</td>\n",
       "      <td>sedan</td>\n",
       "      <td>black</td>\n",
       "      <td>0</td>\n",
       "      <td>2018-10-29</td>\n",
       "      <td>11</td>\n",
       "      <td>2016</td>\n",
       "      <td>0</td>\n",
       "      <td>10</td>\n",
       "      <td>2018</td>\n",
       "      <td>2</td>\n",
       "      <td>0.0</td>\n",
       "      <td>3</td>\n",
       "    </tr>\n",
       "    <tr>\n",
       "      <th>30050</th>\n",
       "      <td>5995</td>\n",
       "      <td>2002.0</td>\n",
       "      <td>ram 2500</td>\n",
       "      <td>good</td>\n",
       "      <td>6</td>\n",
       "      <td>gas</td>\n",
       "      <td>0</td>\n",
       "      <td>automatic</td>\n",
       "      <td>truck</td>\n",
       "      <td>white</td>\n",
       "      <td>0</td>\n",
       "      <td>2019-03-02</td>\n",
       "      <td>88</td>\n",
       "      <td>2002</td>\n",
       "      <td>5</td>\n",
       "      <td>3</td>\n",
       "      <td>2019</td>\n",
       "      <td>17</td>\n",
       "      <td>0.0</td>\n",
       "      <td>2</td>\n",
       "    </tr>\n",
       "    <tr>\n",
       "      <th>30053</th>\n",
       "      <td>5995</td>\n",
       "      <td>2003.0</td>\n",
       "      <td>ram 2500</td>\n",
       "      <td>good</td>\n",
       "      <td>6</td>\n",
       "      <td>diesel</td>\n",
       "      <td>0</td>\n",
       "      <td>automatic</td>\n",
       "      <td>truck</td>\n",
       "      <td>unknown</td>\n",
       "      <td>0</td>\n",
       "      <td>2018-09-07</td>\n",
       "      <td>105</td>\n",
       "      <td>2003</td>\n",
       "      <td>4</td>\n",
       "      <td>9</td>\n",
       "      <td>2018</td>\n",
       "      <td>15</td>\n",
       "      <td>0.0</td>\n",
       "      <td>2</td>\n",
       "    </tr>\n",
       "    <tr>\n",
       "      <th>12160</th>\n",
       "      <td>9988</td>\n",
       "      <td>2002.0</td>\n",
       "      <td>chevrolet silverado 2500hd</td>\n",
       "      <td>good</td>\n",
       "      <td>8</td>\n",
       "      <td>diesel</td>\n",
       "      <td>0</td>\n",
       "      <td>automatic</td>\n",
       "      <td>truck</td>\n",
       "      <td>black</td>\n",
       "      <td>1</td>\n",
       "      <td>2018-05-31</td>\n",
       "      <td>17</td>\n",
       "      <td>2002</td>\n",
       "      <td>3</td>\n",
       "      <td>5</td>\n",
       "      <td>2018</td>\n",
       "      <td>16</td>\n",
       "      <td>0.0</td>\n",
       "      <td>2</td>\n",
       "    </tr>\n",
       "    <tr>\n",
       "      <th>12161</th>\n",
       "      <td>10888</td>\n",
       "      <td>2011.0</td>\n",
       "      <td>chevrolet silverado 3500hd</td>\n",
       "      <td>good</td>\n",
       "      <td>8</td>\n",
       "      <td>diesel</td>\n",
       "      <td>0</td>\n",
       "      <td>automatic</td>\n",
       "      <td>truck</td>\n",
       "      <td>white</td>\n",
       "      <td>0</td>\n",
       "      <td>2019-01-27</td>\n",
       "      <td>42</td>\n",
       "      <td>2011</td>\n",
       "      <td>6</td>\n",
       "      <td>1</td>\n",
       "      <td>2019</td>\n",
       "      <td>8</td>\n",
       "      <td>0.0</td>\n",
       "      <td>2</td>\n",
       "    </tr>\n",
       "  </tbody>\n",
       "</table>\n",
       "</div>"
      ],
      "text/plain": [
       "       price  model_year                       model  condition  cylinders  \\\n",
       "42892   7997      2009.0                   gmc yukon  excellent          8   \n",
       "27625   9988      2002.0  chevrolet silverado 2500hd       good          8   \n",
       "27624  10988      2000.0               ford f-250 sd       good          8   \n",
       "27609  49000      1969.0            chevrolet camaro   like new          8   \n",
       "41984   7997      2009.0                   gmc yukon  excellent          8   \n",
       "40432  12900      2016.0            chevrolet impala  excellent          6   \n",
       "30050   5995      2002.0                    ram 2500       good          6   \n",
       "30053   5995      2003.0                    ram 2500       good          6   \n",
       "12160   9988      2002.0  chevrolet silverado 2500hd       good          8   \n",
       "12161  10888      2011.0  chevrolet silverado 3500hd       good          8   \n",
       "\n",
       "         fuel  odometer transmission   type paint_color  is_4wd date_posted  \\\n",
       "42892     gas         0    automatic    SUV       white       1  2019-01-28   \n",
       "27625  diesel         0    automatic  truck       black       1  2018-05-04   \n",
       "27624  diesel         0    automatic  truck       white       1  2018-06-26   \n",
       "27609     gas         0       manual  coupe      custom       0  2019-03-12   \n",
       "41984     gas         0    automatic    SUV       white       1  2019-02-09   \n",
       "40432     gas         0    automatic  sedan       black       0  2018-10-29   \n",
       "30050     gas         0    automatic  truck       white       0  2019-03-02   \n",
       "30053  diesel         0    automatic  truck     unknown       0  2018-09-07   \n",
       "12160  diesel         0    automatic  truck       black       1  2018-05-31   \n",
       "12161  diesel         0    automatic  truck       white       0  2019-01-27   \n",
       "\n",
       "       days_listed  model_year_filled  weekday  month_posted  year_posted  \\\n",
       "42892           27               2009        0             1         2019   \n",
       "27625           31               2002        4             5         2018   \n",
       "27624           16               2000        1             6         2018   \n",
       "27609           40               1969        1             3         2019   \n",
       "41984           13               2009        5             2         2019   \n",
       "40432           11               2016        0            10         2018   \n",
       "30050           88               2002        5             3         2019   \n",
       "30053          105               2003        4             9         2018   \n",
       "12160           17               2002        3             5         2018   \n",
       "12161           42               2011        6             1         2019   \n",
       "\n",
       "       age_when_posted  average_miles_year  condition_group  \n",
       "42892               10                 0.0                3  \n",
       "27625               16                 0.0                2  \n",
       "27624               18                 0.0                2  \n",
       "27609               50                 0.0                4  \n",
       "41984               10                 0.0                3  \n",
       "40432                2                 0.0                3  \n",
       "30050               17                 0.0                2  \n",
       "30053               15                 0.0                2  \n",
       "12160               16                 0.0                2  \n",
       "12161                8                 0.0                2  "
      ]
     },
     "execution_count": 44,
     "metadata": {},
     "output_type": "execute_result"
    }
   ],
   "source": [
    "# looking at lowest values in average_miles_year column\n",
    "df.sort_values('average_miles_year').head(10)"
   ]
  },
  {
   "cell_type": "code",
   "execution_count": 45,
   "metadata": {},
   "outputs": [
    {
     "data": {
      "text/html": [
       "<div>\n",
       "<style scoped>\n",
       "    .dataframe tbody tr th:only-of-type {\n",
       "        vertical-align: middle;\n",
       "    }\n",
       "\n",
       "    .dataframe tbody tr th {\n",
       "        vertical-align: top;\n",
       "    }\n",
       "\n",
       "    .dataframe thead th {\n",
       "        text-align: right;\n",
       "    }\n",
       "</style>\n",
       "<table border=\"1\" class=\"dataframe\">\n",
       "  <thead>\n",
       "    <tr style=\"text-align: right;\">\n",
       "      <th></th>\n",
       "      <th>price</th>\n",
       "      <th>model_year</th>\n",
       "      <th>model</th>\n",
       "      <th>condition</th>\n",
       "      <th>cylinders</th>\n",
       "      <th>fuel</th>\n",
       "      <th>odometer</th>\n",
       "      <th>transmission</th>\n",
       "      <th>type</th>\n",
       "      <th>paint_color</th>\n",
       "      <th>is_4wd</th>\n",
       "      <th>date_posted</th>\n",
       "      <th>days_listed</th>\n",
       "      <th>model_year_filled</th>\n",
       "      <th>weekday</th>\n",
       "      <th>month_posted</th>\n",
       "      <th>year_posted</th>\n",
       "      <th>age_when_posted</th>\n",
       "      <th>average_miles_year</th>\n",
       "      <th>condition_group</th>\n",
       "    </tr>\n",
       "  </thead>\n",
       "  <tbody>\n",
       "    <tr>\n",
       "      <th>0</th>\n",
       "      <td>9400</td>\n",
       "      <td>2011.0</td>\n",
       "      <td>bmw x5</td>\n",
       "      <td>good</td>\n",
       "      <td>6</td>\n",
       "      <td>gas</td>\n",
       "      <td>145000</td>\n",
       "      <td>automatic</td>\n",
       "      <td>SUV</td>\n",
       "      <td>unknown</td>\n",
       "      <td>1</td>\n",
       "      <td>2018-06-23</td>\n",
       "      <td>19</td>\n",
       "      <td>2011</td>\n",
       "      <td>5</td>\n",
       "      <td>6</td>\n",
       "      <td>2018</td>\n",
       "      <td>7</td>\n",
       "      <td>20714.285714</td>\n",
       "      <td>2</td>\n",
       "    </tr>\n",
       "    <tr>\n",
       "      <th>1</th>\n",
       "      <td>25500</td>\n",
       "      <td>NaN</td>\n",
       "      <td>ford f-150</td>\n",
       "      <td>good</td>\n",
       "      <td>6</td>\n",
       "      <td>gas</td>\n",
       "      <td>88705</td>\n",
       "      <td>automatic</td>\n",
       "      <td>pickup</td>\n",
       "      <td>white</td>\n",
       "      <td>1</td>\n",
       "      <td>2018-10-19</td>\n",
       "      <td>50</td>\n",
       "      <td>2009</td>\n",
       "      <td>4</td>\n",
       "      <td>10</td>\n",
       "      <td>2018</td>\n",
       "      <td>9</td>\n",
       "      <td>9856.111111</td>\n",
       "      <td>2</td>\n",
       "    </tr>\n",
       "    <tr>\n",
       "      <th>2</th>\n",
       "      <td>5500</td>\n",
       "      <td>2013.0</td>\n",
       "      <td>hyundai sonata</td>\n",
       "      <td>like new</td>\n",
       "      <td>4</td>\n",
       "      <td>gas</td>\n",
       "      <td>110000</td>\n",
       "      <td>automatic</td>\n",
       "      <td>sedan</td>\n",
       "      <td>red</td>\n",
       "      <td>0</td>\n",
       "      <td>2019-02-07</td>\n",
       "      <td>79</td>\n",
       "      <td>2013</td>\n",
       "      <td>3</td>\n",
       "      <td>2</td>\n",
       "      <td>2019</td>\n",
       "      <td>6</td>\n",
       "      <td>18333.333333</td>\n",
       "      <td>4</td>\n",
       "    </tr>\n",
       "    <tr>\n",
       "      <th>3</th>\n",
       "      <td>1500</td>\n",
       "      <td>2003.0</td>\n",
       "      <td>ford f-150</td>\n",
       "      <td>fair</td>\n",
       "      <td>8</td>\n",
       "      <td>gas</td>\n",
       "      <td>177500</td>\n",
       "      <td>automatic</td>\n",
       "      <td>pickup</td>\n",
       "      <td>unknown</td>\n",
       "      <td>0</td>\n",
       "      <td>2019-03-22</td>\n",
       "      <td>9</td>\n",
       "      <td>2003</td>\n",
       "      <td>4</td>\n",
       "      <td>3</td>\n",
       "      <td>2019</td>\n",
       "      <td>16</td>\n",
       "      <td>11093.750000</td>\n",
       "      <td>1</td>\n",
       "    </tr>\n",
       "    <tr>\n",
       "      <th>5</th>\n",
       "      <td>14990</td>\n",
       "      <td>2014.0</td>\n",
       "      <td>chrysler 300</td>\n",
       "      <td>excellent</td>\n",
       "      <td>6</td>\n",
       "      <td>gas</td>\n",
       "      <td>57954</td>\n",
       "      <td>automatic</td>\n",
       "      <td>sedan</td>\n",
       "      <td>black</td>\n",
       "      <td>1</td>\n",
       "      <td>2018-06-20</td>\n",
       "      <td>15</td>\n",
       "      <td>2014</td>\n",
       "      <td>2</td>\n",
       "      <td>6</td>\n",
       "      <td>2018</td>\n",
       "      <td>4</td>\n",
       "      <td>14488.500000</td>\n",
       "      <td>3</td>\n",
       "    </tr>\n",
       "  </tbody>\n",
       "</table>\n",
       "</div>"
      ],
      "text/plain": [
       "   price  model_year           model  condition  cylinders fuel  odometer  \\\n",
       "0   9400      2011.0          bmw x5       good          6  gas    145000   \n",
       "1  25500         NaN      ford f-150       good          6  gas     88705   \n",
       "2   5500      2013.0  hyundai sonata   like new          4  gas    110000   \n",
       "3   1500      2003.0      ford f-150       fair          8  gas    177500   \n",
       "5  14990      2014.0    chrysler 300  excellent          6  gas     57954   \n",
       "\n",
       "  transmission    type paint_color  is_4wd date_posted  days_listed  \\\n",
       "0    automatic     SUV     unknown       1  2018-06-23           19   \n",
       "1    automatic  pickup       white       1  2018-10-19           50   \n",
       "2    automatic   sedan         red       0  2019-02-07           79   \n",
       "3    automatic  pickup     unknown       0  2019-03-22            9   \n",
       "5    automatic   sedan       black       1  2018-06-20           15   \n",
       "\n",
       "   model_year_filled  weekday  month_posted  year_posted  age_when_posted  \\\n",
       "0               2011        5             6         2018                7   \n",
       "1               2009        4            10         2018                9   \n",
       "2               2013        3             2         2019                6   \n",
       "3               2003        4             3         2019               16   \n",
       "5               2014        2             6         2018                4   \n",
       "\n",
       "   average_miles_year  condition_group  \n",
       "0        20714.285714                2  \n",
       "1         9856.111111                2  \n",
       "2        18333.333333                4  \n",
       "3        11093.750000                1  \n",
       "5        14488.500000                3  "
      ]
     },
     "execution_count": 45,
     "metadata": {},
     "output_type": "execute_result"
    }
   ],
   "source": [
    "# creating a separate dataframe without outliers\n",
    "\n",
    "miles_without_high = df.query('average_miles_year < 30000')\n",
    "miles_without_high\n",
    "\n",
    "miles_without_low = df.query('not (average_miles_year == 0 and age_when_posted >10)')\n",
    "miles_without_low\n",
    "\n",
    "# average miles per year without 30 000 and up + without 0 miles and age when posted 10 and up + without price below 500\n",
    "# (30 000 miles per year is considered high mileage.)\n",
    "# (0 miles per year for older vehicles is unusual. This value might be due to odometer rolling back to 0 after\n",
    "# the maximum for a certain (older) model was reached / tampered reading / invalid input)\n",
    "# (excluding vehicles for a price of 500 and lower as these are rather outliers + possibly invalid input)\n",
    "df_without_outliers = df.query('average_miles_year < 30000 and not (average_miles_year == 0 and age_when_posted >10) and (price >= 500) and (age_when_posted <30)')\n",
    "df_without_outliers.head()"
   ]
  },
  {
   "cell_type": "markdown",
   "metadata": {},
   "source": [
    "A separate dataframe without outliers was created. This dataframe excludes rows where average miles per year are above 30 000 (high mileage), rows where mileage is 0 and vehicle is above 10 years old (0 miles might be due to invalid input / tampered reading / odometer rolling back to 0 for certain older models, rows where price is below 500 (prices 0 - 500 are rather outliers and part might be due to invalid input) and rows that contain cars older than 30 years as those would be considered retro vehicles. Buying and selling of retro vehicles should be studied separately."
   ]
  },
  {
   "cell_type": "markdown",
   "metadata": {},
   "source": [
    "## Studying the core parameters without the outliers"
   ]
  },
  {
   "cell_type": "code",
   "execution_count": 46,
   "metadata": {},
   "outputs": [
    {
     "data": {
      "image/png": "[encoded data removed]",
      "text/plain": [
       "<Figure size 432x288 with 1 Axes>"
      ]
     },
     "metadata": {
      "needs_background": "light"
     },
     "output_type": "display_data"
    },
    {
     "data": {
      "image/png": "[encoded data removed]",
      "text/plain": [
       "<Figure size 432x288 with 1 Axes>"
      ]
     },
     "metadata": {
      "needs_background": "light"
     },
     "output_type": "display_data"
    }
   ],
   "source": [
    "# plotting histogram of average_miles_year column\n",
    "df.hist('average_miles_year', bins = 20)\n",
    "# plotting histogram of average_miles_year column, but without outliers\n",
    "df_without_outliers.hist('average_miles_year', bins = 20);"
   ]
  },
  {
   "cell_type": "markdown",
   "metadata": {},
   "source": [
    "First histogram is not very well readable as because of the low distribution of high mileage values.\n",
    "In the second histogram it is apparent there are no outliers."
   ]
  },
  {
   "cell_type": "markdown",
   "metadata": {},
   "source": [
    "## Ads lifetime"
   ]
  },
  {
   "cell_type": "code",
   "execution_count": 47,
   "metadata": {},
   "outputs": [
    {
     "data": {
      "text/plain": [
       "count    44744.000000\n",
       "mean        39.581888\n",
       "std         28.214631\n",
       "min          0.000000\n",
       "25%         19.000000\n",
       "50%         33.000000\n",
       "75%         53.000000\n",
       "max        271.000000\n",
       "Name: days_listed, dtype: float64"
      ]
     },
     "execution_count": 47,
     "metadata": {},
     "output_type": "execute_result"
    },
    {
     "data": {
      "image/png": "[encoded data removed]",
      "text/plain": [
       "<Figure size 432x288 with 1 Axes>"
      ]
     },
     "metadata": {
      "needs_background": "light"
     },
     "output_type": "display_data"
    }
   ],
   "source": [
    "# plotting histogram of days_listed column\n",
    "df_without_outliers['days_listed'].hist(bins=25)\n",
    "df_without_outliers['days_listed'].describe()"
   ]
  },
  {
   "cell_type": "markdown",
   "metadata": {},
   "source": [
    "Based on the histogram, it appears most typical values in days_listed are in range of 19 to 53 days and then there are ads which stay on the site for 100 and more days."
   ]
  },
  {
   "cell_type": "code",
   "execution_count": 48,
   "metadata": {},
   "outputs": [
    {
     "data": {
      "image/png": "[encoded data removed]",
      "text/plain": [
       "<Figure size 432x288 with 1 Axes>"
      ]
     },
     "metadata": {
      "needs_background": "light"
     },
     "output_type": "display_data"
    }
   ],
   "source": [
    "df_without_outliers['days_listed'].hist(bins=25, range=(0,100));"
   ]
  },
  {
   "cell_type": "code",
   "execution_count": 49,
   "metadata": {},
   "outputs": [],
   "source": [
    "# categorizing days_listed based on quartiles\n",
    "# 1st quartile: 0 - 19 (25% of values below normal - quickly sold)\n",
    "# 2nd - 3rd: 19 - 53 (normal)\n",
    "# 4th: 53 - max value (25% above normal - took long to sell)\n",
    "\n",
    "bins = [0, 19, 53, 271]\n",
    "names = ['quick', 'normal', 'long']\n",
    "\n",
    "df['lifetime_category'] = pd.cut(df['days_listed'], bins, labels=names)"
   ]
  },
  {
   "cell_type": "code",
   "execution_count": 50,
   "metadata": {},
   "outputs": [
    {
     "data": {
      "text/plain": [
       "lifetime_category\n",
       "quick     11631\n",
       "normal    21937\n",
       "long      11129\n",
       "Name: condition, dtype: int64"
      ]
     },
     "execution_count": 50,
     "metadata": {},
     "output_type": "execute_result"
    }
   ],
   "source": [
    "# adding same column - lifetime_category, to dataframe without outliers\n",
    "bins = [0, 19, 53, 271]\n",
    "names = ['quick', 'normal', 'long']\n",
    "\n",
    "df_without_outliers['lifetime_category'] = pd.cut(df['days_listed'], bins, labels=names)\n",
    "\n",
    "# counting values in each ads lifetime category\n",
    "df_without_outliers.groupby(['lifetime_category'])['condition'].count()"
   ]
  },
  {
   "cell_type": "markdown",
   "metadata": {},
   "source": [
    "About half of ads fall into normal category - vehicles that get sold within 19 - 53 days. Vehicles that get sold quick are half the amount of normal. Same with the vehicles that stay on the site for long."
   ]
  },
  {
   "cell_type": "code",
   "execution_count": 51,
   "metadata": {},
   "outputs": [
    {
     "data": {
      "text/plain": [
       "lifetime_category  condition\n",
       "quick              excellent     5377\n",
       "                   fair           409\n",
       "                   good          4694\n",
       "                   like new      1094\n",
       "                   new             29\n",
       "                   salvage         28\n",
       "normal             excellent    10349\n",
       "                   fair           726\n",
       "                   good          8863\n",
       "                   like new      1873\n",
       "                   new             70\n",
       "                   salvage         56\n",
       "long               excellent     5209\n",
       "                   fair           365\n",
       "                   good          4510\n",
       "                   like new       999\n",
       "                   new             24\n",
       "                   salvage         22\n",
       "Name: price, dtype: int64"
      ]
     },
     "execution_count": 51,
     "metadata": {},
     "output_type": "execute_result"
    }
   ],
   "source": [
    "# grouping values by lifetime_category and counting values in each condition\n",
    "days_condition = df_without_outliers.groupby(['lifetime_category', 'condition'])['price'].count()\n",
    "days_condition"
   ]
  },
  {
   "cell_type": "markdown",
   "metadata": {},
   "source": [
    "It appears 3 most common conditions listed on the site are - excellent, good and like new.\n",
    "\n",
    "We can observe that vehicles that were sold quick and those that were listed for long, both have nearly same values within each condition category.\n"
   ]
  },
  {
   "cell_type": "code",
   "execution_count": 52,
   "metadata": {},
   "outputs": [
    {
     "data": {
      "image/png": "[encoded data removed]",
      "text/plain": [
       "<Figure size 432x288 with 1 Axes>"
      ]
     },
     "metadata": {
      "needs_background": "light"
     },
     "output_type": "display_data"
    }
   ],
   "source": [
    "# plotting a histogram of average miles per year and vehicles that got sold quick\n",
    "df_without_outliers.query('lifetime_category == \"quick\"')['average_miles_year'].hist(bins=25);"
   ]
  },
  {
   "cell_type": "code",
   "execution_count": 53,
   "metadata": {},
   "outputs": [
    {
     "data": {
      "image/png": "[encoded data removed]",
      "text/plain": [
       "<Figure size 432x288 with 1 Axes>"
      ]
     },
     "metadata": {
      "needs_background": "light"
     },
     "output_type": "display_data"
    }
   ],
   "source": [
    "# plotting a histogram of average miles per year and vehicles that stayed on the site in the normal range of days (19 - 53)\n",
    "df_without_outliers.query('lifetime_category == \"normal\"')['average_miles_year'].hist(bins=25);"
   ]
  },
  {
   "cell_type": "code",
   "execution_count": 54,
   "metadata": {},
   "outputs": [
    {
     "data": {
      "image/png": "[encoded data removed]",
      "text/plain": [
       "<Figure size 432x288 with 1 Axes>"
      ]
     },
     "metadata": {
      "needs_background": "light"
     },
     "output_type": "display_data"
    }
   ],
   "source": [
    "# plotting a histogram of average miles per year and vehicles that stayed on site for long\n",
    "df_without_outliers.query('lifetime_category == \"long\"')['average_miles_year'].hist(bins=25);"
   ]
  },
  {
   "cell_type": "markdown",
   "metadata": {},
   "source": [
    "Based on the histograms, it appears that mileages are very similar between ad categories. \n",
    "\n",
    "We can see vehicles that sell quick and long, both have most amount of ads listed with miles per year between 10000 - 15000, after that the amount of ads gets lower.\n",
    "\n",
    "Same case appears to be with ads that fall into normal category - most ads have 10000 to 15000 miles per year and from there the mileage gets higher, but amount of ads, lower."
   ]
  },
  {
   "cell_type": "code",
   "execution_count": 55,
   "metadata": {},
   "outputs": [
    {
     "data": {
      "text/plain": [
       "ford f-150                    644\n",
       "chevrolet silverado 1500      504\n",
       "ram 1500                      397\n",
       "chevrolet silverado           279\n",
       "jeep wrangler                 268\n",
       "honda accord                  247\n",
       "chevrolet silverado 2500hd    224\n",
       "toyota camry                  223\n",
       "gmc sierra 1500               205\n",
       "jeep grand cherokee           203\n",
       "Name: model, dtype: int64"
      ]
     },
     "execution_count": 55,
     "metadata": {},
     "output_type": "execute_result"
    }
   ],
   "source": [
    "# counting vehicles that were sold quickly, grouping by car models\n",
    "df_without_outliers.query('lifetime_category ==\"quick\" ')['model'].value_counts().head(10)"
   ]
  },
  {
   "cell_type": "code",
   "execution_count": 56,
   "metadata": {},
   "outputs": [
    {
     "data": {
      "text/plain": [
       "ford f-150                  1160\n",
       "chevrolet silverado 1500     924\n",
       "ram 1500                     678\n",
       "chevrolet silverado          536\n",
       "jeep wrangler                495\n",
       "toyota camry                 452\n",
       "ram 2500                     451\n",
       "honda accord                 427\n",
       "toyota tacoma                403\n",
       "ford explorer                375\n",
       "Name: model, dtype: int64"
      ]
     },
     "execution_count": 56,
     "metadata": {},
     "output_type": "execute_result"
    }
   ],
   "source": [
    "# counting ads that were listed for normal amount of days, grouping by car models\n",
    "df_without_outliers.query('lifetime_category ==\"normal\" ')['model'].value_counts().head(10)"
   ]
  },
  {
   "cell_type": "code",
   "execution_count": 57,
   "metadata": {},
   "outputs": [
    {
     "data": {
      "text/plain": [
       "ford f-150                  571\n",
       "chevrolet silverado 1500    457\n",
       "ram 1500                    391\n",
       "chevrolet silverado         302\n",
       "ram 2500                    242\n",
       "jeep wrangler               238\n",
       "honda accord                232\n",
       "gmc sierra 1500             229\n",
       "toyota camry                210\n",
       "jeep grand cherokee         193\n",
       "Name: model, dtype: int64"
      ]
     },
     "execution_count": 57,
     "metadata": {},
     "output_type": "execute_result"
    }
   ],
   "source": [
    "# counting vehicles that took long to sell, grouping by car models\n",
    "df_without_outliers.query('lifetime_category ==\"long\" ')['model'].value_counts().head(10)"
   ]
  },
  {
   "cell_type": "markdown",
   "metadata": {},
   "source": [
    "About same exact vehicle models are most popular within all ad lifetime categories. The most commonly listed are Ford F-150, Chevrolet Silverado 1500 and RAM 1500. All of these models are distributed equally between ad lifetime categories - it seems vehicle model is not a significant factor in how long an ad will remain on the site."
   ]
  },
  {
   "cell_type": "code",
   "execution_count": 58,
   "metadata": {},
   "outputs": [
    {
     "data": {
      "text/plain": [
       "sedan          2783\n",
       "SUV            2779\n",
       "truck          2740\n",
       "pickup         1594\n",
       "coupe           493\n",
       "wagon           376\n",
       "mini-van        265\n",
       "hatchback       244\n",
       "van             136\n",
       "convertible      98\n",
       "other            61\n",
       "offroad          57\n",
       "bus               5\n",
       "Name: type, dtype: int64"
      ]
     },
     "execution_count": 58,
     "metadata": {},
     "output_type": "execute_result"
    }
   ],
   "source": [
    "# counting ads that were listed for 0 - 19 days by vehicle type\n",
    "df_without_outliers.query('lifetime_category ==\"quick\"')['type'].value_counts()"
   ]
  },
  {
   "cell_type": "code",
   "execution_count": 59,
   "metadata": {},
   "outputs": [
    {
     "data": {
      "text/plain": [
       "SUV            5441\n",
       "sedan          5213\n",
       "truck          4938\n",
       "pickup         3039\n",
       "coupe           994\n",
       "wagon           704\n",
       "mini-van        513\n",
       "hatchback       429\n",
       "van             261\n",
       "convertible     190\n",
       "other           114\n",
       "offroad          93\n",
       "bus               8\n",
       "Name: type, dtype: int64"
      ]
     },
     "execution_count": 59,
     "metadata": {},
     "output_type": "execute_result"
    }
   ],
   "source": [
    "# counting ads that were listed for 19 - 53 days by vehicle type\n",
    "df_without_outliers.query('lifetime_category ==\"normal\"')['type'].value_counts()"
   ]
  },
  {
   "cell_type": "code",
   "execution_count": 60,
   "metadata": {},
   "outputs": [
    {
     "data": {
      "text/plain": [
       "SUV            2771\n",
       "sedan          2637\n",
       "truck          2619\n",
       "pickup         1491\n",
       "coupe           451\n",
       "wagon           348\n",
       "mini-van        243\n",
       "hatchback       242\n",
       "van             139\n",
       "convertible      83\n",
       "offroad          52\n",
       "other            45\n",
       "bus               8\n",
       "Name: type, dtype: int64"
      ]
     },
     "execution_count": 60,
     "metadata": {},
     "output_type": "execute_result"
    }
   ],
   "source": [
    "# counting ads that were listed for 53 and above days by vehicle type\n",
    "df_without_outliers.query('lifetime_category ==\"long\"')['type'].value_counts()"
   ]
  },
  {
   "cell_type": "markdown",
   "metadata": {},
   "source": [
    "It appears vehicle type does not influence how fast car sells as well. The amount of ads per vehicle type does not differ much."
   ]
  },
  {
   "cell_type": "markdown",
   "metadata": {},
   "source": [
    "## Average price per each type of vehicle"
   ]
  },
  {
   "cell_type": "code",
   "execution_count": 61,
   "metadata": {},
   "outputs": [
    {
     "data": {
      "text/html": [
       "<div>\n",
       "<style scoped>\n",
       "    .dataframe tbody tr th:only-of-type {\n",
       "        vertical-align: middle;\n",
       "    }\n",
       "\n",
       "    .dataframe tbody tr th {\n",
       "        vertical-align: top;\n",
       "    }\n",
       "\n",
       "    .dataframe thead tr th {\n",
       "        text-align: left;\n",
       "    }\n",
       "\n",
       "    .dataframe thead tr:last-of-type th {\n",
       "        text-align: right;\n",
       "    }\n",
       "</style>\n",
       "<table border=\"1\" class=\"dataframe\">\n",
       "  <thead>\n",
       "    <tr>\n",
       "      <th></th>\n",
       "      <th>count</th>\n",
       "      <th>mean</th>\n",
       "    </tr>\n",
       "    <tr>\n",
       "      <th></th>\n",
       "      <th>price</th>\n",
       "      <th>price</th>\n",
       "    </tr>\n",
       "    <tr>\n",
       "      <th>type</th>\n",
       "      <th></th>\n",
       "      <th></th>\n",
       "    </tr>\n",
       "  </thead>\n",
       "  <tbody>\n",
       "    <tr>\n",
       "      <th>SUV</th>\n",
       "      <td>10999</td>\n",
       "      <td>10754.259933</td>\n",
       "    </tr>\n",
       "    <tr>\n",
       "      <th>sedan</th>\n",
       "      <td>10643</td>\n",
       "      <td>6699.924645</td>\n",
       "    </tr>\n",
       "    <tr>\n",
       "      <th>truck</th>\n",
       "      <td>10311</td>\n",
       "      <td>16039.943749</td>\n",
       "    </tr>\n",
       "    <tr>\n",
       "      <th>pickup</th>\n",
       "      <td>6129</td>\n",
       "      <td>15236.353402</td>\n",
       "    </tr>\n",
       "    <tr>\n",
       "      <th>coupe</th>\n",
       "      <td>1940</td>\n",
       "      <td>14382.907216</td>\n",
       "    </tr>\n",
       "    <tr>\n",
       "      <th>wagon</th>\n",
       "      <td>1428</td>\n",
       "      <td>8890.336835</td>\n",
       "    </tr>\n",
       "    <tr>\n",
       "      <th>mini-van</th>\n",
       "      <td>1023</td>\n",
       "      <td>7617.312805</td>\n",
       "    </tr>\n",
       "    <tr>\n",
       "      <th>hatchback</th>\n",
       "      <td>917</td>\n",
       "      <td>6656.135224</td>\n",
       "    </tr>\n",
       "    <tr>\n",
       "      <th>van</th>\n",
       "      <td>539</td>\n",
       "      <td>10621.070501</td>\n",
       "    </tr>\n",
       "    <tr>\n",
       "      <th>convertible</th>\n",
       "      <td>372</td>\n",
       "      <td>13925.725806</td>\n",
       "    </tr>\n",
       "    <tr>\n",
       "      <th>other</th>\n",
       "      <td>220</td>\n",
       "      <td>9800.140909</td>\n",
       "    </tr>\n",
       "    <tr>\n",
       "      <th>offroad</th>\n",
       "      <td>202</td>\n",
       "      <td>14171.910891</td>\n",
       "    </tr>\n",
       "    <tr>\n",
       "      <th>bus</th>\n",
       "      <td>21</td>\n",
       "      <td>18584.047619</td>\n",
       "    </tr>\n",
       "  </tbody>\n",
       "</table>\n",
       "</div>"
      ],
      "text/plain": [
       "             count          mean\n",
       "             price         price\n",
       "type                            \n",
       "SUV          10999  10754.259933\n",
       "sedan        10643   6699.924645\n",
       "truck        10311  16039.943749\n",
       "pickup        6129  15236.353402\n",
       "coupe         1940  14382.907216\n",
       "wagon         1428   8890.336835\n",
       "mini-van      1023   7617.312805\n",
       "hatchback      917   6656.135224\n",
       "van            539  10621.070501\n",
       "convertible    372  13925.725806\n",
       "other          220   9800.140909\n",
       "offroad        202  14171.910891\n",
       "bus             21  18584.047619"
      ]
     },
     "execution_count": 61,
     "metadata": {},
     "output_type": "execute_result"
    }
   ],
   "source": [
    "# looking at the number of ads and the average price for each type of vehicle\n",
    "type_counts = df_without_outliers.pivot_table(index='type', values='price', aggfunc=['count', 'mean']).sort_values(by = ('count','price'), ascending=False)\n",
    "type_counts"
   ]
  },
  {
   "cell_type": "code",
   "execution_count": 62,
   "metadata": {},
   "outputs": [
    {
     "data": {
      "image/png": "[encoded data removed]",
      "text/plain": [
       "<Figure size 432x288 with 1 Axes>"
      ]
     },
     "metadata": {
      "needs_background": "light"
     },
     "output_type": "display_data"
    }
   ],
   "source": [
    "# plotting a bar graph of 2 most listed vehicle types\n",
    "type_counts.head(2).plot(kind='bar');"
   ]
  },
  {
   "cell_type": "markdown",
   "metadata": {},
   "source": [
    "Two types with the greatest number of ads are SUV and sedan."
   ]
  },
  {
   "cell_type": "markdown",
   "metadata": {},
   "source": [
    "## Price factors"
   ]
  },
  {
   "cell_type": "code",
   "execution_count": 63,
   "metadata": {},
   "outputs": [
    {
     "data": {
      "image/png": "[encoded data removed]",
      "text/plain": [
       "<Figure size 864x864 with 1 Axes>"
      ]
     },
     "metadata": {
      "needs_background": "light"
     },
     "output_type": "display_data"
    }
   ],
   "source": [
    "# grouping data by paint color and SUVs, excluding SUV colors that have less than 50 ads\n",
    "SUV = df_without_outliers.query('type == \"SUV\"')\n",
    "SUV_count_by_color = SUV.pivot_table(index='paint_color', values='price', aggfunc='count')\n",
    "SUV_count_by_color_above_50 = SUV_count_by_color.query('price >= 50')\n",
    "SUV_colors_above_50 = SUV_count_by_color_above_50.index\n",
    "SUV_rows_with_colors_above_50 = SUV.query('paint_color in @SUV_colors_above_50')\n",
    "SUV_rows_with_colors_above_50.boxplot(column='price', by='paint_color', figsize = (12, 12));"
   ]
  },
  {
   "cell_type": "code",
   "execution_count": 64,
   "metadata": {},
   "outputs": [
    {
     "data": {
      "image/png": "[encoded data removed]",
      "text/plain": [
       "<Figure size 864x864 with 1 Axes>"
      ]
     },
     "metadata": {
      "needs_background": "light"
     },
     "output_type": "display_data"
    }
   ],
   "source": [
    "# grouping data by paint color and sedans, excluding sedan colors that have less than 50 ads\n",
    "sedan = df_without_outliers.query('type == \"sedan\"')\n",
    "sedan_count_by_color = sedan.pivot_table(index='paint_color', values='price', aggfunc='count')\n",
    "sedan_count_by_color_above_50 = sedan_count_by_color.query('price >= 50')\n",
    "sedan_colors_above_50 = sedan_count_by_color_above_50.index\n",
    "sedan_rows_with_colors_above_50 = sedan.query('paint_color in @sedan_colors_above_50')\n",
    "sedan_rows_with_colors_above_50.boxplot(column='price', by='paint_color', figsize = (12, 12));"
   ]
  },
  {
   "cell_type": "code",
   "execution_count": 65,
   "metadata": {
    "scrolled": false
   },
   "outputs": [
    {
     "data": {
      "text/plain": [
       "-0.5942537644748962"
      ]
     },
     "execution_count": 65,
     "metadata": {},
     "output_type": "execute_result"
    },
    {
     "data": {
      "image/png": "[encoded data removed]",
      "text/plain": [
       "<Figure size 576x576 with 1 Axes>"
      ]
     },
     "metadata": {
      "needs_background": "light"
     },
     "output_type": "display_data"
    }
   ],
   "source": [
    "# slicing data by SUV\n",
    "SUV_price_age = df_without_outliers.query('type == \"SUV\"')\n",
    "# plotting a scatterplot\n",
    "SUV_price_age.plot(x='age_when_posted', y='price', kind='scatter', grid=True, figsize=(8,8))\n",
    "# checking the correlation between the two sets of data - SUV age and price\n",
    "SUV_price_age['age_when_posted'].corr(SUV_price_age['price'])"
   ]
  },
  {
   "cell_type": "markdown",
   "metadata": {},
   "source": [
    "There is a slight negative linear relationship between SUV's age and price - with increase in age, there is a decrease in price."
   ]
  },
  {
   "cell_type": "code",
   "execution_count": 66,
   "metadata": {},
   "outputs": [
    {
     "data": {
      "text/plain": [
       "-0.6383522430621142"
      ]
     },
     "execution_count": 66,
     "metadata": {},
     "output_type": "execute_result"
    },
    {
     "data": {
      "image/png": "[encoded data removed]",
      "text/plain": [
       "<Figure size 576x576 with 1 Axes>"
      ]
     },
     "metadata": {
      "needs_background": "light"
     },
     "output_type": "display_data"
    }
   ],
   "source": [
    "# slicing data by sedan\n",
    "sedan_price_age = df_without_outliers.query('type == \"sedan\"')\n",
    "# plotting a scatterplot\n",
    "sedan_price_age.plot(x='age_when_posted', y='price', kind='scatter', grid=True, figsize=(8,8))\n",
    "# checking the correlation between the two sets of data - sedan age and price\n",
    "sedan_price_age['age_when_posted'].corr(sedan_price_age['price'])"
   ]
  },
  {
   "cell_type": "markdown",
   "metadata": {},
   "source": [
    "There is a slight negative linear relationship between sedan's age and price - with increase in age, there is a decrease in price."
   ]
  },
  {
   "cell_type": "code",
   "execution_count": 67,
   "metadata": {},
   "outputs": [
    {
     "data": {
      "text/plain": [
       "0.153481713884132"
      ]
     },
     "execution_count": 67,
     "metadata": {},
     "output_type": "execute_result"
    },
    {
     "data": {
      "image/png": "[encoded data removed]",
      "text/plain": [
       "<Figure size 576x576 with 1 Axes>"
      ]
     },
     "metadata": {
      "needs_background": "light"
     },
     "output_type": "display_data"
    }
   ],
   "source": [
    "# slicing data by SUV\n",
    "SUV_miles_price = df_without_outliers.query('type == \"SUV\"')\n",
    "# plotting a scatterplot\n",
    "SUV_miles_price.plot(x='average_miles_year', y='price', kind='scatter', grid=True, figsize=(8,8), alpha=0.3)\n",
    "# checking the correlation\n",
    "SUV_miles_price['average_miles_year'].corr(SUV_miles_price['price'])"
   ]
  },
  {
   "cell_type": "markdown",
   "metadata": {},
   "source": [
    "There's a weak correlation between SUV's yearly mileage and price. It appears most ads fall between 10000 to 20000 miles per year, priced until 20000."
   ]
  },
  {
   "cell_type": "code",
   "execution_count": 68,
   "metadata": {},
   "outputs": [
    {
     "data": {
      "text/plain": [
       "0.11454456845528574"
      ]
     },
     "execution_count": 68,
     "metadata": {},
     "output_type": "execute_result"
    },
    {
     "data": {
      "image/png": "[encoded data removed]",
      "text/plain": [
       "<Figure size 576x576 with 1 Axes>"
      ]
     },
     "metadata": {
      "needs_background": "light"
     },
     "output_type": "display_data"
    }
   ],
   "source": [
    "# slicing data by sedan\n",
    "sedan_miles_price = df_without_outliers.query('type == \"sedan\"')\n",
    "# plotting a scatterplot\n",
    "sedan_miles_price.plot(x='average_miles_year', y='price', kind='scatter', grid=True, figsize=(8,8), alpha=0.3)\n",
    "# checking the correlation\n",
    "sedan_miles_price['average_miles_year'].corr(sedan_miles_price['price'])"
   ]
  },
  {
   "cell_type": "markdown",
   "metadata": {},
   "source": [
    "Same with sedan - there's a weak correlation between sedan's yearly mileage and price. And also for sedan most ads fall between 10000 to 20000 miles per year, but priced until 10000."
   ]
  },
  {
   "cell_type": "code",
   "execution_count": 69,
   "metadata": {},
   "outputs": [
    {
     "name": "stdout",
     "output_type": "stream",
     "text": [
      "                 price\n",
      "condition_group       \n",
      "0                 1400\n",
      "1                 2250\n",
      "2                 6697\n",
      "3                 9950\n",
      "4                13000\n",
      "5                17995\n"
     ]
    },
    {
     "data": {
      "text/plain": [
       "0.2950988573855335"
      ]
     },
     "execution_count": 69,
     "metadata": {},
     "output_type": "execute_result"
    },
    {
     "data": {
      "image/png": "[encoded data removed]",
      "text/plain": [
       "<Figure size 576x576 with 1 Axes>"
      ]
     },
     "metadata": {
      "needs_background": "light"
     },
     "output_type": "display_data"
    }
   ],
   "source": [
    "# slicing data by SUV\n",
    "condition_price_SUV = df_without_outliers.query('type == \"SUV\"')\n",
    "# looking at median prices for each condition group\n",
    "condition_price_SUV_median = condition_price_SUV.pivot_table(index='condition_group', values='price', aggfunc='median')\n",
    "print(condition_price_SUV_median)\n",
    "# plotting a scatterplot\n",
    "condition_price_SUV.plot(x='condition_group', y='price', kind='scatter', grid=True, figsize=(8,8), xlim=(-1,6), ylim=(0,10000), alpha=0.3)\n",
    "# checking the correlation\n",
    "condition_price_SUV['condition_group'].corr(condition_price_SUV['price'])"
   ]
  },
  {
   "cell_type": "markdown",
   "metadata": {},
   "source": [
    "It appears SUVs that are listed as new start at the highest rate and have highest median price. Vehicles listed as salvage or fair have lowest median price. Good and excellent vehicles are most listed. The correlation of condition and price is rather weak."
   ]
  },
  {
   "cell_type": "code",
   "execution_count": 70,
   "metadata": {},
   "outputs": [
    {
     "name": "stdout",
     "output_type": "stream",
     "text": [
      "                  price\n",
      "condition_group        \n",
      "0                2900.0\n",
      "1                1500.0\n",
      "2                4950.0\n",
      "3                6600.0\n",
      "4                7499.5\n",
      "5                8995.0\n"
     ]
    },
    {
     "data": {
      "text/plain": [
       "0.3263042498963308"
      ]
     },
     "execution_count": 70,
     "metadata": {},
     "output_type": "execute_result"
    },
    {
     "data": {
      "image/png": "[encoded data removed]",
      "text/plain": [
       "<Figure size 576x576 with 1 Axes>"
      ]
     },
     "metadata": {
      "needs_background": "light"
     },
     "output_type": "display_data"
    }
   ],
   "source": [
    "# slicing data by sedan\n",
    "condition_price_sedan = df_without_outliers.query('type == \"sedan\"')\n",
    "# looking at median prices for each condition group\n",
    "condition_price_sedan_median = condition_price_sedan.pivot_table(index='condition_group', values='price', aggfunc='median')\n",
    "print(condition_price_sedan_median)\n",
    "# plotting a scatterplot\n",
    "condition_price_sedan.plot(x='condition_group', y='price', kind='scatter', grid=True, figsize=(8,8), xlim=(-1,6), ylim=(0,10000), alpha=0.3)\n",
    "# checking the correlation\n",
    "condition_price_sedan['condition_group'].corr(condition_price_sedan['price'])"
   ]
  },
  {
   "cell_type": "markdown",
   "metadata": {},
   "source": [
    "It appears sedans that are listed as new start at the highest rate and have highest median price. Vehicles listed as salvage or fair have lowest median price. Good and excellent vehicles are most listed. The correlation of condition and price is rather weak."
   ]
  },
  {
   "cell_type": "code",
   "execution_count": 71,
   "metadata": {},
   "outputs": [
    {
     "data": {
      "image/png": "[encoded data removed]",
      "text/plain": [
       "<Figure size 576x576 with 1 Axes>"
      ]
     },
     "metadata": {
      "needs_background": "light"
     },
     "output_type": "display_data"
    }
   ],
   "source": [
    "# slicing data by SUV\n",
    "SUV_transmission = df_without_outliers.query('type == \"SUV\"')\n",
    "SUV_transmission.pivot_table(index='transmission', values='price', aggfunc='count')\n",
    "# creating a boxplot that shows each transmission type and price range\n",
    "SUV_transmission.boxplot(column='price', by='transmission', figsize = (8, 8));"
   ]
  },
  {
   "cell_type": "markdown",
   "metadata": {},
   "source": [
    "Most popular transmission type among SUV is automatic.\n",
    "The median price for automatic SUVs appear lower than manual, but there are way more automatic SUVs listed than manual or other transmission types."
   ]
  },
  {
   "cell_type": "code",
   "execution_count": 72,
   "metadata": {},
   "outputs": [
    {
     "data": {
      "image/png": "[encoded data removed]",
      "text/plain": [
       "<Figure size 576x576 with 1 Axes>"
      ]
     },
     "metadata": {
      "needs_background": "light"
     },
     "output_type": "display_data"
    }
   ],
   "source": [
    "# slicing data by sedan\n",
    "sedan_transmission = df_without_outliers.query('type == \"sedan\"')\n",
    "sedan_transmission.pivot_table(index='transmission', values='price', aggfunc='count')\n",
    "# creating a boxplot that shows each transmission type and price range\n",
    "sedan_transmission.boxplot(column='price', by='transmission', figsize = (8, 8));"
   ]
  },
  {
   "cell_type": "markdown",
   "metadata": {},
   "source": [
    "Also when it comes to sedan, most popular transmission type is automatic, but the median price for automatic sedans is higher than manual, even though there are way more automatic sedans listed than manual or other transmission types."
   ]
  },
  {
   "cell_type": "markdown",
   "metadata": {},
   "source": [
    "## Missing values\n",
    "\n",
    "Originally, dataset included some problematic data that had to be addressed in order to make analysis possible.\n",
    "Missing values in model_year, cylinders and odometer have been replaced according to model and model year, missing values in paint_color have been replaced with 'unknown', missing values in is_4wd have been replaced with 0 (- not a 4 wheel drive).\n",
    "\n",
    "There are new columns that have been added to the dataset as well: model_year_filled, weekday, month_posted, year_posted, age_when_posted, average_miles_year, condition_group.\n",
    "\n",
    "model_year_filled column has values from model_year where missing values were replaced by grouping the data by model and calculating mean model year for each model.\n",
    "\n",
    "weekday - day of the week.\n",
    "\n",
    "month_posted - month of when the ad was placed.\n",
    "\n",
    "year_posted - year when the ad was placed.\n",
    "\n",
    "age_when_posted - vehicle's age (in years) when the ad was placed.\n",
    "\n",
    "average_miles_year - vehicle's average mileage per year.\n",
    "\n",
    "condition_group - new = 5, like new = 4, excellent = 3, good = 2, fair = 1, salvage = 0\n",
    "\n",
    "lifetime_category - quick (ads that get sold between 0 - 19 days), normal (19 - 53 days), long (53 and above).\n",
    "\n",
    "## Outliers\n",
    "To not distort the analysis, outliers or unusual values were removed and not taken into account.\n",
    "\n",
    "A separate dataframe without outliers was created. This dataframe excludes rows where average miles per year are above 30 000 (high mileage), rows where mileage is 0 and vehicle is above 10 years old (0 miles might be due to invalid input / tampered reading / odometer rolling back to 0 for certain older models, rows where price is below 500 (prices 0 - 500 are rather outliers and part might be due to invalid input) and rows that contain cars older than 30 years as those would be considered retro vehicles. Buying and selling of retro vehicles should be studied separately.\n",
    "\n",
    "## General conclusion\n",
    "Fast lifetime of an ad is between 0 to 19 days, normal - 19 - 53 days and long - anything above 53.\n",
    "\n",
    "About half of ads fall into normal category - vehicles that get sold within 19 - 53 days. Vehicles that get sold quick are half the amount of normal. Same with the vehicles that stay on the site for long.\n",
    "\n",
    "Based on performed analysis, 3 most common conditions listed on the site are - excellent, good and like new. Condition of a vehicle does not greatly influence how long an ad remains on the site as it was observed that vehicles that were sold quick and those that were listed for long, both have nearly same values within each condition category.\n",
    "\n",
    "It appears that mileages are very similar between ad categories.\n",
    "\n",
    "Vehicles that sell quick and long, both have most amount of ads listed with miles per year between 10000 - 15000, after that the amount of ads gets lower.\n",
    "\n",
    "Same case appears to be with ads that fall into normal category - most ads have 10000 to 15000 miles per year and from there the mileage gets higher, but amount of ads, lower.\n",
    "\n",
    "About same exact vehicle models are most popular within all ad lifetime categories. The most commonly listed are Ford F-150, Chevrolet Silverado 1500 and RAM 1500. All of these models are distributed equally between ad lifetime categories - it seems vehicle model is not a significant factor in how long an ad will remain on the site.\n",
    "\n",
    "It appears vehicle type alone does not influence how fast car sells as well. The amount of ads per vehicle type in each ad lifetime category does not differ much.\n",
    "\n",
    "Two vehicle types with the greatest number of ads are SUV and sedan.\n",
    "\n",
    "Looking at SUV price and age, we can observe a slight negative linear relationship (Pearson correlation coefficient -0.59) - with increase in age, there is a decrease in price. Similarily, sedan price and age has a slight negative correlation (-0.63).\n",
    "\n",
    "There's a weak correlation between SUV's yearly mileage and price. It appears most ads fall between 10000 to 20000 miles per year, priced until 20000.\n",
    "\n",
    "Same with sedan - there's a weak correlation between sedan's yearly mileage and price. And also for sedan most ads fall between 10000 to 20000 miles per year, but priced until 10000.\n",
    "\n",
    "SUVs that are listed as new start at the highest rate and have highest median price. Vehicles listed as salvage or fair have lowest median price. Good and excellent vehicles are most listed. The correlation of condition and price is rather weak.\n",
    "\n",
    "Same with sedan - sedans that are listed as new start at the highest rate and have highest median price. Vehicles listed as salvage or fair have lowest median price. Good and excellent vehicles are most listed. The correlation of condition and price is rather weak.\n",
    "\n",
    "Most popular transmission type among SUV is automatic.\n",
    "The median price for automatic SUVs appear lower than manual, but there are way more automatic SUVs listed than manual or other transmission types.\n",
    "\n",
    "Also when it comes to sedan, most popular transmission type is automatic, but the median price for automatic sedans is higher than manual, even though there are way more automatic sedans listed than manual or other transmission types."
   ]
  }
 ],
 "metadata": {
  "ExecuteTimeLog": [
   {
    "duration": 828,
    "start_time": "2021-11-16T09:21:11.304Z"
   },
   {
    "duration": 893,
    "start_time": "2021-11-16T09:21:17.728Z"
   },
   {
    "duration": 1150,
    "start_time": "2021-11-16T09:21:29.568Z"
   },
   {
    "duration": 3,
    "start_time": "2021-11-16T09:24:14.495Z"
   },
   {
    "duration": 120,
    "start_time": "2021-11-16T09:24:46.630Z"
   },
   {
    "duration": 3,
    "start_time": "2021-11-16T09:28:27.882Z"
   },
   {
    "duration": 4,
    "start_time": "2021-11-16T09:29:54.281Z"
   },
   {
    "duration": 3,
    "start_time": "2021-11-16T09:30:45.936Z"
   },
   {
    "duration": 4,
    "start_time": "2021-11-16T09:31:06.300Z"
   },
   {
    "duration": 113,
    "start_time": "2021-11-16T09:31:37.208Z"
   },
   {
    "duration": 143,
    "start_time": "2021-11-16T09:31:48.656Z"
   },
   {
    "duration": 98,
    "start_time": "2021-11-16T09:31:55.678Z"
   },
   {
    "duration": 3,
    "start_time": "2021-11-16T09:32:08.535Z"
   },
   {
    "duration": 111,
    "start_time": "2021-11-16T09:32:10.120Z"
   },
   {
    "duration": 3,
    "start_time": "2021-11-16T09:32:15.732Z"
   },
   {
    "duration": 4,
    "start_time": "2021-11-16T09:32:29.423Z"
   },
   {
    "duration": 3,
    "start_time": "2021-11-16T10:03:03.074Z"
   },
   {
    "duration": 3,
    "start_time": "2021-11-16T10:10:01.288Z"
   },
   {
    "duration": 3,
    "start_time": "2021-11-16T10:10:46.923Z"
   },
   {
    "duration": 121,
    "start_time": "2021-11-16T10:37:46.494Z"
   },
   {
    "duration": 125,
    "start_time": "2021-11-16T10:38:20.632Z"
   },
   {
    "duration": 112,
    "start_time": "2021-11-16T10:46:53.001Z"
   },
   {
    "duration": 110,
    "start_time": "2021-11-16T10:48:25.775Z"
   },
   {
    "duration": 3,
    "start_time": "2021-11-16T10:50:18.720Z"
   },
   {
    "duration": 4,
    "start_time": "2021-11-16T10:50:37.649Z"
   },
   {
    "duration": 2,
    "start_time": "2021-11-16T10:50:51.884Z"
   },
   {
    "duration": 3,
    "start_time": "2021-11-16T10:51:56.237Z"
   },
   {
    "duration": 101,
    "start_time": "2021-11-16T10:53:13.791Z"
   },
   {
    "duration": 3,
    "start_time": "2021-11-16T10:55:59.186Z"
   },
   {
    "duration": 3,
    "start_time": "2021-11-16T10:56:10.751Z"
   },
   {
    "duration": 3,
    "start_time": "2021-11-16T10:56:49.038Z"
   },
   {
    "duration": 3,
    "start_time": "2021-11-16T10:56:49.174Z"
   },
   {
    "duration": 4,
    "start_time": "2021-11-16T10:56:49.414Z"
   },
   {
    "duration": 3,
    "start_time": "2021-11-16T10:56:49.680Z"
   },
   {
    "duration": 3,
    "start_time": "2021-11-16T10:56:50.370Z"
   },
   {
    "duration": 114,
    "start_time": "2021-11-16T10:59:34.518Z"
   },
   {
    "duration": 3,
    "start_time": "2021-11-16T11:01:41.201Z"
   },
   {
    "duration": 116,
    "start_time": "2021-11-16T11:01:48.754Z"
   },
   {
    "duration": 3,
    "start_time": "2021-11-16T11:02:16.685Z"
   },
   {
    "duration": 3,
    "start_time": "2021-11-16T11:02:19.479Z"
   },
   {
    "duration": 3,
    "start_time": "2021-11-16T11:02:47.067Z"
   },
   {
    "duration": 3,
    "start_time": "2021-11-16T11:02:49.353Z"
   },
   {
    "duration": 3,
    "start_time": "2021-11-16T11:03:07.835Z"
   },
   {
    "duration": 3,
    "start_time": "2021-11-16T11:03:07.953Z"
   },
   {
    "duration": 112,
    "start_time": "2021-11-16T11:07:52.072Z"
   },
   {
    "duration": 187,
    "start_time": "2021-11-16T11:09:23.468Z"
   },
   {
    "duration": 4,
    "start_time": "2021-11-16T11:10:01.455Z"
   },
   {
    "duration": 3,
    "start_time": "2021-11-16T11:10:05.069Z"
   },
   {
    "duration": 4,
    "start_time": "2021-11-16T11:10:13.376Z"
   },
   {
    "duration": 3,
    "start_time": "2021-11-16T11:10:14.434Z"
   },
   {
    "duration": 3,
    "start_time": "2021-11-16T11:10:22.853Z"
   },
   {
    "duration": 4,
    "start_time": "2021-11-16T11:27:29.279Z"
   },
   {
    "duration": 4,
    "start_time": "2021-11-16T11:29:08.919Z"
   },
   {
    "duration": 118,
    "start_time": "2021-11-16T11:29:46.703Z"
   },
   {
    "duration": 437,
    "start_time": "2021-11-16T11:36:02.181Z"
   },
   {
    "duration": 157,
    "start_time": "2021-11-16T11:36:14.388Z"
   },
   {
    "duration": 207,
    "start_time": "2021-11-16T11:47:15.898Z"
   },
   {
    "duration": 3,
    "start_time": "2021-11-16T11:53:52.092Z"
   },
   {
    "duration": 3,
    "start_time": "2021-11-16T11:53:52.236Z"
   },
   {
    "duration": 3,
    "start_time": "2021-11-16T11:59:12.005Z"
   },
   {
    "duration": 112,
    "start_time": "2021-11-16T12:00:33.446Z"
   },
   {
    "duration": 3,
    "start_time": "2021-11-16T12:02:14.453Z"
   },
   {
    "duration": 3,
    "start_time": "2021-11-16T12:02:39.512Z"
   },
   {
    "duration": 106,
    "start_time": "2021-11-16T12:03:03.460Z"
   }
  ],
  "kernelspec": {
   "display_name": "Python 3 (ipykernel)",
   "language": "python",
   "name": "python3"
  },
  "language_info": {
   "codemirror_mode": {
    "name": "ipython",
    "version": 3
   },
   "file_extension": ".py",
   "mimetype": "text/x-python",
   "name": "python",
   "nbconvert_exporter": "python",
   "pygments_lexer": "ipython3",
   "version": "3.9.5"
  },
  "toc": {
   "base_numbering": 1,
   "nav_menu": {},
   "number_sections": true,
   "sideBar": true,
   "skip_h1_title": false,
   "title_cell": "Table of Contents",
   "title_sidebar": "Contents",
   "toc_cell": false,
   "toc_position": {
    "height": "calc(100% - 180px)",
    "left": "10px",
    "top": "150px",
    "width": "165px"
   },
   "toc_section_display": true,
   "toc_window_display": true
  }
 },
 "nbformat": 4,
 "nbformat_minor": 2
}
