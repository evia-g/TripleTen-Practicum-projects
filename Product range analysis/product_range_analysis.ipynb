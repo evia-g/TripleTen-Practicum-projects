{
 "cells": [
  {
   "cell_type": "markdown",
   "metadata": {},
   "source": [
    "__[Link to presentation](https://drive.google.com/file/d/1vp2WHJsu1diMFWxMdvCK86S9kml1TVrL/view?usp=sharing)__"
   ]
  },
  {
   "cell_type": "markdown",
   "metadata": {},
   "source": [
    "__[Link to analysis Dashboard](https://public.tableau.com/views/Productrangeanalysis_17029763841810/Dashboard1?:language=en-US&:display_count=n&:origin=viz_share_link)__"
   ]
  },
  {
   "cell_type": "markdown",
   "metadata": {},
   "source": [
    "# Product Range Analysis"
   ]
  },
  {
   "cell_type": "markdown",
   "metadata": {},
   "source": [
    "We have a dataset that contains the transaction history of an online store that sells household goods.\n",
    "\n",
    "Project goal:\n",
    "\n",
    "gaining a comprehensive understanding of the store's product range and its performance.\n",
    "\n",
    "This includes assessing the popularity and profitability of individual products, identifying trends in customer preferences and determining which products contribute significantly to overall revenue."
   ]
  },
  {
   "cell_type": "markdown",
   "metadata": {},
   "source": [
    "##  Preparing data for analysis"
   ]
  },
  {
   "cell_type": "code",
   "execution_count": 1,
   "metadata": {},
   "outputs": [
    {
     "name": "stdout",
     "output_type": "stream",
     "text": [
      "Collecting sidetable\n",
      "  Downloading sidetable-0.9.1-py3-none-any.whl (19 kB)\n",
      "Requirement already satisfied: pandas>=1.0 in /opt/conda/lib/python3.9/site-packages (from sidetable) (1.2.4)\n",
      "Requirement already satisfied: python-dateutil>=2.7.3 in /opt/conda/lib/python3.9/site-packages (from pandas>=1.0->sidetable) (2.8.1)\n",
      "Requirement already satisfied: pytz>=2017.3 in /opt/conda/lib/python3.9/site-packages (from pandas>=1.0->sidetable) (2021.1)\n",
      "Requirement already satisfied: numpy>=1.16.5 in /opt/conda/lib/python3.9/site-packages (from pandas>=1.0->sidetable) (1.21.1)\n",
      "Requirement already satisfied: six>=1.5 in /opt/conda/lib/python3.9/site-packages (from python-dateutil>=2.7.3->pandas>=1.0->sidetable) (1.16.0)\n",
      "Installing collected packages: sidetable\n",
      "Successfully installed sidetable-0.9.1\n",
      "Collecting textblob\n",
      "  Downloading textblob-0.17.1-py2.py3-none-any.whl (636 kB)\n",
      "\u001b[K     |████████████████████████████████| 636 kB 15.9 MB/s eta 0:00:01\n",
      "\u001b[?25hRequirement already satisfied: nltk>=3.1 in /opt/conda/lib/python3.9/site-packages (from textblob) (3.6.1)\n",
      "Requirement already satisfied: tqdm in /opt/conda/lib/python3.9/site-packages (from nltk>=3.1->textblob) (4.61.2)\n",
      "Requirement already satisfied: regex in /opt/conda/lib/python3.9/site-packages (from nltk>=3.1->textblob) (2022.4.24)\n",
      "Requirement already satisfied: joblib in /opt/conda/lib/python3.9/site-packages (from nltk>=3.1->textblob) (1.1.0)\n",
      "Requirement already satisfied: click in /opt/conda/lib/python3.9/site-packages (from nltk>=3.1->textblob) (8.1.3)\n",
      "Installing collected packages: textblob\n",
      "Successfully installed textblob-0.17.1\n"
     ]
    },
    {
     "name": "stderr",
     "output_type": "stream",
     "text": [
      "[nltk_data] Downloading package brown to /home/jovyan/nltk_data...\n",
      "[nltk_data]   Unzipping corpora/brown.zip.\n",
      "[nltk_data] Downloading package punkt to /home/jovyan/nltk_data...\n",
      "[nltk_data]   Unzipping tokenizers/punkt.zip.\n"
     ]
    }
   ],
   "source": [
    "# loading the libraries\n",
    "import pandas as pd\n",
    "import matplotlib.pyplot as plt\n",
    "import seaborn as sns\n",
    "import plotly.express as px\n",
    "from plotly import graph_objects as go\n",
    "import numpy as np\n",
    "import warnings\n",
    "warnings.filterwarnings('ignore')\n",
    "!pip install sidetable\n",
    "import sidetable as stb\n",
    "!pip install -U textblob\n",
    "import nltk\n",
    "nltk.download('brown')\n",
    "nltk.download('punkt')\n",
    "from textblob import TextBlob\n",
    "from collections import Counter\n",
    "import scipy.stats as stats\n",
    "from scipy.stats import f_oneway"
   ]
  },
  {
   "cell_type": "code",
   "execution_count": 2,
   "metadata": {},
   "outputs": [],
   "source": [
    "# loading the dataset\n",
    "df = pd.read_csv('/datasets/ecommerce_dataset_us.csv', sep = '\\t')"
   ]
  },
  {
   "cell_type": "code",
   "execution_count": 3,
   "metadata": {},
   "outputs": [
    {
     "name": "stdout",
     "output_type": "stream",
     "text": [
      "<class 'pandas.core.frame.DataFrame'>\n",
      "RangeIndex: 541909 entries, 0 to 541908\n",
      "Data columns (total 7 columns):\n",
      " #   Column       Non-Null Count   Dtype  \n",
      "---  ------       --------------   -----  \n",
      " 0   InvoiceNo    541909 non-null  object \n",
      " 1   StockCode    541909 non-null  object \n",
      " 2   Description  540455 non-null  object \n",
      " 3   Quantity     541909 non-null  int64  \n",
      " 4   InvoiceDate  541909 non-null  object \n",
      " 5   UnitPrice    541909 non-null  float64\n",
      " 6   CustomerID   406829 non-null  float64\n",
      "dtypes: float64(2), int64(1), object(4)\n",
      "memory usage: 28.9+ MB\n"
     ]
    }
   ],
   "source": [
    "# looking at the genral info\n",
    "df.info()"
   ]
  },
  {
   "cell_type": "code",
   "execution_count": 4,
   "metadata": {},
   "outputs": [
    {
     "data": {
      "text/html": [
       "<div>\n",
       "<style scoped>\n",
       "    .dataframe tbody tr th:only-of-type {\n",
       "        vertical-align: middle;\n",
       "    }\n",
       "\n",
       "    .dataframe tbody tr th {\n",
       "        vertical-align: top;\n",
       "    }\n",
       "\n",
       "    .dataframe thead th {\n",
       "        text-align: right;\n",
       "    }\n",
       "</style>\n",
       "<table border=\"1\" class=\"dataframe\">\n",
       "  <thead>\n",
       "    <tr style=\"text-align: right;\">\n",
       "      <th></th>\n",
       "      <th>InvoiceNo</th>\n",
       "      <th>StockCode</th>\n",
       "      <th>Description</th>\n",
       "      <th>Quantity</th>\n",
       "      <th>InvoiceDate</th>\n",
       "      <th>UnitPrice</th>\n",
       "      <th>CustomerID</th>\n",
       "    </tr>\n",
       "  </thead>\n",
       "  <tbody>\n",
       "    <tr>\n",
       "      <th>0</th>\n",
       "      <td>536365</td>\n",
       "      <td>85123A</td>\n",
       "      <td>WHITE HANGING HEART T-LIGHT HOLDER</td>\n",
       "      <td>6</td>\n",
       "      <td>11/29/2018 08:26</td>\n",
       "      <td>2.55</td>\n",
       "      <td>17850.0</td>\n",
       "    </tr>\n",
       "    <tr>\n",
       "      <th>1</th>\n",
       "      <td>536365</td>\n",
       "      <td>71053</td>\n",
       "      <td>WHITE METAL LANTERN</td>\n",
       "      <td>6</td>\n",
       "      <td>11/29/2018 08:26</td>\n",
       "      <td>3.39</td>\n",
       "      <td>17850.0</td>\n",
       "    </tr>\n",
       "    <tr>\n",
       "      <th>2</th>\n",
       "      <td>536365</td>\n",
       "      <td>84406B</td>\n",
       "      <td>CREAM CUPID HEARTS COAT HANGER</td>\n",
       "      <td>8</td>\n",
       "      <td>11/29/2018 08:26</td>\n",
       "      <td>2.75</td>\n",
       "      <td>17850.0</td>\n",
       "    </tr>\n",
       "    <tr>\n",
       "      <th>3</th>\n",
       "      <td>536365</td>\n",
       "      <td>84029G</td>\n",
       "      <td>KNITTED UNION FLAG HOT WATER BOTTLE</td>\n",
       "      <td>6</td>\n",
       "      <td>11/29/2018 08:26</td>\n",
       "      <td>3.39</td>\n",
       "      <td>17850.0</td>\n",
       "    </tr>\n",
       "    <tr>\n",
       "      <th>4</th>\n",
       "      <td>536365</td>\n",
       "      <td>84029E</td>\n",
       "      <td>RED WOOLLY HOTTIE WHITE HEART.</td>\n",
       "      <td>6</td>\n",
       "      <td>11/29/2018 08:26</td>\n",
       "      <td>3.39</td>\n",
       "      <td>17850.0</td>\n",
       "    </tr>\n",
       "  </tbody>\n",
       "</table>\n",
       "</div>"
      ],
      "text/plain": [
       "  InvoiceNo StockCode                          Description  Quantity  \\\n",
       "0    536365    85123A   WHITE HANGING HEART T-LIGHT HOLDER         6   \n",
       "1    536365     71053                  WHITE METAL LANTERN         6   \n",
       "2    536365    84406B       CREAM CUPID HEARTS COAT HANGER         8   \n",
       "3    536365    84029G  KNITTED UNION FLAG HOT WATER BOTTLE         6   \n",
       "4    536365    84029E       RED WOOLLY HOTTIE WHITE HEART.         6   \n",
       "\n",
       "        InvoiceDate  UnitPrice  CustomerID  \n",
       "0  11/29/2018 08:26       2.55     17850.0  \n",
       "1  11/29/2018 08:26       3.39     17850.0  \n",
       "2  11/29/2018 08:26       2.75     17850.0  \n",
       "3  11/29/2018 08:26       3.39     17850.0  \n",
       "4  11/29/2018 08:26       3.39     17850.0  "
      ]
     },
     "execution_count": 4,
     "metadata": {},
     "output_type": "execute_result"
    }
   ],
   "source": [
    "# looking at the 1st 5 rows of the df\n",
    "df.head()"
   ]
  },
  {
   "cell_type": "code",
   "execution_count": 5,
   "metadata": {},
   "outputs": [],
   "source": [
    "# converting dates to datetime data type\n",
    "df['InvoiceDate'] = pd.to_datetime(df['InvoiceDate'], format=\"%m/%d/%Y %H:%M\")\n",
    "#df.info()"
   ]
  },
  {
   "cell_type": "markdown",
   "metadata": {},
   "source": [
    "### Handling missing values"
   ]
  },
  {
   "cell_type": "code",
   "execution_count": 6,
   "metadata": {},
   "outputs": [
    {
     "data": {
      "text/html": [
       "<div>\n",
       "<style scoped>\n",
       "    .dataframe tbody tr th:only-of-type {\n",
       "        vertical-align: middle;\n",
       "    }\n",
       "\n",
       "    .dataframe tbody tr th {\n",
       "        vertical-align: top;\n",
       "    }\n",
       "\n",
       "    .dataframe thead th {\n",
       "        text-align: right;\n",
       "    }\n",
       "</style>\n",
       "<table border=\"1\" class=\"dataframe\">\n",
       "  <thead>\n",
       "    <tr style=\"text-align: right;\">\n",
       "      <th></th>\n",
       "      <th>missing</th>\n",
       "      <th>total</th>\n",
       "      <th>percent</th>\n",
       "    </tr>\n",
       "  </thead>\n",
       "  <tbody>\n",
       "    <tr>\n",
       "      <th>CustomerID</th>\n",
       "      <td>135080</td>\n",
       "      <td>541909</td>\n",
       "      <td>24.926694</td>\n",
       "    </tr>\n",
       "    <tr>\n",
       "      <th>Description</th>\n",
       "      <td>1454</td>\n",
       "      <td>541909</td>\n",
       "      <td>0.268311</td>\n",
       "    </tr>\n",
       "    <tr>\n",
       "      <th>InvoiceNo</th>\n",
       "      <td>0</td>\n",
       "      <td>541909</td>\n",
       "      <td>0.000000</td>\n",
       "    </tr>\n",
       "    <tr>\n",
       "      <th>StockCode</th>\n",
       "      <td>0</td>\n",
       "      <td>541909</td>\n",
       "      <td>0.000000</td>\n",
       "    </tr>\n",
       "    <tr>\n",
       "      <th>Quantity</th>\n",
       "      <td>0</td>\n",
       "      <td>541909</td>\n",
       "      <td>0.000000</td>\n",
       "    </tr>\n",
       "    <tr>\n",
       "      <th>InvoiceDate</th>\n",
       "      <td>0</td>\n",
       "      <td>541909</td>\n",
       "      <td>0.000000</td>\n",
       "    </tr>\n",
       "    <tr>\n",
       "      <th>UnitPrice</th>\n",
       "      <td>0</td>\n",
       "      <td>541909</td>\n",
       "      <td>0.000000</td>\n",
       "    </tr>\n",
       "  </tbody>\n",
       "</table>\n",
       "</div>"
      ],
      "text/plain": [
       "             missing   total    percent\n",
       "CustomerID    135080  541909  24.926694\n",
       "Description     1454  541909   0.268311\n",
       "InvoiceNo          0  541909   0.000000\n",
       "StockCode          0  541909   0.000000\n",
       "Quantity           0  541909   0.000000\n",
       "InvoiceDate        0  541909   0.000000\n",
       "UnitPrice          0  541909   0.000000"
      ]
     },
     "execution_count": 6,
     "metadata": {},
     "output_type": "execute_result"
    }
   ],
   "source": [
    "# checking whether there are missing values\n",
    "df.stb.missing()"
   ]
  },
  {
   "cell_type": "markdown",
   "metadata": {},
   "source": [
    "1454 rows do not include item descriptions and 135080 - user IDs."
   ]
  },
  {
   "cell_type": "code",
   "execution_count": 7,
   "metadata": {},
   "outputs": [
    {
     "data": {
      "text/plain": [
       "InvoiceNo      25900\n",
       "StockCode       4070\n",
       "Description     4223\n",
       "Quantity         722\n",
       "InvoiceDate    23260\n",
       "UnitPrice       1630\n",
       "CustomerID      4372\n",
       "dtype: int64"
      ]
     },
     "execution_count": 7,
     "metadata": {},
     "output_type": "execute_result"
    }
   ],
   "source": [
    "# looking at the number of unique values in each column\n",
    "df.nunique()"
   ]
  },
  {
   "cell_type": "markdown",
   "metadata": {},
   "source": [
    "We have 4372 unique customers, 25900 invoices and 4070 unique items in our stock, and it looks like somehow there are more product descriptions than items."
   ]
  },
  {
   "cell_type": "code",
   "execution_count": 8,
   "metadata": {},
   "outputs": [
    {
     "data": {
      "text/html": [
       "<div>\n",
       "<style scoped>\n",
       "    .dataframe tbody tr th:only-of-type {\n",
       "        vertical-align: middle;\n",
       "    }\n",
       "\n",
       "    .dataframe tbody tr th {\n",
       "        vertical-align: top;\n",
       "    }\n",
       "\n",
       "    .dataframe thead th {\n",
       "        text-align: right;\n",
       "    }\n",
       "</style>\n",
       "<table border=\"1\" class=\"dataframe\">\n",
       "  <thead>\n",
       "    <tr style=\"text-align: right;\">\n",
       "      <th></th>\n",
       "      <th>InvoiceNo</th>\n",
       "      <th>StockCode</th>\n",
       "      <th>Description</th>\n",
       "      <th>Quantity</th>\n",
       "      <th>InvoiceDate</th>\n",
       "      <th>UnitPrice</th>\n",
       "      <th>CustomerID</th>\n",
       "    </tr>\n",
       "  </thead>\n",
       "  <tbody>\n",
       "    <tr>\n",
       "      <th>622</th>\n",
       "      <td>536414</td>\n",
       "      <td>22139</td>\n",
       "      <td>NaN</td>\n",
       "      <td>56</td>\n",
       "      <td>2018-11-29 11:52:00</td>\n",
       "      <td>0.0</td>\n",
       "      <td>NaN</td>\n",
       "    </tr>\n",
       "    <tr>\n",
       "      <th>1970</th>\n",
       "      <td>536545</td>\n",
       "      <td>21134</td>\n",
       "      <td>NaN</td>\n",
       "      <td>1</td>\n",
       "      <td>2018-11-29 14:32:00</td>\n",
       "      <td>0.0</td>\n",
       "      <td>NaN</td>\n",
       "    </tr>\n",
       "    <tr>\n",
       "      <th>1971</th>\n",
       "      <td>536546</td>\n",
       "      <td>22145</td>\n",
       "      <td>NaN</td>\n",
       "      <td>1</td>\n",
       "      <td>2018-11-29 14:33:00</td>\n",
       "      <td>0.0</td>\n",
       "      <td>NaN</td>\n",
       "    </tr>\n",
       "    <tr>\n",
       "      <th>1972</th>\n",
       "      <td>536547</td>\n",
       "      <td>37509</td>\n",
       "      <td>NaN</td>\n",
       "      <td>1</td>\n",
       "      <td>2018-11-29 14:33:00</td>\n",
       "      <td>0.0</td>\n",
       "      <td>NaN</td>\n",
       "    </tr>\n",
       "    <tr>\n",
       "      <th>1987</th>\n",
       "      <td>536549</td>\n",
       "      <td>85226A</td>\n",
       "      <td>NaN</td>\n",
       "      <td>1</td>\n",
       "      <td>2018-11-29 14:34:00</td>\n",
       "      <td>0.0</td>\n",
       "      <td>NaN</td>\n",
       "    </tr>\n",
       "  </tbody>\n",
       "</table>\n",
       "</div>"
      ],
      "text/plain": [
       "     InvoiceNo StockCode Description  Quantity         InvoiceDate  UnitPrice  \\\n",
       "622     536414     22139         NaN        56 2018-11-29 11:52:00        0.0   \n",
       "1970    536545     21134         NaN         1 2018-11-29 14:32:00        0.0   \n",
       "1971    536546     22145         NaN         1 2018-11-29 14:33:00        0.0   \n",
       "1972    536547     37509         NaN         1 2018-11-29 14:33:00        0.0   \n",
       "1987    536549    85226A         NaN         1 2018-11-29 14:34:00        0.0   \n",
       "\n",
       "      CustomerID  \n",
       "622          NaN  \n",
       "1970         NaN  \n",
       "1971         NaN  \n",
       "1972         NaN  \n",
       "1987         NaN  "
      ]
     },
     "execution_count": 8,
     "metadata": {},
     "output_type": "execute_result"
    }
   ],
   "source": [
    "# checking the rows where we have missing values in Description column\n",
    "df.query('Description != Description').head()"
   ]
  },
  {
   "cell_type": "markdown",
   "metadata": {},
   "source": [
    "It looks like the rows where there are no product descriptions, also do not have unit prices and customer IDs."
   ]
  },
  {
   "cell_type": "code",
   "execution_count": 9,
   "metadata": {},
   "outputs": [],
   "source": [
    "# filtering rows that have no description and customer ID\n",
    "no_desc_price_id = df.query('Description != Description and CustomerID != CustomerID')"
   ]
  },
  {
   "cell_type": "code",
   "execution_count": 10,
   "metadata": {},
   "outputs": [
    {
     "data": {
      "text/plain": [
       "1454"
      ]
     },
     "execution_count": 10,
     "metadata": {},
     "output_type": "execute_result"
    }
   ],
   "source": [
    "# checking the amount of unique invoices\n",
    "no_desc_price_id['InvoiceNo'].nunique()"
   ]
  },
  {
   "cell_type": "code",
   "execution_count": 11,
   "metadata": {},
   "outputs": [
    {
     "data": {
      "text/plain": [
       "False    540455\n",
       "True       1454\n",
       "Name: InvoiceNo, dtype: int64"
      ]
     },
     "execution_count": 11,
     "metadata": {},
     "output_type": "execute_result"
    }
   ],
   "source": [
    "# checking how many of them are in the df\n",
    "df['InvoiceNo'].isin(no_desc_price_id['InvoiceNo']).value_counts()"
   ]
  },
  {
   "cell_type": "markdown",
   "metadata": {},
   "source": [
    "There are 1454 rows that are missing item descriptions, unit prices and customer IDs. Each of these invoices appear in the whole dataset only once, so it seems we can safely remove these rows, which make up 0.26 % of our data."
   ]
  },
  {
   "cell_type": "code",
   "execution_count": 12,
   "metadata": {},
   "outputs": [],
   "source": [
    "# removing the rows that are missing item descriptions, unit prices and customer IDs\n",
    "df_new = df.drop(index=no_desc_price_id.index)"
   ]
  },
  {
   "cell_type": "code",
   "execution_count": 13,
   "metadata": {},
   "outputs": [
    {
     "data": {
      "text/plain": [
       "2256"
      ]
     },
     "execution_count": 13,
     "metadata": {},
     "output_type": "execute_result"
    }
   ],
   "source": [
    "# counting how many invoices there are without customer IDs attached to them\n",
    "df_new.query('CustomerID != CustomerID')['InvoiceNo'].nunique()"
   ]
  },
  {
   "cell_type": "markdown",
   "metadata": {},
   "source": [
    "There are 2256 invoices without customer IDs. It's worth checking whether any of these invoices always appear in the dataset without a customer ID."
   ]
  },
  {
   "cell_type": "code",
   "execution_count": 14,
   "metadata": {},
   "outputs": [
    {
     "data": {
      "text/html": [
       "<div>\n",
       "<style scoped>\n",
       "    .dataframe tbody tr th:only-of-type {\n",
       "        vertical-align: middle;\n",
       "    }\n",
       "\n",
       "    .dataframe tbody tr th {\n",
       "        vertical-align: top;\n",
       "    }\n",
       "\n",
       "    .dataframe thead th {\n",
       "        text-align: right;\n",
       "    }\n",
       "</style>\n",
       "<table border=\"1\" class=\"dataframe\">\n",
       "  <thead>\n",
       "    <tr style=\"text-align: right;\">\n",
       "      <th></th>\n",
       "      <th>InvoiceNo</th>\n",
       "      <th>StockCode</th>\n",
       "      <th>Description</th>\n",
       "      <th>Quantity</th>\n",
       "      <th>InvoiceDate</th>\n",
       "      <th>UnitPrice</th>\n",
       "      <th>CustomerID</th>\n",
       "    </tr>\n",
       "  </thead>\n",
       "  <tbody>\n",
       "    <tr>\n",
       "      <th>1443</th>\n",
       "      <td>536544</td>\n",
       "      <td>21773</td>\n",
       "      <td>DECORATIVE ROSE BATHROOM BOTTLE</td>\n",
       "      <td>1</td>\n",
       "      <td>2018-11-29 14:32:00</td>\n",
       "      <td>2.51</td>\n",
       "      <td>NaN</td>\n",
       "    </tr>\n",
       "    <tr>\n",
       "      <th>1444</th>\n",
       "      <td>536544</td>\n",
       "      <td>21774</td>\n",
       "      <td>DECORATIVE CATS BATHROOM BOTTLE</td>\n",
       "      <td>2</td>\n",
       "      <td>2018-11-29 14:32:00</td>\n",
       "      <td>2.51</td>\n",
       "      <td>NaN</td>\n",
       "    </tr>\n",
       "    <tr>\n",
       "      <th>1445</th>\n",
       "      <td>536544</td>\n",
       "      <td>21786</td>\n",
       "      <td>POLKADOT RAIN HAT</td>\n",
       "      <td>4</td>\n",
       "      <td>2018-11-29 14:32:00</td>\n",
       "      <td>0.85</td>\n",
       "      <td>NaN</td>\n",
       "    </tr>\n",
       "    <tr>\n",
       "      <th>1446</th>\n",
       "      <td>536544</td>\n",
       "      <td>21787</td>\n",
       "      <td>RAIN PONCHO RETROSPOT</td>\n",
       "      <td>2</td>\n",
       "      <td>2018-11-29 14:32:00</td>\n",
       "      <td>1.66</td>\n",
       "      <td>NaN</td>\n",
       "    </tr>\n",
       "    <tr>\n",
       "      <th>1447</th>\n",
       "      <td>536544</td>\n",
       "      <td>21790</td>\n",
       "      <td>VINTAGE SNAP CARDS</td>\n",
       "      <td>9</td>\n",
       "      <td>2018-11-29 14:32:00</td>\n",
       "      <td>1.66</td>\n",
       "      <td>NaN</td>\n",
       "    </tr>\n",
       "  </tbody>\n",
       "</table>\n",
       "</div>"
      ],
      "text/plain": [
       "     InvoiceNo StockCode                      Description  Quantity  \\\n",
       "1443    536544     21773  DECORATIVE ROSE BATHROOM BOTTLE         1   \n",
       "1444    536544     21774  DECORATIVE CATS BATHROOM BOTTLE         2   \n",
       "1445    536544     21786               POLKADOT RAIN HAT          4   \n",
       "1446    536544     21787            RAIN PONCHO RETROSPOT         2   \n",
       "1447    536544     21790               VINTAGE SNAP CARDS         9   \n",
       "\n",
       "             InvoiceDate  UnitPrice  CustomerID  \n",
       "1443 2018-11-29 14:32:00       2.51         NaN  \n",
       "1444 2018-11-29 14:32:00       2.51         NaN  \n",
       "1445 2018-11-29 14:32:00       0.85         NaN  \n",
       "1446 2018-11-29 14:32:00       1.66         NaN  \n",
       "1447 2018-11-29 14:32:00       1.66         NaN  "
      ]
     },
     "execution_count": 14,
     "metadata": {},
     "output_type": "execute_result"
    }
   ],
   "source": [
    "# filtering rows that have no customer IDs\n",
    "df_new.query('CustomerID != CustomerID').head()"
   ]
  },
  {
   "cell_type": "code",
   "execution_count": 15,
   "metadata": {},
   "outputs": [],
   "source": [
    "# grouping df by invoice numbers and calculating the count of customer IDs associated with each invoice\n",
    "# the size represents the total number of times an invoice was logged, \n",
    "# regardless of whether it had a customer ID (or with NaN)\n",
    "id_count = df_new.groupby(\"InvoiceNo\").agg({'CustomerID': ['count', 'size']})\n",
    "id_count.columns = ['count', 'size']"
   ]
  },
  {
   "cell_type": "code",
   "execution_count": 16,
   "metadata": {},
   "outputs": [
    {
     "data": {
      "text/html": [
       "<div>\n",
       "<style scoped>\n",
       "    .dataframe tbody tr th:only-of-type {\n",
       "        vertical-align: middle;\n",
       "    }\n",
       "\n",
       "    .dataframe tbody tr th {\n",
       "        vertical-align: top;\n",
       "    }\n",
       "\n",
       "    .dataframe thead th {\n",
       "        text-align: right;\n",
       "    }\n",
       "</style>\n",
       "<table border=\"1\" class=\"dataframe\">\n",
       "  <thead>\n",
       "    <tr style=\"text-align: right;\">\n",
       "      <th></th>\n",
       "      <th>count</th>\n",
       "      <th>size</th>\n",
       "    </tr>\n",
       "    <tr>\n",
       "      <th>InvoiceNo</th>\n",
       "      <th></th>\n",
       "      <th></th>\n",
       "    </tr>\n",
       "  </thead>\n",
       "  <tbody>\n",
       "    <tr>\n",
       "      <th>536365</th>\n",
       "      <td>7</td>\n",
       "      <td>7</td>\n",
       "    </tr>\n",
       "    <tr>\n",
       "      <th>536366</th>\n",
       "      <td>2</td>\n",
       "      <td>2</td>\n",
       "    </tr>\n",
       "    <tr>\n",
       "      <th>536367</th>\n",
       "      <td>12</td>\n",
       "      <td>12</td>\n",
       "    </tr>\n",
       "    <tr>\n",
       "      <th>536368</th>\n",
       "      <td>4</td>\n",
       "      <td>4</td>\n",
       "    </tr>\n",
       "    <tr>\n",
       "      <th>536369</th>\n",
       "      <td>1</td>\n",
       "      <td>1</td>\n",
       "    </tr>\n",
       "  </tbody>\n",
       "</table>\n",
       "</div>"
      ],
      "text/plain": [
       "           count  size\n",
       "InvoiceNo             \n",
       "536365         7     7\n",
       "536366         2     2\n",
       "536367        12    12\n",
       "536368         4     4\n",
       "536369         1     1"
      ]
     },
     "execution_count": 16,
     "metadata": {},
     "output_type": "execute_result"
    }
   ],
   "source": [
    "id_count.head()"
   ]
  },
  {
   "cell_type": "code",
   "execution_count": 17,
   "metadata": {},
   "outputs": [
    {
     "data": {
      "text/html": [
       "<div>\n",
       "<style scoped>\n",
       "    .dataframe tbody tr th:only-of-type {\n",
       "        vertical-align: middle;\n",
       "    }\n",
       "\n",
       "    .dataframe tbody tr th {\n",
       "        vertical-align: top;\n",
       "    }\n",
       "\n",
       "    .dataframe thead th {\n",
       "        text-align: right;\n",
       "    }\n",
       "</style>\n",
       "<table border=\"1\" class=\"dataframe\">\n",
       "  <thead>\n",
       "    <tr style=\"text-align: right;\">\n",
       "      <th></th>\n",
       "      <th>count</th>\n",
       "      <th>size</th>\n",
       "    </tr>\n",
       "    <tr>\n",
       "      <th>InvoiceNo</th>\n",
       "      <th></th>\n",
       "      <th></th>\n",
       "    </tr>\n",
       "  </thead>\n",
       "  <tbody>\n",
       "    <tr>\n",
       "      <th>536544</th>\n",
       "      <td>0</td>\n",
       "      <td>527</td>\n",
       "    </tr>\n",
       "    <tr>\n",
       "      <th>536555</th>\n",
       "      <td>0</td>\n",
       "      <td>2</td>\n",
       "    </tr>\n",
       "    <tr>\n",
       "      <th>536558</th>\n",
       "      <td>0</td>\n",
       "      <td>1</td>\n",
       "    </tr>\n",
       "    <tr>\n",
       "      <th>536565</th>\n",
       "      <td>0</td>\n",
       "      <td>2</td>\n",
       "    </tr>\n",
       "    <tr>\n",
       "      <th>536592</th>\n",
       "      <td>0</td>\n",
       "      <td>592</td>\n",
       "    </tr>\n",
       "  </tbody>\n",
       "</table>\n",
       "</div>"
      ],
      "text/plain": [
       "           count  size\n",
       "InvoiceNo             \n",
       "536544         0   527\n",
       "536555         0     2\n",
       "536558         0     1\n",
       "536565         0     2\n",
       "536592         0   592"
      ]
     },
     "execution_count": 17,
     "metadata": {},
     "output_type": "execute_result"
    }
   ],
   "source": [
    "# looking at the invoices where customer ID count is smaller than the total number of times the invoice appeared in the dataset\n",
    "id_count.query('count < size').head()"
   ]
  },
  {
   "cell_type": "code",
   "execution_count": 18,
   "metadata": {},
   "outputs": [
    {
     "data": {
      "text/plain": [
       "count      0\n",
       "size     527\n",
       "Name: 536544, dtype: int64"
      ]
     },
     "execution_count": 18,
     "metadata": {},
     "output_type": "execute_result"
    }
   ],
   "source": [
    "id_count.loc[\"536544\"]"
   ]
  },
  {
   "cell_type": "markdown",
   "metadata": {},
   "source": [
    "Invoice 536544 appears in the dataset 527 times, however, never with a customer ID."
   ]
  },
  {
   "cell_type": "code",
   "execution_count": 19,
   "metadata": {},
   "outputs": [
    {
     "data": {
      "text/html": [
       "<div>\n",
       "<style scoped>\n",
       "    .dataframe tbody tr th:only-of-type {\n",
       "        vertical-align: middle;\n",
       "    }\n",
       "\n",
       "    .dataframe tbody tr th {\n",
       "        vertical-align: top;\n",
       "    }\n",
       "\n",
       "    .dataframe thead th {\n",
       "        text-align: right;\n",
       "    }\n",
       "</style>\n",
       "<table border=\"1\" class=\"dataframe\">\n",
       "  <thead>\n",
       "    <tr style=\"text-align: right;\">\n",
       "      <th></th>\n",
       "      <th>count</th>\n",
       "      <th>size</th>\n",
       "    </tr>\n",
       "    <tr>\n",
       "      <th>InvoiceNo</th>\n",
       "      <th></th>\n",
       "      <th></th>\n",
       "    </tr>\n",
       "  </thead>\n",
       "  <tbody>\n",
       "  </tbody>\n",
       "</table>\n",
       "</div>"
      ],
      "text/plain": [
       "Empty DataFrame\n",
       "Columns: [count, size]\n",
       "Index: []"
      ]
     },
     "execution_count": 19,
     "metadata": {},
     "output_type": "execute_result"
    }
   ],
   "source": [
    "# checking whether there are cases where the customer ID count is smaller than size, but bigger than 0\n",
    "id_count.query('count < size and count > 0')"
   ]
  },
  {
   "cell_type": "markdown",
   "metadata": {},
   "source": [
    "It appears we won't be able to restore customer ID values in any of the 2256 invoices that lack customer ID."
   ]
  },
  {
   "cell_type": "code",
   "execution_count": 20,
   "metadata": {},
   "outputs": [],
   "source": [
    "# replacing missing customer IDs with 0\n",
    "df_new['CustomerID'] = df_new['CustomerID'].fillna(0)"
   ]
  },
  {
   "cell_type": "markdown",
   "metadata": {},
   "source": [
    "### Handling duplicates"
   ]
  },
  {
   "cell_type": "code",
   "execution_count": 21,
   "metadata": {},
   "outputs": [
    {
     "data": {
      "text/plain": [
       "5268"
      ]
     },
     "execution_count": 21,
     "metadata": {},
     "output_type": "execute_result"
    }
   ],
   "source": [
    "# looking for duplicates\n",
    "df_new.duplicated().sum()"
   ]
  },
  {
   "cell_type": "code",
   "execution_count": 22,
   "metadata": {},
   "outputs": [
    {
     "data": {
      "text/plain": [
       "0.9721189350979592"
      ]
     },
     "execution_count": 22,
     "metadata": {},
     "output_type": "execute_result"
    }
   ],
   "source": [
    "5268 / 541909 * 100"
   ]
  },
  {
   "cell_type": "markdown",
   "metadata": {},
   "source": [
    "Approx. 1% of our data consists of duplicates."
   ]
  },
  {
   "cell_type": "code",
   "execution_count": 23,
   "metadata": {},
   "outputs": [
    {
     "name": "stdout",
     "output_type": "stream",
     "text": [
      "InvoiceNo 1933\n",
      "StockCode 1706\n",
      "Description 1732\n",
      "Quantity 35\n",
      "InvoiceDate 1914\n",
      "UnitPrice 80\n",
      "CustomerID 961\n"
     ]
    }
   ],
   "source": [
    "# iterating over all columns and looking at duplicates - how many unique options there are\n",
    "for i in df_new[df_new.duplicated()].columns:\n",
    "    print(i, df_new[df_new.duplicated()][i].nunique())"
   ]
  },
  {
   "cell_type": "markdown",
   "metadata": {},
   "source": [
    "It appears duplicates appear across all columns."
   ]
  },
  {
   "cell_type": "code",
   "execution_count": 24,
   "metadata": {},
   "outputs": [
    {
     "data": {
      "text/plain": [
       "array([datetime.date(2018, 11, 29), datetime.date(2018, 11, 30),\n",
       "       datetime.date(2018, 12, 1), datetime.date(2018, 12, 3),\n",
       "       datetime.date(2018, 12, 4), datetime.date(2018, 12, 5),\n",
       "       datetime.date(2018, 12, 6), datetime.date(2018, 12, 7),\n",
       "       datetime.date(2018, 12, 8), datetime.date(2018, 12, 10),\n",
       "       datetime.date(2018, 12, 11), datetime.date(2018, 12, 12),\n",
       "       datetime.date(2018, 12, 13), datetime.date(2018, 12, 14),\n",
       "       datetime.date(2018, 12, 15), datetime.date(2018, 12, 17),\n",
       "       datetime.date(2018, 12, 18), datetime.date(2018, 12, 19),\n",
       "       datetime.date(2018, 12, 20), datetime.date(2018, 12, 21),\n",
       "       datetime.date(2019, 1, 2), datetime.date(2019, 1, 3),\n",
       "       datetime.date(2019, 1, 4), datetime.date(2019, 1, 7),\n",
       "       datetime.date(2019, 1, 8), datetime.date(2019, 1, 9),\n",
       "       datetime.date(2019, 1, 10), datetime.date(2019, 1, 11),\n",
       "       datetime.date(2019, 1, 12), datetime.date(2019, 1, 14),\n",
       "       datetime.date(2019, 1, 15), datetime.date(2019, 1, 16),\n",
       "       datetime.date(2019, 1, 17), datetime.date(2019, 1, 18),\n",
       "       datetime.date(2019, 1, 19), datetime.date(2019, 1, 21),\n",
       "       datetime.date(2019, 1, 22), datetime.date(2019, 1, 23),\n",
       "       datetime.date(2019, 1, 24), datetime.date(2019, 1, 25),\n",
       "       datetime.date(2019, 1, 26), datetime.date(2019, 1, 28),\n",
       "       datetime.date(2019, 1, 29), datetime.date(2019, 1, 30),\n",
       "       datetime.date(2019, 1, 31), datetime.date(2019, 2, 1),\n",
       "       datetime.date(2019, 2, 2), datetime.date(2019, 2, 4),\n",
       "       datetime.date(2019, 2, 5), datetime.date(2019, 2, 6),\n",
       "       datetime.date(2019, 2, 7), datetime.date(2019, 2, 8),\n",
       "       datetime.date(2019, 2, 9), datetime.date(2019, 2, 11),\n",
       "       datetime.date(2019, 2, 12), datetime.date(2019, 2, 13),\n",
       "       datetime.date(2019, 2, 14), datetime.date(2019, 2, 15),\n",
       "       datetime.date(2019, 2, 16), datetime.date(2019, 2, 18),\n",
       "       datetime.date(2019, 2, 19), datetime.date(2019, 2, 20),\n",
       "       datetime.date(2019, 2, 21), datetime.date(2019, 2, 22),\n",
       "       datetime.date(2019, 2, 23), datetime.date(2019, 2, 25),\n",
       "       datetime.date(2019, 2, 26), datetime.date(2019, 2, 27),\n",
       "       datetime.date(2019, 2, 28), datetime.date(2019, 3, 1),\n",
       "       datetime.date(2019, 3, 2), datetime.date(2019, 3, 4),\n",
       "       datetime.date(2019, 3, 5), datetime.date(2019, 3, 6),\n",
       "       datetime.date(2019, 3, 7), datetime.date(2019, 3, 8),\n",
       "       datetime.date(2019, 3, 9), datetime.date(2019, 3, 11),\n",
       "       datetime.date(2019, 3, 12), datetime.date(2019, 3, 13),\n",
       "       datetime.date(2019, 3, 14), datetime.date(2019, 3, 15),\n",
       "       datetime.date(2019, 3, 16), datetime.date(2019, 3, 18),\n",
       "       datetime.date(2019, 3, 19), datetime.date(2019, 3, 20),\n",
       "       datetime.date(2019, 3, 21), datetime.date(2019, 3, 22),\n",
       "       datetime.date(2019, 3, 23), datetime.date(2019, 3, 25),\n",
       "       datetime.date(2019, 3, 26), datetime.date(2019, 3, 28),\n",
       "       datetime.date(2019, 3, 29), datetime.date(2019, 3, 30),\n",
       "       datetime.date(2019, 4, 1), datetime.date(2019, 4, 2),\n",
       "       datetime.date(2019, 4, 3), datetime.date(2019, 4, 4),\n",
       "       datetime.date(2019, 4, 5), datetime.date(2019, 4, 6),\n",
       "       datetime.date(2019, 4, 8), datetime.date(2019, 4, 9),\n",
       "       datetime.date(2019, 4, 10), datetime.date(2019, 4, 11),\n",
       "       datetime.date(2019, 4, 12), datetime.date(2019, 4, 13),\n",
       "       datetime.date(2019, 4, 15), datetime.date(2019, 4, 16),\n",
       "       datetime.date(2019, 4, 17), datetime.date(2019, 4, 18),\n",
       "       datetime.date(2019, 4, 19), datetime.date(2019, 4, 24),\n",
       "       datetime.date(2019, 4, 25), datetime.date(2019, 4, 26),\n",
       "       datetime.date(2019, 4, 29), datetime.date(2019, 5, 1),\n",
       "       datetime.date(2019, 5, 2), datetime.date(2019, 5, 3),\n",
       "       datetime.date(2019, 5, 4), datetime.date(2019, 5, 6),\n",
       "       datetime.date(2019, 5, 7), datetime.date(2019, 5, 8),\n",
       "       datetime.date(2019, 5, 9), datetime.date(2019, 5, 10),\n",
       "       datetime.date(2019, 5, 11), datetime.date(2019, 5, 13),\n",
       "       datetime.date(2019, 5, 15), datetime.date(2019, 5, 16),\n",
       "       datetime.date(2019, 5, 17), datetime.date(2019, 5, 18),\n",
       "       datetime.date(2019, 5, 20), datetime.date(2019, 5, 21),\n",
       "       datetime.date(2019, 5, 22), datetime.date(2019, 5, 23),\n",
       "       datetime.date(2019, 5, 25), datetime.date(2019, 5, 27),\n",
       "       datetime.date(2019, 5, 29), datetime.date(2019, 5, 30),\n",
       "       datetime.date(2019, 5, 31), datetime.date(2019, 6, 1),\n",
       "       datetime.date(2019, 6, 3), datetime.date(2019, 6, 4),\n",
       "       datetime.date(2019, 6, 5), datetime.date(2019, 6, 6),\n",
       "       datetime.date(2019, 6, 7), datetime.date(2019, 6, 10),\n",
       "       datetime.date(2019, 6, 11), datetime.date(2019, 6, 12),\n",
       "       datetime.date(2019, 6, 13), datetime.date(2019, 6, 14),\n",
       "       datetime.date(2019, 6, 15), datetime.date(2019, 6, 17),\n",
       "       datetime.date(2019, 6, 18), datetime.date(2019, 6, 19),\n",
       "       datetime.date(2019, 6, 20), datetime.date(2019, 6, 21),\n",
       "       datetime.date(2019, 6, 22), datetime.date(2019, 6, 24),\n",
       "       datetime.date(2019, 6, 25), datetime.date(2019, 6, 26),\n",
       "       datetime.date(2019, 6, 27), datetime.date(2019, 6, 28),\n",
       "       datetime.date(2019, 6, 29), datetime.date(2019, 7, 1),\n",
       "       datetime.date(2019, 7, 2), datetime.date(2019, 7, 3),\n",
       "       datetime.date(2019, 7, 4), datetime.date(2019, 7, 5),\n",
       "       datetime.date(2019, 7, 6), datetime.date(2019, 7, 8),\n",
       "       datetime.date(2019, 7, 9), datetime.date(2019, 7, 10),\n",
       "       datetime.date(2019, 7, 11), datetime.date(2019, 7, 12),\n",
       "       datetime.date(2019, 7, 13), datetime.date(2019, 7, 15),\n",
       "       datetime.date(2019, 7, 16), datetime.date(2019, 7, 17),\n",
       "       datetime.date(2019, 7, 18), datetime.date(2019, 7, 19),\n",
       "       datetime.date(2019, 7, 20), datetime.date(2019, 7, 22),\n",
       "       datetime.date(2019, 7, 23), datetime.date(2019, 7, 24),\n",
       "       datetime.date(2019, 7, 25), datetime.date(2019, 7, 26),\n",
       "       datetime.date(2019, 7, 27), datetime.date(2019, 7, 29),\n",
       "       datetime.date(2019, 7, 30), datetime.date(2019, 7, 31),\n",
       "       datetime.date(2019, 8, 1), datetime.date(2019, 8, 2),\n",
       "       datetime.date(2019, 8, 3), datetime.date(2019, 8, 5),\n",
       "       datetime.date(2019, 8, 6), datetime.date(2019, 8, 7),\n",
       "       datetime.date(2019, 8, 8), datetime.date(2019, 8, 9),\n",
       "       datetime.date(2019, 8, 12), datetime.date(2019, 8, 13),\n",
       "       datetime.date(2019, 8, 14), datetime.date(2019, 8, 15),\n",
       "       datetime.date(2019, 8, 16), datetime.date(2019, 8, 17),\n",
       "       datetime.date(2019, 8, 19), datetime.date(2019, 8, 20),\n",
       "       datetime.date(2019, 8, 21), datetime.date(2019, 8, 22),\n",
       "       datetime.date(2019, 8, 23), datetime.date(2019, 8, 24),\n",
       "       datetime.date(2019, 8, 26), datetime.date(2019, 8, 28),\n",
       "       datetime.date(2019, 8, 29), datetime.date(2019, 8, 30),\n",
       "       datetime.date(2019, 8, 31), datetime.date(2019, 9, 2),\n",
       "       datetime.date(2019, 9, 3), datetime.date(2019, 9, 4),\n",
       "       datetime.date(2019, 9, 6), datetime.date(2019, 9, 7),\n",
       "       datetime.date(2019, 9, 9), datetime.date(2019, 9, 10),\n",
       "       datetime.date(2019, 9, 11), datetime.date(2019, 9, 12),\n",
       "       datetime.date(2019, 9, 13), datetime.date(2019, 9, 14),\n",
       "       datetime.date(2019, 9, 16), datetime.date(2019, 9, 17),\n",
       "       datetime.date(2019, 9, 18), datetime.date(2019, 9, 19),\n",
       "       datetime.date(2019, 9, 20), datetime.date(2019, 9, 21),\n",
       "       datetime.date(2019, 9, 23), datetime.date(2019, 9, 24),\n",
       "       datetime.date(2019, 9, 25), datetime.date(2019, 9, 26),\n",
       "       datetime.date(2019, 9, 27), datetime.date(2019, 9, 28),\n",
       "       datetime.date(2019, 9, 30), datetime.date(2019, 10, 1),\n",
       "       datetime.date(2019, 10, 2), datetime.date(2019, 10, 3),\n",
       "       datetime.date(2019, 10, 4), datetime.date(2019, 10, 5),\n",
       "       datetime.date(2019, 10, 7), datetime.date(2019, 10, 8),\n",
       "       datetime.date(2019, 10, 9), datetime.date(2019, 10, 10),\n",
       "       datetime.date(2019, 10, 11), datetime.date(2019, 10, 12),\n",
       "       datetime.date(2019, 10, 14), datetime.date(2019, 10, 15),\n",
       "       datetime.date(2019, 10, 16), datetime.date(2019, 10, 17),\n",
       "       datetime.date(2019, 10, 18), datetime.date(2019, 10, 19),\n",
       "       datetime.date(2019, 10, 21), datetime.date(2019, 10, 22),\n",
       "       datetime.date(2019, 10, 23), datetime.date(2019, 10, 24),\n",
       "       datetime.date(2019, 10, 25), datetime.date(2019, 10, 26),\n",
       "       datetime.date(2019, 10, 28), datetime.date(2019, 10, 29),\n",
       "       datetime.date(2019, 10, 30), datetime.date(2019, 10, 31),\n",
       "       datetime.date(2019, 11, 1), datetime.date(2019, 11, 2),\n",
       "       datetime.date(2019, 11, 4), datetime.date(2019, 11, 5),\n",
       "       datetime.date(2019, 11, 6), datetime.date(2019, 11, 7),\n",
       "       datetime.date(2019, 11, 8), datetime.date(2019, 11, 9),\n",
       "       datetime.date(2019, 11, 11), datetime.date(2019, 11, 12),\n",
       "       datetime.date(2019, 11, 13), datetime.date(2019, 11, 14),\n",
       "       datetime.date(2019, 11, 15), datetime.date(2019, 11, 16),\n",
       "       datetime.date(2019, 11, 18), datetime.date(2019, 11, 19),\n",
       "       datetime.date(2019, 11, 20), datetime.date(2019, 11, 21),\n",
       "       datetime.date(2019, 11, 22), datetime.date(2019, 11, 23),\n",
       "       datetime.date(2019, 11, 25), datetime.date(2019, 11, 26),\n",
       "       datetime.date(2019, 11, 27), datetime.date(2019, 11, 28),\n",
       "       datetime.date(2019, 11, 29), datetime.date(2019, 11, 30),\n",
       "       datetime.date(2019, 12, 2), datetime.date(2019, 12, 3),\n",
       "       datetime.date(2019, 12, 4), datetime.date(2019, 12, 5),\n",
       "       datetime.date(2019, 12, 6), datetime.date(2019, 12, 7)],\n",
       "      dtype=object)"
      ]
     },
     "execution_count": 24,
     "metadata": {},
     "output_type": "execute_result"
    }
   ],
   "source": [
    "# looking at the days duplicates show up\n",
    "df_new[df_new.duplicated()]['InvoiceDate'].dt.date.unique()"
   ]
  },
  {
   "cell_type": "markdown",
   "metadata": {},
   "source": [
    "Duplicates have been recorded every month from Nov. 2018 until Dec. 2019."
   ]
  },
  {
   "cell_type": "code",
   "execution_count": 25,
   "metadata": {},
   "outputs": [],
   "source": [
    "# removing the duplicates\n",
    "df_new = df_new.drop_duplicates().reset_index(drop = True)"
   ]
  },
  {
   "cell_type": "code",
   "execution_count": 26,
   "metadata": {},
   "outputs": [
    {
     "name": "stdout",
     "output_type": "stream",
     "text": [
      "<class 'pandas.core.frame.DataFrame'>\n",
      "RangeIndex: 535187 entries, 0 to 535186\n",
      "Data columns (total 7 columns):\n",
      " #   Column       Non-Null Count   Dtype         \n",
      "---  ------       --------------   -----         \n",
      " 0   InvoiceNo    535187 non-null  object        \n",
      " 1   StockCode    535187 non-null  object        \n",
      " 2   Description  535187 non-null  object        \n",
      " 3   Quantity     535187 non-null  int64         \n",
      " 4   InvoiceDate  535187 non-null  datetime64[ns]\n",
      " 5   UnitPrice    535187 non-null  float64       \n",
      " 6   CustomerID   535187 non-null  float64       \n",
      "dtypes: datetime64[ns](1), float64(2), int64(1), object(3)\n",
      "memory usage: 28.6+ MB\n"
     ]
    }
   ],
   "source": [
    "# checking general info of the df after changes were made\n",
    "df_new.info()"
   ]
  },
  {
   "cell_type": "markdown",
   "metadata": {},
   "source": [
    "### Data exploration"
   ]
  },
  {
   "cell_type": "code",
   "execution_count": 27,
   "metadata": {},
   "outputs": [
    {
     "data": {
      "text/html": [
       "<div>\n",
       "<style scoped>\n",
       "    .dataframe tbody tr th:only-of-type {\n",
       "        vertical-align: middle;\n",
       "    }\n",
       "\n",
       "    .dataframe tbody tr th {\n",
       "        vertical-align: top;\n",
       "    }\n",
       "\n",
       "    .dataframe thead th {\n",
       "        text-align: right;\n",
       "    }\n",
       "</style>\n",
       "<table border=\"1\" class=\"dataframe\">\n",
       "  <thead>\n",
       "    <tr style=\"text-align: right;\">\n",
       "      <th></th>\n",
       "      <th>count</th>\n",
       "      <th>unique</th>\n",
       "      <th>top</th>\n",
       "      <th>freq</th>\n",
       "      <th>first</th>\n",
       "      <th>last</th>\n",
       "      <th>mean</th>\n",
       "      <th>std</th>\n",
       "      <th>min</th>\n",
       "      <th>25%</th>\n",
       "      <th>50%</th>\n",
       "      <th>75%</th>\n",
       "      <th>max</th>\n",
       "    </tr>\n",
       "  </thead>\n",
       "  <tbody>\n",
       "    <tr>\n",
       "      <th>InvoiceNo</th>\n",
       "      <td>535187</td>\n",
       "      <td>24446</td>\n",
       "      <td>573585</td>\n",
       "      <td>1114</td>\n",
       "      <td>NaT</td>\n",
       "      <td>NaT</td>\n",
       "      <td>NaN</td>\n",
       "      <td>NaN</td>\n",
       "      <td>NaN</td>\n",
       "      <td>NaN</td>\n",
       "      <td>NaN</td>\n",
       "      <td>NaN</td>\n",
       "      <td>NaN</td>\n",
       "    </tr>\n",
       "    <tr>\n",
       "      <th>StockCode</th>\n",
       "      <td>535187</td>\n",
       "      <td>3958</td>\n",
       "      <td>85123A</td>\n",
       "      <td>2301</td>\n",
       "      <td>NaT</td>\n",
       "      <td>NaT</td>\n",
       "      <td>NaN</td>\n",
       "      <td>NaN</td>\n",
       "      <td>NaN</td>\n",
       "      <td>NaN</td>\n",
       "      <td>NaN</td>\n",
       "      <td>NaN</td>\n",
       "      <td>NaN</td>\n",
       "    </tr>\n",
       "    <tr>\n",
       "      <th>Description</th>\n",
       "      <td>535187</td>\n",
       "      <td>4223</td>\n",
       "      <td>WHITE HANGING HEART T-LIGHT HOLDER</td>\n",
       "      <td>2357</td>\n",
       "      <td>NaT</td>\n",
       "      <td>NaT</td>\n",
       "      <td>NaN</td>\n",
       "      <td>NaN</td>\n",
       "      <td>NaN</td>\n",
       "      <td>NaN</td>\n",
       "      <td>NaN</td>\n",
       "      <td>NaN</td>\n",
       "      <td>NaN</td>\n",
       "    </tr>\n",
       "    <tr>\n",
       "      <th>Quantity</th>\n",
       "      <td>535187.0</td>\n",
       "      <td>NaN</td>\n",
       "      <td>NaN</td>\n",
       "      <td>NaN</td>\n",
       "      <td>NaT</td>\n",
       "      <td>NaT</td>\n",
       "      <td>9.671593</td>\n",
       "      <td>219.059056</td>\n",
       "      <td>-80995.0</td>\n",
       "      <td>1.0</td>\n",
       "      <td>3.0</td>\n",
       "      <td>10.0</td>\n",
       "      <td>80995.0</td>\n",
       "    </tr>\n",
       "    <tr>\n",
       "      <th>InvoiceDate</th>\n",
       "      <td>535187</td>\n",
       "      <td>22309</td>\n",
       "      <td>2019-10-29 14:41:00</td>\n",
       "      <td>1114</td>\n",
       "      <td>2018-11-29 08:26:00</td>\n",
       "      <td>2019-12-07 12:50:00</td>\n",
       "      <td>NaN</td>\n",
       "      <td>NaN</td>\n",
       "      <td>NaN</td>\n",
       "      <td>NaN</td>\n",
       "      <td>NaN</td>\n",
       "      <td>NaN</td>\n",
       "      <td>NaN</td>\n",
       "    </tr>\n",
       "    <tr>\n",
       "      <th>UnitPrice</th>\n",
       "      <td>535187.0</td>\n",
       "      <td>NaN</td>\n",
       "      <td>NaN</td>\n",
       "      <td>NaN</td>\n",
       "      <td>NaT</td>\n",
       "      <td>NaT</td>\n",
       "      <td>4.645242</td>\n",
       "      <td>97.36481</td>\n",
       "      <td>-11062.06</td>\n",
       "      <td>1.25</td>\n",
       "      <td>2.08</td>\n",
       "      <td>4.13</td>\n",
       "      <td>38970.0</td>\n",
       "    </tr>\n",
       "    <tr>\n",
       "      <th>CustomerID</th>\n",
       "      <td>535187.0</td>\n",
       "      <td>NaN</td>\n",
       "      <td>NaN</td>\n",
       "      <td>NaN</td>\n",
       "      <td>NaT</td>\n",
       "      <td>NaT</td>\n",
       "      <td>11466.973804</td>\n",
       "      <td>6778.037985</td>\n",
       "      <td>0.0</td>\n",
       "      <td>12348.0</td>\n",
       "      <td>14360.0</td>\n",
       "      <td>16242.0</td>\n",
       "      <td>18287.0</td>\n",
       "    </tr>\n",
       "  </tbody>\n",
       "</table>\n",
       "</div>"
      ],
      "text/plain": [
       "                count unique                                 top  freq  \\\n",
       "InvoiceNo      535187  24446                              573585  1114   \n",
       "StockCode      535187   3958                              85123A  2301   \n",
       "Description    535187   4223  WHITE HANGING HEART T-LIGHT HOLDER  2357   \n",
       "Quantity     535187.0    NaN                                 NaN   NaN   \n",
       "InvoiceDate    535187  22309                 2019-10-29 14:41:00  1114   \n",
       "UnitPrice    535187.0    NaN                                 NaN   NaN   \n",
       "CustomerID   535187.0    NaN                                 NaN   NaN   \n",
       "\n",
       "                          first                last          mean  \\\n",
       "InvoiceNo                   NaT                 NaT           NaN   \n",
       "StockCode                   NaT                 NaT           NaN   \n",
       "Description                 NaT                 NaT           NaN   \n",
       "Quantity                    NaT                 NaT      9.671593   \n",
       "InvoiceDate 2018-11-29 08:26:00 2019-12-07 12:50:00           NaN   \n",
       "UnitPrice                   NaT                 NaT      4.645242   \n",
       "CustomerID                  NaT                 NaT  11466.973804   \n",
       "\n",
       "                     std       min      25%      50%      75%      max  \n",
       "InvoiceNo            NaN       NaN      NaN      NaN      NaN      NaN  \n",
       "StockCode            NaN       NaN      NaN      NaN      NaN      NaN  \n",
       "Description          NaN       NaN      NaN      NaN      NaN      NaN  \n",
       "Quantity      219.059056  -80995.0      1.0      3.0     10.0  80995.0  \n",
       "InvoiceDate          NaN       NaN      NaN      NaN      NaN      NaN  \n",
       "UnitPrice       97.36481 -11062.06     1.25     2.08     4.13  38970.0  \n",
       "CustomerID   6778.037985       0.0  12348.0  14360.0  16242.0  18287.0  "
      ]
     },
     "execution_count": 27,
     "metadata": {},
     "output_type": "execute_result"
    }
   ],
   "source": [
    "# checking statistics of each column\n",
    "df_new.describe(include='all').T"
   ]
  },
  {
   "cell_type": "markdown",
   "metadata": {},
   "source": [
    "There seem to be unusual values in certain columns. For instance, in the quantity column, the lowest value is -80995, and the highest is 80995. Similarly, in the unit price column, the lowest price is -11062, and the highest is 38970."
   ]
  },
  {
   "cell_type": "code",
   "execution_count": 28,
   "metadata": {},
   "outputs": [
    {
     "data": {
      "text/html": [
       "<div>\n",
       "<style scoped>\n",
       "    .dataframe tbody tr th:only-of-type {\n",
       "        vertical-align: middle;\n",
       "    }\n",
       "\n",
       "    .dataframe tbody tr th {\n",
       "        vertical-align: top;\n",
       "    }\n",
       "\n",
       "    .dataframe thead th {\n",
       "        text-align: right;\n",
       "    }\n",
       "</style>\n",
       "<table border=\"1\" class=\"dataframe\">\n",
       "  <thead>\n",
       "    <tr style=\"text-align: right;\">\n",
       "      <th></th>\n",
       "      <th>InvoiceNo</th>\n",
       "      <th>StockCode</th>\n",
       "      <th>Description</th>\n",
       "      <th>Quantity</th>\n",
       "      <th>InvoiceDate</th>\n",
       "      <th>UnitPrice</th>\n",
       "      <th>CustomerID</th>\n",
       "    </tr>\n",
       "  </thead>\n",
       "  <tbody>\n",
       "    <tr>\n",
       "      <th>533707</th>\n",
       "      <td>C581484</td>\n",
       "      <td>23843</td>\n",
       "      <td>PAPER CRAFT , LITTLE BIRDIE</td>\n",
       "      <td>-80995</td>\n",
       "      <td>2019-12-07 09:27:00</td>\n",
       "      <td>2.08</td>\n",
       "      <td>16446.0</td>\n",
       "    </tr>\n",
       "  </tbody>\n",
       "</table>\n",
       "</div>"
      ],
      "text/plain": [
       "       InvoiceNo StockCode                  Description  Quantity  \\\n",
       "533707   C581484     23843  PAPER CRAFT , LITTLE BIRDIE    -80995   \n",
       "\n",
       "               InvoiceDate  UnitPrice  CustomerID  \n",
       "533707 2019-12-07 09:27:00       2.08     16446.0  "
      ]
     },
     "execution_count": 28,
     "metadata": {},
     "output_type": "execute_result"
    }
   ],
   "source": [
    "# looking at the row with minus value in quantity column\n",
    "df_new.query('Quantity == -80995.0')"
   ]
  },
  {
   "cell_type": "code",
   "execution_count": 29,
   "metadata": {},
   "outputs": [
    {
     "data": {
      "text/html": [
       "<div>\n",
       "<style scoped>\n",
       "    .dataframe tbody tr th:only-of-type {\n",
       "        vertical-align: middle;\n",
       "    }\n",
       "\n",
       "    .dataframe tbody tr th {\n",
       "        vertical-align: top;\n",
       "    }\n",
       "\n",
       "    .dataframe thead th {\n",
       "        text-align: right;\n",
       "    }\n",
       "</style>\n",
       "<table border=\"1\" class=\"dataframe\">\n",
       "  <thead>\n",
       "    <tr style=\"text-align: right;\">\n",
       "      <th></th>\n",
       "      <th>InvoiceNo</th>\n",
       "      <th>StockCode</th>\n",
       "      <th>Description</th>\n",
       "      <th>Quantity</th>\n",
       "      <th>InvoiceDate</th>\n",
       "      <th>UnitPrice</th>\n",
       "      <th>CustomerID</th>\n",
       "    </tr>\n",
       "  </thead>\n",
       "  <tbody>\n",
       "    <tr>\n",
       "      <th>533706</th>\n",
       "      <td>581483</td>\n",
       "      <td>23843</td>\n",
       "      <td>PAPER CRAFT , LITTLE BIRDIE</td>\n",
       "      <td>80995</td>\n",
       "      <td>2019-12-07 09:15:00</td>\n",
       "      <td>2.08</td>\n",
       "      <td>16446.0</td>\n",
       "    </tr>\n",
       "    <tr>\n",
       "      <th>533707</th>\n",
       "      <td>C581484</td>\n",
       "      <td>23843</td>\n",
       "      <td>PAPER CRAFT , LITTLE BIRDIE</td>\n",
       "      <td>-80995</td>\n",
       "      <td>2019-12-07 09:27:00</td>\n",
       "      <td>2.08</td>\n",
       "      <td>16446.0</td>\n",
       "    </tr>\n",
       "  </tbody>\n",
       "</table>\n",
       "</div>"
      ],
      "text/plain": [
       "       InvoiceNo StockCode                  Description  Quantity  \\\n",
       "533706    581483     23843  PAPER CRAFT , LITTLE BIRDIE     80995   \n",
       "533707   C581484     23843  PAPER CRAFT , LITTLE BIRDIE    -80995   \n",
       "\n",
       "               InvoiceDate  UnitPrice  CustomerID  \n",
       "533706 2019-12-07 09:15:00       2.08     16446.0  \n",
       "533707 2019-12-07 09:27:00       2.08     16446.0  "
      ]
     },
     "execution_count": 29,
     "metadata": {},
     "output_type": "execute_result"
    }
   ],
   "source": [
    "# checking rows with the item that was in previous query\n",
    "df_new.query('StockCode == \"23843\"')"
   ]
  },
  {
   "cell_type": "markdown",
   "metadata": {},
   "source": [
    "It looks like the customer placed a large order and then, soon after, it got cancelled."
   ]
  },
  {
   "cell_type": "code",
   "execution_count": 30,
   "metadata": {},
   "outputs": [
    {
     "data": {
      "text/html": [
       "<div>\n",
       "<style scoped>\n",
       "    .dataframe tbody tr th:only-of-type {\n",
       "        vertical-align: middle;\n",
       "    }\n",
       "\n",
       "    .dataframe tbody tr th {\n",
       "        vertical-align: top;\n",
       "    }\n",
       "\n",
       "    .dataframe thead th {\n",
       "        text-align: right;\n",
       "    }\n",
       "</style>\n",
       "<table border=\"1\" class=\"dataframe\">\n",
       "  <thead>\n",
       "    <tr style=\"text-align: right;\">\n",
       "      <th></th>\n",
       "      <th>InvoiceNo</th>\n",
       "      <th>StockCode</th>\n",
       "      <th>Description</th>\n",
       "      <th>Quantity</th>\n",
       "      <th>InvoiceDate</th>\n",
       "      <th>UnitPrice</th>\n",
       "      <th>CustomerID</th>\n",
       "    </tr>\n",
       "  </thead>\n",
       "  <tbody>\n",
       "    <tr>\n",
       "      <th>141</th>\n",
       "      <td>C536379</td>\n",
       "      <td>D</td>\n",
       "      <td>Discount</td>\n",
       "      <td>-1</td>\n",
       "      <td>2018-11-29 09:41:00</td>\n",
       "      <td>27.50</td>\n",
       "      <td>14527.0</td>\n",
       "    </tr>\n",
       "    <tr>\n",
       "      <th>154</th>\n",
       "      <td>C536383</td>\n",
       "      <td>35004C</td>\n",
       "      <td>SET OF 3 COLOURED  FLYING DUCKS</td>\n",
       "      <td>-1</td>\n",
       "      <td>2018-11-29 09:49:00</td>\n",
       "      <td>4.65</td>\n",
       "      <td>15311.0</td>\n",
       "    </tr>\n",
       "    <tr>\n",
       "      <th>235</th>\n",
       "      <td>C536391</td>\n",
       "      <td>22556</td>\n",
       "      <td>PLASTERS IN TIN CIRCUS PARADE</td>\n",
       "      <td>-12</td>\n",
       "      <td>2018-11-29 10:24:00</td>\n",
       "      <td>1.65</td>\n",
       "      <td>17548.0</td>\n",
       "    </tr>\n",
       "    <tr>\n",
       "      <th>236</th>\n",
       "      <td>C536391</td>\n",
       "      <td>21984</td>\n",
       "      <td>PACK OF 12 PINK PAISLEY TISSUES</td>\n",
       "      <td>-24</td>\n",
       "      <td>2018-11-29 10:24:00</td>\n",
       "      <td>0.29</td>\n",
       "      <td>17548.0</td>\n",
       "    </tr>\n",
       "    <tr>\n",
       "      <th>237</th>\n",
       "      <td>C536391</td>\n",
       "      <td>21983</td>\n",
       "      <td>PACK OF 12 BLUE PAISLEY TISSUES</td>\n",
       "      <td>-24</td>\n",
       "      <td>2018-11-29 10:24:00</td>\n",
       "      <td>0.29</td>\n",
       "      <td>17548.0</td>\n",
       "    </tr>\n",
       "  </tbody>\n",
       "</table>\n",
       "</div>"
      ],
      "text/plain": [
       "    InvoiceNo StockCode                       Description  Quantity  \\\n",
       "141   C536379         D                          Discount        -1   \n",
       "154   C536383    35004C   SET OF 3 COLOURED  FLYING DUCKS        -1   \n",
       "235   C536391     22556    PLASTERS IN TIN CIRCUS PARADE        -12   \n",
       "236   C536391     21984  PACK OF 12 PINK PAISLEY TISSUES        -24   \n",
       "237   C536391     21983  PACK OF 12 BLUE PAISLEY TISSUES        -24   \n",
       "\n",
       "            InvoiceDate  UnitPrice  CustomerID  \n",
       "141 2018-11-29 09:41:00      27.50     14527.0  \n",
       "154 2018-11-29 09:49:00       4.65     15311.0  \n",
       "235 2018-11-29 10:24:00       1.65     17548.0  \n",
       "236 2018-11-29 10:24:00       0.29     17548.0  \n",
       "237 2018-11-29 10:24:00       0.29     17548.0  "
      ]
     },
     "execution_count": 30,
     "metadata": {},
     "output_type": "execute_result"
    }
   ],
   "source": [
    "# checking whether we have more invoice numbers that start with 'C'\n",
    "df_new[df_new['InvoiceNo'].str.startswith('C')].head()"
   ]
  },
  {
   "cell_type": "markdown",
   "metadata": {},
   "source": [
    "Among cancelled invoices appear to be also discounts."
   ]
  },
  {
   "cell_type": "code",
   "execution_count": 31,
   "metadata": {},
   "outputs": [
    {
     "data": {
      "text/html": [
       "<div>\n",
       "<style scoped>\n",
       "    .dataframe tbody tr th:only-of-type {\n",
       "        vertical-align: middle;\n",
       "    }\n",
       "\n",
       "    .dataframe tbody tr th {\n",
       "        vertical-align: top;\n",
       "    }\n",
       "\n",
       "    .dataframe thead th {\n",
       "        text-align: right;\n",
       "    }\n",
       "</style>\n",
       "<table border=\"1\" class=\"dataframe\">\n",
       "  <thead>\n",
       "    <tr style=\"text-align: right;\">\n",
       "      <th></th>\n",
       "      <th>InvoiceNo</th>\n",
       "      <th>StockCode</th>\n",
       "      <th>Description</th>\n",
       "      <th>Quantity</th>\n",
       "      <th>InvoiceDate</th>\n",
       "      <th>UnitPrice</th>\n",
       "      <th>CustomerID</th>\n",
       "    </tr>\n",
       "  </thead>\n",
       "  <tbody>\n",
       "    <tr>\n",
       "      <th>141</th>\n",
       "      <td>C536379</td>\n",
       "      <td>D</td>\n",
       "      <td>Discount</td>\n",
       "      <td>-1</td>\n",
       "      <td>2018-11-29 09:41:00</td>\n",
       "      <td>27.50</td>\n",
       "      <td>14527.0</td>\n",
       "    </tr>\n",
       "    <tr>\n",
       "      <th>8844</th>\n",
       "      <td>C537164</td>\n",
       "      <td>D</td>\n",
       "      <td>Discount</td>\n",
       "      <td>-1</td>\n",
       "      <td>2018-12-03 13:21:00</td>\n",
       "      <td>29.29</td>\n",
       "      <td>14527.0</td>\n",
       "    </tr>\n",
       "    <tr>\n",
       "      <th>14180</th>\n",
       "      <td>C537597</td>\n",
       "      <td>D</td>\n",
       "      <td>Discount</td>\n",
       "      <td>-1</td>\n",
       "      <td>2018-12-05 12:34:00</td>\n",
       "      <td>281.00</td>\n",
       "      <td>15498.0</td>\n",
       "    </tr>\n",
       "    <tr>\n",
       "      <th>19020</th>\n",
       "      <td>C537857</td>\n",
       "      <td>D</td>\n",
       "      <td>Discount</td>\n",
       "      <td>-1</td>\n",
       "      <td>2018-12-06 16:00:00</td>\n",
       "      <td>267.12</td>\n",
       "      <td>17340.0</td>\n",
       "    </tr>\n",
       "    <tr>\n",
       "      <th>30580</th>\n",
       "      <td>C538897</td>\n",
       "      <td>D</td>\n",
       "      <td>Discount</td>\n",
       "      <td>-1</td>\n",
       "      <td>2018-12-13 09:14:00</td>\n",
       "      <td>5.76</td>\n",
       "      <td>16422.0</td>\n",
       "    </tr>\n",
       "  </tbody>\n",
       "</table>\n",
       "</div>"
      ],
      "text/plain": [
       "      InvoiceNo StockCode Description  Quantity         InvoiceDate  \\\n",
       "141     C536379         D    Discount        -1 2018-11-29 09:41:00   \n",
       "8844    C537164         D    Discount        -1 2018-12-03 13:21:00   \n",
       "14180   C537597         D    Discount        -1 2018-12-05 12:34:00   \n",
       "19020   C537857         D    Discount        -1 2018-12-06 16:00:00   \n",
       "30580   C538897         D    Discount        -1 2018-12-13 09:14:00   \n",
       "\n",
       "       UnitPrice  CustomerID  \n",
       "141        27.50     14527.0  \n",
       "8844       29.29     14527.0  \n",
       "14180     281.00     15498.0  \n",
       "19020     267.12     17340.0  \n",
       "30580       5.76     16422.0  "
      ]
     },
     "execution_count": 31,
     "metadata": {},
     "output_type": "execute_result"
    }
   ],
   "source": [
    "# checking rows with Stock Code 'D'\n",
    "df_new[df_new['StockCode']=='D'].head()"
   ]
  },
  {
   "cell_type": "code",
   "execution_count": 32,
   "metadata": {},
   "outputs": [
    {
     "data": {
      "text/plain": [
       "3836"
      ]
     },
     "execution_count": 32,
     "metadata": {},
     "output_type": "execute_result"
    }
   ],
   "source": [
    "# looking at the total number of cancelled invoices\n",
    "df_new[df_new['InvoiceNo'].str.startswith('C')]['InvoiceNo'].nunique()"
   ]
  },
  {
   "cell_type": "markdown",
   "metadata": {},
   "source": [
    "It appears there are 3836 cancelled / discount applied items in the dataset. We'll remove these rows as they are not relevant to our analysis."
   ]
  },
  {
   "cell_type": "code",
   "execution_count": 33,
   "metadata": {},
   "outputs": [],
   "source": [
    "# removing rows with cancelled items and discounts\n",
    "df_new = df_new[~df_new['InvoiceNo'].str.startswith('C', na = False)]"
   ]
  },
  {
   "cell_type": "code",
   "execution_count": 34,
   "metadata": {},
   "outputs": [
    {
     "data": {
      "text/html": [
       "<div>\n",
       "<style scoped>\n",
       "    .dataframe tbody tr th:only-of-type {\n",
       "        vertical-align: middle;\n",
       "    }\n",
       "\n",
       "    .dataframe tbody tr th {\n",
       "        vertical-align: top;\n",
       "    }\n",
       "\n",
       "    .dataframe thead th {\n",
       "        text-align: right;\n",
       "    }\n",
       "</style>\n",
       "<table border=\"1\" class=\"dataframe\">\n",
       "  <thead>\n",
       "    <tr style=\"text-align: right;\">\n",
       "      <th></th>\n",
       "      <th>InvoiceNo</th>\n",
       "      <th>StockCode</th>\n",
       "      <th>Description</th>\n",
       "      <th>Quantity</th>\n",
       "      <th>InvoiceDate</th>\n",
       "      <th>UnitPrice</th>\n",
       "      <th>CustomerID</th>\n",
       "    </tr>\n",
       "  </thead>\n",
       "  <tbody>\n",
       "    <tr>\n",
       "      <th>296537</th>\n",
       "      <td>A563186</td>\n",
       "      <td>B</td>\n",
       "      <td>Adjust bad debt</td>\n",
       "      <td>1</td>\n",
       "      <td>2019-08-10 14:51:00</td>\n",
       "      <td>-11062.06</td>\n",
       "      <td>0.0</td>\n",
       "    </tr>\n",
       "    <tr>\n",
       "      <th>296538</th>\n",
       "      <td>A563187</td>\n",
       "      <td>B</td>\n",
       "      <td>Adjust bad debt</td>\n",
       "      <td>1</td>\n",
       "      <td>2019-08-10 14:52:00</td>\n",
       "      <td>-11062.06</td>\n",
       "      <td>0.0</td>\n",
       "    </tr>\n",
       "  </tbody>\n",
       "</table>\n",
       "</div>"
      ],
      "text/plain": [
       "       InvoiceNo StockCode      Description  Quantity         InvoiceDate  \\\n",
       "296537   A563186         B  Adjust bad debt         1 2019-08-10 14:51:00   \n",
       "296538   A563187         B  Adjust bad debt         1 2019-08-10 14:52:00   \n",
       "\n",
       "        UnitPrice  CustomerID  \n",
       "296537  -11062.06         0.0  \n",
       "296538  -11062.06         0.0  "
      ]
     },
     "execution_count": 34,
     "metadata": {},
     "output_type": "execute_result"
    }
   ],
   "source": [
    "# looking at the row with minus value in unit price column\n",
    "df_new.query('UnitPrice == -11062.06')"
   ]
  },
  {
   "cell_type": "code",
   "execution_count": 35,
   "metadata": {},
   "outputs": [
    {
     "data": {
      "text/html": [
       "<div>\n",
       "<style scoped>\n",
       "    .dataframe tbody tr th:only-of-type {\n",
       "        vertical-align: middle;\n",
       "    }\n",
       "\n",
       "    .dataframe tbody tr th {\n",
       "        vertical-align: top;\n",
       "    }\n",
       "\n",
       "    .dataframe thead th {\n",
       "        text-align: right;\n",
       "    }\n",
       "</style>\n",
       "<table border=\"1\" class=\"dataframe\">\n",
       "  <thead>\n",
       "    <tr style=\"text-align: right;\">\n",
       "      <th></th>\n",
       "      <th>InvoiceNo</th>\n",
       "      <th>StockCode</th>\n",
       "      <th>Description</th>\n",
       "      <th>Quantity</th>\n",
       "      <th>InvoiceDate</th>\n",
       "      <th>UnitPrice</th>\n",
       "      <th>CustomerID</th>\n",
       "    </tr>\n",
       "  </thead>\n",
       "  <tbody>\n",
       "    <tr>\n",
       "      <th>296536</th>\n",
       "      <td>A563185</td>\n",
       "      <td>B</td>\n",
       "      <td>Adjust bad debt</td>\n",
       "      <td>1</td>\n",
       "      <td>2019-08-10 14:50:00</td>\n",
       "      <td>11062.06</td>\n",
       "      <td>0.0</td>\n",
       "    </tr>\n",
       "    <tr>\n",
       "      <th>296537</th>\n",
       "      <td>A563186</td>\n",
       "      <td>B</td>\n",
       "      <td>Adjust bad debt</td>\n",
       "      <td>1</td>\n",
       "      <td>2019-08-10 14:51:00</td>\n",
       "      <td>-11062.06</td>\n",
       "      <td>0.0</td>\n",
       "    </tr>\n",
       "    <tr>\n",
       "      <th>296538</th>\n",
       "      <td>A563187</td>\n",
       "      <td>B</td>\n",
       "      <td>Adjust bad debt</td>\n",
       "      <td>1</td>\n",
       "      <td>2019-08-10 14:52:00</td>\n",
       "      <td>-11062.06</td>\n",
       "      <td>0.0</td>\n",
       "    </tr>\n",
       "  </tbody>\n",
       "</table>\n",
       "</div>"
      ],
      "text/plain": [
       "       InvoiceNo StockCode      Description  Quantity         InvoiceDate  \\\n",
       "296536   A563185         B  Adjust bad debt         1 2019-08-10 14:50:00   \n",
       "296537   A563186         B  Adjust bad debt         1 2019-08-10 14:51:00   \n",
       "296538   A563187         B  Adjust bad debt         1 2019-08-10 14:52:00   \n",
       "\n",
       "        UnitPrice  CustomerID  \n",
       "296536   11062.06         0.0  \n",
       "296537  -11062.06         0.0  \n",
       "296538  -11062.06         0.0  "
      ]
     },
     "execution_count": 35,
     "metadata": {},
     "output_type": "execute_result"
    }
   ],
   "source": [
    "# checking the rows with same stock code as from the previous query\n",
    "df_new.query('StockCode == \"B\"')"
   ]
  },
  {
   "cell_type": "markdown",
   "metadata": {},
   "source": [
    "There are entries of 'bad debt' that probably mean the amount won't be collected from a debtor.\n",
    "At first the amount was positive which probably was added incorrectly and the following entries seem to be adjusted for the mistake by deducting the same amount.\n",
    "\n",
    "We'll remove these rows too."
   ]
  },
  {
   "cell_type": "code",
   "execution_count": 36,
   "metadata": {},
   "outputs": [],
   "source": [
    "# removing the rows for which the invoice no starts with 'A'\n",
    "df_new = df_new[~df_new['InvoiceNo'].str.startswith('A', na = False)]"
   ]
  },
  {
   "cell_type": "code",
   "execution_count": 37,
   "metadata": {},
   "outputs": [
    {
     "data": {
      "text/plain": [
       "count    525933.000000\n",
       "mean          3.893671\n",
       "std          32.674415\n",
       "min           0.000000\n",
       "25%           1.250000\n",
       "50%           2.080000\n",
       "75%           4.130000\n",
       "max       13541.330000\n",
       "Name: UnitPrice, dtype: float64"
      ]
     },
     "execution_count": 37,
     "metadata": {},
     "output_type": "execute_result"
    }
   ],
   "source": [
    "# looking at statistics of unit price column\n",
    "df_new.UnitPrice.describe()"
   ]
  },
  {
   "cell_type": "markdown",
   "metadata": {},
   "source": [
    "It looks like normally items are priced between 1.25 - 4.13."
   ]
  },
  {
   "cell_type": "code",
   "execution_count": 38,
   "metadata": {},
   "outputs": [
    {
     "data": {
      "text/html": [
       "<div>\n",
       "<style scoped>\n",
       "    .dataframe tbody tr th:only-of-type {\n",
       "        vertical-align: middle;\n",
       "    }\n",
       "\n",
       "    .dataframe tbody tr th {\n",
       "        vertical-align: top;\n",
       "    }\n",
       "\n",
       "    .dataframe thead th {\n",
       "        text-align: right;\n",
       "    }\n",
       "</style>\n",
       "<table border=\"1\" class=\"dataframe\">\n",
       "  <thead>\n",
       "    <tr style=\"text-align: right;\">\n",
       "      <th></th>\n",
       "      <th>InvoiceNo</th>\n",
       "      <th>StockCode</th>\n",
       "      <th>Description</th>\n",
       "      <th>Quantity</th>\n",
       "      <th>InvoiceDate</th>\n",
       "      <th>UnitPrice</th>\n",
       "      <th>CustomerID</th>\n",
       "    </tr>\n",
       "  </thead>\n",
       "  <tbody>\n",
       "    <tr>\n",
       "      <th>14697</th>\n",
       "      <td>537632</td>\n",
       "      <td>AMAZONFEE</td>\n",
       "      <td>AMAZON FEE</td>\n",
       "      <td>1</td>\n",
       "      <td>2018-12-05 15:08:00</td>\n",
       "      <td>13541.33</td>\n",
       "      <td>0.0</td>\n",
       "    </tr>\n",
       "    <tr>\n",
       "      <th>171142</th>\n",
       "      <td>551697</td>\n",
       "      <td>POST</td>\n",
       "      <td>POSTAGE</td>\n",
       "      <td>1</td>\n",
       "      <td>2019-05-01 13:46:00</td>\n",
       "      <td>8142.75</td>\n",
       "      <td>16029.0</td>\n",
       "    </tr>\n",
       "    <tr>\n",
       "      <th>294289</th>\n",
       "      <td>562955</td>\n",
       "      <td>DOT</td>\n",
       "      <td>DOTCOM POSTAGE</td>\n",
       "      <td>1</td>\n",
       "      <td>2019-08-09 10:14:00</td>\n",
       "      <td>4505.17</td>\n",
       "      <td>0.0</td>\n",
       "    </tr>\n",
       "    <tr>\n",
       "      <th>264887</th>\n",
       "      <td>560373</td>\n",
       "      <td>M</td>\n",
       "      <td>Manual</td>\n",
       "      <td>1</td>\n",
       "      <td>2019-07-16 12:30:00</td>\n",
       "      <td>4287.63</td>\n",
       "      <td>0.0</td>\n",
       "    </tr>\n",
       "    <tr>\n",
       "      <th>417472</th>\n",
       "      <td>573077</td>\n",
       "      <td>M</td>\n",
       "      <td>Manual</td>\n",
       "      <td>1</td>\n",
       "      <td>2019-10-25 14:13:00</td>\n",
       "      <td>4161.06</td>\n",
       "      <td>12536.0</td>\n",
       "    </tr>\n",
       "  </tbody>\n",
       "</table>\n",
       "</div>"
      ],
      "text/plain": [
       "       InvoiceNo  StockCode     Description  Quantity         InvoiceDate  \\\n",
       "14697     537632  AMAZONFEE      AMAZON FEE         1 2018-12-05 15:08:00   \n",
       "171142    551697       POST         POSTAGE         1 2019-05-01 13:46:00   \n",
       "294289    562955        DOT  DOTCOM POSTAGE         1 2019-08-09 10:14:00   \n",
       "264887    560373          M          Manual         1 2019-07-16 12:30:00   \n",
       "417472    573077          M          Manual         1 2019-10-25 14:13:00   \n",
       "\n",
       "        UnitPrice  CustomerID  \n",
       "14697    13541.33         0.0  \n",
       "171142    8142.75     16029.0  \n",
       "294289    4505.17         0.0  \n",
       "264887    4287.63         0.0  \n",
       "417472    4161.06     12536.0  "
      ]
     },
     "execution_count": 38,
     "metadata": {},
     "output_type": "execute_result"
    }
   ],
   "source": [
    "# checking the highest unit price values\n",
    "df_new.sort_values(by='UnitPrice', ascending = False).head()"
   ]
  },
  {
   "cell_type": "markdown",
   "metadata": {},
   "source": [
    "It looks like the store pays Amazon and postage fees and also sells Manuals.\n",
    "We'll remove these items since they are not actual products that we're analyzing."
   ]
  },
  {
   "cell_type": "code",
   "execution_count": 39,
   "metadata": {},
   "outputs": [
    {
     "data": {
      "text/html": [
       "<div>\n",
       "<style scoped>\n",
       "    .dataframe tbody tr th:only-of-type {\n",
       "        vertical-align: middle;\n",
       "    }\n",
       "\n",
       "    .dataframe tbody tr th {\n",
       "        vertical-align: top;\n",
       "    }\n",
       "\n",
       "    .dataframe thead th {\n",
       "        text-align: right;\n",
       "    }\n",
       "</style>\n",
       "<table border=\"1\" class=\"dataframe\">\n",
       "  <thead>\n",
       "    <tr style=\"text-align: right;\">\n",
       "      <th></th>\n",
       "      <th>InvoiceNo</th>\n",
       "      <th>StockCode</th>\n",
       "      <th>Description</th>\n",
       "      <th>Quantity</th>\n",
       "      <th>InvoiceDate</th>\n",
       "      <th>UnitPrice</th>\n",
       "      <th>CustomerID</th>\n",
       "    </tr>\n",
       "  </thead>\n",
       "  <tbody>\n",
       "    <tr>\n",
       "      <th>1777</th>\n",
       "      <td>536544</td>\n",
       "      <td>DOT</td>\n",
       "      <td>DOTCOM POSTAGE</td>\n",
       "      <td>1</td>\n",
       "      <td>2018-11-29 14:32:00</td>\n",
       "      <td>569.77</td>\n",
       "      <td>0.0</td>\n",
       "    </tr>\n",
       "    <tr>\n",
       "      <th>2987</th>\n",
       "      <td>536592</td>\n",
       "      <td>DOT</td>\n",
       "      <td>DOTCOM POSTAGE</td>\n",
       "      <td>1</td>\n",
       "      <td>2018-11-29 17:06:00</td>\n",
       "      <td>607.49</td>\n",
       "      <td>0.0</td>\n",
       "    </tr>\n",
       "    <tr>\n",
       "      <th>5353</th>\n",
       "      <td>536862</td>\n",
       "      <td>DOT</td>\n",
       "      <td>DOTCOM POSTAGE</td>\n",
       "      <td>1</td>\n",
       "      <td>2018-12-01 11:13:00</td>\n",
       "      <td>254.43</td>\n",
       "      <td>0.0</td>\n",
       "    </tr>\n",
       "    <tr>\n",
       "      <th>5442</th>\n",
       "      <td>536864</td>\n",
       "      <td>DOT</td>\n",
       "      <td>DOTCOM POSTAGE</td>\n",
       "      <td>1</td>\n",
       "      <td>2018-12-01 11:27:00</td>\n",
       "      <td>121.06</td>\n",
       "      <td>0.0</td>\n",
       "    </tr>\n",
       "    <tr>\n",
       "      <th>5582</th>\n",
       "      <td>536865</td>\n",
       "      <td>DOT</td>\n",
       "      <td>DOTCOM POSTAGE</td>\n",
       "      <td>1</td>\n",
       "      <td>2018-12-01 11:28:00</td>\n",
       "      <td>498.47</td>\n",
       "      <td>0.0</td>\n",
       "    </tr>\n",
       "  </tbody>\n",
       "</table>\n",
       "</div>"
      ],
      "text/plain": [
       "     InvoiceNo StockCode     Description  Quantity         InvoiceDate  \\\n",
       "1777    536544       DOT  DOTCOM POSTAGE         1 2018-11-29 14:32:00   \n",
       "2987    536592       DOT  DOTCOM POSTAGE         1 2018-11-29 17:06:00   \n",
       "5353    536862       DOT  DOTCOM POSTAGE         1 2018-12-01 11:13:00   \n",
       "5442    536864       DOT  DOTCOM POSTAGE         1 2018-12-01 11:27:00   \n",
       "5582    536865       DOT  DOTCOM POSTAGE         1 2018-12-01 11:28:00   \n",
       "\n",
       "      UnitPrice  CustomerID  \n",
       "1777     569.77         0.0  \n",
       "2987     607.49         0.0  \n",
       "5353     254.43         0.0  \n",
       "5442     121.06         0.0  \n",
       "5582     498.47         0.0  "
      ]
     },
     "execution_count": 39,
     "metadata": {},
     "output_type": "execute_result"
    }
   ],
   "source": [
    "# checking rows with stock code 'D'\n",
    "df_new.query('StockCode == \"DOT\"').head()"
   ]
  },
  {
   "cell_type": "code",
   "execution_count": 40,
   "metadata": {},
   "outputs": [],
   "source": [
    "# removing rows with stock codes: AMAZONFEE, DOT, POST and M/m\n",
    "df_new = df_new[df_new['StockCode'].str.contains(\"AMAZONFEE|AMAZON|DOT|POST|M|m\") == False]"
   ]
  },
  {
   "cell_type": "code",
   "execution_count": 41,
   "metadata": {},
   "outputs": [
    {
     "data": {
      "text/html": [
       "<div>\n",
       "<style scoped>\n",
       "    .dataframe tbody tr th:only-of-type {\n",
       "        vertical-align: middle;\n",
       "    }\n",
       "\n",
       "    .dataframe tbody tr th {\n",
       "        vertical-align: top;\n",
       "    }\n",
       "\n",
       "    .dataframe thead th {\n",
       "        text-align: right;\n",
       "    }\n",
       "</style>\n",
       "<table border=\"1\" class=\"dataframe\">\n",
       "  <thead>\n",
       "    <tr style=\"text-align: right;\">\n",
       "      <th></th>\n",
       "      <th>InvoiceNo</th>\n",
       "      <th>StockCode</th>\n",
       "      <th>Description</th>\n",
       "      <th>Quantity</th>\n",
       "      <th>InvoiceDate</th>\n",
       "      <th>UnitPrice</th>\n",
       "      <th>CustomerID</th>\n",
       "    </tr>\n",
       "  </thead>\n",
       "  <tbody>\n",
       "    <tr>\n",
       "      <th>311016</th>\n",
       "      <td>564645</td>\n",
       "      <td>82583</td>\n",
       "      <td>amazon</td>\n",
       "      <td>44</td>\n",
       "      <td>2019-08-24 13:38:00</td>\n",
       "      <td>0.0</td>\n",
       "      <td>0.0</td>\n",
       "    </tr>\n",
       "    <tr>\n",
       "      <th>515667</th>\n",
       "      <td>580377</td>\n",
       "      <td>84609</td>\n",
       "      <td>damages</td>\n",
       "      <td>-29</td>\n",
       "      <td>2019-11-30 17:52:00</td>\n",
       "      <td>0.0</td>\n",
       "      <td>0.0</td>\n",
       "    </tr>\n",
       "    <tr>\n",
       "      <th>515666</th>\n",
       "      <td>580376</td>\n",
       "      <td>22606</td>\n",
       "      <td>check</td>\n",
       "      <td>8</td>\n",
       "      <td>2019-11-30 17:49:00</td>\n",
       "      <td>0.0</td>\n",
       "      <td>0.0</td>\n",
       "    </tr>\n",
       "    <tr>\n",
       "      <th>274108</th>\n",
       "      <td>561103</td>\n",
       "      <td>85103</td>\n",
       "      <td>stock creditted wrongly</td>\n",
       "      <td>-32</td>\n",
       "      <td>2019-07-23 11:23:00</td>\n",
       "      <td>0.0</td>\n",
       "      <td>0.0</td>\n",
       "    </tr>\n",
       "    <tr>\n",
       "      <th>319813</th>\n",
       "      <td>565310</td>\n",
       "      <td>21829</td>\n",
       "      <td>?missing</td>\n",
       "      <td>-1897</td>\n",
       "      <td>2019-08-31 12:26:00</td>\n",
       "      <td>0.0</td>\n",
       "      <td>0.0</td>\n",
       "    </tr>\n",
       "  </tbody>\n",
       "</table>\n",
       "</div>"
      ],
      "text/plain": [
       "       InvoiceNo StockCode              Description  Quantity  \\\n",
       "311016    564645     82583                   amazon        44   \n",
       "515667    580377     84609                  damages       -29   \n",
       "515666    580376     22606                    check         8   \n",
       "274108    561103     85103  stock creditted wrongly       -32   \n",
       "319813    565310     21829                 ?missing     -1897   \n",
       "\n",
       "               InvoiceDate  UnitPrice  CustomerID  \n",
       "311016 2019-08-24 13:38:00        0.0         0.0  \n",
       "515667 2019-11-30 17:52:00        0.0         0.0  \n",
       "515666 2019-11-30 17:49:00        0.0         0.0  \n",
       "274108 2019-07-23 11:23:00        0.0         0.0  \n",
       "319813 2019-08-31 12:26:00        0.0         0.0  "
      ]
     },
     "execution_count": 41,
     "metadata": {},
     "output_type": "execute_result"
    }
   ],
   "source": [
    "# checking the lowest unit price values\n",
    "df_new.sort_values(by='UnitPrice', ascending = True).head()"
   ]
  },
  {
   "cell_type": "markdown",
   "metadata": {},
   "source": [
    "In addition, we have items with price 0."
   ]
  },
  {
   "cell_type": "code",
   "execution_count": 42,
   "metadata": {},
   "outputs": [
    {
     "data": {
      "text/plain": [
       "check                             159\n",
       "?                                  47\n",
       "damages                            45\n",
       "damaged                            43\n",
       "found                              24\n",
       "sold as set on dotcom              20\n",
       "adjustment                         16\n",
       "Damaged                            14\n",
       "thrown away                         9\n",
       "Unsaleable, destroyed.              9\n",
       "FRENCH BLUE METAL DOOR SIGN 1       9\n",
       "Found                               8\n",
       "FRENCH BLUE METAL DOOR SIGN 8       8\n",
       "amazon                              8\n",
       "FRENCH BLUE METAL DOOR SIGN 3       7\n",
       "OWL DOORSTOP                        7\n",
       "FRENCH BLUE METAL DOOR SIGN 4       7\n",
       "Amazon                              7\n",
       "FRENCH BLUE METAL DOOR SIGN No      7\n",
       "??                                  7\n",
       "Name: Description, dtype: int64"
      ]
     },
     "execution_count": 42,
     "metadata": {},
     "output_type": "execute_result"
    }
   ],
   "source": [
    "# looking at item descriptions with unit price 0\n",
    "df_new.query('UnitPrice == 0')['Description'].value_counts().head(20)"
   ]
  },
  {
   "cell_type": "markdown",
   "metadata": {},
   "source": [
    "There are various items that are priced at 0. Mostly they appear to be faulty - damaged items, however, some look like regular items with price 0, which descriptions are in uppercase."
   ]
  },
  {
   "cell_type": "code",
   "execution_count": 43,
   "metadata": {},
   "outputs": [
    {
     "data": {
      "text/html": [
       "<div>\n",
       "<style scoped>\n",
       "    .dataframe tbody tr th:only-of-type {\n",
       "        vertical-align: middle;\n",
       "    }\n",
       "\n",
       "    .dataframe tbody tr th {\n",
       "        vertical-align: top;\n",
       "    }\n",
       "\n",
       "    .dataframe thead th {\n",
       "        text-align: right;\n",
       "    }\n",
       "</style>\n",
       "<table border=\"1\" class=\"dataframe\">\n",
       "  <thead>\n",
       "    <tr style=\"text-align: right;\">\n",
       "      <th></th>\n",
       "      <th>InvoiceNo</th>\n",
       "      <th>StockCode</th>\n",
       "      <th>Description</th>\n",
       "      <th>Quantity</th>\n",
       "      <th>InvoiceDate</th>\n",
       "      <th>UnitPrice</th>\n",
       "      <th>CustomerID</th>\n",
       "    </tr>\n",
       "  </thead>\n",
       "  <tbody>\n",
       "    <tr>\n",
       "      <th>3333</th>\n",
       "      <td>536624</td>\n",
       "      <td>22676</td>\n",
       "      <td>FRENCH BLUE METAL DOOR SIGN 1</td>\n",
       "      <td>10</td>\n",
       "      <td>2018-11-30 10:45:00</td>\n",
       "      <td>1.25</td>\n",
       "      <td>13418.0</td>\n",
       "    </tr>\n",
       "    <tr>\n",
       "      <th>8778</th>\n",
       "      <td>537159</td>\n",
       "      <td>22676</td>\n",
       "      <td>FRENCH BLUE METAL DOOR SIGN 1</td>\n",
       "      <td>1</td>\n",
       "      <td>2018-12-03 13:17:00</td>\n",
       "      <td>1.25</td>\n",
       "      <td>14527.0</td>\n",
       "    </tr>\n",
       "    <tr>\n",
       "      <th>10702</th>\n",
       "      <td>537240</td>\n",
       "      <td>22676</td>\n",
       "      <td>FRENCH BLUE METAL DOOR SIGN 1</td>\n",
       "      <td>1</td>\n",
       "      <td>2018-12-04 10:08:00</td>\n",
       "      <td>2.51</td>\n",
       "      <td>0.0</td>\n",
       "    </tr>\n",
       "    <tr>\n",
       "      <th>14032</th>\n",
       "      <td>537534</td>\n",
       "      <td>22676</td>\n",
       "      <td>FRENCH BLUE METAL DOOR SIGN 1</td>\n",
       "      <td>3</td>\n",
       "      <td>2018-12-05 11:48:00</td>\n",
       "      <td>0.00</td>\n",
       "      <td>0.0</td>\n",
       "    </tr>\n",
       "    <tr>\n",
       "      <th>15090</th>\n",
       "      <td>537638</td>\n",
       "      <td>22676</td>\n",
       "      <td>FRENCH BLUE METAL DOOR SIGN 1</td>\n",
       "      <td>3</td>\n",
       "      <td>2018-12-05 15:28:00</td>\n",
       "      <td>2.51</td>\n",
       "      <td>0.0</td>\n",
       "    </tr>\n",
       "  </tbody>\n",
       "</table>\n",
       "</div>"
      ],
      "text/plain": [
       "      InvoiceNo StockCode                    Description  Quantity  \\\n",
       "3333     536624     22676  FRENCH BLUE METAL DOOR SIGN 1        10   \n",
       "8778     537159     22676  FRENCH BLUE METAL DOOR SIGN 1         1   \n",
       "10702    537240     22676  FRENCH BLUE METAL DOOR SIGN 1         1   \n",
       "14032    537534     22676  FRENCH BLUE METAL DOOR SIGN 1         3   \n",
       "15090    537638     22676  FRENCH BLUE METAL DOOR SIGN 1         3   \n",
       "\n",
       "              InvoiceDate  UnitPrice  CustomerID  \n",
       "3333  2018-11-30 10:45:00       1.25     13418.0  \n",
       "8778  2018-12-03 13:17:00       1.25     14527.0  \n",
       "10702 2018-12-04 10:08:00       2.51         0.0  \n",
       "14032 2018-12-05 11:48:00       0.00         0.0  \n",
       "15090 2018-12-05 15:28:00       2.51         0.0  "
      ]
     },
     "execution_count": 43,
     "metadata": {},
     "output_type": "execute_result"
    }
   ],
   "source": [
    "# looking closer at one of the items that cost 0\n",
    "df_new.query('Description == \"FRENCH BLUE METAL DOOR SIGN 1\"').head()"
   ]
  },
  {
   "cell_type": "markdown",
   "metadata": {},
   "source": [
    "Here we see that for this item the stock code is the same, but unit price varies and in one case it's been 0."
   ]
  },
  {
   "cell_type": "code",
   "execution_count": 44,
   "metadata": {},
   "outputs": [
    {
     "data": {
      "text/html": [
       "<div>\n",
       "<style scoped>\n",
       "    .dataframe tbody tr th:only-of-type {\n",
       "        vertical-align: middle;\n",
       "    }\n",
       "\n",
       "    .dataframe tbody tr th {\n",
       "        vertical-align: top;\n",
       "    }\n",
       "\n",
       "    .dataframe thead th {\n",
       "        text-align: right;\n",
       "    }\n",
       "</style>\n",
       "<table border=\"1\" class=\"dataframe\">\n",
       "  <thead>\n",
       "    <tr style=\"text-align: right;\">\n",
       "      <th></th>\n",
       "      <th>InvoiceNo</th>\n",
       "      <th>StockCode</th>\n",
       "      <th>Description</th>\n",
       "      <th>Quantity</th>\n",
       "      <th>InvoiceDate</th>\n",
       "      <th>UnitPrice</th>\n",
       "      <th>CustomerID</th>\n",
       "    </tr>\n",
       "  </thead>\n",
       "  <tbody>\n",
       "    <tr>\n",
       "      <th>6282</th>\n",
       "      <td>536941</td>\n",
       "      <td>22734</td>\n",
       "      <td>amazon</td>\n",
       "      <td>20</td>\n",
       "      <td>2018-12-01 12:08:00</td>\n",
       "      <td>0.0</td>\n",
       "      <td>0.0</td>\n",
       "    </tr>\n",
       "    <tr>\n",
       "      <th>6283</th>\n",
       "      <td>536942</td>\n",
       "      <td>22139</td>\n",
       "      <td>amazon</td>\n",
       "      <td>15</td>\n",
       "      <td>2018-12-01 12:08:00</td>\n",
       "      <td>0.0</td>\n",
       "      <td>0.0</td>\n",
       "    </tr>\n",
       "    <tr>\n",
       "      <th>12917</th>\n",
       "      <td>537425</td>\n",
       "      <td>84968F</td>\n",
       "      <td>check</td>\n",
       "      <td>-20</td>\n",
       "      <td>2018-12-04 15:35:00</td>\n",
       "      <td>0.0</td>\n",
       "      <td>0.0</td>\n",
       "    </tr>\n",
       "    <tr>\n",
       "      <th>12918</th>\n",
       "      <td>537426</td>\n",
       "      <td>84968E</td>\n",
       "      <td>check</td>\n",
       "      <td>-35</td>\n",
       "      <td>2018-12-04 15:36:00</td>\n",
       "      <td>0.0</td>\n",
       "      <td>0.0</td>\n",
       "    </tr>\n",
       "    <tr>\n",
       "      <th>12962</th>\n",
       "      <td>537432</td>\n",
       "      <td>35833G</td>\n",
       "      <td>damages</td>\n",
       "      <td>-43</td>\n",
       "      <td>2018-12-04 16:10:00</td>\n",
       "      <td>0.0</td>\n",
       "      <td>0.0</td>\n",
       "    </tr>\n",
       "  </tbody>\n",
       "</table>\n",
       "</div>"
      ],
      "text/plain": [
       "      InvoiceNo StockCode Description  Quantity         InvoiceDate  \\\n",
       "6282     536941     22734      amazon        20 2018-12-01 12:08:00   \n",
       "6283     536942     22139      amazon        15 2018-12-01 12:08:00   \n",
       "12917    537425    84968F       check       -20 2018-12-04 15:35:00   \n",
       "12918    537426    84968E       check       -35 2018-12-04 15:36:00   \n",
       "12962    537432    35833G     damages       -43 2018-12-04 16:10:00   \n",
       "\n",
       "       UnitPrice  CustomerID  \n",
       "6282         0.0         0.0  \n",
       "6283         0.0         0.0  \n",
       "12917        0.0         0.0  \n",
       "12918        0.0         0.0  \n",
       "12962        0.0         0.0  "
      ]
     },
     "execution_count": 44,
     "metadata": {},
     "output_type": "execute_result"
    }
   ],
   "source": [
    "# querying rows where descriptions are in lowercase\n",
    "lowercase = df_new[df_new['Description'].str.islower()]\n",
    "lowercase.head()"
   ]
  },
  {
   "cell_type": "code",
   "execution_count": 45,
   "metadata": {},
   "outputs": [
    {
     "data": {
      "text/plain": [
       "check                    159\n",
       "damages                   45\n",
       "damaged                   43\n",
       "found                     24\n",
       "sold as set on dotcom     20\n",
       "adjustment                16\n",
       "thrown away                9\n",
       "amazon                     8\n",
       "dotcom                     6\n",
       "ebay                       5\n",
       "Name: Description, dtype: int64"
      ]
     },
     "execution_count": 45,
     "metadata": {},
     "output_type": "execute_result"
    }
   ],
   "source": [
    "# for the same rows, checking the description count\n",
    "df_new[df_new['Description'].str.islower()]['Description'].value_counts().head(10)"
   ]
  },
  {
   "cell_type": "markdown",
   "metadata": {},
   "source": [
    "There are 491 rows with lowercase item descriptions and majority of them appear to be faulty / damaged items. These won't be necessary for our further analysis, so these rows could be removed as well."
   ]
  },
  {
   "cell_type": "code",
   "execution_count": 46,
   "metadata": {},
   "outputs": [],
   "source": [
    "# df_new[~df_new['Description'].str.isupper()]\n",
    "# df_new.drop(index=lowercase.index).reset_index(drop=True)\n",
    "# # rows where stock code includes 'gift'\n",
    "# df_new = df_new[df_new['StockCode'].str.contains(\"gift\") == False].reset_index(drop=True)"
   ]
  },
  {
   "cell_type": "code",
   "execution_count": 47,
   "metadata": {},
   "outputs": [],
   "source": [
    "# removing the lowercase rows\n",
    "df_new = df_new[df_new['Description'].str.isupper()]\n",
    "# rows where description includes: SAMPLES|PADS|AMAZON|?\n",
    "df_new = df_new[df_new['Description'].str.contains(r\"SAMPLES|PADS|AMAZON|\\?+\") == False].reset_index(drop=True)"
   ]
  },
  {
   "cell_type": "code",
   "execution_count": 48,
   "metadata": {},
   "outputs": [],
   "source": [
    "#df_new = df_new[df_new['StockCode'].str.contains(\"gift\") == False].reset_index(drop=True)"
   ]
  },
  {
   "cell_type": "code",
   "execution_count": 49,
   "metadata": {},
   "outputs": [],
   "source": [
    "#df_new = df_new[df_new['Description'].str.contains(r\"Amazon|Damaged|Found|Bank Charges|SAMPLES|Dotcom|AMAZON|\\?+\") == False].reset_index(drop=True)"
   ]
  },
  {
   "cell_type": "code",
   "execution_count": 50,
   "metadata": {},
   "outputs": [],
   "source": [
    "# filtering out rows where quantity is higher than 0\n",
    "df_new = df_new[df_new['Quantity'] > 0]"
   ]
  },
  {
   "cell_type": "code",
   "execution_count": 51,
   "metadata": {},
   "outputs": [],
   "source": [
    "# converting customer ID to int data type\n",
    "df_new['CustomerID'] = df_new['CustomerID'].astype('int64')"
   ]
  },
  {
   "cell_type": "markdown",
   "metadata": {},
   "source": [
    "## Analyzing product range and purchase size"
   ]
  },
  {
   "cell_type": "markdown",
   "metadata": {},
   "source": [
    "### Orders"
   ]
  },
  {
   "cell_type": "code",
   "execution_count": 52,
   "metadata": {},
   "outputs": [],
   "source": [
    "# creating invoice year, month, week and date columns to aid in further analysis\n",
    "df_new['InvYear']  = df_new['InvoiceDate'].dt.isocalendar().year\n",
    "df_new['InvMonth'] = df_new['InvoiceDate'].dt.to_period('M').dt.start_time\n",
    "df_new['InvWeek']  = df_new['InvoiceDate'].dt.to_period('W').dt.start_time\n",
    "df_new['InvDay'] = df_new['InvoiceDate'].astype('datetime64[D]')"
   ]
  },
  {
   "cell_type": "code",
   "execution_count": 53,
   "metadata": {},
   "outputs": [
    {
     "data": {
      "text/plain": [
       "count                  521097\n",
       "unique                  18322\n",
       "top       2019-10-29 14:41:00\n",
       "freq                     1107\n",
       "first     2018-11-29 08:26:00\n",
       "last      2019-12-07 12:50:00\n",
       "Name: InvoiceDate, dtype: object"
      ]
     },
     "execution_count": 53,
     "metadata": {},
     "output_type": "execute_result"
    }
   ],
   "source": [
    "df_new.InvoiceDate.describe()"
   ]
  },
  {
   "cell_type": "markdown",
   "metadata": {},
   "source": [
    "Our data covers only 2 days in November 2018 and a week of December 2019. We'll filter out these 2 incomplete months."
   ]
  },
  {
   "cell_type": "code",
   "execution_count": 54,
   "metadata": {},
   "outputs": [],
   "source": [
    "# filtering out days between dates\n",
    "df_new = df_new.loc[df_new[\"InvDay\"].between(\"2018-12-01\", \"2019-11-30\")]"
   ]
  },
  {
   "cell_type": "code",
   "execution_count": 55,
   "metadata": {},
   "outputs": [
    {
     "data": {
      "text/html": [
       "<div>\n",
       "<style scoped>\n",
       "    .dataframe tbody tr th:only-of-type {\n",
       "        vertical-align: middle;\n",
       "    }\n",
       "\n",
       "    .dataframe tbody tr th {\n",
       "        vertical-align: top;\n",
       "    }\n",
       "\n",
       "    .dataframe thead th {\n",
       "        text-align: right;\n",
       "    }\n",
       "</style>\n",
       "<table border=\"1\" class=\"dataframe\">\n",
       "  <thead>\n",
       "    <tr style=\"text-align: right;\">\n",
       "      <th></th>\n",
       "      <th>InvMonth</th>\n",
       "      <th>InvoiceNo</th>\n",
       "    </tr>\n",
       "  </thead>\n",
       "  <tbody>\n",
       "    <tr>\n",
       "      <th>0</th>\n",
       "      <td>2018-12-01</td>\n",
       "      <td>1285</td>\n",
       "    </tr>\n",
       "    <tr>\n",
       "      <th>1</th>\n",
       "      <td>2019-01-01</td>\n",
       "      <td>1205</td>\n",
       "    </tr>\n",
       "    <tr>\n",
       "      <th>2</th>\n",
       "      <td>2019-02-01</td>\n",
       "      <td>1071</td>\n",
       "    </tr>\n",
       "    <tr>\n",
       "      <th>3</th>\n",
       "      <td>2019-03-01</td>\n",
       "      <td>1411</td>\n",
       "    </tr>\n",
       "    <tr>\n",
       "      <th>4</th>\n",
       "      <td>2019-04-01</td>\n",
       "      <td>1177</td>\n",
       "    </tr>\n",
       "    <tr>\n",
       "      <th>5</th>\n",
       "      <td>2019-05-01</td>\n",
       "      <td>1744</td>\n",
       "    </tr>\n",
       "    <tr>\n",
       "      <th>6</th>\n",
       "      <td>2019-06-01</td>\n",
       "      <td>1479</td>\n",
       "    </tr>\n",
       "    <tr>\n",
       "      <th>7</th>\n",
       "      <td>2019-07-01</td>\n",
       "      <td>1487</td>\n",
       "    </tr>\n",
       "    <tr>\n",
       "      <th>8</th>\n",
       "      <td>2019-08-01</td>\n",
       "      <td>1407</td>\n",
       "    </tr>\n",
       "    <tr>\n",
       "      <th>9</th>\n",
       "      <td>2019-09-01</td>\n",
       "      <td>1702</td>\n",
       "    </tr>\n",
       "    <tr>\n",
       "      <th>10</th>\n",
       "      <td>2019-10-01</td>\n",
       "      <td>2128</td>\n",
       "    </tr>\n",
       "    <tr>\n",
       "      <th>11</th>\n",
       "      <td>2019-11-01</td>\n",
       "      <td>2824</td>\n",
       "    </tr>\n",
       "  </tbody>\n",
       "</table>\n",
       "</div>"
      ],
      "text/plain": [
       "     InvMonth  InvoiceNo\n",
       "0  2018-12-01       1285\n",
       "1  2019-01-01       1205\n",
       "2  2019-02-01       1071\n",
       "3  2019-03-01       1411\n",
       "4  2019-04-01       1177\n",
       "5  2019-05-01       1744\n",
       "6  2019-06-01       1479\n",
       "7  2019-07-01       1487\n",
       "8  2019-08-01       1407\n",
       "9  2019-09-01       1702\n",
       "10 2019-10-01       2128\n",
       "11 2019-11-01       2824"
      ]
     },
     "execution_count": 55,
     "metadata": {},
     "output_type": "execute_result"
    }
   ],
   "source": [
    "# grouping orders by month and checking the amount of unique invoices in each month\n",
    "monthly_orders = df_new.groupby(df_new['InvMonth'])['InvoiceNo'].nunique().reset_index()\n",
    "monthly_orders"
   ]
  },
  {
   "cell_type": "code",
   "execution_count": 56,
   "metadata": {},
   "outputs": [
    {
     "data": {
      "image/png": "[encoded data removed]",
      "text/plain": [
       "<Figure size 1080x576 with 1 Axes>"
      ]
     },
     "metadata": {
      "needs_background": "light"
     },
     "output_type": "display_data"
    }
   ],
   "source": [
    "# plotting a line graph of monthly unique invoices made over time\n",
    "plt.figure(figsize=(15,8))\n",
    "ax = sns.lineplot(data=monthly_orders, x=\"InvMonth\", y=\"InvoiceNo\", linewidth=2)\n",
    "plt.title('Monthly orders')\n",
    "plt.xlabel('month')\n",
    "plt.ylabel('orders');"
   ]
  },
  {
   "cell_type": "markdown",
   "metadata": {},
   "source": [
    "From December 2018 to April 2019, there are noticeable fluctuations in the number of orders, however, the most prominent observation is a significant spike in the number of orders in May 2019.\n",
    "\n",
    "In the following months the invoice count is lower, but still higher than during the beginning of the year. Around September 2019 there's a noticeable spike again that lasts until the end of the year. Highest amount of orders have been made in October and November 2019 which might be due to the upcoming Holiday season and Black Friday."
   ]
  },
  {
   "cell_type": "code",
   "execution_count": 57,
   "metadata": {},
   "outputs": [],
   "source": [
    "# grouping df by customer ID and counting unique orders each customer had made\n",
    "inv_count = df_new.groupby(df_new['CustomerID'])['InvoiceNo'].nunique()\n",
    "# renaming series object\n",
    "inv_count.name='InvCount'"
   ]
  },
  {
   "cell_type": "code",
   "execution_count": 58,
   "metadata": {},
   "outputs": [],
   "source": [
    "# merging invoice count to the df\n",
    "df_new = df_new.merge(inv_count, how='left',on=['CustomerID'])"
   ]
  },
  {
   "cell_type": "code",
   "execution_count": 59,
   "metadata": {},
   "outputs": [],
   "source": [
    "# calculating items' - rows' total by multiplying unit price with quantity\n",
    "# adding a new 'total' column\n",
    "df_new['ItemTotal'] = df_new['Quantity']*df_new['UnitPrice']"
   ]
  },
  {
   "cell_type": "code",
   "execution_count": 60,
   "metadata": {},
   "outputs": [],
   "source": [
    "# grouping df by invoice no and summing up the item total for the invoice\n",
    "inv_total = df_new.groupby(df_new['InvoiceNo'])['ItemTotal'].sum()\n",
    "inv_total.name='InvTotal'"
   ]
  },
  {
   "cell_type": "code",
   "execution_count": 61,
   "metadata": {},
   "outputs": [],
   "source": [
    "# merging inv_total to df\n",
    "df_new = df_new.merge(inv_total, how='left',on=['InvoiceNo'])"
   ]
  },
  {
   "cell_type": "code",
   "execution_count": 62,
   "metadata": {},
   "outputs": [
    {
     "data": {
      "text/html": [
       "<div>\n",
       "<style scoped>\n",
       "    .dataframe tbody tr th:only-of-type {\n",
       "        vertical-align: middle;\n",
       "    }\n",
       "\n",
       "    .dataframe tbody tr th {\n",
       "        vertical-align: top;\n",
       "    }\n",
       "\n",
       "    .dataframe thead th {\n",
       "        text-align: right;\n",
       "    }\n",
       "</style>\n",
       "<table border=\"1\" class=\"dataframe\">\n",
       "  <thead>\n",
       "    <tr style=\"text-align: right;\">\n",
       "      <th></th>\n",
       "      <th>InvoiceNo</th>\n",
       "      <th>StockCode</th>\n",
       "      <th>Description</th>\n",
       "      <th>Quantity</th>\n",
       "      <th>InvoiceDate</th>\n",
       "      <th>UnitPrice</th>\n",
       "      <th>CustomerID</th>\n",
       "      <th>InvYear</th>\n",
       "      <th>InvMonth</th>\n",
       "      <th>InvWeek</th>\n",
       "      <th>InvDay</th>\n",
       "      <th>InvCount</th>\n",
       "      <th>ItemTotal</th>\n",
       "      <th>InvTotal</th>\n",
       "    </tr>\n",
       "  </thead>\n",
       "  <tbody>\n",
       "    <tr>\n",
       "      <th>0</th>\n",
       "      <td>536847</td>\n",
       "      <td>22155</td>\n",
       "      <td>STAR DECORATION RUSTIC</td>\n",
       "      <td>48</td>\n",
       "      <td>2018-12-01 09:31:00</td>\n",
       "      <td>0.42</td>\n",
       "      <td>17135</td>\n",
       "      <td>2018</td>\n",
       "      <td>2018-12-01</td>\n",
       "      <td>2018-11-26</td>\n",
       "      <td>2018-12-01</td>\n",
       "      <td>7</td>\n",
       "      <td>20.16</td>\n",
       "      <td>215.58</td>\n",
       "    </tr>\n",
       "    <tr>\n",
       "      <th>1</th>\n",
       "      <td>536847</td>\n",
       "      <td>21807</td>\n",
       "      <td>WHITE CHRISTMAS STAR DECORATION</td>\n",
       "      <td>36</td>\n",
       "      <td>2018-12-01 09:31:00</td>\n",
       "      <td>0.42</td>\n",
       "      <td>17135</td>\n",
       "      <td>2018</td>\n",
       "      <td>2018-12-01</td>\n",
       "      <td>2018-11-26</td>\n",
       "      <td>2018-12-01</td>\n",
       "      <td>7</td>\n",
       "      <td>15.12</td>\n",
       "      <td>215.58</td>\n",
       "    </tr>\n",
       "    <tr>\n",
       "      <th>2</th>\n",
       "      <td>536847</td>\n",
       "      <td>22161</td>\n",
       "      <td>HEART DECORATION RUSTIC HANGING</td>\n",
       "      <td>24</td>\n",
       "      <td>2018-12-01 09:31:00</td>\n",
       "      <td>0.65</td>\n",
       "      <td>17135</td>\n",
       "      <td>2018</td>\n",
       "      <td>2018-12-01</td>\n",
       "      <td>2018-11-26</td>\n",
       "      <td>2018-12-01</td>\n",
       "      <td>7</td>\n",
       "      <td>15.60</td>\n",
       "      <td>215.58</td>\n",
       "    </tr>\n",
       "    <tr>\n",
       "      <th>3</th>\n",
       "      <td>536847</td>\n",
       "      <td>22065</td>\n",
       "      <td>CHRISTMAS PUDDING TRINKET POT</td>\n",
       "      <td>24</td>\n",
       "      <td>2018-12-01 09:31:00</td>\n",
       "      <td>1.45</td>\n",
       "      <td>17135</td>\n",
       "      <td>2018</td>\n",
       "      <td>2018-12-01</td>\n",
       "      <td>2018-11-26</td>\n",
       "      <td>2018-12-01</td>\n",
       "      <td>7</td>\n",
       "      <td>34.80</td>\n",
       "      <td>215.58</td>\n",
       "    </tr>\n",
       "    <tr>\n",
       "      <th>4</th>\n",
       "      <td>536847</td>\n",
       "      <td>20956</td>\n",
       "      <td>PORCELAIN T-LIGHT HOLDERS ASSORTED</td>\n",
       "      <td>12</td>\n",
       "      <td>2018-12-01 09:31:00</td>\n",
       "      <td>1.25</td>\n",
       "      <td>17135</td>\n",
       "      <td>2018</td>\n",
       "      <td>2018-12-01</td>\n",
       "      <td>2018-11-26</td>\n",
       "      <td>2018-12-01</td>\n",
       "      <td>7</td>\n",
       "      <td>15.00</td>\n",
       "      <td>215.58</td>\n",
       "    </tr>\n",
       "  </tbody>\n",
       "</table>\n",
       "</div>"
      ],
      "text/plain": [
       "  InvoiceNo StockCode                         Description  Quantity  \\\n",
       "0    536847     22155              STAR DECORATION RUSTIC        48   \n",
       "1    536847     21807     WHITE CHRISTMAS STAR DECORATION        36   \n",
       "2    536847     22161    HEART DECORATION RUSTIC HANGING         24   \n",
       "3    536847     22065      CHRISTMAS PUDDING TRINKET POT         24   \n",
       "4    536847     20956  PORCELAIN T-LIGHT HOLDERS ASSORTED        12   \n",
       "\n",
       "          InvoiceDate  UnitPrice  CustomerID  InvYear   InvMonth    InvWeek  \\\n",
       "0 2018-12-01 09:31:00       0.42       17135     2018 2018-12-01 2018-11-26   \n",
       "1 2018-12-01 09:31:00       0.42       17135     2018 2018-12-01 2018-11-26   \n",
       "2 2018-12-01 09:31:00       0.65       17135     2018 2018-12-01 2018-11-26   \n",
       "3 2018-12-01 09:31:00       1.45       17135     2018 2018-12-01 2018-11-26   \n",
       "4 2018-12-01 09:31:00       1.25       17135     2018 2018-12-01 2018-11-26   \n",
       "\n",
       "      InvDay  InvCount  ItemTotal  InvTotal  \n",
       "0 2018-12-01         7      20.16    215.58  \n",
       "1 2018-12-01         7      15.12    215.58  \n",
       "2 2018-12-01         7      15.60    215.58  \n",
       "3 2018-12-01         7      34.80    215.58  \n",
       "4 2018-12-01         7      15.00    215.58  "
      ]
     },
     "execution_count": 62,
     "metadata": {},
     "output_type": "execute_result"
    }
   ],
   "source": [
    "# looking at the 1st rows of the df\n",
    "df_new.head()"
   ]
  },
  {
   "cell_type": "code",
   "execution_count": 63,
   "metadata": {},
   "outputs": [
    {
     "data": {
      "image/png": "[encoded data removed]",
      "text/plain": [
       "<Figure size 864x576 with 1 Axes>"
      ]
     },
     "metadata": {},
     "output_type": "display_data"
    }
   ],
   "source": [
    "# plotting a histogram of number of orders per customer\n",
    "sns.set(font_scale=1.2)\n",
    "df_new.groupby(['CustomerID'])['InvoiceNo'].nunique().plot(kind='hist',\n",
    "        bins=25,\n",
    "        title='Orders per customer',\n",
    "        figsize=(12,8),\n",
    "        range=(0,100))\n",
    "plt.xlabel('orders')\n",
    "plt.ylabel('number of customers');"
   ]
  },
  {
   "cell_type": "code",
   "execution_count": 64,
   "metadata": {},
   "outputs": [
    {
     "data": {
      "text/plain": [
       "count    4269.000000\n",
       "mean        4.431951\n",
       "std        21.728934\n",
       "min         1.000000\n",
       "25%         1.000000\n",
       "50%         2.000000\n",
       "75%         4.000000\n",
       "max      1340.000000\n",
       "Name: InvoiceNo, dtype: float64"
      ]
     },
     "execution_count": 64,
     "metadata": {},
     "output_type": "execute_result"
    }
   ],
   "source": [
    "# checking statistics of orders per customer\n",
    "df_new.groupby(['CustomerID'])['InvoiceNo'].nunique().describe()"
   ]
  },
  {
   "cell_type": "code",
   "execution_count": 65,
   "metadata": {},
   "outputs": [
    {
     "data": {
      "text/plain": [
       "array([ 9., 13., 28.])"
      ]
     },
     "execution_count": 65,
     "metadata": {},
     "output_type": "execute_result"
    }
   ],
   "source": [
    "# exploring percentiles\n",
    "np.percentile(df_new.groupby(['CustomerID'])['InvoiceNo'].nunique(), [90, 95, 99])"
   ]
  },
  {
   "cell_type": "markdown",
   "metadata": {},
   "source": [
    "On average, between  29th of Nov. 2018 and 7th of Dec. 2019, customers have placed 4 orders. In 50% of cases customers have placed 1 to 4 orders.\n",
    "\n",
    "Not more than 10% of customers have placed more than 9 orders. Not more than 5% of customers have placed 13 or more orders."
   ]
  },
  {
   "cell_type": "code",
   "execution_count": 66,
   "metadata": {},
   "outputs": [
    {
     "data": {
      "text/html": [
       "<div>\n",
       "<style scoped>\n",
       "    .dataframe tbody tr th:only-of-type {\n",
       "        vertical-align: middle;\n",
       "    }\n",
       "\n",
       "    .dataframe tbody tr th {\n",
       "        vertical-align: top;\n",
       "    }\n",
       "\n",
       "    .dataframe thead th {\n",
       "        text-align: right;\n",
       "    }\n",
       "</style>\n",
       "<table border=\"1\" class=\"dataframe\">\n",
       "  <thead>\n",
       "    <tr style=\"text-align: right;\">\n",
       "      <th></th>\n",
       "      <th>CustomerID</th>\n",
       "      <th>InvoiceNo</th>\n",
       "    </tr>\n",
       "  </thead>\n",
       "  <tbody>\n",
       "    <tr>\n",
       "      <th>321</th>\n",
       "      <td>12748</td>\n",
       "      <td>197</td>\n",
       "    </tr>\n",
       "    <tr>\n",
       "      <th>1856</th>\n",
       "      <td>14911</td>\n",
       "      <td>189</td>\n",
       "    </tr>\n",
       "    <tr>\n",
       "      <th>3954</th>\n",
       "      <td>17841</td>\n",
       "      <td>119</td>\n",
       "    </tr>\n",
       "    <tr>\n",
       "      <th>553</th>\n",
       "      <td>13089</td>\n",
       "      <td>95</td>\n",
       "    </tr>\n",
       "    <tr>\n",
       "      <th>2149</th>\n",
       "      <td>15311</td>\n",
       "      <td>88</td>\n",
       "    </tr>\n",
       "    <tr>\n",
       "      <th>1639</th>\n",
       "      <td>14606</td>\n",
       "      <td>87</td>\n",
       "    </tr>\n",
       "    <tr>\n",
       "      <th>474</th>\n",
       "      <td>12971</td>\n",
       "      <td>84</td>\n",
       "    </tr>\n",
       "    <tr>\n",
       "      <th>1667</th>\n",
       "      <td>14646</td>\n",
       "      <td>70</td>\n",
       "    </tr>\n",
       "    <tr>\n",
       "      <th>2663</th>\n",
       "      <td>16029</td>\n",
       "      <td>59</td>\n",
       "    </tr>\n",
       "    <tr>\n",
       "      <th>784</th>\n",
       "      <td>13408</td>\n",
       "      <td>59</td>\n",
       "    </tr>\n",
       "  </tbody>\n",
       "</table>\n",
       "</div>"
      ],
      "text/plain": [
       "      CustomerID  InvoiceNo\n",
       "321        12748        197\n",
       "1856       14911        189\n",
       "3954       17841        119\n",
       "553        13089         95\n",
       "2149       15311         88\n",
       "1639       14606         87\n",
       "474        12971         84\n",
       "1667       14646         70\n",
       "2663       16029         59\n",
       "784        13408         59"
      ]
     },
     "execution_count": 66,
     "metadata": {},
     "output_type": "execute_result"
    }
   ],
   "source": [
    "# grouping df by customer ID and counting orders each customer have made\n",
    "customer_orders = df_new.groupby('CustomerID')['InvoiceNo'].nunique().reset_index().sort_values(by='InvoiceNo', ascending=False)\n",
    "# displaying top 10 customers who've placed many orders\n",
    "customer_orders.query('CustomerID !=0').head(10)"
   ]
  },
  {
   "cell_type": "code",
   "execution_count": 67,
   "metadata": {},
   "outputs": [
    {
     "data": {
      "text/plain": [
       "16"
      ]
     },
     "execution_count": 67,
     "metadata": {},
     "output_type": "execute_result"
    }
   ],
   "source": [
    "# finding outliers in number of orders per customer\n",
    "mean = customer_orders['InvoiceNo'].mean()\n",
    "median = customer_orders['InvoiceNo'].median()\n",
    "std = customer_orders['InvoiceNo'].std()\n",
    "out = customer_orders[customer_orders['InvoiceNo'] > (mean + 2 * std)]\n",
    "len(out)"
   ]
  },
  {
   "cell_type": "markdown",
   "metadata": {},
   "source": [
    "It seems there are 15 (1 accounts for customers without ID numbers) outliers - customers who have placed notably many orders."
   ]
  },
  {
   "cell_type": "markdown",
   "metadata": {},
   "source": [
    "### Revenue"
   ]
  },
  {
   "cell_type": "code",
   "execution_count": 68,
   "metadata": {},
   "outputs": [
    {
     "data": {
      "text/html": [
       "<div>\n",
       "<style scoped>\n",
       "    .dataframe tbody tr th:only-of-type {\n",
       "        vertical-align: middle;\n",
       "    }\n",
       "\n",
       "    .dataframe tbody tr th {\n",
       "        vertical-align: top;\n",
       "    }\n",
       "\n",
       "    .dataframe thead th {\n",
       "        text-align: right;\n",
       "    }\n",
       "</style>\n",
       "<table border=\"1\" class=\"dataframe\">\n",
       "  <thead>\n",
       "    <tr style=\"text-align: right;\">\n",
       "      <th></th>\n",
       "      <th>InvMonth</th>\n",
       "      <th>ItemTotal</th>\n",
       "    </tr>\n",
       "  </thead>\n",
       "  <tbody>\n",
       "    <tr>\n",
       "      <th>0</th>\n",
       "      <td>2018-12-01</td>\n",
       "      <td>670109.58</td>\n",
       "    </tr>\n",
       "    <tr>\n",
       "      <th>1</th>\n",
       "      <td>2019-01-01</td>\n",
       "      <td>718399.18</td>\n",
       "    </tr>\n",
       "    <tr>\n",
       "      <th>2</th>\n",
       "      <td>2019-02-01</td>\n",
       "      <td>501097.29</td>\n",
       "    </tr>\n",
       "    <tr>\n",
       "      <th>3</th>\n",
       "      <td>2019-03-01</td>\n",
       "      <td>671198.09</td>\n",
       "    </tr>\n",
       "    <tr>\n",
       "      <th>4</th>\n",
       "      <td>2019-04-01</td>\n",
       "      <td>496018.55</td>\n",
       "    </tr>\n",
       "    <tr>\n",
       "      <th>5</th>\n",
       "      <td>2019-05-01</td>\n",
       "      <td>783671.96</td>\n",
       "    </tr>\n",
       "    <tr>\n",
       "      <th>6</th>\n",
       "      <td>2019-06-01</td>\n",
       "      <td>698044.59</td>\n",
       "    </tr>\n",
       "    <tr>\n",
       "      <th>7</th>\n",
       "      <td>2019-07-01</td>\n",
       "      <td>720649.92</td>\n",
       "    </tr>\n",
       "    <tr>\n",
       "      <th>8</th>\n",
       "      <td>2019-08-01</td>\n",
       "      <td>752705.06</td>\n",
       "    </tr>\n",
       "    <tr>\n",
       "      <th>9</th>\n",
       "      <td>2019-09-01</td>\n",
       "      <td>961909.57</td>\n",
       "    </tr>\n",
       "    <tr>\n",
       "      <th>10</th>\n",
       "      <td>2019-10-01</td>\n",
       "      <td>1163600.65</td>\n",
       "    </tr>\n",
       "    <tr>\n",
       "      <th>11</th>\n",
       "      <td>2019-11-01</td>\n",
       "      <td>1482965.93</td>\n",
       "    </tr>\n",
       "  </tbody>\n",
       "</table>\n",
       "</div>"
      ],
      "text/plain": [
       "     InvMonth   ItemTotal\n",
       "0  2018-12-01   670109.58\n",
       "1  2019-01-01   718399.18\n",
       "2  2019-02-01   501097.29\n",
       "3  2019-03-01   671198.09\n",
       "4  2019-04-01   496018.55\n",
       "5  2019-05-01   783671.96\n",
       "6  2019-06-01   698044.59\n",
       "7  2019-07-01   720649.92\n",
       "8  2019-08-01   752705.06\n",
       "9  2019-09-01   961909.57\n",
       "10 2019-10-01  1163600.65\n",
       "11 2019-11-01  1482965.93"
      ]
     },
     "execution_count": 68,
     "metadata": {},
     "output_type": "execute_result"
    }
   ],
   "source": [
    "# grouping df by month and summing item total in each\n",
    "month_rev = df_new.groupby('InvMonth')['ItemTotal'].sum().reset_index()\n",
    "month_rev"
   ]
  },
  {
   "cell_type": "code",
   "execution_count": 69,
   "metadata": {},
   "outputs": [
    {
     "data": {
      "image/png": "[encoded data removed]",
      "text/plain": [
       "<Figure size 1080x576 with 1 Axes>"
      ]
     },
     "metadata": {},
     "output_type": "display_data"
    }
   ],
   "source": [
    "# plotting a line graph of monthly revenue\n",
    "plt.figure(figsize=(15,8))\n",
    "ax = sns.lineplot(data=month_rev, x=\"InvMonth\", y=\"ItemTotal\", linewidth=2)\n",
    "plt.title('Monthly revenue')\n",
    "plt.xlabel('month')\n",
    "plt.ylabel('revenue');"
   ]
  },
  {
   "cell_type": "markdown",
   "metadata": {},
   "source": [
    "Monthly revenue graph very much resembles the monthly orders graph.\n",
    "\n",
    "There is a noticeable upward trend that shows overall growth in revenue from December 2018 to November 2019.\n",
    "\n",
    "Lowest months were February and April 2019.\n",
    "\n",
    "From August / September the revenue is noticeably increasing, continuing with a huge spike in revenue in November 2019 and this upward trend probably is connected to the Holiday season."
   ]
  },
  {
   "cell_type": "code",
   "execution_count": 70,
   "metadata": {},
   "outputs": [],
   "source": [
    "# grouping items by Stock Code and calculating revenue for each\n",
    "item_rev = df_new.groupby('StockCode')['ItemTotal'].sum().reset_index()"
   ]
  },
  {
   "cell_type": "code",
   "execution_count": 71,
   "metadata": {},
   "outputs": [
    {
     "data": {
      "image/png": "[encoded data removed]",
      "text/plain": [
       "<Figure size 864x648 with 1 Axes>"
      ]
     },
     "metadata": {},
     "output_type": "display_data"
    }
   ],
   "source": [
    "# plotting distribution of revenue per stock code\n",
    "item_rev['ItemTotal'].plot(kind='hist',\n",
    "        bins=20,\n",
    "        title='Distribution of revenue per item',\n",
    "        figsize=(12,9),\n",
    "        range=(0,3000))\n",
    "plt.xlabel('revenue')\n",
    "plt.ylabel('number of items');"
   ]
  },
  {
   "cell_type": "code",
   "execution_count": 72,
   "metadata": {},
   "outputs": [
    {
     "data": {
      "text/plain": [
       "count      3871.000000\n",
       "mean       2485.241635\n",
       "std        6317.311814\n",
       "min           0.000000\n",
       "25%         124.330000\n",
       "50%         663.150000\n",
       "75%        2124.415000\n",
       "max      165414.750000\n",
       "Name: ItemTotal, dtype: float64"
      ]
     },
     "execution_count": 72,
     "metadata": {},
     "output_type": "execute_result"
    }
   ],
   "source": [
    "# checking statistics of revenue per item\n",
    "item_rev['ItemTotal'].describe()"
   ]
  },
  {
   "cell_type": "code",
   "execution_count": 73,
   "metadata": {},
   "outputs": [
    {
     "data": {
      "text/plain": [
       "array([ 6252.65 , 10936.92 , 25557.331])"
      ]
     },
     "execution_count": 73,
     "metadata": {},
     "output_type": "execute_result"
    }
   ],
   "source": [
    "# exploring percentiles\n",
    "np.percentile(item_rev['ItemTotal'], [90, 95, 99])"
   ]
  },
  {
   "cell_type": "markdown",
   "metadata": {},
   "source": [
    "On average revenue per item is 2485. Usually items would generate between 124 - 2124 in revenue.\n",
    "Only few items, 5%, exceed 10936 in revenue."
   ]
  },
  {
   "cell_type": "code",
   "execution_count": 74,
   "metadata": {},
   "outputs": [
    {
     "data": {
      "text/html": [
       "<div>\n",
       "<style scoped>\n",
       "    .dataframe tbody tr th:only-of-type {\n",
       "        vertical-align: middle;\n",
       "    }\n",
       "\n",
       "    .dataframe tbody tr th {\n",
       "        vertical-align: top;\n",
       "    }\n",
       "\n",
       "    .dataframe thead th {\n",
       "        text-align: right;\n",
       "    }\n",
       "</style>\n",
       "<table border=\"1\" class=\"dataframe\">\n",
       "  <thead>\n",
       "    <tr style=\"text-align: right;\">\n",
       "      <th></th>\n",
       "      <th>StockCode</th>\n",
       "      <th>ItemTotal</th>\n",
       "    </tr>\n",
       "  </thead>\n",
       "  <tbody>\n",
       "    <tr>\n",
       "      <th>1293</th>\n",
       "      <td>22423</td>\n",
       "      <td>165414.75</td>\n",
       "    </tr>\n",
       "    <tr>\n",
       "      <th>3372</th>\n",
       "      <td>85123A</td>\n",
       "      <td>100641.99</td>\n",
       "    </tr>\n",
       "    <tr>\n",
       "      <th>2641</th>\n",
       "      <td>47566</td>\n",
       "      <td>98828.59</td>\n",
       "    </tr>\n",
       "    <tr>\n",
       "      <th>3352</th>\n",
       "      <td>85099B</td>\n",
       "      <td>92101.20</td>\n",
       "    </tr>\n",
       "    <tr>\n",
       "      <th>2001</th>\n",
       "      <td>23166</td>\n",
       "      <td>81492.97</td>\n",
       "    </tr>\n",
       "    <tr>\n",
       "      <th>1923</th>\n",
       "      <td>23084</td>\n",
       "      <td>59266.78</td>\n",
       "    </tr>\n",
       "    <tr>\n",
       "      <th>990</th>\n",
       "      <td>22086</td>\n",
       "      <td>58273.25</td>\n",
       "    </tr>\n",
       "    <tr>\n",
       "      <th>3159</th>\n",
       "      <td>84879</td>\n",
       "      <td>56524.73</td>\n",
       "    </tr>\n",
       "    <tr>\n",
       "      <th>1367</th>\n",
       "      <td>22502</td>\n",
       "      <td>51095.67</td>\n",
       "    </tr>\n",
       "    <tr>\n",
       "      <th>2814</th>\n",
       "      <td>79321</td>\n",
       "      <td>51028.95</td>\n",
       "    </tr>\n",
       "  </tbody>\n",
       "</table>\n",
       "</div>"
      ],
      "text/plain": [
       "     StockCode  ItemTotal\n",
       "1293     22423  165414.75\n",
       "3372    85123A  100641.99\n",
       "2641     47566   98828.59\n",
       "3352    85099B   92101.20\n",
       "2001     23166   81492.97\n",
       "1923     23084   59266.78\n",
       "990      22086   58273.25\n",
       "3159     84879   56524.73\n",
       "1367     22502   51095.67\n",
       "2814     79321   51028.95"
      ]
     },
     "execution_count": 74,
     "metadata": {},
     "output_type": "execute_result"
    }
   ],
   "source": [
    "# finding outliers in item revenue\n",
    "mean_rev = item_rev['ItemTotal'].mean()\n",
    "median_rev = item_rev['ItemTotal'].median()\n",
    "std_rev = item_rev['ItemTotal'].std()\n",
    "rev_outliers = item_rev[item_rev['ItemTotal'] > (mean_rev + 2 * std_rev)]\n",
    "rev_outliers.sort_values(by='ItemTotal', ascending=False).head(10)"
   ]
  },
  {
   "cell_type": "code",
   "execution_count": 75,
   "metadata": {},
   "outputs": [
    {
     "data": {
      "text/plain": [
       "122"
      ]
     },
     "execution_count": 75,
     "metadata": {},
     "output_type": "execute_result"
    }
   ],
   "source": [
    "len(rev_outliers)"
   ]
  },
  {
   "cell_type": "markdown",
   "metadata": {},
   "source": [
    "There are 122 items who could be considered as outliers when it comes to revenue they've generated.\n",
    "These items have done very well in sales."
   ]
  },
  {
   "cell_type": "code",
   "execution_count": 76,
   "metadata": {},
   "outputs": [
    {
     "data": {
      "text/html": [
       "<div>\n",
       "<style scoped>\n",
       "    .dataframe tbody tr th:only-of-type {\n",
       "        vertical-align: middle;\n",
       "    }\n",
       "\n",
       "    .dataframe tbody tr th {\n",
       "        vertical-align: top;\n",
       "    }\n",
       "\n",
       "    .dataframe thead th {\n",
       "        text-align: right;\n",
       "    }\n",
       "</style>\n",
       "<table border=\"1\" class=\"dataframe\">\n",
       "  <thead>\n",
       "    <tr style=\"text-align: right;\">\n",
       "      <th></th>\n",
       "      <th>Description</th>\n",
       "      <th>ItemTotal</th>\n",
       "    </tr>\n",
       "  </thead>\n",
       "  <tbody>\n",
       "    <tr>\n",
       "      <th>0</th>\n",
       "      <td>REGENCY CAKESTAND 3 TIER</td>\n",
       "      <td>165414.75</td>\n",
       "    </tr>\n",
       "    <tr>\n",
       "      <th>1</th>\n",
       "      <td>WHITE HANGING HEART T-LIGHT HOLDER</td>\n",
       "      <td>102435.35</td>\n",
       "    </tr>\n",
       "    <tr>\n",
       "      <th>2</th>\n",
       "      <td>PARTY BUNTING</td>\n",
       "      <td>98828.59</td>\n",
       "    </tr>\n",
       "    <tr>\n",
       "      <th>3</th>\n",
       "      <td>JUMBO BAG RED RETROSPOT</td>\n",
       "      <td>92101.20</td>\n",
       "    </tr>\n",
       "    <tr>\n",
       "      <th>4</th>\n",
       "      <td>MEDIUM CERAMIC TOP STORAGE JAR</td>\n",
       "      <td>81492.97</td>\n",
       "    </tr>\n",
       "    <tr>\n",
       "      <th>5</th>\n",
       "      <td>RABBIT NIGHT LIGHT</td>\n",
       "      <td>59266.78</td>\n",
       "    </tr>\n",
       "    <tr>\n",
       "      <th>6</th>\n",
       "      <td>PAPER CHAIN KIT 50'S CHRISTMAS</td>\n",
       "      <td>58273.25</td>\n",
       "    </tr>\n",
       "    <tr>\n",
       "      <th>7</th>\n",
       "      <td>ASSORTED COLOUR BIRD ORNAMENT</td>\n",
       "      <td>56524.73</td>\n",
       "    </tr>\n",
       "    <tr>\n",
       "      <th>8</th>\n",
       "      <td>CHILLI LIGHTS</td>\n",
       "      <td>51028.95</td>\n",
       "    </tr>\n",
       "    <tr>\n",
       "      <th>9</th>\n",
       "      <td>JUMBO BAG PINK POLKADOT</td>\n",
       "      <td>41982.52</td>\n",
       "    </tr>\n",
       "  </tbody>\n",
       "</table>\n",
       "</div>"
      ],
      "text/plain": [
       "                          Description  ItemTotal\n",
       "0            REGENCY CAKESTAND 3 TIER  165414.75\n",
       "1  WHITE HANGING HEART T-LIGHT HOLDER  102435.35\n",
       "2                       PARTY BUNTING   98828.59\n",
       "3             JUMBO BAG RED RETROSPOT   92101.20\n",
       "4      MEDIUM CERAMIC TOP STORAGE JAR   81492.97\n",
       "5                  RABBIT NIGHT LIGHT   59266.78\n",
       "6     PAPER CHAIN KIT 50'S CHRISTMAS    58273.25\n",
       "7       ASSORTED COLOUR BIRD ORNAMENT   56524.73\n",
       "8                       CHILLI LIGHTS   51028.95\n",
       "9             JUMBO BAG PINK POLKADOT   41982.52"
      ]
     },
     "execution_count": 76,
     "metadata": {},
     "output_type": "execute_result"
    }
   ],
   "source": [
    "# grouping items by descriptions and summing item total for each item\n",
    "top_by_rev = df_new.groupby(['Description']).agg({'ItemTotal':'sum'}).sort_values(by='ItemTotal', ascending=False).reset_index()\n",
    "top_by_rev.head(10)"
   ]
  },
  {
   "cell_type": "code",
   "execution_count": 77,
   "metadata": {},
   "outputs": [
    {
     "data": {
      "text/html": [
       "<div>\n",
       "<style scoped>\n",
       "    .dataframe tbody tr th:only-of-type {\n",
       "        vertical-align: middle;\n",
       "    }\n",
       "\n",
       "    .dataframe tbody tr th {\n",
       "        vertical-align: top;\n",
       "    }\n",
       "\n",
       "    .dataframe thead th {\n",
       "        text-align: right;\n",
       "    }\n",
       "</style>\n",
       "<table border=\"1\" class=\"dataframe\">\n",
       "  <thead>\n",
       "    <tr style=\"text-align: right;\">\n",
       "      <th></th>\n",
       "      <th>Description</th>\n",
       "      <th>ItemTotal</th>\n",
       "      <th>ItemTotalCum</th>\n",
       "      <th>ItemTotalCumPercent</th>\n",
       "    </tr>\n",
       "  </thead>\n",
       "  <tbody>\n",
       "    <tr>\n",
       "      <th>0</th>\n",
       "      <td>REGENCY CAKESTAND 3 TIER</td>\n",
       "      <td>165414.75</td>\n",
       "      <td>165414.75</td>\n",
       "      <td>1.72</td>\n",
       "    </tr>\n",
       "    <tr>\n",
       "      <th>1</th>\n",
       "      <td>WHITE HANGING HEART T-LIGHT HOLDER</td>\n",
       "      <td>102435.35</td>\n",
       "      <td>267850.10</td>\n",
       "      <td>2.78</td>\n",
       "    </tr>\n",
       "    <tr>\n",
       "      <th>2</th>\n",
       "      <td>PARTY BUNTING</td>\n",
       "      <td>98828.59</td>\n",
       "      <td>366678.69</td>\n",
       "      <td>3.81</td>\n",
       "    </tr>\n",
       "    <tr>\n",
       "      <th>3</th>\n",
       "      <td>JUMBO BAG RED RETROSPOT</td>\n",
       "      <td>92101.20</td>\n",
       "      <td>458779.89</td>\n",
       "      <td>4.77</td>\n",
       "    </tr>\n",
       "    <tr>\n",
       "      <th>4</th>\n",
       "      <td>MEDIUM CERAMIC TOP STORAGE JAR</td>\n",
       "      <td>81492.97</td>\n",
       "      <td>540272.86</td>\n",
       "      <td>5.62</td>\n",
       "    </tr>\n",
       "  </tbody>\n",
       "</table>\n",
       "</div>"
      ],
      "text/plain": [
       "                          Description  ItemTotal  ItemTotalCum  \\\n",
       "0            REGENCY CAKESTAND 3 TIER  165414.75     165414.75   \n",
       "1  WHITE HANGING HEART T-LIGHT HOLDER  102435.35     267850.10   \n",
       "2                       PARTY BUNTING   98828.59     366678.69   \n",
       "3             JUMBO BAG RED RETROSPOT   92101.20     458779.89   \n",
       "4      MEDIUM CERAMIC TOP STORAGE JAR   81492.97     540272.86   \n",
       "\n",
       "   ItemTotalCumPercent  \n",
       "0                 1.72  \n",
       "1                 2.78  \n",
       "2                 3.81  \n",
       "3                 4.77  \n",
       "4                 5.62  "
      ]
     },
     "execution_count": 77,
     "metadata": {},
     "output_type": "execute_result"
    }
   ],
   "source": [
    "# adding cumulative revenue column to the top_by_rev df\n",
    "top_by_rev['ItemTotalCum'] = top_by_rev['ItemTotal'].cumsum()\n",
    "# adding cumulative revenue in percentage column\n",
    "top_by_rev['ItemTotalCumPercent'] = (top_by_rev['ItemTotal'].cumsum() / top_by_rev['ItemTotal'].sum()).round(4) * 100\n",
    "top_by_rev.head()"
   ]
  },
  {
   "cell_type": "code",
   "execution_count": 78,
   "metadata": {},
   "outputs": [
    {
     "data": {
      "text/plain": [
       "9620370.370000007"
      ]
     },
     "execution_count": 78,
     "metadata": {},
     "output_type": "execute_result"
    }
   ],
   "source": [
    "# checking total revenue\n",
    "top_by_rev['ItemTotalCum'].max()"
   ]
  },
  {
   "cell_type": "code",
   "execution_count": 99,
   "metadata": {},
   "outputs": [
    {
     "data": {
      "text/plain": [
       "9747747.933999998"
      ]
     },
     "execution_count": 99,
     "metadata": {},
     "output_type": "execute_result"
    }
   ],
   "source": [
    "df['rev']=df['Quantity']*df['UnitPrice']\n",
    "df['rev'].sum()"
   ]
  },
  {
   "cell_type": "markdown",
   "metadata": {},
   "source": [
    "### Items"
   ]
  },
  {
   "cell_type": "code",
   "execution_count": 79,
   "metadata": {},
   "outputs": [],
   "source": [
    "# grouping df by stock code and description\n",
    "# counting the amount of unique months for each item + counting how many times an item was ordered\n",
    "monthly_items = df_new.groupby(['StockCode', 'Description']).agg({'InvMonth':'nunique','StockCode':'count'})\n",
    "monthly_items.columns = ['Month_Count', 'Item_Count']\n",
    "monthly_items = monthly_items.reset_index()\n",
    "top_items = monthly_items.sort_values(by='Item_Count', ascending=False)\n",
    "top_items.head(10)\n",
    "top10items = top_items.head(10)"
   ]
  },
  {
   "cell_type": "code",
   "execution_count": 80,
   "metadata": {},
   "outputs": [
    {
     "data": {
      "image/png": "[encoded data removed]",
      "text/plain": [
       "<Figure size 864x576 with 1 Axes>"
      ]
     },
     "metadata": {},
     "output_type": "display_data"
    }
   ],
   "source": [
    "# plotting a bar graph with most popular items\n",
    "plt.figure(figsize=(12,8))\n",
    "y= top10items['Description']\n",
    "x= top10items['Item_Count']\n",
    "plt.barh(y, x, color='#558a86', alpha=0.9)\n",
    "plt.gca().invert_yaxis()\n",
    "plt.ylabel(\"item\")\n",
    "plt.xlabel(\"item count\") \n",
    "plt.title(\"Top 10 most sold items\")\n",
    "plt.show()"
   ]
  },
  {
   "cell_type": "markdown",
   "metadata": {},
   "source": [
    "These are the top 10 selling items that have been purchased all year round."
   ]
  },
  {
   "cell_type": "code",
   "execution_count": 81,
   "metadata": {},
   "outputs": [
    {
     "data": {
      "text/html": [
       "<div>\n",
       "<style scoped>\n",
       "    .dataframe tbody tr th:only-of-type {\n",
       "        vertical-align: middle;\n",
       "    }\n",
       "\n",
       "    .dataframe tbody tr th {\n",
       "        vertical-align: top;\n",
       "    }\n",
       "\n",
       "    .dataframe thead th {\n",
       "        text-align: right;\n",
       "    }\n",
       "</style>\n",
       "<table border=\"1\" class=\"dataframe\">\n",
       "  <thead>\n",
       "    <tr style=\"text-align: right;\">\n",
       "      <th></th>\n",
       "      <th>CustomerID</th>\n",
       "      <th>InvoiceNo</th>\n",
       "      <th>StockCode</th>\n",
       "    </tr>\n",
       "  </thead>\n",
       "  <tbody>\n",
       "    <tr>\n",
       "      <th>18915</th>\n",
       "      <td>18283</td>\n",
       "      <td>578262</td>\n",
       "      <td>102</td>\n",
       "    </tr>\n",
       "    <tr>\n",
       "      <th>18916</th>\n",
       "      <td>18283</td>\n",
       "      <td>579673</td>\n",
       "      <td>50</td>\n",
       "    </tr>\n",
       "    <tr>\n",
       "      <th>18917</th>\n",
       "      <td>18287</td>\n",
       "      <td>554065</td>\n",
       "      <td>29</td>\n",
       "    </tr>\n",
       "    <tr>\n",
       "      <th>18918</th>\n",
       "      <td>18287</td>\n",
       "      <td>570715</td>\n",
       "      <td>38</td>\n",
       "    </tr>\n",
       "    <tr>\n",
       "      <th>18919</th>\n",
       "      <td>18287</td>\n",
       "      <td>573167</td>\n",
       "      <td>3</td>\n",
       "    </tr>\n",
       "  </tbody>\n",
       "</table>\n",
       "</div>"
      ],
      "text/plain": [
       "       CustomerID InvoiceNo  StockCode\n",
       "18915       18283    578262        102\n",
       "18916       18283    579673         50\n",
       "18917       18287    554065         29\n",
       "18918       18287    570715         38\n",
       "18919       18287    573167          3"
      ]
     },
     "execution_count": 81,
     "metadata": {},
     "output_type": "execute_result"
    }
   ],
   "source": [
    "# looking at number of items per invoice by\n",
    "# grouping the df by customer ID and invoice number\n",
    "# counting stock codes in each invoice\n",
    "item_qty = df_new[['CustomerID', 'InvoiceNo','StockCode']].groupby(['CustomerID','InvoiceNo']).count().reset_index()\n",
    "item_qty.tail()"
   ]
  },
  {
   "cell_type": "code",
   "execution_count": 82,
   "metadata": {},
   "outputs": [
    {
     "data": {
      "image/png": "[encoded data removed]",
      "text/plain": [
       "<Figure size 864x576 with 1 Axes>"
      ]
     },
     "metadata": {},
     "output_type": "display_data"
    }
   ],
   "source": [
    "# plotting item quantities per invoice histogram\n",
    "item_qty['StockCode'].plot(kind='hist',\n",
    "        bins=50,\n",
    "        title='Item quantities per invoice',\n",
    "        figsize=(12,8),\n",
    "        range=(0,100))\n",
    "plt.xlabel('items')\n",
    "plt.ylabel('invoices');"
   ]
  },
  {
   "cell_type": "code",
   "execution_count": 83,
   "metadata": {},
   "outputs": [
    {
     "data": {
      "text/plain": [
       "count    18920.000000\n",
       "mean        26.267072\n",
       "std         45.639457\n",
       "min          1.000000\n",
       "25%          6.750000\n",
       "50%         15.000000\n",
       "75%         29.000000\n",
       "max       1107.000000\n",
       "Name: StockCode, dtype: float64"
      ]
     },
     "execution_count": 83,
     "metadata": {},
     "output_type": "execute_result"
    }
   ],
   "source": [
    "# looking at statistics of items per invoice\n",
    "item_qty.StockCode.describe()"
   ]
  },
  {
   "cell_type": "code",
   "execution_count": 84,
   "metadata": {},
   "outputs": [
    {
     "data": {
      "text/plain": [
       "array([ 53.,  77., 216.])"
      ]
     },
     "execution_count": 84,
     "metadata": {},
     "output_type": "execute_result"
    }
   ],
   "source": [
    "# exploring percentiles\n",
    "np.percentile(item_qty.StockCode, [90, 95, 99])"
   ]
  },
  {
   "cell_type": "markdown",
   "metadata": {},
   "source": [
    "On average, there are 26 items in one order. \n",
    "The majority of orders (50%) have 15 items or fewer, while 75% have 29 items or fewer.\n",
    "Only a small percentage of orders (10%) exceed 53 items."
   ]
  },
  {
   "cell_type": "code",
   "execution_count": 85,
   "metadata": {},
   "outputs": [
    {
     "data": {
      "text/plain": [
       "529"
      ]
     },
     "execution_count": 85,
     "metadata": {},
     "output_type": "execute_result"
    }
   ],
   "source": [
    "# finding outliers in items per invoice\n",
    "mean_qty = item_qty['StockCode'].mean()\n",
    "median_qty = item_qty['StockCode'].median()\n",
    "std_qty = item_qty['StockCode'].std()\n",
    "qty_outliers = item_qty[item_qty['StockCode'] > (mean_qty + 2 * std_qty)]\n",
    "qty_outliers.sort_values(by='StockCode', ascending=False)\n",
    "len(qty_outliers)"
   ]
  },
  {
   "cell_type": "markdown",
   "metadata": {},
   "source": [
    "### Item categorization"
   ]
  },
  {
   "cell_type": "code",
   "execution_count": 86,
   "metadata": {},
   "outputs": [],
   "source": [
    "# removing extra spaces from the descriptions\n",
    "df_new['Description'] = (\n",
    "    df_new['Description']\n",
    "#     .replace(r'[0-9]+', '', regex=True)\n",
    "    .replace(r'\\s+', ' ', regex=True)\n",
    "    .str.strip()\n",
    ")"
   ]
  },
  {
   "cell_type": "code",
   "execution_count": 87,
   "metadata": {},
   "outputs": [
    {
     "name": "stdout",
     "output_type": "stream",
     "text": [
      "541890 / 7454595 | 0.07269207783923876\n",
      "659\n"
     ]
    },
    {
     "data": {
      "text/plain": [
       "[('set of', 945),\n",
       " ('clothes pegs retrospot pack', 746),\n",
       " ('pack of', 636),\n",
       " ('assorted colours silk fan', 510),\n",
       " ('cream sweetheart mini chest', 509),\n",
       " ('toast its', 465),\n",
       " ('traditional wooden skipping rope', 403),\n",
       " ('red woolly hottie white heart', 383),\n",
       " ('traditional modelling clay', 372),\n",
       " ('painted metal pears assorted', 370),\n",
       " ('key fob', 362),\n",
       " ('shed', 362),\n",
       " ('doughnut lip gloss', 326),\n",
       " ('piggy bank retrospot', 323),\n",
       " ('hanging owls ollie beak', 305),\n",
       " ('number tile vintage font', 280),\n",
       " ('ice cream sundae lip gloss', 269),\n",
       " ('small hanging ivory/red wood bird', 248),\n",
       " ('scottie dogs baby bib', 239),\n",
       " ('glitter butterfly clips', 238),\n",
       " ('small red retrospot windmill', 228),\n",
       " ('hanging heart with bell', 227),\n",
       " ('sandcastle flags assorted', 224),\n",
       " ('dolly pegs retrospot', 217),\n",
       " ('strawberry bath sponge', 215),\n",
       " ('apple bath sponge', 214),\n",
       " ('filigris heart with butterfly', 212),\n",
       " ('vintage union jack memoboard', 211),\n",
       " ('holiday fun ludo', 210),\n",
       " ('large circular mirror mobile', 208),\n",
       " ('charlie', 203),\n",
       " ('beaded crystal heart pink on stick', 201),\n",
       " ('set of salt and pepper toadstools', 199),\n",
       " ('cherry blossom decorative flask', 194),\n",
       " ('union jack flag luggage tag', 186),\n",
       " ('pack', 183),\n",
       " ('welcome wooden block letters', 183),\n",
       " ('white rocking horse hand painted', 180),\n",
       " ('union jack flag passport cover', 178),\n",
       " ('red', 168),\n",
       " ('white bendy straws', 168),\n",
       " ('ass floral print multi screwdriver', 168),\n",
       " ('beaded crystal heart green on stick', 167),\n",
       " ('skulls water transfer tattoos', 165),\n",
       " ('sticky bunnies', 163),\n",
       " ('enamel colander cream', 161),\n",
       " ('set/4 skull badges', 160),\n",
       " ('classic chrome bicycle bell', 158),\n",
       " ('camouflage led torch', 157),\n",
       " ('strawberry raffia food cover', 157)]"
      ]
     },
     "execution_count": 87,
     "metadata": {},
     "output_type": "execute_result"
    }
   ],
   "source": [
    "# creating item categories based on keywords in the 'Description' column:\n",
    "categories = [\n",
    "    ['toys & games', 'GLIDERS'],\n",
    "    ['kitchen', 'CAKE CASES'],\n",
    "    ['festive', 'CHRISTMAS', 'XMAS', 'SNOW', 'EASTER', 'SPINNING TOPS', 'WREATH', 'BELLS', 'GARLAND', 'ADVENT', 'JINGLE BELL'],\n",
    "    ['home & decor',\n",
    "        'DECORATION', 'BOX', 'TRINKET POT', 'CASE', 'FRAME', 'SIGN', 'DESIGN', 'TIN', 'CONTAINER',\n",
    "        'TOWELS', 'THROW', 'PARASOL', 'UMBRELLA', 'DOORMAT', 'MAT', 'DOOR', 'HANGER', 'HOOK',\n",
    "        'WALL', 'BLOCK WORD', 'WICKER', 'TISSUE', 'DOILIES', 'DRAWER', 'CABINET', 'CLOCK', 'RACK',\n",
    "        'CUSHION', 'PHOTO', 'BOTTLE', 'HOME',\n",
    "    ],\n",
    "    ['candles & lighting', 'T-LIGHT', 'CANDLE', 'LANTERN', 'LAMP', 'LIGHT'],\n",
    "    ['accessories', 'BAG', 'BACKPACK', 'RUCKSACK', 'SHOPPER', 'SACK', 'HAT', 'PONCHO', 'HAND WARMER'],\n",
    "    ['stationery & crafts',\n",
    "        'STATIONERY', 'PENCIL', 'PEN', 'CARD', 'NOTES', 'NOTEBOOK', 'PAD', 'STICKERS', 'OFFICE',\n",
    "        'SEWING', 'CRAFT', 'KIT', 'CRAYONS', 'PAINT SET', 'BOOK', 'DRAWING', 'RULER', 'ERASER', 'STAMP', 'TAPE',\n",
    "        'CANVAS', 'CALCULATOR', 'ENVELOPE', 'MAGNETS',\n",
    "         \n",
    "    ],\n",
    "    ['party',\n",
    "        'PARTY', 'RIBBON', 'PAPER CHAIN', 'BUNTING', 'WRAP', 'CAKE', 'GIFT', 'BALLOON', 'POPCORN',\n",
    "        'ORNAMENT',\n",
    "    ],\n",
    "    ['kitchen',\n",
    "        'TRAY', 'PLATE', 'CUP', 'KITCHEN', 'JAM', 'CAKESTAND', 'GLASS', 'BOWL', 'MUG', 'CAKE CASES',\n",
    "        'BREAKFAST', 'PAN', 'CHOPPING BOARD', 'CUTLERY', 'KNIFE', 'SPOON', 'FORK', 'TEA',\n",
    "        'COOKIE CUTTER', 'BAKING', 'NAPKIN', 'OVEN', 'COASTERS', 'JUG', 'CERAMIC', 'DISH', 'BREAD', 'EGG', 'BISCUIT',\n",
    "        'BEAKER', 'MARKET', 'TONGS', 'APRON', 'WASHING UP',\n",
    "    ],\n",
    "    ['jewelry', 'JEWEL', 'NECKLACE', 'RING', 'FILIGREE'],\n",
    "    ['toys & games',\n",
    "        'TOY', 'JIGSAW', 'DOMINOES', 'PLAYHOUSE', 'CHALK', 'BLACK BOARD', 'BLACKBOARD' 'DOLL',\n",
    "        'GAME', 'ROUNDERS', 'NAUGHTS', 'BINGO', 'TEDDY',\n",
    "    ],\n",
    "    ['plants & garden',\n",
    "         'GARDEN', 'TRELLIS', 'HERB MARKER', 'SECATEURS', 'PLANT', 'LADDER'\n",
    "        \n",
    "    ]\n",
    "]\n",
    "\n",
    "# defining a function to categorize items based on the provided categories and keywords\n",
    "def categorize(row):\n",
    "    for c in categories:\n",
    "        category, keywords = c[0], c[1:]\n",
    "        for keyword in keywords:\n",
    "            if keyword in row:\n",
    "                return category\n",
    "\n",
    "    return 'others'\n",
    "\n",
    "# applying the categorization function to create a new 'Category' column in the dataset\n",
    "df_new['Category'] = df_new['Description'].apply(categorize)\n",
    "\n",
    "# identifying uncategorized items\n",
    "uncategorized = df_new[df_new['Category']=='others']\n",
    "\n",
    "# calculating and displaying the ratio of uncategorized items to the total number of items\n",
    "print(f\"{uncategorized.size} / {df_new.size} | {uncategorized.size / df_new.size}\")\n",
    "# displaying the number of unique uncategorized items\n",
    "print(uncategorized['Description'].drop_duplicates().size)\n",
    "uncategorized['Description'].drop_duplicates().tail(50)\n",
    "\n",
    "\n",
    "# extracting remaining phrases from uncategorized items and analyzing the most common ones\n",
    "\n",
    "remaining = [\n",
    "    phrase\n",
    "    for description in uncategorized['Description']\n",
    "    for phrase in TextBlob(description).noun_phrases\n",
    "]\n",
    "\n",
    "remaining\n",
    "\n",
    "# displaying the most common remaining phrases and their frequencies\n",
    "Counter(remaining).most_common(50)\n"
   ]
  },
  {
   "cell_type": "markdown",
   "metadata": {},
   "source": [
    "7% of all entries remain uncategorized or - categorized as 'others'"
   ]
  },
  {
   "cell_type": "code",
   "execution_count": 88,
   "metadata": {},
   "outputs": [
    {
     "data": {
      "text/html": [
       "<div>\n",
       "<style scoped>\n",
       "    .dataframe tbody tr th:only-of-type {\n",
       "        vertical-align: middle;\n",
       "    }\n",
       "\n",
       "    .dataframe tbody tr th {\n",
       "        vertical-align: top;\n",
       "    }\n",
       "\n",
       "    .dataframe thead th {\n",
       "        text-align: right;\n",
       "    }\n",
       "</style>\n",
       "<table border=\"1\" class=\"dataframe\">\n",
       "  <thead>\n",
       "    <tr style=\"text-align: right;\">\n",
       "      <th></th>\n",
       "      <th>InvoiceNo</th>\n",
       "      <th>StockCode</th>\n",
       "      <th>Description</th>\n",
       "      <th>Quantity</th>\n",
       "      <th>InvoiceDate</th>\n",
       "      <th>UnitPrice</th>\n",
       "      <th>CustomerID</th>\n",
       "      <th>InvYear</th>\n",
       "      <th>InvMonth</th>\n",
       "      <th>InvWeek</th>\n",
       "      <th>InvDay</th>\n",
       "      <th>InvCount</th>\n",
       "      <th>ItemTotal</th>\n",
       "      <th>InvTotal</th>\n",
       "      <th>Category</th>\n",
       "    </tr>\n",
       "  </thead>\n",
       "  <tbody>\n",
       "    <tr>\n",
       "      <th>0</th>\n",
       "      <td>536847</td>\n",
       "      <td>22155</td>\n",
       "      <td>STAR DECORATION RUSTIC</td>\n",
       "      <td>48</td>\n",
       "      <td>2018-12-01 09:31:00</td>\n",
       "      <td>0.42</td>\n",
       "      <td>17135</td>\n",
       "      <td>2018</td>\n",
       "      <td>2018-12-01</td>\n",
       "      <td>2018-11-26</td>\n",
       "      <td>2018-12-01</td>\n",
       "      <td>7</td>\n",
       "      <td>20.16</td>\n",
       "      <td>215.58</td>\n",
       "      <td>home &amp; decor</td>\n",
       "    </tr>\n",
       "    <tr>\n",
       "      <th>1</th>\n",
       "      <td>536847</td>\n",
       "      <td>21807</td>\n",
       "      <td>WHITE CHRISTMAS STAR DECORATION</td>\n",
       "      <td>36</td>\n",
       "      <td>2018-12-01 09:31:00</td>\n",
       "      <td>0.42</td>\n",
       "      <td>17135</td>\n",
       "      <td>2018</td>\n",
       "      <td>2018-12-01</td>\n",
       "      <td>2018-11-26</td>\n",
       "      <td>2018-12-01</td>\n",
       "      <td>7</td>\n",
       "      <td>15.12</td>\n",
       "      <td>215.58</td>\n",
       "      <td>festive</td>\n",
       "    </tr>\n",
       "    <tr>\n",
       "      <th>2</th>\n",
       "      <td>536847</td>\n",
       "      <td>22161</td>\n",
       "      <td>HEART DECORATION RUSTIC HANGING</td>\n",
       "      <td>24</td>\n",
       "      <td>2018-12-01 09:31:00</td>\n",
       "      <td>0.65</td>\n",
       "      <td>17135</td>\n",
       "      <td>2018</td>\n",
       "      <td>2018-12-01</td>\n",
       "      <td>2018-11-26</td>\n",
       "      <td>2018-12-01</td>\n",
       "      <td>7</td>\n",
       "      <td>15.60</td>\n",
       "      <td>215.58</td>\n",
       "      <td>home &amp; decor</td>\n",
       "    </tr>\n",
       "    <tr>\n",
       "      <th>3</th>\n",
       "      <td>536847</td>\n",
       "      <td>22065</td>\n",
       "      <td>CHRISTMAS PUDDING TRINKET POT</td>\n",
       "      <td>24</td>\n",
       "      <td>2018-12-01 09:31:00</td>\n",
       "      <td>1.45</td>\n",
       "      <td>17135</td>\n",
       "      <td>2018</td>\n",
       "      <td>2018-12-01</td>\n",
       "      <td>2018-11-26</td>\n",
       "      <td>2018-12-01</td>\n",
       "      <td>7</td>\n",
       "      <td>34.80</td>\n",
       "      <td>215.58</td>\n",
       "      <td>festive</td>\n",
       "    </tr>\n",
       "    <tr>\n",
       "      <th>4</th>\n",
       "      <td>536847</td>\n",
       "      <td>20956</td>\n",
       "      <td>PORCELAIN T-LIGHT HOLDERS ASSORTED</td>\n",
       "      <td>12</td>\n",
       "      <td>2018-12-01 09:31:00</td>\n",
       "      <td>1.25</td>\n",
       "      <td>17135</td>\n",
       "      <td>2018</td>\n",
       "      <td>2018-12-01</td>\n",
       "      <td>2018-11-26</td>\n",
       "      <td>2018-12-01</td>\n",
       "      <td>7</td>\n",
       "      <td>15.00</td>\n",
       "      <td>215.58</td>\n",
       "      <td>candles &amp; lighting</td>\n",
       "    </tr>\n",
       "  </tbody>\n",
       "</table>\n",
       "</div>"
      ],
      "text/plain": [
       "  InvoiceNo StockCode                         Description  Quantity  \\\n",
       "0    536847     22155              STAR DECORATION RUSTIC        48   \n",
       "1    536847     21807     WHITE CHRISTMAS STAR DECORATION        36   \n",
       "2    536847     22161     HEART DECORATION RUSTIC HANGING        24   \n",
       "3    536847     22065       CHRISTMAS PUDDING TRINKET POT        24   \n",
       "4    536847     20956  PORCELAIN T-LIGHT HOLDERS ASSORTED        12   \n",
       "\n",
       "          InvoiceDate  UnitPrice  CustomerID  InvYear   InvMonth    InvWeek  \\\n",
       "0 2018-12-01 09:31:00       0.42       17135     2018 2018-12-01 2018-11-26   \n",
       "1 2018-12-01 09:31:00       0.42       17135     2018 2018-12-01 2018-11-26   \n",
       "2 2018-12-01 09:31:00       0.65       17135     2018 2018-12-01 2018-11-26   \n",
       "3 2018-12-01 09:31:00       1.45       17135     2018 2018-12-01 2018-11-26   \n",
       "4 2018-12-01 09:31:00       1.25       17135     2018 2018-12-01 2018-11-26   \n",
       "\n",
       "      InvDay  InvCount  ItemTotal  InvTotal            Category  \n",
       "0 2018-12-01         7      20.16    215.58        home & decor  \n",
       "1 2018-12-01         7      15.12    215.58             festive  \n",
       "2 2018-12-01         7      15.60    215.58        home & decor  \n",
       "3 2018-12-01         7      34.80    215.58             festive  \n",
       "4 2018-12-01         7      15.00    215.58  candles & lighting  "
      ]
     },
     "execution_count": 88,
     "metadata": {},
     "output_type": "execute_result"
    }
   ],
   "source": [
    "# looking at the new category column\n",
    "df_new.head()"
   ]
  },
  {
   "cell_type": "code",
   "execution_count": 89,
   "metadata": {},
   "outputs": [
    {
     "data": {
      "text/html": [
       "<div>\n",
       "<style scoped>\n",
       "    .dataframe tbody tr th:only-of-type {\n",
       "        vertical-align: middle;\n",
       "    }\n",
       "\n",
       "    .dataframe tbody tr th {\n",
       "        vertical-align: top;\n",
       "    }\n",
       "\n",
       "    .dataframe thead th {\n",
       "        text-align: right;\n",
       "    }\n",
       "</style>\n",
       "<table border=\"1\" class=\"dataframe\">\n",
       "  <thead>\n",
       "    <tr style=\"text-align: right;\">\n",
       "      <th></th>\n",
       "      <th>Category</th>\n",
       "      <th>Amount</th>\n",
       "    </tr>\n",
       "  </thead>\n",
       "  <tbody>\n",
       "    <tr>\n",
       "      <th>3</th>\n",
       "      <td>home &amp; decor</td>\n",
       "      <td>1147</td>\n",
       "    </tr>\n",
       "    <tr>\n",
       "      <th>6</th>\n",
       "      <td>others</td>\n",
       "      <td>659</td>\n",
       "    </tr>\n",
       "    <tr>\n",
       "      <th>5</th>\n",
       "      <td>kitchen</td>\n",
       "      <td>518</td>\n",
       "    </tr>\n",
       "    <tr>\n",
       "      <th>9</th>\n",
       "      <td>stationery &amp; crafts</td>\n",
       "      <td>382</td>\n",
       "    </tr>\n",
       "    <tr>\n",
       "      <th>1</th>\n",
       "      <td>candles &amp; lighting</td>\n",
       "      <td>299</td>\n",
       "    </tr>\n",
       "    <tr>\n",
       "      <th>2</th>\n",
       "      <td>festive</td>\n",
       "      <td>295</td>\n",
       "    </tr>\n",
       "    <tr>\n",
       "      <th>4</th>\n",
       "      <td>jewelry</td>\n",
       "      <td>218</td>\n",
       "    </tr>\n",
       "    <tr>\n",
       "      <th>0</th>\n",
       "      <td>accessories</td>\n",
       "      <td>181</td>\n",
       "    </tr>\n",
       "    <tr>\n",
       "      <th>7</th>\n",
       "      <td>party</td>\n",
       "      <td>157</td>\n",
       "    </tr>\n",
       "    <tr>\n",
       "      <th>8</th>\n",
       "      <td>plants &amp; garden</td>\n",
       "      <td>50</td>\n",
       "    </tr>\n",
       "    <tr>\n",
       "      <th>10</th>\n",
       "      <td>toys &amp; games</td>\n",
       "      <td>47</td>\n",
       "    </tr>\n",
       "  </tbody>\n",
       "</table>\n",
       "</div>"
      ],
      "text/plain": [
       "               Category  Amount\n",
       "3          home & decor    1147\n",
       "6                others     659\n",
       "5               kitchen     518\n",
       "9   stationery & crafts     382\n",
       "1    candles & lighting     299\n",
       "2               festive     295\n",
       "4               jewelry     218\n",
       "0           accessories     181\n",
       "7                 party     157\n",
       "8       plants & garden      50\n",
       "10         toys & games      47"
      ]
     },
     "execution_count": 89,
     "metadata": {},
     "output_type": "execute_result"
    }
   ],
   "source": [
    "# grouping df by category and description, and counting unique items in the categories\n",
    "items_cat = df_new.groupby(['Category'])['Description'].nunique().reset_index().sort_values(by='Description',ascending=False)\n",
    "items_cat.columns = ['Category', 'Amount']\n",
    "items_cat"
   ]
  },
  {
   "cell_type": "code",
   "execution_count": 90,
   "metadata": {},
   "outputs": [
    {
     "data": {
      "image/png": "[encoded data removed]",
      "text/plain": [
       "<Figure size 1080x648 with 1 Axes>"
      ]
     },
     "metadata": {},
     "output_type": "display_data"
    }
   ],
   "source": [
    "# plotting a graph of number of items in each category\n",
    "sns.set(font_scale=1.2)\n",
    "plt.figure(figsize=(15, 9))\n",
    "ax = sns.barplot(x=\"Category\", y='Amount', data=items_cat, palette='coolwarm')\n",
    "plt.title('Number of items in each category')\n",
    "plt.xlabel('category')\n",
    "plt.ylabel('number of items')\n",
    "plt.xticks(rotation = 45);"
   ]
  },
  {
   "cell_type": "markdown",
   "metadata": {},
   "source": [
    "It appears most of the items fell into and could be described as home & decor.\n",
    "The uncategorized ones make up approx. half less than in home & decor category.\n",
    "Kitchen appears to be a big category as well.\n",
    "Least items are in plants & garden and toys & games."
   ]
  },
  {
   "cell_type": "code",
   "execution_count": 91,
   "metadata": {},
   "outputs": [
    {
     "data": {
      "text/html": [
       "<div>\n",
       "<style scoped>\n",
       "    .dataframe tbody tr th:only-of-type {\n",
       "        vertical-align: middle;\n",
       "    }\n",
       "\n",
       "    .dataframe tbody tr th {\n",
       "        vertical-align: top;\n",
       "    }\n",
       "\n",
       "    .dataframe thead th {\n",
       "        text-align: right;\n",
       "    }\n",
       "</style>\n",
       "<table border=\"1\" class=\"dataframe\">\n",
       "  <thead>\n",
       "    <tr style=\"text-align: right;\">\n",
       "      <th></th>\n",
       "      <th>Category</th>\n",
       "      <th>Amount</th>\n",
       "    </tr>\n",
       "  </thead>\n",
       "  <tbody>\n",
       "    <tr>\n",
       "      <th>3</th>\n",
       "      <td>home &amp; decor</td>\n",
       "      <td>189394</td>\n",
       "    </tr>\n",
       "    <tr>\n",
       "      <th>5</th>\n",
       "      <td>kitchen</td>\n",
       "      <td>70719</td>\n",
       "    </tr>\n",
       "    <tr>\n",
       "      <th>9</th>\n",
       "      <td>stationery &amp; crafts</td>\n",
       "      <td>51683</td>\n",
       "    </tr>\n",
       "    <tr>\n",
       "      <th>0</th>\n",
       "      <td>accessories</td>\n",
       "      <td>43093</td>\n",
       "    </tr>\n",
       "    <tr>\n",
       "      <th>6</th>\n",
       "      <td>others</td>\n",
       "      <td>36126</td>\n",
       "    </tr>\n",
       "    <tr>\n",
       "      <th>2</th>\n",
       "      <td>festive</td>\n",
       "      <td>32117</td>\n",
       "    </tr>\n",
       "    <tr>\n",
       "      <th>1</th>\n",
       "      <td>candles &amp; lighting</td>\n",
       "      <td>30001</td>\n",
       "    </tr>\n",
       "    <tr>\n",
       "      <th>7</th>\n",
       "      <td>party</td>\n",
       "      <td>21747</td>\n",
       "    </tr>\n",
       "    <tr>\n",
       "      <th>10</th>\n",
       "      <td>toys &amp; games</td>\n",
       "      <td>9920</td>\n",
       "    </tr>\n",
       "    <tr>\n",
       "      <th>4</th>\n",
       "      <td>jewelry</td>\n",
       "      <td>6144</td>\n",
       "    </tr>\n",
       "    <tr>\n",
       "      <th>8</th>\n",
       "      <td>plants &amp; garden</td>\n",
       "      <td>6029</td>\n",
       "    </tr>\n",
       "  </tbody>\n",
       "</table>\n",
       "</div>"
      ],
      "text/plain": [
       "               Category  Amount\n",
       "3          home & decor  189394\n",
       "5               kitchen   70719\n",
       "9   stationery & crafts   51683\n",
       "0           accessories   43093\n",
       "6                others   36126\n",
       "2               festive   32117\n",
       "1    candles & lighting   30001\n",
       "7                 party   21747\n",
       "10         toys & games    9920\n",
       "4               jewelry    6144\n",
       "8       plants & garden    6029"
      ]
     },
     "execution_count": 91,
     "metadata": {},
     "output_type": "execute_result"
    }
   ],
   "source": [
    "# grouping df by category and counting the number of entries in each category\n",
    "items_in_df = df_new.groupby(['Category']).count().reset_index()[['Category', 'InvoiceNo']].sort_values(by='InvoiceNo',ascending=False)\n",
    "items_in_df.columns = ['Category', 'Amount']\n",
    "items_in_df"
   ]
  },
  {
   "cell_type": "code",
   "execution_count": 92,
   "metadata": {},
   "outputs": [
    {
     "data": {
      "image/png": "[encoded data removed]",
      "text/plain": [
       "<Figure size 1080x648 with 1 Axes>"
      ]
     },
     "metadata": {},
     "output_type": "display_data"
    }
   ],
   "source": [
    "# plotting a graph of number of items ordered in each category\n",
    "plt.figure(figsize=(15, 9))\n",
    "ax = sns.barplot(x=\"Category\", y='Amount', data=items_in_df, palette='coolwarm')\n",
    "plt.title('Items ordered per category')\n",
    "plt.xlabel('category')\n",
    "plt.ylabel('number of items')\n",
    "plt.xticks(rotation = 45);"
   ]
  },
  {
   "cell_type": "markdown",
   "metadata": {},
   "source": [
    "Most ordered items are from home & decor, kitchen and stationery & crafts categories.\n",
    "Jewelery and plants & gardens items have been ordered the least."
   ]
  },
  {
   "cell_type": "code",
   "execution_count": 93,
   "metadata": {},
   "outputs": [],
   "source": [
    "# grouping df by category and month and calculating revenue in each category for every month\n",
    "categories_rev = df_new.groupby(['Category', 'InvMonth']).agg({'ItemTotal':'sum'})"
   ]
  },
  {
   "cell_type": "code",
   "execution_count": 94,
   "metadata": {},
   "outputs": [
    {
     "data": {
      "image/png": "[encoded data removed]",
      "text/plain": [
       "<Figure size 1224x792 with 1 Axes>"
      ]
     },
     "metadata": {},
     "output_type": "display_data"
    }
   ],
   "source": [
    "# plotting a line graph of monthly revenue per category\n",
    "palette = [\"#F72585\", \"#e6c700\", \"#3A0CA3\", \"#4361EE\", \"#4CC9F0\", \"#457c39\", \n",
    "           \"#0f0a01\", \"#BED754\", \"#D0A2F7\", \"#a63e14\", \"#fe9f97\"]\n",
    "plt.figure(figsize=(17,11))\n",
    "sns.set(font_scale=1.2)\n",
    "ax = sns.lineplot(data=categories_rev, x=\"InvMonth\", y=\"ItemTotal\",hue=\"Category\", linewidth=2, palette = palette)\n",
    "plt.title('Monthly revenue per categorry')\n",
    "plt.xlabel('month')\n",
    "plt.ylabel('sales');"
   ]
  },
  {
   "cell_type": "code",
   "execution_count": 95,
   "metadata": {},
   "outputs": [
    {
     "data": {
      "text/html": [
       "<div>\n",
       "<style scoped>\n",
       "    .dataframe tbody tr th:only-of-type {\n",
       "        vertical-align: middle;\n",
       "    }\n",
       "\n",
       "    .dataframe tbody tr th {\n",
       "        vertical-align: top;\n",
       "    }\n",
       "\n",
       "    .dataframe thead th {\n",
       "        text-align: right;\n",
       "    }\n",
       "</style>\n",
       "<table border=\"1\" class=\"dataframe\">\n",
       "  <thead>\n",
       "    <tr style=\"text-align: right;\">\n",
       "      <th></th>\n",
       "      <th>Description</th>\n",
       "      <th>Category</th>\n",
       "      <th>Quantity</th>\n",
       "    </tr>\n",
       "  </thead>\n",
       "  <tbody>\n",
       "    <tr>\n",
       "      <th>0</th>\n",
       "      <td>MEDIUM CERAMIC TOP STORAGE JAR</td>\n",
       "      <td>kitchen</td>\n",
       "      <td>77856</td>\n",
       "    </tr>\n",
       "    <tr>\n",
       "      <th>1</th>\n",
       "      <td>WORLD WAR 2 GLIDERS ASSTD DESIGNS</td>\n",
       "      <td>toys &amp; games</td>\n",
       "      <td>50614</td>\n",
       "    </tr>\n",
       "    <tr>\n",
       "      <th>2</th>\n",
       "      <td>JUMBO BAG RED RETROSPOT</td>\n",
       "      <td>accessories</td>\n",
       "      <td>47308</td>\n",
       "    </tr>\n",
       "    <tr>\n",
       "      <th>3</th>\n",
       "      <td>WHITE HANGING HEART T-LIGHT HOLDER</td>\n",
       "      <td>candles &amp; lighting</td>\n",
       "      <td>36493</td>\n",
       "    </tr>\n",
       "    <tr>\n",
       "      <th>4</th>\n",
       "      <td>PACK OF 72 RETROSPOT CAKE CASES</td>\n",
       "      <td>kitchen</td>\n",
       "      <td>35382</td>\n",
       "    </tr>\n",
       "    <tr>\n",
       "      <th>5</th>\n",
       "      <td>ASSORTED COLOUR BIRD ORNAMENT</td>\n",
       "      <td>party</td>\n",
       "      <td>34897</td>\n",
       "    </tr>\n",
       "    <tr>\n",
       "      <th>6</th>\n",
       "      <td>POPCORN HOLDER</td>\n",
       "      <td>party</td>\n",
       "      <td>32180</td>\n",
       "    </tr>\n",
       "    <tr>\n",
       "      <th>7</th>\n",
       "      <td>RABBIT NIGHT LIGHT</td>\n",
       "      <td>candles &amp; lighting</td>\n",
       "      <td>27349</td>\n",
       "    </tr>\n",
       "    <tr>\n",
       "      <th>8</th>\n",
       "      <td>MINI PAINT SET VINTAGE</td>\n",
       "      <td>stationery &amp; crafts</td>\n",
       "      <td>26017</td>\n",
       "    </tr>\n",
       "    <tr>\n",
       "      <th>9</th>\n",
       "      <td>PACK OF 12 LONDON TISSUES</td>\n",
       "      <td>home &amp; decor</td>\n",
       "      <td>25102</td>\n",
       "    </tr>\n",
       "  </tbody>\n",
       "</table>\n",
       "</div>"
      ],
      "text/plain": [
       "                          Description             Category  Quantity\n",
       "0      MEDIUM CERAMIC TOP STORAGE JAR              kitchen     77856\n",
       "1   WORLD WAR 2 GLIDERS ASSTD DESIGNS         toys & games     50614\n",
       "2             JUMBO BAG RED RETROSPOT          accessories     47308\n",
       "3  WHITE HANGING HEART T-LIGHT HOLDER   candles & lighting     36493\n",
       "4     PACK OF 72 RETROSPOT CAKE CASES              kitchen     35382\n",
       "5       ASSORTED COLOUR BIRD ORNAMENT                party     34897\n",
       "6                      POPCORN HOLDER                party     32180\n",
       "7                  RABBIT NIGHT LIGHT   candles & lighting     27349\n",
       "8              MINI PAINT SET VINTAGE  stationery & crafts     26017\n",
       "9           PACK OF 12 LONDON TISSUES         home & decor     25102"
      ]
     },
     "execution_count": 95,
     "metadata": {},
     "output_type": "execute_result"
    }
   ],
   "source": [
    "# grouping df by description and category, summing up quntity of item sold\n",
    "item_qty_cat = df_new.groupby(['Description', 'Category'])['Quantity'].sum().sort_values(ascending=False).reset_index()\n",
    "item_qty_cat.head(10)"
   ]
  },
  {
   "cell_type": "markdown",
   "metadata": {},
   "source": [
    "These are the top 10 items by quantity of item sold (quantity added to cart)."
   ]
  },
  {
   "cell_type": "markdown",
   "metadata": {},
   "source": [
    "## Hypothesis testing "
   ]
  },
  {
   "cell_type": "markdown",
   "metadata": {},
   "source": [
    "H0: there is no significant difference in revenue for item category accross different months\n",
    "\n",
    "H1: there is a significant difference in revenue for item category accross different months"
   ]
  },
  {
   "cell_type": "code",
   "execution_count": 96,
   "metadata": {},
   "outputs": [],
   "source": [
    "# filtering out rows where ItemTotal exceeds 0\n",
    "df_test = df_new.query('ItemTotal > 0')"
   ]
  },
  {
   "cell_type": "code",
   "execution_count": 97,
   "metadata": {},
   "outputs": [
    {
     "name": "stdout",
     "output_type": "stream",
     "text": [
      "Category: accessories, F-statistic: 8.98269, P-value: 0.00000\n",
      "Reject the null hypothesis. There is a significant difference in revenue for category accross different months.\n",
      "-----------------------------\n",
      "Category: candles & lighting, F-statistic: 1.98554, P-value: 0.02567\n",
      "Reject the null hypothesis. There is a significant difference in revenue for category accross different months.\n",
      "-----------------------------\n",
      "Category: festive, F-statistic: 7.94779, P-value: 0.00000\n",
      "Reject the null hypothesis. There is a significant difference in revenue for category accross different months.\n",
      "-----------------------------\n",
      "Category: home & decor, F-statistic: 3.52025, P-value: 0.00006\n",
      "Reject the null hypothesis. There is a significant difference in revenue for category accross different months.\n",
      "-----------------------------\n",
      "Category: jewelry, F-statistic: 7.67675, P-value: 0.00000\n",
      "Reject the null hypothesis. There is a significant difference in revenue for category accross different months.\n",
      "-----------------------------\n",
      "Category: kitchen, F-statistic: 1.26136, P-value: 0.24002\n",
      "Fail to reject the null hypothesis. There is no significant difference in revenue for category accross different months.\n",
      "-----------------------------\n",
      "Category: others, F-statistic: 5.20043, P-value: 0.00000\n",
      "Reject the null hypothesis. There is a significant difference in revenue for category accross different months.\n",
      "-----------------------------\n",
      "Category: party, F-statistic: 2.79718, P-value: 0.00121\n",
      "Reject the null hypothesis. There is a significant difference in revenue for category accross different months.\n",
      "-----------------------------\n",
      "Category: plants & garden, F-statistic: 2.70400, P-value: 0.00177\n",
      "Reject the null hypothesis. There is a significant difference in revenue for category accross different months.\n",
      "-----------------------------\n",
      "Category: stationery & crafts, F-statistic: 7.96101, P-value: 0.00000\n",
      "Reject the null hypothesis. There is a significant difference in revenue for category accross different months.\n",
      "-----------------------------\n",
      "Category: toys & games, F-statistic: 1.33430, P-value: 0.19796\n",
      "Fail to reject the null hypothesis. There is no significant difference in revenue for category accross different months.\n",
      "-----------------------------\n"
     ]
    }
   ],
   "source": [
    "# iterating through each item category \n",
    "# and conducting a one-way ANOVA test for item total revenue across different months\n",
    "\n",
    "for category, data in df_test.groupby('Category'):\n",
    "    anova_result = stats.f_oneway(*[month_data['ItemTotal'] for month, month_data in data.groupby('InvMonth')])\n",
    "    print(f\"Category: {category}, F-statistic: {anova_result.statistic:.5f}, P-value: {anova_result.pvalue:.5f}\")\n",
    "    \n",
    "    alpha = 0.05\n",
    "    \n",
    "    if (anova_result.pvalue < alpha):\n",
    "        print(\"Reject the null hypothesis. There is a significant difference in revenue for category accross different months.\")\n",
    "    else:\n",
    "        print(\"Fail to reject the null hypothesis. There is no significant difference in revenue for category accross different months.\")\n",
    "    print('-----------------------------')"
   ]
  },
  {
   "cell_type": "markdown",
   "metadata": {},
   "source": [
    "It appears for most categories the revenue across different months do differ, except, revenue in kitchen and toys & games categories have not been statistically different across months. "
   ]
  },
  {
   "cell_type": "markdown",
   "metadata": {},
   "source": [
    "## General conlusion\n",
    "\n",
    "### Data preparation\n",
    "\n",
    "There are 1454 rows that are missing item descriptions, unit prices and customer IDs. Each of these invoices appear in the whole dataset only once and make up 0.26 % of the data. These rows were excluded from the analysis.\n",
    "\n",
    "Approx. 1% of the data consists of duplicates (5268 rows). Duplicates have been recorded every month from Nov. 2018 until Dec. 2019.\n",
    "\n",
    "3836 entries were for cancelled / discount applied items. These rows were removed from the analysis along with the 'bad debt' entries. In addition, entries with lowercase descriptions that amount for lost / damaged goods were excluded as well, and lastly, Amazon and postage fee rows were not included in the further analysis too.\n",
    "\n",
    "Since the data covers only 2 days in November 2018 and a week of December 2019, these 2 incomplete months were excluded from the analysis.\n",
    "\n",
    "### EDA\n",
    "__Orders__\n",
    "\n",
    "From December 2018 to April 2019, there are noticeable fluctuations in the number of orders, however, the most prominent observation is a significant spike in the number of orders in May 2019.\n",
    "\n",
    "In the following months the invoice count is lower, but still higher than during the beginning of the year. Around September 2019 there's a noticeable spike again that lasts until the end of the year. Highest amount of orders have been made in October and November 2019 which might be due to the upcoming Holiday season and Black Friday.\n",
    "\n",
    "On average, between 29th of Nov. 2018 and 7th of Dec. 2019, customers have placed 4 orders. In 50% of cases customers have placed 1 to 4 orders.\n",
    "\n",
    "Not more than 10% of customers have placed more than 9 orders. Not more than 5% of customers have placed 13 or more orders.\n",
    "\n",
    "__Revenue__\n",
    "\n",
    "Monthly revenue graph very much resembles the monthly orders graph.\n",
    "\n",
    "There is a noticeable upward trend that shows overall growth in revenue from December 2018 to November 2019.\n",
    "\n",
    "Lowest months were February and April 2019.\n",
    "\n",
    "From August / September the revenue is noticeably increasing, continuing with a huge spike in revenue in November 2019 and this upward trend probably is connected to the Holiday season.\n",
    "\n",
    "On average revenue per item is 2485. Usually items would generate between 124 - 2124 in revenue. Only few items, 5%, exceed 10936 in revenue.\n",
    "\n",
    "\n",
    "__Items and categories__\n",
    "\n",
    "On average, there are 26 items in one order. The majority of orders (50%) have 15 items or fewer, while 75% have 29 items or fewer. Only a small percentage of orders (10%) exceed 53 items.\n",
    "\n",
    "After categorizing items, it appears most of the items could be described and categorized as home & decor. The uncategorized ones make up approx. half less than in home & decor category. Kitchen appears to be a big category as well. Least items are in plants & garden and toys & games.\n",
    "\n",
    "Most ordered items are from home & decor, kitchen and stationery & crafts categories. Jewelery and plants & garden items have been ordered the least.\n",
    "\n",
    "\n",
    "### Hypothesis testing\n",
    "\n",
    "The results of the one-way ANOVA test indicate a statistically significant difference in item category revenues across different months. However, the revenues in the kitchen and toys & games categories did not reveal statistically significant differences across months.\n",
    "\n",
    "### Recommendations\n",
    "\n",
    "Prioritizing resources and marketing efforts on the most selling item categories, particularly, home & decor and kitchen.\n",
    "\n",
    "Evaluating least performing categories such as jewelery and plants & garden, possibly exploring opportunities to diversify the product range.\n",
    "\n",
    "Enhancing item descriptions to provide clarity and attract customers.\n",
    "\n",
    "Ensuring proper data collection - investigating the cause of duplicates and other possible issues in data collection and quality."
   ]
  }
 ],
 "metadata": {
  "kernelspec": {
   "display_name": "Python 3 (ipykernel)",
   "language": "python",
   "name": "python3"
  },
  "language_info": {
   "codemirror_mode": {
    "name": "ipython",
    "version": 3
   },
   "file_extension": ".py",
   "mimetype": "text/x-python",
   "name": "python",
   "nbconvert_exporter": "python",
   "pygments_lexer": "ipython3",
   "version": "3.9.5"
  },
  "toc": {
   "base_numbering": 1,
   "nav_menu": {},
   "number_sections": true,
   "sideBar": true,
   "skip_h1_title": true,
   "title_cell": "Table of Contents",
   "title_sidebar": "Contents",
   "toc_cell": false,
   "toc_position": {},
   "toc_section_display": true,
   "toc_window_display": false
  }
 },
 "nbformat": 4,
 "nbformat_minor": 2
}
